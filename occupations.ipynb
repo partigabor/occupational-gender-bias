{
 "cells": [
  {
   "cell_type": "markdown",
   "id": "b6c4d51f",
   "metadata": {},
   "source": [
    "# Occupational Gender Bias"
   ]
  },
  {
   "cell_type": "code",
   "execution_count": 214,
   "id": "4e144a44",
   "metadata": {},
   "outputs": [],
   "source": [
    "# Import libraries\n",
    "import pandas as pd\n",
    "import numpy as np\n",
    "from scipy import stats\n",
    "from scipy.stats import ttest_ind\n",
    "from plotly.subplots import make_subplots\n",
    "import plotly.graph_objects as go\n",
    "import plotly.express as px"
   ]
  },
  {
   "cell_type": "code",
   "execution_count": 215,
   "id": "227b4439",
   "metadata": {},
   "outputs": [
    {
     "name": "stdout",
     "output_type": "stream",
     "text": [
      "['rgb(102, 197, 204)', 'rgb(246, 207, 113)', 'rgb(248, 156, 116)', 'rgb(220, 176, 242)', 'rgb(135, 197, 95)', 'rgb(158, 185, 243)', 'rgb(254, 136, 177)', 'rgb(201, 219, 116)', 'rgb(139, 224, 164)', 'rgb(180, 151, 231)', 'rgb(179, 179, 179)']\n"
     ]
    }
   ],
   "source": [
    "print(px.colors.qualitative.Pastel)\n",
    "\n",
    "# Custom colors\n",
    "female_color = \"#dcb0f2\"\n",
    "male_color = \"#9eb9f3\"\n",
    "neutral_color = \"#b3b3b3\"\n",
    "\n",
    "age_shades = ['#f6cf71', \"#f6b671\", \"#f89c74\"]\n",
    "\n",
    "# Define colors for Hungarian and Chinese bars\n",
    "hungarian_color = \"#87c55f\"  # greenish\n",
    "chinese_color = \"#c55f5f\"  # reddish\n",
    "\n",
    "hungarian_color_scale=[\"white\", hungarian_color]\n",
    "chinese_color_scale=[\"white\", chinese_color]"
   ]
  },
  {
   "cell_type": "code",
   "execution_count": 216,
   "id": "0453d1b8",
   "metadata": {},
   "outputs": [],
   "source": [
    "# Colors in RGB format for Plotly\n",
    "colors_in_rgb = ['rgb(102, 197, 204)', 'rgb(246, 207, 113)', 'rgb(248, 156, 116)', 'rgb(220, 176, 242)', 'rgb(135, 197, 95)', 'rgb(158, 185, 243)', 'rgb(254, 136, 177)', 'rgb(201, 219, 116)', 'rgb(139, 224, 164)', 'rgb(180, 151, 231)', 'rgb(179, 179, 179)']\n",
    "\n",
    "# Convert these into hex format for Plotly\n",
    "def rgb_to_hex(rgb):\n",
    "    return '#{:02x}{:02x}{:02x}'.format(*rgb)\n",
    "colors_in_hex = [rgb_to_hex(tuple(map(int, color[4:-1].split(',')))) for color in colors_in_rgb]\n",
    "colors_in_hex = ['#66c5cc', '#f6cf71','#f89c74','#dcb0f2','#87c55f','#9eb9f3','#fe88b1','#c9db74','#8be0a4','#b497e7','#b3b3b3']"
   ]
  },
  {
   "cell_type": "markdown",
   "id": "c73d6049",
   "metadata": {},
   "source": [
    "## Occupations data"
   ]
  },
  {
   "cell_type": "code",
   "execution_count": 217,
   "id": "8767c1fc",
   "metadata": {},
   "outputs": [
    {
     "data": {
      "text/html": [
       "<div>\n",
       "<style scoped>\n",
       "    .dataframe tbody tr th:only-of-type {\n",
       "        vertical-align: middle;\n",
       "    }\n",
       "\n",
       "    .dataframe tbody tr th {\n",
       "        vertical-align: top;\n",
       "    }\n",
       "\n",
       "    .dataframe thead th {\n",
       "        text-align: right;\n",
       "    }\n",
       "</style>\n",
       "<table border=\"1\" class=\"dataframe\">\n",
       "  <thead>\n",
       "    <tr style=\"text-align: right;\">\n",
       "      <th></th>\n",
       "      <th>#</th>\n",
       "      <th>#_zh</th>\n",
       "      <th>zh</th>\n",
       "      <th>en</th>\n",
       "      <th>hu</th>\n",
       "      <th>lechat_hu</th>\n",
       "      <th>lechat_hu_std</th>\n",
       "      <th>copilot_hu</th>\n",
       "      <th>copilot_hu_std</th>\n",
       "      <th>chatgpt_hu</th>\n",
       "      <th>...</th>\n",
       "      <th>lechat_zh</th>\n",
       "      <th>lechat_zh_std</th>\n",
       "      <th>copilot_zh</th>\n",
       "      <th>copilot_zh_std</th>\n",
       "      <th>chatgpt_zh</th>\n",
       "      <th>chatgpt_zh_std</th>\n",
       "      <th>deepseek_zh</th>\n",
       "      <th>deepseek_zh_std</th>\n",
       "      <th>gemini_zh</th>\n",
       "      <th>gemini_zh_std</th>\n",
       "    </tr>\n",
       "  </thead>\n",
       "  <tbody>\n",
       "    <tr>\n",
       "      <th>0</th>\n",
       "      <td>1</td>\n",
       "      <td>11</td>\n",
       "      <td>模特</td>\n",
       "      <td>model</td>\n",
       "      <td>modell</td>\n",
       "      <td>1.0</td>\n",
       "      <td>0.781736</td>\n",
       "      <td>1.645</td>\n",
       "      <td>0.406510</td>\n",
       "      <td>2.150</td>\n",
       "      <td>...</td>\n",
       "      <td>1.000</td>\n",
       "      <td>0.527046</td>\n",
       "      <td>2.09</td>\n",
       "      <td>0.372529</td>\n",
       "      <td>1.730</td>\n",
       "      <td>0.216282</td>\n",
       "      <td>1.45</td>\n",
       "      <td>0.158114</td>\n",
       "      <td>1.001</td>\n",
       "      <td>0.490044</td>\n",
       "    </tr>\n",
       "    <tr>\n",
       "      <th>1</th>\n",
       "      <td>2</td>\n",
       "      <td>37</td>\n",
       "      <td>军人</td>\n",
       "      <td>soldier</td>\n",
       "      <td>katona</td>\n",
       "      <td>-2.7</td>\n",
       "      <td>0.349603</td>\n",
       "      <td>-2.717</td>\n",
       "      <td>0.153119</td>\n",
       "      <td>-2.850</td>\n",
       "      <td>...</td>\n",
       "      <td>-2.775</td>\n",
       "      <td>0.248607</td>\n",
       "      <td>-2.65</td>\n",
       "      <td>0.317105</td>\n",
       "      <td>-2.880</td>\n",
       "      <td>0.042164</td>\n",
       "      <td>-2.42</td>\n",
       "      <td>0.322490</td>\n",
       "      <td>-2.647</td>\n",
       "      <td>0.408848</td>\n",
       "    </tr>\n",
       "    <tr>\n",
       "      <th>2</th>\n",
       "      <td>3</td>\n",
       "      <td>33</td>\n",
       "      <td>法医</td>\n",
       "      <td>pathologist</td>\n",
       "      <td>kórboncnok</td>\n",
       "      <td>-1.5</td>\n",
       "      <td>0.942809</td>\n",
       "      <td>-1.545</td>\n",
       "      <td>0.312348</td>\n",
       "      <td>-1.147</td>\n",
       "      <td>...</td>\n",
       "      <td>-0.600</td>\n",
       "      <td>0.737865</td>\n",
       "      <td>-1.19</td>\n",
       "      <td>0.292309</td>\n",
       "      <td>-1.560</td>\n",
       "      <td>0.231900</td>\n",
       "      <td>-1.25</td>\n",
       "      <td>0.263523</td>\n",
       "      <td>-0.973</td>\n",
       "      <td>0.248464</td>\n",
       "    </tr>\n",
       "    <tr>\n",
       "      <th>3</th>\n",
       "      <td>4</td>\n",
       "      <td>38</td>\n",
       "      <td>董事长</td>\n",
       "      <td>CEO</td>\n",
       "      <td>vezérigazgató</td>\n",
       "      <td>-1.6</td>\n",
       "      <td>0.459468</td>\n",
       "      <td>-2.377</td>\n",
       "      <td>0.320695</td>\n",
       "      <td>-2.130</td>\n",
       "      <td>...</td>\n",
       "      <td>-2.330</td>\n",
       "      <td>0.380205</td>\n",
       "      <td>-2.51</td>\n",
       "      <td>0.341402</td>\n",
       "      <td>-1.990</td>\n",
       "      <td>0.191195</td>\n",
       "      <td>-1.70</td>\n",
       "      <td>0.230940</td>\n",
       "      <td>-2.028</td>\n",
       "      <td>0.415473</td>\n",
       "    </tr>\n",
       "    <tr>\n",
       "      <th>4</th>\n",
       "      <td>5</td>\n",
       "      <td>5</td>\n",
       "      <td>高管</td>\n",
       "      <td>manager</td>\n",
       "      <td>menedzser</td>\n",
       "      <td>-1.0</td>\n",
       "      <td>0.408248</td>\n",
       "      <td>-1.455</td>\n",
       "      <td>0.235478</td>\n",
       "      <td>-1.380</td>\n",
       "      <td>...</td>\n",
       "      <td>-1.950</td>\n",
       "      <td>0.283823</td>\n",
       "      <td>-1.85</td>\n",
       "      <td>0.334166</td>\n",
       "      <td>-1.645</td>\n",
       "      <td>0.260821</td>\n",
       "      <td>-1.35</td>\n",
       "      <td>0.241523</td>\n",
       "      <td>-1.254</td>\n",
       "      <td>0.589618</td>\n",
       "    </tr>\n",
       "  </tbody>\n",
       "</table>\n",
       "<p>5 rows × 25 columns</p>\n",
       "</div>"
      ],
      "text/plain": [
       "   #  #_zh   zh           en             hu  lechat_hu  lechat_hu_std  \\\n",
       "0  1    11   模特        model         modell        1.0       0.781736   \n",
       "1  2    37   军人      soldier         katona       -2.7       0.349603   \n",
       "2  3    33   法医  pathologist     kórboncnok       -1.5       0.942809   \n",
       "3  4    38  董事长          CEO  vezérigazgató       -1.6       0.459468   \n",
       "4  5     5   高管      manager      menedzser       -1.0       0.408248   \n",
       "\n",
       "   copilot_hu  copilot_hu_std  chatgpt_hu  ...  lechat_zh  lechat_zh_std  \\\n",
       "0       1.645        0.406510       2.150  ...      1.000       0.527046   \n",
       "1      -2.717        0.153119      -2.850  ...     -2.775       0.248607   \n",
       "2      -1.545        0.312348      -1.147  ...     -0.600       0.737865   \n",
       "3      -2.377        0.320695      -2.130  ...     -2.330       0.380205   \n",
       "4      -1.455        0.235478      -1.380  ...     -1.950       0.283823   \n",
       "\n",
       "   copilot_zh  copilot_zh_std  chatgpt_zh  chatgpt_zh_std  deepseek_zh  \\\n",
       "0        2.09        0.372529       1.730        0.216282         1.45   \n",
       "1       -2.65        0.317105      -2.880        0.042164        -2.42   \n",
       "2       -1.19        0.292309      -1.560        0.231900        -1.25   \n",
       "3       -2.51        0.341402      -1.990        0.191195        -1.70   \n",
       "4       -1.85        0.334166      -1.645        0.260821        -1.35   \n",
       "\n",
       "   deepseek_zh_std  gemini_zh  gemini_zh_std  \n",
       "0         0.158114      1.001       0.490044  \n",
       "1         0.322490     -2.647       0.408848  \n",
       "2         0.263523     -0.973       0.248464  \n",
       "3         0.230940     -2.028       0.415473  \n",
       "4         0.241523     -1.254       0.589618  \n",
       "\n",
       "[5 rows x 25 columns]"
      ]
     },
     "execution_count": 217,
     "metadata": {},
     "output_type": "execute_result"
    }
   ],
   "source": [
    "# Read files\n",
    "occupations = pd.read_excel('occupations.xlsx')\n",
    "\n",
    "# Remove r column\n",
    "occupations = occupations.drop(columns=['r', 'att_hu', 'att_zh' ])\n",
    "occupations.head()"
   ]
  },
  {
   "cell_type": "markdown",
   "id": "fa3120c9",
   "metadata": {},
   "source": [
    "## Hungarian data"
   ]
  },
  {
   "cell_type": "code",
   "execution_count": 218,
   "id": "c125d60e",
   "metadata": {},
   "outputs": [
    {
     "name": "stdout",
     "output_type": "stream",
     "text": [
      "Rejected participants: ['5e57a0020c3c6a14a1624031', '599494e7bf8bcf0001ab6973', '5f5a27482be30c0718bbf1e0']\n"
     ]
    },
    {
     "data": {
      "text/html": [
       "<div>\n",
       "<style scoped>\n",
       "    .dataframe tbody tr th:only-of-type {\n",
       "        vertical-align: middle;\n",
       "    }\n",
       "\n",
       "    .dataframe tbody tr th {\n",
       "        vertical-align: top;\n",
       "    }\n",
       "\n",
       "    .dataframe thead th {\n",
       "        text-align: right;\n",
       "    }\n",
       "</style>\n",
       "<table border=\"1\" class=\"dataframe\">\n",
       "  <thead>\n",
       "    <tr style=\"text-align: right;\">\n",
       "      <th></th>\n",
       "      <th>Submission id</th>\n",
       "      <th>Participant id</th>\n",
       "      <th>Status</th>\n",
       "      <th>Custom study tncs accepted at</th>\n",
       "      <th>Started at</th>\n",
       "      <th>Completed at</th>\n",
       "      <th>Reviewed at</th>\n",
       "      <th>Archived at</th>\n",
       "      <th>Time taken</th>\n",
       "      <th>Completion code</th>\n",
       "      <th>Total approvals</th>\n",
       "      <th>Age</th>\n",
       "      <th>Sex</th>\n",
       "      <th>Ethnicity simplified</th>\n",
       "      <th>Country of birth</th>\n",
       "      <th>Country of residence</th>\n",
       "      <th>Nationality</th>\n",
       "      <th>Language</th>\n",
       "      <th>Student status</th>\n",
       "      <th>Employment status</th>\n",
       "    </tr>\n",
       "  </thead>\n",
       "  <tbody>\n",
       "    <tr>\n",
       "      <th>0</th>\n",
       "      <td>68708cf6b2a5c6baa48d6343</td>\n",
       "      <td>5ef60257cd680928de23ccae</td>\n",
       "      <td>APPROVED</td>\n",
       "      <td>Not Applicable</td>\n",
       "      <td>2025-07-11T04:03:02.613000Z</td>\n",
       "      <td>2025-07-11T04:07:42.625000Z</td>\n",
       "      <td>2025-07-15T04:08:31.855000Z</td>\n",
       "      <td>2025-07-11T04:07:43.031319Z</td>\n",
       "      <td>281.0</td>\n",
       "      <td>C1MO6037</td>\n",
       "      <td>377</td>\n",
       "      <td>29</td>\n",
       "      <td>Male</td>\n",
       "      <td>White</td>\n",
       "      <td>Hungary</td>\n",
       "      <td>Hungary</td>\n",
       "      <td>Hungary</td>\n",
       "      <td>Hungarian</td>\n",
       "      <td>Yes</td>\n",
       "      <td>Full-Time</td>\n",
       "    </tr>\n",
       "    <tr>\n",
       "      <th>1</th>\n",
       "      <td>68708d873d4d0b6d92e59937</td>\n",
       "      <td>5c48be0496d59b000183e68d</td>\n",
       "      <td>APPROVED</td>\n",
       "      <td>Not Applicable</td>\n",
       "      <td>2025-07-11T04:05:42.316000Z</td>\n",
       "      <td>2025-07-11T04:13:25.502000Z</td>\n",
       "      <td>2025-07-15T04:08:32.344000Z</td>\n",
       "      <td>2025-07-11T04:13:25.947923Z</td>\n",
       "      <td>464.0</td>\n",
       "      <td>C1MO6037</td>\n",
       "      <td>1457</td>\n",
       "      <td>48</td>\n",
       "      <td>Male</td>\n",
       "      <td>White</td>\n",
       "      <td>Hungary</td>\n",
       "      <td>Hungary</td>\n",
       "      <td>Hungary</td>\n",
       "      <td>Hungarian</td>\n",
       "      <td>No</td>\n",
       "      <td>Full-Time</td>\n",
       "    </tr>\n",
       "    <tr>\n",
       "      <th>2</th>\n",
       "      <td>68708f072c19330dab93cd7b</td>\n",
       "      <td>5d3449524e8363001735fc41</td>\n",
       "      <td>APPROVED</td>\n",
       "      <td>Not Applicable</td>\n",
       "      <td>2025-07-11T04:12:14.614000Z</td>\n",
       "      <td>2025-07-11T04:20:51.642000Z</td>\n",
       "      <td>2025-07-15T04:08:32.762000Z</td>\n",
       "      <td>2025-07-11T04:20:52.060603Z</td>\n",
       "      <td>518.0</td>\n",
       "      <td>C1MO6037</td>\n",
       "      <td>657</td>\n",
       "      <td>42</td>\n",
       "      <td>Male</td>\n",
       "      <td>White</td>\n",
       "      <td>Hungary</td>\n",
       "      <td>Hungary</td>\n",
       "      <td>Hungary</td>\n",
       "      <td>Hungarian</td>\n",
       "      <td>DATA_EXPIRED</td>\n",
       "      <td>Full-Time</td>\n",
       "    </tr>\n",
       "    <tr>\n",
       "      <th>3</th>\n",
       "      <td>68708f80de42cf279f3089d8</td>\n",
       "      <td>5a913d2cf0536100017196d8</td>\n",
       "      <td>APPROVED</td>\n",
       "      <td>Not Applicable</td>\n",
       "      <td>2025-07-11T04:13:57.716000Z</td>\n",
       "      <td>2025-07-11T04:16:47.135000Z</td>\n",
       "      <td>2025-07-15T04:08:33.160000Z</td>\n",
       "      <td>2025-07-11T04:16:47.592395Z</td>\n",
       "      <td>170.0</td>\n",
       "      <td>C1MO6037</td>\n",
       "      <td>29</td>\n",
       "      <td>27</td>\n",
       "      <td>Male</td>\n",
       "      <td>White</td>\n",
       "      <td>Hungary</td>\n",
       "      <td>Hungary</td>\n",
       "      <td>Hungary</td>\n",
       "      <td>Hungarian</td>\n",
       "      <td>No</td>\n",
       "      <td>Full-Time</td>\n",
       "    </tr>\n",
       "    <tr>\n",
       "      <th>4</th>\n",
       "      <td>68708fb5ab7d87dd294e6c74</td>\n",
       "      <td>5d3873197860c8001a106e02</td>\n",
       "      <td>APPROVED</td>\n",
       "      <td>Not Applicable</td>\n",
       "      <td>2025-07-11T04:16:49.056000Z</td>\n",
       "      <td>2025-07-11T04:21:24.387000Z</td>\n",
       "      <td>2025-07-15T04:08:33.533000Z</td>\n",
       "      <td>2025-07-11T04:21:24.787505Z</td>\n",
       "      <td>276.0</td>\n",
       "      <td>C1MO6037</td>\n",
       "      <td>2564</td>\n",
       "      <td>34</td>\n",
       "      <td>Male</td>\n",
       "      <td>White</td>\n",
       "      <td>Hungary</td>\n",
       "      <td>Hungary</td>\n",
       "      <td>Hungary</td>\n",
       "      <td>Hungarian</td>\n",
       "      <td>No</td>\n",
       "      <td>Full-Time</td>\n",
       "    </tr>\n",
       "  </tbody>\n",
       "</table>\n",
       "</div>"
      ],
      "text/plain": [
       "              Submission id            Participant id    Status  \\\n",
       "0  68708cf6b2a5c6baa48d6343  5ef60257cd680928de23ccae  APPROVED   \n",
       "1  68708d873d4d0b6d92e59937  5c48be0496d59b000183e68d  APPROVED   \n",
       "2  68708f072c19330dab93cd7b  5d3449524e8363001735fc41  APPROVED   \n",
       "3  68708f80de42cf279f3089d8  5a913d2cf0536100017196d8  APPROVED   \n",
       "4  68708fb5ab7d87dd294e6c74  5d3873197860c8001a106e02  APPROVED   \n",
       "\n",
       "  Custom study tncs accepted at                   Started at  \\\n",
       "0                Not Applicable  2025-07-11T04:03:02.613000Z   \n",
       "1                Not Applicable  2025-07-11T04:05:42.316000Z   \n",
       "2                Not Applicable  2025-07-11T04:12:14.614000Z   \n",
       "3                Not Applicable  2025-07-11T04:13:57.716000Z   \n",
       "4                Not Applicable  2025-07-11T04:16:49.056000Z   \n",
       "\n",
       "                  Completed at                  Reviewed at  \\\n",
       "0  2025-07-11T04:07:42.625000Z  2025-07-15T04:08:31.855000Z   \n",
       "1  2025-07-11T04:13:25.502000Z  2025-07-15T04:08:32.344000Z   \n",
       "2  2025-07-11T04:20:51.642000Z  2025-07-15T04:08:32.762000Z   \n",
       "3  2025-07-11T04:16:47.135000Z  2025-07-15T04:08:33.160000Z   \n",
       "4  2025-07-11T04:21:24.387000Z  2025-07-15T04:08:33.533000Z   \n",
       "\n",
       "                   Archived at  Time taken Completion code  Total approvals  \\\n",
       "0  2025-07-11T04:07:43.031319Z       281.0        C1MO6037              377   \n",
       "1  2025-07-11T04:13:25.947923Z       464.0        C1MO6037             1457   \n",
       "2  2025-07-11T04:20:52.060603Z       518.0        C1MO6037              657   \n",
       "3  2025-07-11T04:16:47.592395Z       170.0        C1MO6037               29   \n",
       "4  2025-07-11T04:21:24.787505Z       276.0        C1MO6037             2564   \n",
       "\n",
       "  Age   Sex Ethnicity simplified Country of birth Country of residence  \\\n",
       "0  29  Male                White          Hungary              Hungary   \n",
       "1  48  Male                White          Hungary              Hungary   \n",
       "2  42  Male                White          Hungary              Hungary   \n",
       "3  27  Male                White          Hungary              Hungary   \n",
       "4  34  Male                White          Hungary              Hungary   \n",
       "\n",
       "  Nationality   Language Student status Employment status  \n",
       "0     Hungary  Hungarian            Yes         Full-Time  \n",
       "1     Hungary  Hungarian             No         Full-Time  \n",
       "2     Hungary  Hungarian   DATA_EXPIRED         Full-Time  \n",
       "3     Hungary  Hungarian             No         Full-Time  \n",
       "4     Hungary  Hungarian             No         Full-Time  "
      ]
     },
     "execution_count": 218,
     "metadata": {},
     "output_type": "execute_result"
    }
   ],
   "source": [
    "# Read Hungarian participant data from prolific_hu.csv\n",
    "df_prolific_hu = pd.read_csv('prolific_hu.csv')\n",
    "\n",
    "# Return Participant ID of rows where Status is RETURNED or REJECTED\n",
    "rejects = df_prolific_hu[df_prolific_hu['Status'].isin(['RETURNED', 'REJECTED'])]['Participant id'].unique()\n",
    "\n",
    "# create reject list\n",
    "rejects_list = rejects.tolist()\n",
    "print(f\"Rejected participants: {rejects_list}\")\n",
    "\n",
    "df_prolific_hu.head()"
   ]
  },
  {
   "cell_type": "code",
   "execution_count": 219,
   "id": "21d18857",
   "metadata": {},
   "outputs": [
    {
     "name": "stdout",
     "output_type": "stream",
     "text": [
      "Number of participants: 24\n"
     ]
    },
    {
     "data": {
      "text/html": [
       "<div>\n",
       "<style scoped>\n",
       "    .dataframe tbody tr th:only-of-type {\n",
       "        vertical-align: middle;\n",
       "    }\n",
       "\n",
       "    .dataframe tbody tr th {\n",
       "        vertical-align: top;\n",
       "    }\n",
       "\n",
       "    .dataframe thead th {\n",
       "        text-align: right;\n",
       "    }\n",
       "</style>\n",
       "<table border=\"1\" class=\"dataframe\">\n",
       "  <thead>\n",
       "    <tr style=\"text-align: right;\">\n",
       "      <th></th>\n",
       "      <th>Participant ID</th>\n",
       "      <th>pincérnő</th>\n",
       "      <th>titkárnő</th>\n",
       "      <th>tanárnő</th>\n",
       "      <th>takarítónő</th>\n",
       "      <th>ápolónő</th>\n",
       "      <th>házvezetőnő</th>\n",
       "    </tr>\n",
       "  </thead>\n",
       "  <tbody>\n",
       "    <tr>\n",
       "      <th>2</th>\n",
       "      <td>5a913d2cf0536100017196d8</td>\n",
       "      <td>Teljesen női</td>\n",
       "      <td>Nagyrészt női</td>\n",
       "      <td>Teljesen női</td>\n",
       "      <td>Teljesen női</td>\n",
       "      <td>Teljesen női</td>\n",
       "      <td>Teljesen női</td>\n",
       "    </tr>\n",
       "    <tr>\n",
       "      <th>9</th>\n",
       "      <td>599494e7bf8bcf0001ab6973</td>\n",
       "      <td>Teljesen női</td>\n",
       "      <td>Teljesen férfi</td>\n",
       "      <td>Teljesen női</td>\n",
       "      <td>Teljesen női</td>\n",
       "      <td>Teljesen női</td>\n",
       "      <td>Teljesen női</td>\n",
       "    </tr>\n",
       "    <tr>\n",
       "      <th>12</th>\n",
       "      <td>5e9ab5df2893af141343bce7</td>\n",
       "      <td>Inkább női</td>\n",
       "      <td>Nagyrészt női</td>\n",
       "      <td>Inkább női</td>\n",
       "      <td>Inkább női</td>\n",
       "      <td>Nagyrészt női</td>\n",
       "      <td>Inkább női</td>\n",
       "    </tr>\n",
       "    <tr>\n",
       "      <th>14</th>\n",
       "      <td>BS</td>\n",
       "      <td>Teljesen női</td>\n",
       "      <td>Teljesen női</td>\n",
       "      <td>Teljesen női</td>\n",
       "      <td>Nagyrészt női</td>\n",
       "      <td>Teljesen női</td>\n",
       "      <td>Teljesen női</td>\n",
       "    </tr>\n",
       "  </tbody>\n",
       "</table>\n",
       "</div>"
      ],
      "text/plain": [
       "              Participant ID      pincérnő        titkárnő       tanárnő  \\\n",
       "2   5a913d2cf0536100017196d8  Teljesen női   Nagyrészt női  Teljesen női   \n",
       "9   599494e7bf8bcf0001ab6973  Teljesen női  Teljesen férfi  Teljesen női   \n",
       "12  5e9ab5df2893af141343bce7    Inkább női   Nagyrészt női    Inkább női   \n",
       "14                        BS  Teljesen női    Teljesen női  Teljesen női   \n",
       "\n",
       "       takarítónő        ápolónő   házvezetőnő  \n",
       "2    Teljesen női   Teljesen női  Teljesen női  \n",
       "9    Teljesen női   Teljesen női  Teljesen női  \n",
       "12     Inkább női  Nagyrészt női    Inkább női  \n",
       "14  Nagyrészt női   Teljesen női  Teljesen női  "
      ]
     },
     "execution_count": 219,
     "metadata": {},
     "output_type": "execute_result"
    }
   ],
   "source": [
    "# Read Hungarian data from hu.xlsx\n",
    "df_hu = pd.read_excel('ratings_hu.xlsx')\n",
    "\n",
    "# Rename Prolific ID to Participant ID\n",
    "df_hu.rename(columns={'Prolific ID': 'Participant ID'}, inplace=True)\n",
    "\n",
    "# Print number of participants\n",
    "print(f\"Number of participants: {df_hu.shape[0]}\")\n",
    "\n",
    "# Define Hungarian attention checks\n",
    "hu_attention_checks = ['pincérnő', 'titkárnő', 'tanárnő', 'takarítónő', 'ápolónő', 'házvezetőnő']\n",
    "\n",
    "# Show wo failed attention any checks, find participants who did not mark all hu_attention_checks columns as 3\n",
    "failed_attention = df_hu[df_hu[hu_attention_checks].apply(lambda row: any(row != 'Teljesen női'), axis=1)]\n",
    "\n",
    "# Show the failed participants (if any)\n",
    "failed = failed_attention[['Participant ID'] + hu_attention_checks] if not failed_attention.empty else print(\"All participants passed the attention checks.\")\n",
    "failed"
   ]
  },
  {
   "cell_type": "code",
   "execution_count": 220,
   "id": "ba89a339",
   "metadata": {},
   "outputs": [
    {
     "name": "stdout",
     "output_type": "stream",
     "text": [
      "Number of participants: 22\n"
     ]
    }
   ],
   "source": [
    "# Remove those who failed miserably\n",
    "df_hu = df_hu[df_hu['Participant ID'] != '5e9ab5df2893af141343bce7']\n",
    "df_hu = df_hu[df_hu['Participant ID'] != '599494e7bf8bcf0001ab6973']\n",
    "\n",
    "# Remove participants who were rejected\n",
    "df_hu = df_hu[~df_hu['Participant ID'].isin(rejects_list)]\n",
    "\n",
    "# Print number of participants\n",
    "print(f\"Number of participants: {df_hu.shape[0]}\")\n",
    "\n",
    "# Drop attention checks\n",
    "df_hu.drop(columns=hu_attention_checks, inplace=True)\n",
    "\n",
    "# Drop column nővér because it is not needed\n",
    "# df_hu = df_hu.drop(columns=['nővér'])"
   ]
  },
  {
   "cell_type": "code",
   "execution_count": 221,
   "id": "381f0f1c",
   "metadata": {},
   "outputs": [
    {
     "name": "stdout",
     "output_type": "stream",
     "text": [
      "Number of participants: 22\n",
      "Number of words: 44\n"
     ]
    },
    {
     "data": {
      "text/html": [
       "<div>\n",
       "<style scoped>\n",
       "    .dataframe tbody tr th:only-of-type {\n",
       "        vertical-align: middle;\n",
       "    }\n",
       "\n",
       "    .dataframe tbody tr th {\n",
       "        vertical-align: top;\n",
       "    }\n",
       "\n",
       "    .dataframe thead th {\n",
       "        text-align: right;\n",
       "    }\n",
       "</style>\n",
       "<table border=\"1\" class=\"dataframe\">\n",
       "  <thead>\n",
       "    <tr style=\"text-align: right;\">\n",
       "      <th></th>\n",
       "      <th>ID</th>\n",
       "      <th>Start time</th>\n",
       "      <th>Completion time</th>\n",
       "      <th>Email</th>\n",
       "      <th>Name</th>\n",
       "      <th>Participant ID</th>\n",
       "      <th>Age</th>\n",
       "      <th>Gender</th>\n",
       "      <th>modell</th>\n",
       "      <th>katona</th>\n",
       "      <th>...</th>\n",
       "      <th>dietetikus</th>\n",
       "      <th>tanár</th>\n",
       "      <th>rendőr</th>\n",
       "      <th>pilóta</th>\n",
       "      <th>recepciós</th>\n",
       "      <th>biztonsági őr</th>\n",
       "      <th>ügyész</th>\n",
       "      <th>kozmetikus</th>\n",
       "      <th>programozó</th>\n",
       "      <th>diák</th>\n",
       "    </tr>\n",
       "  </thead>\n",
       "  <tbody>\n",
       "    <tr>\n",
       "      <th>0</th>\n",
       "      <td>1</td>\n",
       "      <td>2025-07-11 12:06:52</td>\n",
       "      <td>2025-07-11 12:07:43</td>\n",
       "      <td>anonymous</td>\n",
       "      <td>NaN</td>\n",
       "      <td>5ef60257cd680928de23ccae</td>\n",
       "      <td>25-35</td>\n",
       "      <td>male</td>\n",
       "      <td>2</td>\n",
       "      <td>-3</td>\n",
       "      <td>...</td>\n",
       "      <td>0</td>\n",
       "      <td>0</td>\n",
       "      <td>-2</td>\n",
       "      <td>-1</td>\n",
       "      <td>0</td>\n",
       "      <td>-2</td>\n",
       "      <td>0</td>\n",
       "      <td>2</td>\n",
       "      <td>-1</td>\n",
       "      <td>0</td>\n",
       "    </tr>\n",
       "    <tr>\n",
       "      <th>1</th>\n",
       "      <td>2</td>\n",
       "      <td>2025-07-11 12:06:58</td>\n",
       "      <td>2025-07-11 12:13:33</td>\n",
       "      <td>anonymous</td>\n",
       "      <td>NaN</td>\n",
       "      <td>5c48be0496d59b000183e68d</td>\n",
       "      <td>45-55</td>\n",
       "      <td>male</td>\n",
       "      <td>2</td>\n",
       "      <td>-2</td>\n",
       "      <td>...</td>\n",
       "      <td>0</td>\n",
       "      <td>0</td>\n",
       "      <td>-2</td>\n",
       "      <td>-2</td>\n",
       "      <td>1</td>\n",
       "      <td>-2</td>\n",
       "      <td>-1</td>\n",
       "      <td>3</td>\n",
       "      <td>-2</td>\n",
       "      <td>0</td>\n",
       "    </tr>\n",
       "    <tr>\n",
       "      <th>2</th>\n",
       "      <td>3</td>\n",
       "      <td>2025-07-11 12:14:03</td>\n",
       "      <td>2025-07-11 12:16:52</td>\n",
       "      <td>anonymous</td>\n",
       "      <td>NaN</td>\n",
       "      <td>5a913d2cf0536100017196d8</td>\n",
       "      <td>25-35</td>\n",
       "      <td>male</td>\n",
       "      <td>0</td>\n",
       "      <td>-2</td>\n",
       "      <td>...</td>\n",
       "      <td>0</td>\n",
       "      <td>0</td>\n",
       "      <td>-1</td>\n",
       "      <td>0</td>\n",
       "      <td>0</td>\n",
       "      <td>-2</td>\n",
       "      <td>0</td>\n",
       "      <td>2</td>\n",
       "      <td>0</td>\n",
       "      <td>0</td>\n",
       "    </tr>\n",
       "    <tr>\n",
       "      <th>3</th>\n",
       "      <td>4</td>\n",
       "      <td>2025-07-11 12:12:24</td>\n",
       "      <td>2025-07-11 12:21:19</td>\n",
       "      <td>anonymous</td>\n",
       "      <td>NaN</td>\n",
       "      <td>5d3449524e8363001735fc41</td>\n",
       "      <td>35-45</td>\n",
       "      <td>male</td>\n",
       "      <td>2</td>\n",
       "      <td>-2</td>\n",
       "      <td>...</td>\n",
       "      <td>1</td>\n",
       "      <td>2</td>\n",
       "      <td>-2</td>\n",
       "      <td>-2</td>\n",
       "      <td>2</td>\n",
       "      <td>-2</td>\n",
       "      <td>-1</td>\n",
       "      <td>3</td>\n",
       "      <td>-2</td>\n",
       "      <td>0</td>\n",
       "    </tr>\n",
       "    <tr>\n",
       "      <th>4</th>\n",
       "      <td>5</td>\n",
       "      <td>2025-07-11 12:16:52</td>\n",
       "      <td>2025-07-11 12:21:35</td>\n",
       "      <td>anonymous</td>\n",
       "      <td>NaN</td>\n",
       "      <td>5d3873197860c8001a106e02</td>\n",
       "      <td>25-35</td>\n",
       "      <td>male</td>\n",
       "      <td>0</td>\n",
       "      <td>-2</td>\n",
       "      <td>...</td>\n",
       "      <td>0</td>\n",
       "      <td>0</td>\n",
       "      <td>-1</td>\n",
       "      <td>-1</td>\n",
       "      <td>0</td>\n",
       "      <td>-1</td>\n",
       "      <td>0</td>\n",
       "      <td>2</td>\n",
       "      <td>-2</td>\n",
       "      <td>0</td>\n",
       "    </tr>\n",
       "  </tbody>\n",
       "</table>\n",
       "<p>5 rows × 52 columns</p>\n",
       "</div>"
      ],
      "text/plain": [
       "   ID          Start time     Completion time      Email  Name  \\\n",
       "0   1 2025-07-11 12:06:52 2025-07-11 12:07:43  anonymous   NaN   \n",
       "1   2 2025-07-11 12:06:58 2025-07-11 12:13:33  anonymous   NaN   \n",
       "2   3 2025-07-11 12:14:03 2025-07-11 12:16:52  anonymous   NaN   \n",
       "3   4 2025-07-11 12:12:24 2025-07-11 12:21:19  anonymous   NaN   \n",
       "4   5 2025-07-11 12:16:52 2025-07-11 12:21:35  anonymous   NaN   \n",
       "\n",
       "             Participant ID    Age Gender  modell  katona  ...  dietetikus  \\\n",
       "0  5ef60257cd680928de23ccae  25-35   male       2      -3  ...           0   \n",
       "1  5c48be0496d59b000183e68d  45-55   male       2      -2  ...           0   \n",
       "2  5a913d2cf0536100017196d8  25-35   male       0      -2  ...           0   \n",
       "3  5d3449524e8363001735fc41  35-45   male       2      -2  ...           1   \n",
       "4  5d3873197860c8001a106e02  25-35   male       0      -2  ...           0   \n",
       "\n",
       "   tanár  rendőr  pilóta  recepciós  biztonsági őr  ügyész  kozmetikus  \\\n",
       "0      0      -2      -1          0             -2       0           2   \n",
       "1      0      -2      -2          1             -2      -1           3   \n",
       "2      0      -1       0          0             -2       0           2   \n",
       "3      2      -2      -2          2             -2      -1           3   \n",
       "4      0      -1      -1          0             -1       0           2   \n",
       "\n",
       "   programozó  diák  \n",
       "0          -1     0  \n",
       "1          -2     0  \n",
       "2           0     0  \n",
       "3          -2     0  \n",
       "4          -2     0  \n",
       "\n",
       "[5 rows x 52 columns]"
      ]
     },
     "execution_count": 221,
     "metadata": {},
     "output_type": "execute_result"
    }
   ],
   "source": [
    "# Define the mapping for ratings\n",
    "rating_map = {\n",
    "    'Teljesen férfi': -3,\n",
    "    'Nagyrészt férfi': -2,\n",
    "    'Inkább férfi': -1,\n",
    "    'Semleges/egyenlő': 0,\n",
    "    'Inkább női': 1,\n",
    "    'Nagyrészt női': 2,\n",
    "    'Teljesen női': 3\n",
    "}\n",
    "\n",
    "# Get columns to convert (skip non-rating columns)\n",
    "rating_columns = df_hu.columns[8:]  # assuming first 8 columns are not ratings\n",
    "\n",
    "# Replace and explicitly infer objects to avoid warning\n",
    "for col in rating_columns:\n",
    "    df_hu[col] = df_hu[col].map(rating_map)\n",
    "    \n",
    "# Drop rows where Participant ID is in rejects_list\n",
    "df_hu = df_hu[~df_hu['Participant ID'].isin(rejects_list)]\n",
    "\n",
    "# Rename Életkor to Age and Nem to Gender\n",
    "df_hu.rename(columns={'Életkor': 'Age', 'Nem':'Gender'}, inplace=True)\n",
    "\n",
    "# Replace férfi to male and nő to female in Gender column\n",
    "df_hu['Gender'] = df_hu['Gender'].replace({'férfi': 'male', 'nő': 'female'})\n",
    "\n",
    "# Count and print participants based on unique Participant ID\n",
    "num_participants = df_hu['Participant ID'].nunique()\n",
    "print(f'Number of participants: {num_participants}')\n",
    "\n",
    "# Count the number of columns starting with the 8th.\n",
    "num_columns = len(df_hu.columns) - 8\n",
    "print(f'Number of words: {num_columns}')\n",
    "\n",
    "# Show\n",
    "df_hu.head()\n"
   ]
  },
  {
   "cell_type": "markdown",
   "id": "c7ad821f",
   "metadata": {},
   "source": [
    "### Demographics"
   ]
  },
  {
   "cell_type": "code",
   "execution_count": 222,
   "id": "b68dd42b",
   "metadata": {},
   "outputs": [
    {
     "data": {
      "application/vnd.plotly.v1+json": {
       "config": {
        "plotlyServerURL": "https://plot.ly"
       },
       "data": [
        {
         "customdata": [
          [
           "Male",
           "11",
           "50.0"
          ],
          [
           "Female",
           "11",
           "50.0"
          ]
         ],
         "domain": {
          "x": [
           0,
           0.45
          ],
          "y": [
           0,
           1
          ]
         },
         "hole": 0.33,
         "labels": [
          "Male",
          "Female"
         ],
         "marker": {
          "colors": [
           "#dcb0f2",
           "#9eb9f3"
          ]
         },
         "name": "Gender",
         "text": [
          "Male<br>n=11<br>50.0%",
          "Female<br>n=11<br>50.0%"
         ],
         "textfont": {
          "size": 28
         },
         "textinfo": "text",
         "title": {
          "text": "Gender"
         },
         "type": "pie",
         "values": {
          "bdata": "AAAAAAAASUAAAAAAAABJQA==",
          "dtype": "f8"
         }
        },
        {
         "customdata": [
          [
           "25-35",
           14,
           63.63636363636363
          ],
          [
           "35-45",
           3,
           13.636363636363635
          ],
          [
           "45-55",
           5,
           22.727272727272727
          ]
         ],
         "domain": {
          "x": [
           0.55,
           1
          ],
          "y": [
           0,
           1
          ]
         },
         "hole": 0.33,
         "labels": [
          "25-35",
          "35-45",
          "45-55"
         ],
         "marker": {
          "colors": [
           "#f6cf71",
           "#f6b671",
           "#f89c74"
          ]
         },
         "name": "Age",
         "text": [
          "25-35<br>n=14<br>63.6%",
          "35-45<br>n=3<br>13.6%",
          "45-55<br>n=5<br>22.7%"
         ],
         "textfont": {
          "size": 28
         },
         "textinfo": "text",
         "title": {
          "text": "Age"
         },
         "type": "pie",
         "values": {
          "bdata": "0UUXXXTRT0BFF1100UUrQLrooosuujZA",
          "dtype": "f8"
         }
        }
       ],
       "layout": {
        "annotations": [
         {
          "align": "center",
          "font": {
           "size": 28
          },
          "showarrow": false,
          "text": "No. of participants: 22",
          "x": 0.5,
          "xanchor": "center",
          "xref": "paper",
          "y": 0.9,
          "yanchor": "bottom",
          "yref": "paper"
         },
         {
          "align": "center",
          "font": {
           "size": 28
          },
          "showarrow": false,
          "text": "No. of participants: 22",
          "x": 0.5,
          "xanchor": "center",
          "xref": "paper",
          "y": 0.9,
          "yanchor": "bottom",
          "yref": "paper"
         }
        ],
        "font": {
         "color": "black",
         "family": "Times New Roman, serif",
         "size": 32
        },
        "legend": {
         "font": {
          "size": 28
         },
         "orientation": "v",
         "x": 0.5,
         "xanchor": "center",
         "y": 1,
         "yanchor": "top"
        },
        "margin": {
         "b": 0,
         "l": 0,
         "r": 0,
         "t": 0
        },
        "showlegend": false,
        "template": {
         "data": {
          "bar": [
           {
            "error_x": {
             "color": "#2a3f5f"
            },
            "error_y": {
             "color": "#2a3f5f"
            },
            "marker": {
             "line": {
              "color": "#E5ECF6",
              "width": 0.5
             },
             "pattern": {
              "fillmode": "overlay",
              "size": 10,
              "solidity": 0.2
             }
            },
            "type": "bar"
           }
          ],
          "barpolar": [
           {
            "marker": {
             "line": {
              "color": "#E5ECF6",
              "width": 0.5
             },
             "pattern": {
              "fillmode": "overlay",
              "size": 10,
              "solidity": 0.2
             }
            },
            "type": "barpolar"
           }
          ],
          "carpet": [
           {
            "aaxis": {
             "endlinecolor": "#2a3f5f",
             "gridcolor": "white",
             "linecolor": "white",
             "minorgridcolor": "white",
             "startlinecolor": "#2a3f5f"
            },
            "baxis": {
             "endlinecolor": "#2a3f5f",
             "gridcolor": "white",
             "linecolor": "white",
             "minorgridcolor": "white",
             "startlinecolor": "#2a3f5f"
            },
            "type": "carpet"
           }
          ],
          "choropleth": [
           {
            "colorbar": {
             "outlinewidth": 0,
             "ticks": ""
            },
            "type": "choropleth"
           }
          ],
          "contour": [
           {
            "colorbar": {
             "outlinewidth": 0,
             "ticks": ""
            },
            "colorscale": [
             [
              0,
              "#0d0887"
             ],
             [
              0.1111111111111111,
              "#46039f"
             ],
             [
              0.2222222222222222,
              "#7201a8"
             ],
             [
              0.3333333333333333,
              "#9c179e"
             ],
             [
              0.4444444444444444,
              "#bd3786"
             ],
             [
              0.5555555555555556,
              "#d8576b"
             ],
             [
              0.6666666666666666,
              "#ed7953"
             ],
             [
              0.7777777777777778,
              "#fb9f3a"
             ],
             [
              0.8888888888888888,
              "#fdca26"
             ],
             [
              1,
              "#f0f921"
             ]
            ],
            "type": "contour"
           }
          ],
          "contourcarpet": [
           {
            "colorbar": {
             "outlinewidth": 0,
             "ticks": ""
            },
            "type": "contourcarpet"
           }
          ],
          "heatmap": [
           {
            "colorbar": {
             "outlinewidth": 0,
             "ticks": ""
            },
            "colorscale": [
             [
              0,
              "#0d0887"
             ],
             [
              0.1111111111111111,
              "#46039f"
             ],
             [
              0.2222222222222222,
              "#7201a8"
             ],
             [
              0.3333333333333333,
              "#9c179e"
             ],
             [
              0.4444444444444444,
              "#bd3786"
             ],
             [
              0.5555555555555556,
              "#d8576b"
             ],
             [
              0.6666666666666666,
              "#ed7953"
             ],
             [
              0.7777777777777778,
              "#fb9f3a"
             ],
             [
              0.8888888888888888,
              "#fdca26"
             ],
             [
              1,
              "#f0f921"
             ]
            ],
            "type": "heatmap"
           }
          ],
          "histogram": [
           {
            "marker": {
             "pattern": {
              "fillmode": "overlay",
              "size": 10,
              "solidity": 0.2
             }
            },
            "type": "histogram"
           }
          ],
          "histogram2d": [
           {
            "colorbar": {
             "outlinewidth": 0,
             "ticks": ""
            },
            "colorscale": [
             [
              0,
              "#0d0887"
             ],
             [
              0.1111111111111111,
              "#46039f"
             ],
             [
              0.2222222222222222,
              "#7201a8"
             ],
             [
              0.3333333333333333,
              "#9c179e"
             ],
             [
              0.4444444444444444,
              "#bd3786"
             ],
             [
              0.5555555555555556,
              "#d8576b"
             ],
             [
              0.6666666666666666,
              "#ed7953"
             ],
             [
              0.7777777777777778,
              "#fb9f3a"
             ],
             [
              0.8888888888888888,
              "#fdca26"
             ],
             [
              1,
              "#f0f921"
             ]
            ],
            "type": "histogram2d"
           }
          ],
          "histogram2dcontour": [
           {
            "colorbar": {
             "outlinewidth": 0,
             "ticks": ""
            },
            "colorscale": [
             [
              0,
              "#0d0887"
             ],
             [
              0.1111111111111111,
              "#46039f"
             ],
             [
              0.2222222222222222,
              "#7201a8"
             ],
             [
              0.3333333333333333,
              "#9c179e"
             ],
             [
              0.4444444444444444,
              "#bd3786"
             ],
             [
              0.5555555555555556,
              "#d8576b"
             ],
             [
              0.6666666666666666,
              "#ed7953"
             ],
             [
              0.7777777777777778,
              "#fb9f3a"
             ],
             [
              0.8888888888888888,
              "#fdca26"
             ],
             [
              1,
              "#f0f921"
             ]
            ],
            "type": "histogram2dcontour"
           }
          ],
          "mesh3d": [
           {
            "colorbar": {
             "outlinewidth": 0,
             "ticks": ""
            },
            "type": "mesh3d"
           }
          ],
          "parcoords": [
           {
            "line": {
             "colorbar": {
              "outlinewidth": 0,
              "ticks": ""
             }
            },
            "type": "parcoords"
           }
          ],
          "pie": [
           {
            "automargin": true,
            "type": "pie"
           }
          ],
          "scatter": [
           {
            "fillpattern": {
             "fillmode": "overlay",
             "size": 10,
             "solidity": 0.2
            },
            "type": "scatter"
           }
          ],
          "scatter3d": [
           {
            "line": {
             "colorbar": {
              "outlinewidth": 0,
              "ticks": ""
             }
            },
            "marker": {
             "colorbar": {
              "outlinewidth": 0,
              "ticks": ""
             }
            },
            "type": "scatter3d"
           }
          ],
          "scattercarpet": [
           {
            "marker": {
             "colorbar": {
              "outlinewidth": 0,
              "ticks": ""
             }
            },
            "type": "scattercarpet"
           }
          ],
          "scattergeo": [
           {
            "marker": {
             "colorbar": {
              "outlinewidth": 0,
              "ticks": ""
             }
            },
            "type": "scattergeo"
           }
          ],
          "scattergl": [
           {
            "marker": {
             "colorbar": {
              "outlinewidth": 0,
              "ticks": ""
             }
            },
            "type": "scattergl"
           }
          ],
          "scattermap": [
           {
            "marker": {
             "colorbar": {
              "outlinewidth": 0,
              "ticks": ""
             }
            },
            "type": "scattermap"
           }
          ],
          "scattermapbox": [
           {
            "marker": {
             "colorbar": {
              "outlinewidth": 0,
              "ticks": ""
             }
            },
            "type": "scattermapbox"
           }
          ],
          "scatterpolar": [
           {
            "marker": {
             "colorbar": {
              "outlinewidth": 0,
              "ticks": ""
             }
            },
            "type": "scatterpolar"
           }
          ],
          "scatterpolargl": [
           {
            "marker": {
             "colorbar": {
              "outlinewidth": 0,
              "ticks": ""
             }
            },
            "type": "scatterpolargl"
           }
          ],
          "scatterternary": [
           {
            "marker": {
             "colorbar": {
              "outlinewidth": 0,
              "ticks": ""
             }
            },
            "type": "scatterternary"
           }
          ],
          "surface": [
           {
            "colorbar": {
             "outlinewidth": 0,
             "ticks": ""
            },
            "colorscale": [
             [
              0,
              "#0d0887"
             ],
             [
              0.1111111111111111,
              "#46039f"
             ],
             [
              0.2222222222222222,
              "#7201a8"
             ],
             [
              0.3333333333333333,
              "#9c179e"
             ],
             [
              0.4444444444444444,
              "#bd3786"
             ],
             [
              0.5555555555555556,
              "#d8576b"
             ],
             [
              0.6666666666666666,
              "#ed7953"
             ],
             [
              0.7777777777777778,
              "#fb9f3a"
             ],
             [
              0.8888888888888888,
              "#fdca26"
             ],
             [
              1,
              "#f0f921"
             ]
            ],
            "type": "surface"
           }
          ],
          "table": [
           {
            "cells": {
             "fill": {
              "color": "#EBF0F8"
             },
             "line": {
              "color": "white"
             }
            },
            "header": {
             "fill": {
              "color": "#C8D4E3"
             },
             "line": {
              "color": "white"
             }
            },
            "type": "table"
           }
          ]
         },
         "layout": {
          "annotationdefaults": {
           "arrowcolor": "#2a3f5f",
           "arrowhead": 0,
           "arrowwidth": 1
          },
          "autotypenumbers": "strict",
          "coloraxis": {
           "colorbar": {
            "outlinewidth": 0,
            "ticks": ""
           }
          },
          "colorscale": {
           "diverging": [
            [
             0,
             "#8e0152"
            ],
            [
             0.1,
             "#c51b7d"
            ],
            [
             0.2,
             "#de77ae"
            ],
            [
             0.3,
             "#f1b6da"
            ],
            [
             0.4,
             "#fde0ef"
            ],
            [
             0.5,
             "#f7f7f7"
            ],
            [
             0.6,
             "#e6f5d0"
            ],
            [
             0.7,
             "#b8e186"
            ],
            [
             0.8,
             "#7fbc41"
            ],
            [
             0.9,
             "#4d9221"
            ],
            [
             1,
             "#276419"
            ]
           ],
           "sequential": [
            [
             0,
             "#0d0887"
            ],
            [
             0.1111111111111111,
             "#46039f"
            ],
            [
             0.2222222222222222,
             "#7201a8"
            ],
            [
             0.3333333333333333,
             "#9c179e"
            ],
            [
             0.4444444444444444,
             "#bd3786"
            ],
            [
             0.5555555555555556,
             "#d8576b"
            ],
            [
             0.6666666666666666,
             "#ed7953"
            ],
            [
             0.7777777777777778,
             "#fb9f3a"
            ],
            [
             0.8888888888888888,
             "#fdca26"
            ],
            [
             1,
             "#f0f921"
            ]
           ],
           "sequentialminus": [
            [
             0,
             "#0d0887"
            ],
            [
             0.1111111111111111,
             "#46039f"
            ],
            [
             0.2222222222222222,
             "#7201a8"
            ],
            [
             0.3333333333333333,
             "#9c179e"
            ],
            [
             0.4444444444444444,
             "#bd3786"
            ],
            [
             0.5555555555555556,
             "#d8576b"
            ],
            [
             0.6666666666666666,
             "#ed7953"
            ],
            [
             0.7777777777777778,
             "#fb9f3a"
            ],
            [
             0.8888888888888888,
             "#fdca26"
            ],
            [
             1,
             "#f0f921"
            ]
           ]
          },
          "colorway": [
           "#636efa",
           "#EF553B",
           "#00cc96",
           "#ab63fa",
           "#FFA15A",
           "#19d3f3",
           "#FF6692",
           "#B6E880",
           "#FF97FF",
           "#FECB52"
          ],
          "font": {
           "color": "#2a3f5f"
          },
          "geo": {
           "bgcolor": "white",
           "lakecolor": "white",
           "landcolor": "#E5ECF6",
           "showlakes": true,
           "showland": true,
           "subunitcolor": "white"
          },
          "hoverlabel": {
           "align": "left"
          },
          "hovermode": "closest",
          "mapbox": {
           "style": "light"
          },
          "paper_bgcolor": "white",
          "plot_bgcolor": "#E5ECF6",
          "polar": {
           "angularaxis": {
            "gridcolor": "white",
            "linecolor": "white",
            "ticks": ""
           },
           "bgcolor": "#E5ECF6",
           "radialaxis": {
            "gridcolor": "white",
            "linecolor": "white",
            "ticks": ""
           }
          },
          "scene": {
           "xaxis": {
            "backgroundcolor": "#E5ECF6",
            "gridcolor": "white",
            "gridwidth": 2,
            "linecolor": "white",
            "showbackground": true,
            "ticks": "",
            "zerolinecolor": "white"
           },
           "yaxis": {
            "backgroundcolor": "#E5ECF6",
            "gridcolor": "white",
            "gridwidth": 2,
            "linecolor": "white",
            "showbackground": true,
            "ticks": "",
            "zerolinecolor": "white"
           },
           "zaxis": {
            "backgroundcolor": "#E5ECF6",
            "gridcolor": "white",
            "gridwidth": 2,
            "linecolor": "white",
            "showbackground": true,
            "ticks": "",
            "zerolinecolor": "white"
           }
          },
          "shapedefaults": {
           "line": {
            "color": "#2a3f5f"
           }
          },
          "ternary": {
           "aaxis": {
            "gridcolor": "white",
            "linecolor": "white",
            "ticks": ""
           },
           "baxis": {
            "gridcolor": "white",
            "linecolor": "white",
            "ticks": ""
           },
           "bgcolor": "#E5ECF6",
           "caxis": {
            "gridcolor": "white",
            "linecolor": "white",
            "ticks": ""
           }
          },
          "title": {
           "x": 0.05
          },
          "xaxis": {
           "automargin": true,
           "gridcolor": "white",
           "linecolor": "white",
           "ticks": "",
           "title": {
            "standoff": 15
           },
           "zerolinecolor": "white",
           "zerolinewidth": 2
          },
          "yaxis": {
           "automargin": true,
           "gridcolor": "white",
           "linecolor": "white",
           "ticks": "",
           "title": {
            "standoff": 15
           },
           "zerolinecolor": "white",
           "zerolinewidth": 2
          }
         }
        }
       }
      }
     },
     "metadata": {},
     "output_type": "display_data"
    }
   ],
   "source": [
    "color_map = {\n",
    "    'Men': female_color,\n",
    "    'Women': male_color,\n",
    "    'Equal': neutral_color\n",
    "}\n",
    "\n",
    "# Three shades of teal for age groups\n",
    "gender_colors = [female_color, male_color]\n",
    "\n",
    "# Prepare gender and age counts and percentages\n",
    "gender_counts = df_hu['Gender'].value_counts()\n",
    "gender_labels = gender_counts.index\n",
    "gender_labels_en = ['Male' if g == 'male' else 'Female' for g in gender_labels]\n",
    "gender = gender_counts / gender_counts.sum() * 100\n",
    "\n",
    "age_counts = df_hu['Age'].value_counts().sort_index()\n",
    "age = age_counts / age_counts.sum() * 100\n",
    "\n",
    "# Gender pie with custom colors\n",
    "gender_pie = go.Pie(\n",
    "    labels=gender_labels_en,\n",
    "    values=gender.values,\n",
    "    name='Gender',\n",
    "    hole=0.33,\n",
    "    title='Gender',\n",
    "    marker=dict(colors=gender_colors),\n",
    "    customdata=np.stack([gender_labels_en, gender_counts.values, gender.values], axis=-1),\n",
    "    textinfo='text',\n",
    "    textfont=dict(size=28),\n",
    "    text=[f\"{label}<br>n={int(n)}<br>{p:.1f}%\" for label, n, p in zip(gender_labels_en, gender_counts.values, gender.values)],\n",
    ")\n",
    "\n",
    "# Age pie with custom teal shades (repeat if more age groups)\n",
    "age_colors = (age_shades * ((len(age) // len(age_shades)) + 1))[:len(age)]\n",
    "age_pie = go.Pie(\n",
    "    labels=age.index,\n",
    "    values=age.values,\n",
    "    name='Age',\n",
    "    hole=0.33,\n",
    "    title='Age',\n",
    "    marker=dict(colors=age_colors),\n",
    "    customdata=np.stack([age.index, age_counts.values, age.values], axis=-1),\n",
    "    textinfo='text',\n",
    "    textfont=dict(size=28),\n",
    "    text=[f\"{label}<br>n={int(n)}<br>{p:.1f}%\" for label, n, p in zip(age.index, age_counts.values, age.values)],\n",
    ")\n",
    "\n",
    "# Create subplot with 1 row and 2 columns\n",
    "fig = make_subplots(\n",
    "    rows=1, cols=2, specs=[[{'type':'domain'}, {'type':'domain'}]],\n",
    "    subplot_titles=['Gender Distribution', 'Age Distribution']\n",
    ")\n",
    "\n",
    "fig.add_trace(gender_pie, 1, 1)\n",
    "fig.add_trace(age_pie, 1, 2)\n",
    "\n",
    "fig.update_layout(\n",
    "    font = dict(family=\"Times New Roman, serif\", size=32, color='black'),\n",
    "    margin=dict(l=0, r=0, t=0, b=0),\n",
    "    showlegend=False,\n",
    "    legend=dict(\n",
    "        font=dict(size=28),\n",
    "        orientation='v',\n",
    "        x=0.5,\n",
    "        xanchor='center',\n",
    "        y=1,\n",
    "        yanchor='top'\n",
    "    ),\n",
    "    annotations=[\n",
    "        dict(\n",
    "            text=f'No. of participants: {df_hu.shape[0]}',\n",
    "            x=0.5, y=0.9, xref='paper', yref='paper',\n",
    "            showarrow=False, font=dict(size=28), align='center'\n",
    "        )\n",
    "    ]\n",
    ")\n",
    "\n",
    "fig.show()\n",
    "\n",
    "# Save it as html\n",
    "fig.write_html('demographics_hu.html')\n",
    "\n",
    "# Save it as image\n",
    "fig.write_image('demographics_hu.png', scale=3, width=1000, height=400)"
   ]
  },
  {
   "cell_type": "markdown",
   "id": "dd4e21e1",
   "metadata": {},
   "source": [
    "### Analysis"
   ]
  },
  {
   "cell_type": "markdown",
   "id": "9b89d98c",
   "metadata": {},
   "source": [
    "#### Two-sample t-test by gender"
   ]
  },
  {
   "cell_type": "code",
   "execution_count": 223,
   "id": "6577d4fd",
   "metadata": {},
   "outputs": [
    {
     "name": "stdout",
     "output_type": "stream",
     "text": [
      "Number of male participants: 11\n",
      "Number of female participants: 11\n"
     ]
    },
    {
     "data": {
      "application/vnd.plotly.v1+json": {
       "config": {
        "plotlyServerURL": "https://plot.ly"
       },
       "data": [
        {
         "customdata": [
          [
           "beautician"
          ],
          [
           "nurse (sister)"
          ],
          [
           "housekeeper"
          ],
          [
           "flight attendant"
          ],
          [
           "cleaner"
          ],
          [
           "model"
          ],
          [
           "cashier"
          ],
          [
           "hairdresser"
          ],
          [
           "caregiver"
          ],
          [
           "HR personnel"
          ],
          [
           "shop assistant"
          ],
          [
           "dietitian"
          ],
          [
           "receptionist"
          ],
          [
           "accountant"
          ],
          [
           "nurse"
          ],
          [
           "PR specialist"
          ],
          [
           "ticket seller"
          ],
          [
           "server"
          ],
          [
           "student"
          ],
          [
           "teacher"
          ],
          [
           "judge"
          ],
          [
           "secretary"
          ],
          [
           "scientist"
          ],
          [
           "waiter"
          ],
          [
           "doctor"
          ],
          [
           "prosecutor"
          ],
          [
           "manager"
          ],
          [
           "pathologist"
          ],
          [
           "chef"
          ],
          [
           "director"
          ],
          [
           "professor"
          ],
          [
           "gardener"
          ],
          [
           "engineer"
          ],
          [
           "architect"
          ],
          [
           "lifeguard"
          ],
          [
           "CEO"
          ],
          [
           "police officer"
          ],
          [
           "programmer"
          ],
          [
           "farmer"
          ],
          [
           "worker"
          ],
          [
           "pilot"
          ],
          [
           "soldier"
          ],
          [
           "security guard"
          ],
          [
           "firefighter"
          ]
         ],
         "hovertemplate": "Occupation: %{x}<br>English: %{customdata[0]}<br>Mean (Male): %{y:.2f}<extra></extra>",
         "marker": {
          "color": "#9eb9f3"
         },
         "name": "Male",
         "type": "bar",
         "x": [
          "kozmetikus",
          "<b>nővér+</b>",
          "házvezető",
          "légiutas-kísérő",
          "takarító",
          "<b>modell+</b>",
          "pénztáros",
          "fodrász",
          "gondozó",
          "HR-es",
          "bolti eladó",
          "dietetikus",
          "recepciós",
          "könyvelő",
          "ápoló",
          "PR munkatárs",
          "jegyárus",
          "felszolgáló",
          "diák",
          "tanár",
          "bíró",
          "titkár",
          "tudós",
          "pincér",
          "orvos",
          "ügyész",
          "menedzser",
          "kórboncnok",
          "szakács",
          "rendező",
          "professzor",
          "kertész",
          "mérnök",
          "építész",
          "vízimentő",
          "vezérigazgató",
          "<b>rendőr*</b>",
          "programozó",
          "földműves",
          "munkás",
          "pilóta",
          "<b>katona*</b>",
          "biztonsági őr",
          "tűzoltó"
         ],
         "y": {
          "bdata": "o4suuuiiA0BddNFFF10EQKOLLrroovs/o4suuuii+z/poosuuujyP9FFF1100fU/XXTRRRdd9D8XXXTRRRftP1100UUXXfQ/dNFFF1108T8AAAAAAADwP1100UUXXeQ/RhdddNFF5z9ddNFFF13kP3TRRRdddOE/F1100UUX3T8XXXTRRRfdP0YXXXTRRbc/AAAAAAAAAABGF1100UW3v0YXXXTRRce/dNFFF1100b9GF1100UXXv3TRRRdddOG/XXTRRRdd5L9ddNFFF13kv0YXXXTRRee/AAAAAAAA8L8XXXTRRRftvxdddNFFF+2/dNFFF1108b8AAAAAAADwv9FFF1100fW/RhdddNFF979GF1100UX3v3TRRRdddPG/o4suuuii+78vuuiiiy76v6OLLrroovu/L7rooosu+r8vuuiiiy76v3TRRRdddAHAAAAAAAAAAMB00UUXXXQBwA==",
          "dtype": "f8"
         }
        },
        {
         "customdata": [
          [
           "beautician"
          ],
          [
           "nurse (sister)"
          ],
          [
           "housekeeper"
          ],
          [
           "flight attendant"
          ],
          [
           "cleaner"
          ],
          [
           "model"
          ],
          [
           "cashier"
          ],
          [
           "hairdresser"
          ],
          [
           "caregiver"
          ],
          [
           "HR personnel"
          ],
          [
           "shop assistant"
          ],
          [
           "dietitian"
          ],
          [
           "receptionist"
          ],
          [
           "accountant"
          ],
          [
           "nurse"
          ],
          [
           "PR specialist"
          ],
          [
           "ticket seller"
          ],
          [
           "server"
          ],
          [
           "student"
          ],
          [
           "teacher"
          ],
          [
           "judge"
          ],
          [
           "secretary"
          ],
          [
           "scientist"
          ],
          [
           "waiter"
          ],
          [
           "doctor"
          ],
          [
           "prosecutor"
          ],
          [
           "manager"
          ],
          [
           "pathologist"
          ],
          [
           "chef"
          ],
          [
           "director"
          ],
          [
           "professor"
          ],
          [
           "gardener"
          ],
          [
           "engineer"
          ],
          [
           "architect"
          ],
          [
           "lifeguard"
          ],
          [
           "CEO"
          ],
          [
           "police officer"
          ],
          [
           "programmer"
          ],
          [
           "farmer"
          ],
          [
           "worker"
          ],
          [
           "pilot"
          ],
          [
           "soldier"
          ],
          [
           "security guard"
          ],
          [
           "firefighter"
          ]
         ],
         "hovertemplate": "Occupation: %{x}<br>English: %{customdata[0]}<br>Mean (Female): %{y:.2f}<extra></extra>",
         "marker": {
          "color": "#dcb0f2"
         },
         "name": "Female",
         "type": "bar",
         "x": [
          "kozmetikus",
          "<b>nővér+</b>",
          "házvezető",
          "légiutas-kísérő",
          "takarító",
          "<b>modell+</b>",
          "pénztáros",
          "fodrász",
          "gondozó",
          "HR-es",
          "bolti eladó",
          "dietetikus",
          "recepciós",
          "könyvelő",
          "ápoló",
          "PR munkatárs",
          "jegyárus",
          "felszolgáló",
          "diák",
          "tanár",
          "bíró",
          "titkár",
          "tudós",
          "pincér",
          "orvos",
          "ügyész",
          "menedzser",
          "kórboncnok",
          "szakács",
          "rendező",
          "professzor",
          "kertész",
          "mérnök",
          "építész",
          "vízimentő",
          "vezérigazgató",
          "<b>rendőr*</b>",
          "programozó",
          "földműves",
          "munkás",
          "pilóta",
          "<b>katona*</b>",
          "biztonsági őr",
          "tűzoltó"
         ],
         "y": {
          "bdata": "uuiiiy66AECMLrrooov+PxdddNFFF/0/6aKLLrro8j900UUXXXTxP0YXXXTRRec/L7rooosu6j900UUXXXTxP0YXXXTRRec/L7rooosu6j8XXXTRRRftP0YXXXTRRec/XXTRRRdd5D9GF1100UXXP3TRRRdddNE/AAAAAAAAAAAAAAAAAAAAAHTRRRdddNE/AAAAAAAAAABGF1100UW3P0YXXXTRRce/RhdddNFFx78XXXTRRRfdvxdddNFFF92/F1100UUX3b9GF1100UXnv1100UUXXeS/dNFFF1104b8vuuiiiy7qvy+66KKLLuq/RhdddNFF578vuuiiiy7qvwAAAAAAAPC/F1100UUX7b8AAAAAAADwv0YXXXTRRfe/AAAAAAAA8L/poosuuujyv1100UUXXfS/RhdddNFF97+jiy666KL7v7rooosuuvi/jC666KKL/r/poosuuugCwA==",
          "dtype": "f8"
         }
        }
       ],
       "layout": {
        "barmode": "group",
        "font": {
         "color": "black",
         "family": "Times New Roman, serif",
         "size": 16
        },
        "legend": {
         "bgcolor": "rgba(220, 220, 220, 0.25)",
         "orientation": "h",
         "x": 0.5,
         "xanchor": "center",
         "y": 0,
         "yanchor": "bottom"
        },
        "margin": {
         "b": 0,
         "l": 0,
         "r": 0,
         "t": 0
        },
        "template": {
         "data": {
          "bar": [
           {
            "error_x": {
             "color": "#2a3f5f"
            },
            "error_y": {
             "color": "#2a3f5f"
            },
            "marker": {
             "line": {
              "color": "white",
              "width": 0.5
             },
             "pattern": {
              "fillmode": "overlay",
              "size": 10,
              "solidity": 0.2
             }
            },
            "type": "bar"
           }
          ],
          "barpolar": [
           {
            "marker": {
             "line": {
              "color": "white",
              "width": 0.5
             },
             "pattern": {
              "fillmode": "overlay",
              "size": 10,
              "solidity": 0.2
             }
            },
            "type": "barpolar"
           }
          ],
          "carpet": [
           {
            "aaxis": {
             "endlinecolor": "#2a3f5f",
             "gridcolor": "#C8D4E3",
             "linecolor": "#C8D4E3",
             "minorgridcolor": "#C8D4E3",
             "startlinecolor": "#2a3f5f"
            },
            "baxis": {
             "endlinecolor": "#2a3f5f",
             "gridcolor": "#C8D4E3",
             "linecolor": "#C8D4E3",
             "minorgridcolor": "#C8D4E3",
             "startlinecolor": "#2a3f5f"
            },
            "type": "carpet"
           }
          ],
          "choropleth": [
           {
            "colorbar": {
             "outlinewidth": 0,
             "ticks": ""
            },
            "type": "choropleth"
           }
          ],
          "contour": [
           {
            "colorbar": {
             "outlinewidth": 0,
             "ticks": ""
            },
            "colorscale": [
             [
              0,
              "#0d0887"
             ],
             [
              0.1111111111111111,
              "#46039f"
             ],
             [
              0.2222222222222222,
              "#7201a8"
             ],
             [
              0.3333333333333333,
              "#9c179e"
             ],
             [
              0.4444444444444444,
              "#bd3786"
             ],
             [
              0.5555555555555556,
              "#d8576b"
             ],
             [
              0.6666666666666666,
              "#ed7953"
             ],
             [
              0.7777777777777778,
              "#fb9f3a"
             ],
             [
              0.8888888888888888,
              "#fdca26"
             ],
             [
              1,
              "#f0f921"
             ]
            ],
            "type": "contour"
           }
          ],
          "contourcarpet": [
           {
            "colorbar": {
             "outlinewidth": 0,
             "ticks": ""
            },
            "type": "contourcarpet"
           }
          ],
          "heatmap": [
           {
            "colorbar": {
             "outlinewidth": 0,
             "ticks": ""
            },
            "colorscale": [
             [
              0,
              "#0d0887"
             ],
             [
              0.1111111111111111,
              "#46039f"
             ],
             [
              0.2222222222222222,
              "#7201a8"
             ],
             [
              0.3333333333333333,
              "#9c179e"
             ],
             [
              0.4444444444444444,
              "#bd3786"
             ],
             [
              0.5555555555555556,
              "#d8576b"
             ],
             [
              0.6666666666666666,
              "#ed7953"
             ],
             [
              0.7777777777777778,
              "#fb9f3a"
             ],
             [
              0.8888888888888888,
              "#fdca26"
             ],
             [
              1,
              "#f0f921"
             ]
            ],
            "type": "heatmap"
           }
          ],
          "histogram": [
           {
            "marker": {
             "pattern": {
              "fillmode": "overlay",
              "size": 10,
              "solidity": 0.2
             }
            },
            "type": "histogram"
           }
          ],
          "histogram2d": [
           {
            "colorbar": {
             "outlinewidth": 0,
             "ticks": ""
            },
            "colorscale": [
             [
              0,
              "#0d0887"
             ],
             [
              0.1111111111111111,
              "#46039f"
             ],
             [
              0.2222222222222222,
              "#7201a8"
             ],
             [
              0.3333333333333333,
              "#9c179e"
             ],
             [
              0.4444444444444444,
              "#bd3786"
             ],
             [
              0.5555555555555556,
              "#d8576b"
             ],
             [
              0.6666666666666666,
              "#ed7953"
             ],
             [
              0.7777777777777778,
              "#fb9f3a"
             ],
             [
              0.8888888888888888,
              "#fdca26"
             ],
             [
              1,
              "#f0f921"
             ]
            ],
            "type": "histogram2d"
           }
          ],
          "histogram2dcontour": [
           {
            "colorbar": {
             "outlinewidth": 0,
             "ticks": ""
            },
            "colorscale": [
             [
              0,
              "#0d0887"
             ],
             [
              0.1111111111111111,
              "#46039f"
             ],
             [
              0.2222222222222222,
              "#7201a8"
             ],
             [
              0.3333333333333333,
              "#9c179e"
             ],
             [
              0.4444444444444444,
              "#bd3786"
             ],
             [
              0.5555555555555556,
              "#d8576b"
             ],
             [
              0.6666666666666666,
              "#ed7953"
             ],
             [
              0.7777777777777778,
              "#fb9f3a"
             ],
             [
              0.8888888888888888,
              "#fdca26"
             ],
             [
              1,
              "#f0f921"
             ]
            ],
            "type": "histogram2dcontour"
           }
          ],
          "mesh3d": [
           {
            "colorbar": {
             "outlinewidth": 0,
             "ticks": ""
            },
            "type": "mesh3d"
           }
          ],
          "parcoords": [
           {
            "line": {
             "colorbar": {
              "outlinewidth": 0,
              "ticks": ""
             }
            },
            "type": "parcoords"
           }
          ],
          "pie": [
           {
            "automargin": true,
            "type": "pie"
           }
          ],
          "scatter": [
           {
            "fillpattern": {
             "fillmode": "overlay",
             "size": 10,
             "solidity": 0.2
            },
            "type": "scatter"
           }
          ],
          "scatter3d": [
           {
            "line": {
             "colorbar": {
              "outlinewidth": 0,
              "ticks": ""
             }
            },
            "marker": {
             "colorbar": {
              "outlinewidth": 0,
              "ticks": ""
             }
            },
            "type": "scatter3d"
           }
          ],
          "scattercarpet": [
           {
            "marker": {
             "colorbar": {
              "outlinewidth": 0,
              "ticks": ""
             }
            },
            "type": "scattercarpet"
           }
          ],
          "scattergeo": [
           {
            "marker": {
             "colorbar": {
              "outlinewidth": 0,
              "ticks": ""
             }
            },
            "type": "scattergeo"
           }
          ],
          "scattergl": [
           {
            "marker": {
             "colorbar": {
              "outlinewidth": 0,
              "ticks": ""
             }
            },
            "type": "scattergl"
           }
          ],
          "scattermap": [
           {
            "marker": {
             "colorbar": {
              "outlinewidth": 0,
              "ticks": ""
             }
            },
            "type": "scattermap"
           }
          ],
          "scattermapbox": [
           {
            "marker": {
             "colorbar": {
              "outlinewidth": 0,
              "ticks": ""
             }
            },
            "type": "scattermapbox"
           }
          ],
          "scatterpolar": [
           {
            "marker": {
             "colorbar": {
              "outlinewidth": 0,
              "ticks": ""
             }
            },
            "type": "scatterpolar"
           }
          ],
          "scatterpolargl": [
           {
            "marker": {
             "colorbar": {
              "outlinewidth": 0,
              "ticks": ""
             }
            },
            "type": "scatterpolargl"
           }
          ],
          "scatterternary": [
           {
            "marker": {
             "colorbar": {
              "outlinewidth": 0,
              "ticks": ""
             }
            },
            "type": "scatterternary"
           }
          ],
          "surface": [
           {
            "colorbar": {
             "outlinewidth": 0,
             "ticks": ""
            },
            "colorscale": [
             [
              0,
              "#0d0887"
             ],
             [
              0.1111111111111111,
              "#46039f"
             ],
             [
              0.2222222222222222,
              "#7201a8"
             ],
             [
              0.3333333333333333,
              "#9c179e"
             ],
             [
              0.4444444444444444,
              "#bd3786"
             ],
             [
              0.5555555555555556,
              "#d8576b"
             ],
             [
              0.6666666666666666,
              "#ed7953"
             ],
             [
              0.7777777777777778,
              "#fb9f3a"
             ],
             [
              0.8888888888888888,
              "#fdca26"
             ],
             [
              1,
              "#f0f921"
             ]
            ],
            "type": "surface"
           }
          ],
          "table": [
           {
            "cells": {
             "fill": {
              "color": "#EBF0F8"
             },
             "line": {
              "color": "white"
             }
            },
            "header": {
             "fill": {
              "color": "#C8D4E3"
             },
             "line": {
              "color": "white"
             }
            },
            "type": "table"
           }
          ]
         },
         "layout": {
          "annotationdefaults": {
           "arrowcolor": "#2a3f5f",
           "arrowhead": 0,
           "arrowwidth": 1
          },
          "autotypenumbers": "strict",
          "coloraxis": {
           "colorbar": {
            "outlinewidth": 0,
            "ticks": ""
           }
          },
          "colorscale": {
           "diverging": [
            [
             0,
             "#8e0152"
            ],
            [
             0.1,
             "#c51b7d"
            ],
            [
             0.2,
             "#de77ae"
            ],
            [
             0.3,
             "#f1b6da"
            ],
            [
             0.4,
             "#fde0ef"
            ],
            [
             0.5,
             "#f7f7f7"
            ],
            [
             0.6,
             "#e6f5d0"
            ],
            [
             0.7,
             "#b8e186"
            ],
            [
             0.8,
             "#7fbc41"
            ],
            [
             0.9,
             "#4d9221"
            ],
            [
             1,
             "#276419"
            ]
           ],
           "sequential": [
            [
             0,
             "#0d0887"
            ],
            [
             0.1111111111111111,
             "#46039f"
            ],
            [
             0.2222222222222222,
             "#7201a8"
            ],
            [
             0.3333333333333333,
             "#9c179e"
            ],
            [
             0.4444444444444444,
             "#bd3786"
            ],
            [
             0.5555555555555556,
             "#d8576b"
            ],
            [
             0.6666666666666666,
             "#ed7953"
            ],
            [
             0.7777777777777778,
             "#fb9f3a"
            ],
            [
             0.8888888888888888,
             "#fdca26"
            ],
            [
             1,
             "#f0f921"
            ]
           ],
           "sequentialminus": [
            [
             0,
             "#0d0887"
            ],
            [
             0.1111111111111111,
             "#46039f"
            ],
            [
             0.2222222222222222,
             "#7201a8"
            ],
            [
             0.3333333333333333,
             "#9c179e"
            ],
            [
             0.4444444444444444,
             "#bd3786"
            ],
            [
             0.5555555555555556,
             "#d8576b"
            ],
            [
             0.6666666666666666,
             "#ed7953"
            ],
            [
             0.7777777777777778,
             "#fb9f3a"
            ],
            [
             0.8888888888888888,
             "#fdca26"
            ],
            [
             1,
             "#f0f921"
            ]
           ]
          },
          "colorway": [
           "#636efa",
           "#EF553B",
           "#00cc96",
           "#ab63fa",
           "#FFA15A",
           "#19d3f3",
           "#FF6692",
           "#B6E880",
           "#FF97FF",
           "#FECB52"
          ],
          "font": {
           "color": "#2a3f5f"
          },
          "geo": {
           "bgcolor": "white",
           "lakecolor": "white",
           "landcolor": "white",
           "showlakes": true,
           "showland": true,
           "subunitcolor": "#C8D4E3"
          },
          "hoverlabel": {
           "align": "left"
          },
          "hovermode": "closest",
          "mapbox": {
           "style": "light"
          },
          "paper_bgcolor": "white",
          "plot_bgcolor": "white",
          "polar": {
           "angularaxis": {
            "gridcolor": "#EBF0F8",
            "linecolor": "#EBF0F8",
            "ticks": ""
           },
           "bgcolor": "white",
           "radialaxis": {
            "gridcolor": "#EBF0F8",
            "linecolor": "#EBF0F8",
            "ticks": ""
           }
          },
          "scene": {
           "xaxis": {
            "backgroundcolor": "white",
            "gridcolor": "#DFE8F3",
            "gridwidth": 2,
            "linecolor": "#EBF0F8",
            "showbackground": true,
            "ticks": "",
            "zerolinecolor": "#EBF0F8"
           },
           "yaxis": {
            "backgroundcolor": "white",
            "gridcolor": "#DFE8F3",
            "gridwidth": 2,
            "linecolor": "#EBF0F8",
            "showbackground": true,
            "ticks": "",
            "zerolinecolor": "#EBF0F8"
           },
           "zaxis": {
            "backgroundcolor": "white",
            "gridcolor": "#DFE8F3",
            "gridwidth": 2,
            "linecolor": "#EBF0F8",
            "showbackground": true,
            "ticks": "",
            "zerolinecolor": "#EBF0F8"
           }
          },
          "shapedefaults": {
           "line": {
            "color": "#2a3f5f"
           }
          },
          "ternary": {
           "aaxis": {
            "gridcolor": "#DFE8F3",
            "linecolor": "#A2B1C6",
            "ticks": ""
           },
           "baxis": {
            "gridcolor": "#DFE8F3",
            "linecolor": "#A2B1C6",
            "ticks": ""
           },
           "bgcolor": "white",
           "caxis": {
            "gridcolor": "#DFE8F3",
            "linecolor": "#A2B1C6",
            "ticks": ""
           }
          },
          "title": {
           "x": 0.05
          },
          "xaxis": {
           "automargin": true,
           "gridcolor": "#EBF0F8",
           "linecolor": "#EBF0F8",
           "ticks": "",
           "title": {
            "standoff": 15
           },
           "zerolinecolor": "#EBF0F8",
           "zerolinewidth": 2
          },
          "yaxis": {
           "automargin": true,
           "gridcolor": "#EBF0F8",
           "linecolor": "#EBF0F8",
           "ticks": "",
           "title": {
            "standoff": 15
           },
           "zerolinecolor": "#EBF0F8",
           "zerolinewidth": 2
          }
         }
        },
        "xaxis": {
         "tickangle": -45
        },
        "yaxis": {
         "range": [
          -3.1,
          3.1
         ],
         "tickvals": [
          -3,
          -2,
          -1,
          0,
          1,
          2,
          3
         ],
         "title": {
          "text": "Mean Rating (Bias)"
         }
        }
       }
      }
     },
     "metadata": {},
     "output_type": "display_data"
    }
   ],
   "source": [
    "# Add a new column with the mean of the ratings for each participant\n",
    "df_hu['Mean Rating'] = df_hu.iloc[:, 8:].mean(axis=1)\n",
    "\n",
    "# Separate df_hu into male and female datasets based on the Gender column\n",
    "df_hu_male = df_hu[df_hu['Gender'] == 'male']\n",
    "df_hu_female = df_hu[df_hu['Gender'] == 'female']\n",
    "\n",
    "# Show the number of male and female participants\n",
    "print(f\"Number of male participants: {df_hu_male['Participant ID'].nunique()}\")\n",
    "print(f\"Number of female participants: {df_hu_female['Participant ID'].nunique()}\")\n",
    "\n",
    "# Two Sample T-Test between male and female participants for each occupation word\n",
    "results = []\n",
    "for col in rating_columns:\n",
    "    male_ratings = df_hu_male[col].dropna().astype(float)\n",
    "    female_ratings = df_hu_female[col].dropna().astype(float)\n",
    "    # Only test if both groups have at least 2 ratings\n",
    "    if len(male_ratings) > 1 and len(female_ratings) > 1:\n",
    "        t_stat, p_value = stats.ttest_ind(male_ratings, female_ratings, equal_var=False)\n",
    "        mean_male = male_ratings.mean()\n",
    "        mean_female = female_ratings.mean()\n",
    "        # Get English translation from occupations DataFrame\n",
    "        en_translation = occupations.loc[occupations['hu'] == col, 'en'].values\n",
    "        en_translation = en_translation[0] if len(en_translation) > 0 else \"\"\n",
    "        results.append({\n",
    "            'occupation': col,\n",
    "            'mean_male': mean_male,\n",
    "            'mean_female': mean_female,\n",
    "            't_stat': t_stat,\n",
    "            'p_value': p_value,\n",
    "            'significant': p_value < 0.05,\n",
    "            'marg_significant': 0.05 < p_value < 0.1,\n",
    "            'en': en_translation\n",
    "        })\n",
    "\n",
    "# Create a DataFrame from the results\n",
    "df_ttest = pd.DataFrame(results)\n",
    "\n",
    "# Add overall mean rating for sorting\n",
    "df_ttest['overall_mean'] = (df_ttest['mean_male'] + df_ttest['mean_female']) / 2\n",
    "\n",
    "# Sort by overall mean rating\n",
    "df_ttest_sorted = df_ttest.sort_values('overall_mean', ascending=False)\n",
    "\n",
    "# Prepare axis labels: bold for significant\n",
    "def bold_label(row):\n",
    "    occupation = row['occupation']\n",
    "    if row.get('significant'):\n",
    "        occupation = f\"<b>{occupation}*</b>\"\n",
    "    if row.get('marg_significant'):\n",
    "        occupation = f\"<b>{occupation}+</b>\"\n",
    "    return occupation\n",
    "\n",
    "df_ttest_sorted['occupation_label'] = df_ttest_sorted.apply(bold_label, axis=1)\n",
    "\n",
    "# Plot with English translation in hover\n",
    "fig = go.Figure()\n",
    "\n",
    "fig.add_trace(go.Bar(\n",
    "    x=df_ttest_sorted['occupation_label'],\n",
    "    y=df_ttest_sorted['mean_male'],\n",
    "    name='Male',\n",
    "    marker_color=male_color,\n",
    "    customdata=df_ttest_sorted[['en']],\n",
    "    hovertemplate='Occupation: %{x}<br>English: %{customdata[0]}<br>Mean (Male): %{y:.2f}<extra></extra>'\n",
    "))\n",
    "\n",
    "fig.add_trace(go.Bar(\n",
    "    x=df_ttest_sorted['occupation_label'],\n",
    "    y=df_ttest_sorted['mean_female'],\n",
    "    name='Female',\n",
    "    marker_color=female_color,\n",
    "    customdata=df_ttest_sorted[['en']],\n",
    "    hovertemplate='Occupation: %{x}<br>English: %{customdata[0]}<br>Mean (Female): %{y:.2f}<extra></extra>'\n",
    "))\n",
    "\n",
    "fig.update_layout(\n",
    "    barmode='group',\n",
    "    xaxis_tickangle=-45,\n",
    "    yaxis_title='Bias (Male - Female)',\n",
    "    yaxis=dict(\n",
    "        range=[-3.1, 3.1],\n",
    "        tickvals=[-3, -2, -1, 0, 1, 2, 3],\n",
    "        title='Mean Rating (Bias)'\n",
    "    ),\n",
    "    template='plotly_white',\n",
    "    font=dict(family=\"Times New Roman, serif\", size=16, color='black'),\n",
    "    margin=dict(l=0, r=0, t=0, b=0),\n",
    "    legend=dict(\n",
    "        orientation='h',\n",
    "        yanchor='bottom',\n",
    "        y=0,\n",
    "        xanchor='center',\n",
    "        x=0.5,\n",
    "        bgcolor='rgba(220, 220, 220, 0.25)',\n",
    "    )\n",
    ")\n",
    "\n",
    "# Show the plot\n",
    "fig.show()\n",
    "\n",
    "# Save it as HTML and image\n",
    "fig.write_html('occupations_hu_gender.html')\n",
    "fig.write_image('occupations_hu_gender.png', scale=3, width=1000, height=400)"
   ]
  },
  {
   "cell_type": "markdown",
   "id": "c870daa9",
   "metadata": {},
   "source": [
    "#### Biases and biases by"
   ]
  },
  {
   "cell_type": "code",
   "execution_count": 224,
   "id": "ed8b2255",
   "metadata": {},
   "outputs": [],
   "source": [
    "# Add a column 'bias_by' to df_ttest_sorted: 'Male' if abs(mean_male) > abs(mean_female), 'Female' if abs(mean_female) > abs(mean_male), 'Equal' if they are the same\n",
    "df_ttest_sorted['bias_by'] = np.where(\n",
    "    np.abs(df_ttest_sorted['mean_male']) > np.abs(df_ttest_sorted['mean_female']), 'Men',\n",
    "    np.where(np.abs(df_ttest_sorted['mean_male']) < np.abs(df_ttest_sorted['mean_female']), 'Women', 'Equal')\n",
    ")\n",
    "\n",
    "# Add columns that show if the bias is male or female. Add male, if the overall mean is lower than 0, othervise add Female\n",
    "df_ttest_sorted['bias'] = np.where(\n",
    "    df_ttest_sorted['overall_mean'] > 0, 'Female',\n",
    "    np.where(df_ttest_sorted['overall_mean'] < 0, 'Male', 'Equal')\n",
    ")\n",
    "\n",
    "# Calculate mean_difference (mean_male - mean_female), and add its absolute value\n",
    "df_ttest_sorted['mean_difference'] = (df_ttest_sorted['mean_male'] - df_ttest_sorted['mean_female']).abs()\n"
   ]
  },
  {
   "cell_type": "code",
   "execution_count": 225,
   "id": "b3efb5e8",
   "metadata": {},
   "outputs": [],
   "source": [
    "# # Plot\n",
    "# fig = go.Figure()\n",
    "# fig.add_trace(go.Bar(\n",
    "#     x=df_ttest_sorted['occupation'],\n",
    "#     y=df_ttest_sorted['overall_mean'],\n",
    "#     marker_color=df_ttest_sorted['bias_by'].map(color_map),\n",
    "#     customdata=df_ttest_sorted[['mean_difference', 'bias_by']],\n",
    "#     hovertemplate='Occupation: %{x}<br>Overall Mean: %{y:.2f}<br>Mean Diff: %{customdata[0]:.2f}<br>Greater Bias: %{customdata[1]}<extra></extra>'\n",
    "# ))\n",
    "\n",
    "# # Layout\n",
    "# fig.update_layout(\n",
    "#     title='Mean Ratings by Dominantly Biased Group, Sorted by Mean Rating Difference',\n",
    "#     xaxis_title='Occupation (No significance)',\n",
    "#     yaxis_title='Overall Mean Rating',\n",
    "#     xaxis_tickangle=-45,\n",
    "#     template='plotly_white'\n",
    "# )\n",
    "\n",
    "# fig.show()"
   ]
  },
  {
   "cell_type": "markdown",
   "id": "7459c63f",
   "metadata": {},
   "source": [
    "#### Confusion matrix of biases"
   ]
  },
  {
   "cell_type": "code",
   "execution_count": 226,
   "id": "59df16a3",
   "metadata": {},
   "outputs": [
    {
     "data": {
      "application/vnd.plotly.v1+json": {
       "config": {
        "plotlyServerURL": "https://plot.ly"
       },
       "data": [
        {
         "colorscale": [
          [
           0,
           "white"
          ],
          [
           1,
           "#87c55f"
          ]
         ],
         "hovertemplate": "Bias: %{y}<br>Bias By: %{x}<br>Count: %{z}<extra></extra>",
         "text": {
          "bdata": "DgQSBQ==",
          "dtype": "i1",
          "shape": "2, 2"
         },
         "texttemplate": "%{text}",
         "type": "heatmap",
         "x": [
          "Men",
          "Women"
         ],
         "y": [
          "Female",
          "Male"
         ],
         "z": {
          "bdata": "DgQSBQ==",
          "dtype": "i1",
          "shape": "2, 2"
         }
        }
       ],
       "layout": {
        "height": 400,
        "margin": {
         "b": 0,
         "l": 0,
         "r": 0,
         "t": 0
        },
        "template": {
         "data": {
          "bar": [
           {
            "error_x": {
             "color": "#2a3f5f"
            },
            "error_y": {
             "color": "#2a3f5f"
            },
            "marker": {
             "line": {
              "color": "#E5ECF6",
              "width": 0.5
             },
             "pattern": {
              "fillmode": "overlay",
              "size": 10,
              "solidity": 0.2
             }
            },
            "type": "bar"
           }
          ],
          "barpolar": [
           {
            "marker": {
             "line": {
              "color": "#E5ECF6",
              "width": 0.5
             },
             "pattern": {
              "fillmode": "overlay",
              "size": 10,
              "solidity": 0.2
             }
            },
            "type": "barpolar"
           }
          ],
          "carpet": [
           {
            "aaxis": {
             "endlinecolor": "#2a3f5f",
             "gridcolor": "white",
             "linecolor": "white",
             "minorgridcolor": "white",
             "startlinecolor": "#2a3f5f"
            },
            "baxis": {
             "endlinecolor": "#2a3f5f",
             "gridcolor": "white",
             "linecolor": "white",
             "minorgridcolor": "white",
             "startlinecolor": "#2a3f5f"
            },
            "type": "carpet"
           }
          ],
          "choropleth": [
           {
            "colorbar": {
             "outlinewidth": 0,
             "ticks": ""
            },
            "type": "choropleth"
           }
          ],
          "contour": [
           {
            "colorbar": {
             "outlinewidth": 0,
             "ticks": ""
            },
            "colorscale": [
             [
              0,
              "#0d0887"
             ],
             [
              0.1111111111111111,
              "#46039f"
             ],
             [
              0.2222222222222222,
              "#7201a8"
             ],
             [
              0.3333333333333333,
              "#9c179e"
             ],
             [
              0.4444444444444444,
              "#bd3786"
             ],
             [
              0.5555555555555556,
              "#d8576b"
             ],
             [
              0.6666666666666666,
              "#ed7953"
             ],
             [
              0.7777777777777778,
              "#fb9f3a"
             ],
             [
              0.8888888888888888,
              "#fdca26"
             ],
             [
              1,
              "#f0f921"
             ]
            ],
            "type": "contour"
           }
          ],
          "contourcarpet": [
           {
            "colorbar": {
             "outlinewidth": 0,
             "ticks": ""
            },
            "type": "contourcarpet"
           }
          ],
          "heatmap": [
           {
            "colorbar": {
             "outlinewidth": 0,
             "ticks": ""
            },
            "colorscale": [
             [
              0,
              "#0d0887"
             ],
             [
              0.1111111111111111,
              "#46039f"
             ],
             [
              0.2222222222222222,
              "#7201a8"
             ],
             [
              0.3333333333333333,
              "#9c179e"
             ],
             [
              0.4444444444444444,
              "#bd3786"
             ],
             [
              0.5555555555555556,
              "#d8576b"
             ],
             [
              0.6666666666666666,
              "#ed7953"
             ],
             [
              0.7777777777777778,
              "#fb9f3a"
             ],
             [
              0.8888888888888888,
              "#fdca26"
             ],
             [
              1,
              "#f0f921"
             ]
            ],
            "type": "heatmap"
           }
          ],
          "histogram": [
           {
            "marker": {
             "pattern": {
              "fillmode": "overlay",
              "size": 10,
              "solidity": 0.2
             }
            },
            "type": "histogram"
           }
          ],
          "histogram2d": [
           {
            "colorbar": {
             "outlinewidth": 0,
             "ticks": ""
            },
            "colorscale": [
             [
              0,
              "#0d0887"
             ],
             [
              0.1111111111111111,
              "#46039f"
             ],
             [
              0.2222222222222222,
              "#7201a8"
             ],
             [
              0.3333333333333333,
              "#9c179e"
             ],
             [
              0.4444444444444444,
              "#bd3786"
             ],
             [
              0.5555555555555556,
              "#d8576b"
             ],
             [
              0.6666666666666666,
              "#ed7953"
             ],
             [
              0.7777777777777778,
              "#fb9f3a"
             ],
             [
              0.8888888888888888,
              "#fdca26"
             ],
             [
              1,
              "#f0f921"
             ]
            ],
            "type": "histogram2d"
           }
          ],
          "histogram2dcontour": [
           {
            "colorbar": {
             "outlinewidth": 0,
             "ticks": ""
            },
            "colorscale": [
             [
              0,
              "#0d0887"
             ],
             [
              0.1111111111111111,
              "#46039f"
             ],
             [
              0.2222222222222222,
              "#7201a8"
             ],
             [
              0.3333333333333333,
              "#9c179e"
             ],
             [
              0.4444444444444444,
              "#bd3786"
             ],
             [
              0.5555555555555556,
              "#d8576b"
             ],
             [
              0.6666666666666666,
              "#ed7953"
             ],
             [
              0.7777777777777778,
              "#fb9f3a"
             ],
             [
              0.8888888888888888,
              "#fdca26"
             ],
             [
              1,
              "#f0f921"
             ]
            ],
            "type": "histogram2dcontour"
           }
          ],
          "mesh3d": [
           {
            "colorbar": {
             "outlinewidth": 0,
             "ticks": ""
            },
            "type": "mesh3d"
           }
          ],
          "parcoords": [
           {
            "line": {
             "colorbar": {
              "outlinewidth": 0,
              "ticks": ""
             }
            },
            "type": "parcoords"
           }
          ],
          "pie": [
           {
            "automargin": true,
            "type": "pie"
           }
          ],
          "scatter": [
           {
            "fillpattern": {
             "fillmode": "overlay",
             "size": 10,
             "solidity": 0.2
            },
            "type": "scatter"
           }
          ],
          "scatter3d": [
           {
            "line": {
             "colorbar": {
              "outlinewidth": 0,
              "ticks": ""
             }
            },
            "marker": {
             "colorbar": {
              "outlinewidth": 0,
              "ticks": ""
             }
            },
            "type": "scatter3d"
           }
          ],
          "scattercarpet": [
           {
            "marker": {
             "colorbar": {
              "outlinewidth": 0,
              "ticks": ""
             }
            },
            "type": "scattercarpet"
           }
          ],
          "scattergeo": [
           {
            "marker": {
             "colorbar": {
              "outlinewidth": 0,
              "ticks": ""
             }
            },
            "type": "scattergeo"
           }
          ],
          "scattergl": [
           {
            "marker": {
             "colorbar": {
              "outlinewidth": 0,
              "ticks": ""
             }
            },
            "type": "scattergl"
           }
          ],
          "scattermap": [
           {
            "marker": {
             "colorbar": {
              "outlinewidth": 0,
              "ticks": ""
             }
            },
            "type": "scattermap"
           }
          ],
          "scattermapbox": [
           {
            "marker": {
             "colorbar": {
              "outlinewidth": 0,
              "ticks": ""
             }
            },
            "type": "scattermapbox"
           }
          ],
          "scatterpolar": [
           {
            "marker": {
             "colorbar": {
              "outlinewidth": 0,
              "ticks": ""
             }
            },
            "type": "scatterpolar"
           }
          ],
          "scatterpolargl": [
           {
            "marker": {
             "colorbar": {
              "outlinewidth": 0,
              "ticks": ""
             }
            },
            "type": "scatterpolargl"
           }
          ],
          "scatterternary": [
           {
            "marker": {
             "colorbar": {
              "outlinewidth": 0,
              "ticks": ""
             }
            },
            "type": "scatterternary"
           }
          ],
          "surface": [
           {
            "colorbar": {
             "outlinewidth": 0,
             "ticks": ""
            },
            "colorscale": [
             [
              0,
              "#0d0887"
             ],
             [
              0.1111111111111111,
              "#46039f"
             ],
             [
              0.2222222222222222,
              "#7201a8"
             ],
             [
              0.3333333333333333,
              "#9c179e"
             ],
             [
              0.4444444444444444,
              "#bd3786"
             ],
             [
              0.5555555555555556,
              "#d8576b"
             ],
             [
              0.6666666666666666,
              "#ed7953"
             ],
             [
              0.7777777777777778,
              "#fb9f3a"
             ],
             [
              0.8888888888888888,
              "#fdca26"
             ],
             [
              1,
              "#f0f921"
             ]
            ],
            "type": "surface"
           }
          ],
          "table": [
           {
            "cells": {
             "fill": {
              "color": "#EBF0F8"
             },
             "line": {
              "color": "white"
             }
            },
            "header": {
             "fill": {
              "color": "#C8D4E3"
             },
             "line": {
              "color": "white"
             }
            },
            "type": "table"
           }
          ]
         },
         "layout": {
          "annotationdefaults": {
           "arrowcolor": "#2a3f5f",
           "arrowhead": 0,
           "arrowwidth": 1
          },
          "autotypenumbers": "strict",
          "coloraxis": {
           "colorbar": {
            "outlinewidth": 0,
            "ticks": ""
           }
          },
          "colorscale": {
           "diverging": [
            [
             0,
             "#8e0152"
            ],
            [
             0.1,
             "#c51b7d"
            ],
            [
             0.2,
             "#de77ae"
            ],
            [
             0.3,
             "#f1b6da"
            ],
            [
             0.4,
             "#fde0ef"
            ],
            [
             0.5,
             "#f7f7f7"
            ],
            [
             0.6,
             "#e6f5d0"
            ],
            [
             0.7,
             "#b8e186"
            ],
            [
             0.8,
             "#7fbc41"
            ],
            [
             0.9,
             "#4d9221"
            ],
            [
             1,
             "#276419"
            ]
           ],
           "sequential": [
            [
             0,
             "#0d0887"
            ],
            [
             0.1111111111111111,
             "#46039f"
            ],
            [
             0.2222222222222222,
             "#7201a8"
            ],
            [
             0.3333333333333333,
             "#9c179e"
            ],
            [
             0.4444444444444444,
             "#bd3786"
            ],
            [
             0.5555555555555556,
             "#d8576b"
            ],
            [
             0.6666666666666666,
             "#ed7953"
            ],
            [
             0.7777777777777778,
             "#fb9f3a"
            ],
            [
             0.8888888888888888,
             "#fdca26"
            ],
            [
             1,
             "#f0f921"
            ]
           ],
           "sequentialminus": [
            [
             0,
             "#0d0887"
            ],
            [
             0.1111111111111111,
             "#46039f"
            ],
            [
             0.2222222222222222,
             "#7201a8"
            ],
            [
             0.3333333333333333,
             "#9c179e"
            ],
            [
             0.4444444444444444,
             "#bd3786"
            ],
            [
             0.5555555555555556,
             "#d8576b"
            ],
            [
             0.6666666666666666,
             "#ed7953"
            ],
            [
             0.7777777777777778,
             "#fb9f3a"
            ],
            [
             0.8888888888888888,
             "#fdca26"
            ],
            [
             1,
             "#f0f921"
            ]
           ]
          },
          "colorway": [
           "#636efa",
           "#EF553B",
           "#00cc96",
           "#ab63fa",
           "#FFA15A",
           "#19d3f3",
           "#FF6692",
           "#B6E880",
           "#FF97FF",
           "#FECB52"
          ],
          "font": {
           "color": "#2a3f5f"
          },
          "geo": {
           "bgcolor": "white",
           "lakecolor": "white",
           "landcolor": "#E5ECF6",
           "showlakes": true,
           "showland": true,
           "subunitcolor": "white"
          },
          "hoverlabel": {
           "align": "left"
          },
          "hovermode": "closest",
          "mapbox": {
           "style": "light"
          },
          "paper_bgcolor": "white",
          "plot_bgcolor": "#E5ECF6",
          "polar": {
           "angularaxis": {
            "gridcolor": "white",
            "linecolor": "white",
            "ticks": ""
           },
           "bgcolor": "#E5ECF6",
           "radialaxis": {
            "gridcolor": "white",
            "linecolor": "white",
            "ticks": ""
           }
          },
          "scene": {
           "xaxis": {
            "backgroundcolor": "#E5ECF6",
            "gridcolor": "white",
            "gridwidth": 2,
            "linecolor": "white",
            "showbackground": true,
            "ticks": "",
            "zerolinecolor": "white"
           },
           "yaxis": {
            "backgroundcolor": "#E5ECF6",
            "gridcolor": "white",
            "gridwidth": 2,
            "linecolor": "white",
            "showbackground": true,
            "ticks": "",
            "zerolinecolor": "white"
           },
           "zaxis": {
            "backgroundcolor": "#E5ECF6",
            "gridcolor": "white",
            "gridwidth": 2,
            "linecolor": "white",
            "showbackground": true,
            "ticks": "",
            "zerolinecolor": "white"
           }
          },
          "shapedefaults": {
           "line": {
            "color": "#2a3f5f"
           }
          },
          "ternary": {
           "aaxis": {
            "gridcolor": "white",
            "linecolor": "white",
            "ticks": ""
           },
           "baxis": {
            "gridcolor": "white",
            "linecolor": "white",
            "ticks": ""
           },
           "bgcolor": "#E5ECF6",
           "caxis": {
            "gridcolor": "white",
            "linecolor": "white",
            "ticks": ""
           }
          },
          "title": {
           "x": 0.05
          },
          "xaxis": {
           "automargin": true,
           "gridcolor": "white",
           "linecolor": "white",
           "ticks": "",
           "title": {
            "standoff": 15
           },
           "zerolinecolor": "white",
           "zerolinewidth": 2
          },
          "yaxis": {
           "automargin": true,
           "gridcolor": "white",
           "linecolor": "white",
           "ticks": "",
           "title": {
            "standoff": 15
           },
           "zerolinecolor": "white",
           "zerolinewidth": 2
          }
         }
        },
        "title": {
         "text": "Confusion Matrix of Biases"
        },
        "width": 500,
        "xaxis": {
         "title": {
          "text": "Bias By"
         }
        },
        "yaxis": {
         "title": {
          "text": "Bias"
         }
        }
       }
      }
     },
     "metadata": {},
     "output_type": "display_data"
    }
   ],
   "source": [
    "# Count unique values in 'bias' and 'bias_by' columns, ignoring 'Equal'\n",
    "# Create confusion matrix, ignoring 'Equal'\n",
    "conf_matrix_hu = pd.crosstab(\n",
    "    df_ttest_sorted.loc[df_ttest_sorted['bias'] != 'Equal', 'bias'],\n",
    "    df_ttest_sorted.loc[df_ttest_sorted['bias_by'] != 'Equal', 'bias_by']\n",
    ")\n",
    "\n",
    "# Plot confusion matrix with plotly\n",
    "fig = go.Figure(data=go.Heatmap(\n",
    "    z=conf_matrix_hu.values,\n",
    "    x=conf_matrix_hu.columns,\n",
    "    y=conf_matrix_hu.index,\n",
    "    colorscale=hungarian_color_scale,\n",
    "    text=conf_matrix_hu.values,\n",
    "    texttemplate=\"%{text}\",\n",
    "    hovertemplate=\"Bias: %{y}<br>Bias By: %{x}<br>Count: %{z}<extra></extra>\"\n",
    "))\n",
    "\n",
    "fig.update_layout(\n",
    "    margin=dict(l=0, r=0, t=0, b=0),\n",
    "    title=\"Confusion Matrix of Biases\",\n",
    "    xaxis_title=\"Bias By\",\n",
    "    yaxis_title=\"Bias\",\n",
    "    width=500,\n",
    "    height=400\n",
    ")\n",
    "\n",
    "# Show\n",
    "fig.show()\n",
    "\n",
    "# Save confusion matrix as HTML and image\n",
    "# fig.write_html('confusion_matrix_hu.html')\n",
    "# fig.write_image('confusion_matrix_hu.png', scale=3, width=550, height=400)"
   ]
  },
  {
   "cell_type": "markdown",
   "id": "7f6f386b",
   "metadata": {},
   "source": [
    "#### Transpose"
   ]
  },
  {
   "cell_type": "code",
   "execution_count": 227,
   "id": "b40b091a",
   "metadata": {},
   "outputs": [
    {
     "name": "stdout",
     "output_type": "stream",
     "text": [
      "Number of rows: 44\n"
     ]
    },
    {
     "data": {
      "text/html": [
       "<div>\n",
       "<style scoped>\n",
       "    .dataframe tbody tr th:only-of-type {\n",
       "        vertical-align: middle;\n",
       "    }\n",
       "\n",
       "    .dataframe tbody tr th {\n",
       "        vertical-align: top;\n",
       "    }\n",
       "\n",
       "    .dataframe thead th {\n",
       "        text-align: right;\n",
       "    }\n",
       "</style>\n",
       "<table border=\"1\" class=\"dataframe\">\n",
       "  <thead>\n",
       "    <tr style=\"text-align: right;\">\n",
       "      <th></th>\n",
       "      <th>0</th>\n",
       "      <th>1</th>\n",
       "      <th>2</th>\n",
       "      <th>3</th>\n",
       "      <th>4</th>\n",
       "      <th>5</th>\n",
       "      <th>6</th>\n",
       "      <th>7</th>\n",
       "      <th>8</th>\n",
       "      <th>10</th>\n",
       "      <th>...</th>\n",
       "      <th>14</th>\n",
       "      <th>15</th>\n",
       "      <th>16</th>\n",
       "      <th>17</th>\n",
       "      <th>18</th>\n",
       "      <th>19</th>\n",
       "      <th>20</th>\n",
       "      <th>21</th>\n",
       "      <th>22</th>\n",
       "      <th>23</th>\n",
       "    </tr>\n",
       "  </thead>\n",
       "  <tbody>\n",
       "    <tr>\n",
       "      <th>Age</th>\n",
       "      <td>25-35</td>\n",
       "      <td>45-55</td>\n",
       "      <td>25-35</td>\n",
       "      <td>35-45</td>\n",
       "      <td>25-35</td>\n",
       "      <td>25-35</td>\n",
       "      <td>35-45</td>\n",
       "      <td>45-55</td>\n",
       "      <td>25-35</td>\n",
       "      <td>45-55</td>\n",
       "      <td>...</td>\n",
       "      <td>35-45</td>\n",
       "      <td>25-35</td>\n",
       "      <td>45-55</td>\n",
       "      <td>45-55</td>\n",
       "      <td>25-35</td>\n",
       "      <td>25-35</td>\n",
       "      <td>25-35</td>\n",
       "      <td>25-35</td>\n",
       "      <td>25-35</td>\n",
       "      <td>25-35</td>\n",
       "    </tr>\n",
       "    <tr>\n",
       "      <th>Gender</th>\n",
       "      <td>male</td>\n",
       "      <td>male</td>\n",
       "      <td>male</td>\n",
       "      <td>male</td>\n",
       "      <td>male</td>\n",
       "      <td>male</td>\n",
       "      <td>female</td>\n",
       "      <td>female</td>\n",
       "      <td>male</td>\n",
       "      <td>female</td>\n",
       "      <td>...</td>\n",
       "      <td>female</td>\n",
       "      <td>female</td>\n",
       "      <td>female</td>\n",
       "      <td>female</td>\n",
       "      <td>female</td>\n",
       "      <td>female</td>\n",
       "      <td>female</td>\n",
       "      <td>male</td>\n",
       "      <td>male</td>\n",
       "      <td>male</td>\n",
       "    </tr>\n",
       "    <tr>\n",
       "      <th>HR-es</th>\n",
       "      <td>0</td>\n",
       "      <td>1</td>\n",
       "      <td>0</td>\n",
       "      <td>2</td>\n",
       "      <td>0</td>\n",
       "      <td>1</td>\n",
       "      <td>1</td>\n",
       "      <td>1</td>\n",
       "      <td>2</td>\n",
       "      <td>0</td>\n",
       "      <td>...</td>\n",
       "      <td>2</td>\n",
       "      <td>1</td>\n",
       "      <td>0</td>\n",
       "      <td>0</td>\n",
       "      <td>2</td>\n",
       "      <td>1</td>\n",
       "      <td>1</td>\n",
       "      <td>1</td>\n",
       "      <td>1</td>\n",
       "      <td>2</td>\n",
       "    </tr>\n",
       "    <tr>\n",
       "      <th>Mean Rating</th>\n",
       "      <td>-0.204545</td>\n",
       "      <td>-0.25</td>\n",
       "      <td>-0.204545</td>\n",
       "      <td>0.272727</td>\n",
       "      <td>-0.204545</td>\n",
       "      <td>-0.136364</td>\n",
       "      <td>-0.340909</td>\n",
       "      <td>-0.204545</td>\n",
       "      <td>-0.181818</td>\n",
       "      <td>-0.113636</td>\n",
       "      <td>...</td>\n",
       "      <td>-0.068182</td>\n",
       "      <td>-0.25</td>\n",
       "      <td>-0.090909</td>\n",
       "      <td>-0.090909</td>\n",
       "      <td>-0.25</td>\n",
       "      <td>-0.386364</td>\n",
       "      <td>-0.25</td>\n",
       "      <td>-0.272727</td>\n",
       "      <td>-0.272727</td>\n",
       "      <td>-0.386364</td>\n",
       "    </tr>\n",
       "    <tr>\n",
       "      <th>PR munkatárs</th>\n",
       "      <td>0</td>\n",
       "      <td>0</td>\n",
       "      <td>0</td>\n",
       "      <td>1</td>\n",
       "      <td>0</td>\n",
       "      <td>0</td>\n",
       "      <td>1</td>\n",
       "      <td>-1</td>\n",
       "      <td>1</td>\n",
       "      <td>0</td>\n",
       "      <td>...</td>\n",
       "      <td>0</td>\n",
       "      <td>0</td>\n",
       "      <td>0</td>\n",
       "      <td>0</td>\n",
       "      <td>0</td>\n",
       "      <td>0</td>\n",
       "      <td>0</td>\n",
       "      <td>2</td>\n",
       "      <td>0</td>\n",
       "      <td>-1</td>\n",
       "    </tr>\n",
       "  </tbody>\n",
       "</table>\n",
       "<p>5 rows × 22 columns</p>\n",
       "</div>"
      ],
      "text/plain": [
       "                    0      1         2         3         4         5   \\\n",
       "Age              25-35  45-55     25-35     35-45     25-35     25-35   \n",
       "Gender            male   male      male      male      male      male   \n",
       "HR-es                0      1         0         2         0         1   \n",
       "Mean Rating  -0.204545  -0.25 -0.204545  0.272727 -0.204545 -0.136364   \n",
       "PR munkatárs         0      0         0         1         0         0   \n",
       "\n",
       "                    6         7         8         10  ...        14      15  \\\n",
       "Age              35-45     45-55     25-35     45-55  ...     35-45   25-35   \n",
       "Gender          female    female      male    female  ...    female  female   \n",
       "HR-es                1         1         2         0  ...         2       1   \n",
       "Mean Rating  -0.340909 -0.204545 -0.181818 -0.113636  ... -0.068182   -0.25   \n",
       "PR munkatárs         1        -1         1         0  ...         0       0   \n",
       "\n",
       "                    16        17      18        19      20        21  \\\n",
       "Age              45-55     45-55   25-35     25-35   25-35     25-35   \n",
       "Gender          female    female  female    female  female      male   \n",
       "HR-es                0         0       2         1       1         1   \n",
       "Mean Rating  -0.090909 -0.090909   -0.25 -0.386364   -0.25 -0.272727   \n",
       "PR munkatárs         0         0       0         0       0         2   \n",
       "\n",
       "                    22        23  \n",
       "Age              25-35     25-35  \n",
       "Gender            male      male  \n",
       "HR-es                1         2  \n",
       "Mean Rating  -0.272727 -0.386364  \n",
       "PR munkatárs         0        -1  \n",
       "\n",
       "[5 rows x 22 columns]"
      ]
     },
     "execution_count": 227,
     "metadata": {},
     "output_type": "execute_result"
    }
   ],
   "source": [
    "# Transpose results, a prepare a copy with only the ratings\n",
    "df_hu_ratings = df_hu[rating_columns].transpose()\n",
    "df_hu = df_hu.transpose()\n",
    "\n",
    "# Remove rows with index: ID, Start Time, Completion time, Email, Name, Participant ID\n",
    "df_hu = df_hu.drop(['ID', 'Start time', 'Completion time', 'Email', 'Name', 'Participant ID'], axis=0) \n",
    "\n",
    "# Print number of rows\n",
    "print(f\"Number of rows: {len(df_hu_ratings)}\")\n",
    "\n",
    "# Sort by index\n",
    "df_hu = df_hu.sort_index()\n",
    "\n",
    "# Show\n",
    "df_hu.head()"
   ]
  },
  {
   "cell_type": "markdown",
   "id": "b4e09018",
   "metadata": {},
   "source": [
    "#### One Sample T-test"
   ]
  },
  {
   "cell_type": "code",
   "execution_count": 228,
   "id": "4c9bee89",
   "metadata": {},
   "outputs": [
    {
     "name": "stdout",
     "output_type": "stream",
     "text": [
      "               item      mean       std       p_value\n",
      "0            modell  1.045455  0.898532  2.052674e-05\n",
      "1            katona -1.863636  0.710161  4.551072e-11\n",
      "2        kórboncnok -0.772727  0.812510  2.159344e-04\n",
      "3     vezérigazgató -1.272727  0.702500  3.087969e-08\n",
      "4         menedzser -0.681818  0.716231  2.137300e-04\n",
      "5             nővér  2.227273  0.812510  2.018214e-11\n",
      "6           szakács -0.863636  0.710161  1.160885e-05\n",
      "8          könyvelő  0.500000  0.859125  1.255207e-02\n",
      "9        professzor -0.909091  0.867898  7.361950e-05\n",
      "10          építész -1.181818  0.852803  1.934116e-06\n",
      "11            tudós -0.409091  0.590326  3.827670e-03\n",
      "13        pénztáros  1.045455  0.843873  9.089139e-06\n",
      "15           munkás -1.545455  0.911685  9.086047e-08\n",
      "16        vízimentő -1.227273  0.922307  3.434039e-06\n",
      "18          tűzoltó -2.272727  0.767297  4.674128e-12\n",
      "19           mérnök -1.181818  0.795006  6.928206e-07\n",
      "20          rendező -0.863636  0.710161  1.160885e-05\n",
      "21         takarító  1.136364  1.125271  1.118749e-04\n",
      "22            HR-es  0.954545  0.785419  1.170690e-05\n",
      "23        házvezető  1.772727  0.922307  1.152231e-08\n",
      "24  légiutas-kísérő  1.454545  0.800433  2.937820e-08\n",
      "25           pincér -0.500000  0.963624  2.395984e-02\n",
      "26            orvos -0.545455  0.595801  3.216228e-04\n",
      "27          fodrász  1.000000  0.872872  2.494676e-05\n",
      "28        földműves -1.500000  0.740013  4.656911e-09\n",
      "29          gondozó  1.000000  1.069045  2.572497e-04\n",
      "30      bolti eladó  0.954545  0.843873  2.923619e-05\n",
      "31          kertész -0.909091  0.921132  1.445128e-04\n",
      "34       dietetikus  0.681818  0.646335  6.778806e-05\n",
      "36           rendőr -1.363636  0.789542  6.731861e-08\n",
      "37           pilóta -1.681818  0.779888  1.585758e-09\n",
      "38        recepciós  0.681818  0.779888  5.108471e-04\n",
      "39    biztonsági őr -1.954545  0.485727  1.191073e-14\n",
      "40           ügyész -0.681818  0.779888  5.108471e-04\n",
      "41       kozmetikus  2.272727  0.631085  1.066779e-13\n",
      "42       programozó -1.409091  0.734140  1.179686e-08\n",
      "\n",
      "Range of mean ratings where the rating is not significant: -0.22727272727272727 to 0.4090909090909091\n"
     ]
    }
   ],
   "source": [
    "# One Sample T-test with standard deviation\n",
    "results = []\n",
    "\n",
    "for index, row in df_hu_ratings.iterrows():\n",
    "    ratings = row.dropna().astype(float)\n",
    "    t_stat, p_value = stats.ttest_1samp(ratings, popmean=0)\n",
    "    mean_rating = ratings.mean()\n",
    "    std_rating = ratings.std()\n",
    "    results.append({\n",
    "        'item': index,  # item name from index\n",
    "        'mean': mean_rating,\n",
    "        'std': std_rating,\n",
    "        't_stat': t_stat,\n",
    "        'p_value': p_value,\n",
    "        'significant': p_value < 0.05\n",
    "    })\n",
    "\n",
    "df_results = pd.DataFrame(results)\n",
    "\n",
    "# Print significant results\n",
    "print(df_results[df_results['significant']][['item', 'mean', 'std', 'p_value']])\n",
    "\n",
    "# Filter for non-significant ratings\n",
    "not_significant = df_results[~df_results['significant']]\n",
    "\n",
    "# Get the min and max of the mean ratings where not significant\n",
    "mean_min = not_significant['mean'].min()\n",
    "mean_max = not_significant['mean'].max()\n",
    "\n",
    "# Print the range of mean ratings where the rating is not significant\n",
    "print(f\"\\nRange of mean ratings where the rating is not significant: {mean_min} to {mean_max}\")"
   ]
  },
  {
   "cell_type": "code",
   "execution_count": 229,
   "id": "9b91962d",
   "metadata": {},
   "outputs": [
    {
     "data": {
      "application/vnd.plotly.v1+json": {
       "config": {
        "plotlyServerURL": "https://plot.ly"
       },
       "data": [
        {
         "customdata": {
          "bdata": "MKo2jZmOlD3FV2lWEdIKPbHWLoMQBck9Lv6HQz0+Gz7fEo9g4mN4Pt1rNOxTADQ+HRGq2GRVST6+U56KGRJyPsdTdGUSlGA+G07Z5orOzD4cRsmMSD+nPp1ePMR7OcA+n+WKU4VMEz/mmQdXC/EiP3z+2J90WOg+fP7Yn3RY6D55wOb5jU0sP+SymMmWAyw/5MlAyku9QD8AlfSW7xM1PyHTQ4HtiJg/XKu1ezRbbz+GAxo35rSJP9oEDPktxRE/5MlAyku9QD9JsS+RF43oPsxBkKsHqP4+7zayLe/bMD85zFYOmCj6PotWPAobhvU+FaI5yrEP4z5PIPY0zFMdPzgVLRVri18++DPDLnW+SD6IgdE2xDC2PdbkWp3zBj49",
          "dtype": "f8",
          "shape": "36, 1"
         },
         "hovertemplate": "Significance=significant<br>Item=%{x}<br>Mean Rating=%{y}<br>p_value=%{customdata[0]}<extra></extra>",
         "legendgroup": "significant",
         "marker": {
          "color": "crimson",
          "pattern": {
           "shape": ""
          }
         },
         "name": "significant",
         "orientation": "v",
         "showlegend": true,
         "textposition": "auto",
         "type": "bar",
         "x": [
          "tűzoltó",
          "biztonsági őr",
          "katona",
          "pilóta",
          "munkás",
          "földműves",
          "programozó",
          "rendőr",
          "vezérigazgató",
          "vízimentő",
          "mérnök",
          "építész",
          "professzor",
          "kertész",
          "rendező",
          "szakács",
          "kórboncnok",
          "menedzser",
          "ügyész",
          "orvos",
          "pincér",
          "tudós",
          "könyvelő",
          "dietetikus",
          "recepciós",
          "HR-es",
          "bolti eladó",
          "gondozó",
          "fodrász",
          "modell",
          "pénztáros",
          "takarító",
          "légiutas-kísérő",
          "házvezető",
          "nővér",
          "kozmetikus"
         ],
         "xaxis": "x",
         "y": {
          "bdata": "L7rooosuAsBGF1100UX/v9FFF1100f2/6aKLLrro+r+66KKLLrr4vwAAAAAAAPi/jC666KKL9r/RRRdddNH1v1100UUXXfS/o4suuuii87/poosuuujyv+miiy666PK/F1100UUX7b8XXXTRRRftv6OLLrroouu/o4suuuii67+66KKLLrrov9FFF1100eW/0UUXXXTR5b900UUXXXThvwAAAAAAAOC/L7rooosu2r8AAAAAAADgP9FFF1100eU/0UUXXXTR5T+MLrrooovuP4wuuuiii+4/AAAAAAAA8D8AAAAAAADwP7rooosuuvA/uuiiiy668D8vuuiiiy7yP0YXXXTRRfc/XXTRRRdd/D/RRRdddNEBQC+66KKLLgJA",
          "dtype": "f8"
         },
         "yaxis": "y"
        },
        {
         "customdata": {
          "bdata": "mMjK+8xh2T81bPo234C6PwAAAAAAAPh/AAAAAAAA8D/g5L3kqr7EPz4asQAs3MU/PhqxACzcxT8eeHLbprDDPw==",
          "dtype": "f8",
          "shape": "8, 1"
         },
         "hovertemplate": "Significance=not significant<br>Item=%{x}<br>Mean Rating=%{y}<br>p_value=%{customdata[0]}<extra></extra>",
         "legendgroup": "not significant",
         "marker": {
          "color": "lightgray",
          "pattern": {
           "shape": ""
          }
         },
         "name": "not significant",
         "orientation": "v",
         "showlegend": true,
         "textposition": "auto",
         "type": "bar",
         "x": [
          "titkár",
          "bíró",
          "diák",
          "tanár",
          "felszolgáló",
          "jegyárus",
          "PR munkatárs",
          "ápoló"
         ],
         "xaxis": "x",
         "y": {
          "bdata": "F1100UUXzb9GF1100UXHvwAAAAAAAAAAAAAAAAAAAABGF1100UXHPxdddNFFF80/F1100UUXzT8vuuiiiy7aPw==",
          "dtype": "f8"
         },
         "yaxis": "y"
        }
       ],
       "layout": {
        "barmode": "relative",
        "legend": {
         "bgcolor": "rgba(220, 220, 220, 0.25)",
         "orientation": "h",
         "title": {
          "text": "Significance"
         },
         "tracegroupgap": 0,
         "x": 0.5,
         "xanchor": "center",
         "y": 0,
         "yanchor": "bottom"
        },
        "margin": {
         "b": 0,
         "l": 0,
         "r": 0,
         "t": 40
        },
        "template": {
         "data": {
          "bar": [
           {
            "error_x": {
             "color": "#2a3f5f"
            },
            "error_y": {
             "color": "#2a3f5f"
            },
            "marker": {
             "line": {
              "color": "white",
              "width": 0.5
             },
             "pattern": {
              "fillmode": "overlay",
              "size": 10,
              "solidity": 0.2
             }
            },
            "type": "bar"
           }
          ],
          "barpolar": [
           {
            "marker": {
             "line": {
              "color": "white",
              "width": 0.5
             },
             "pattern": {
              "fillmode": "overlay",
              "size": 10,
              "solidity": 0.2
             }
            },
            "type": "barpolar"
           }
          ],
          "carpet": [
           {
            "aaxis": {
             "endlinecolor": "#2a3f5f",
             "gridcolor": "#C8D4E3",
             "linecolor": "#C8D4E3",
             "minorgridcolor": "#C8D4E3",
             "startlinecolor": "#2a3f5f"
            },
            "baxis": {
             "endlinecolor": "#2a3f5f",
             "gridcolor": "#C8D4E3",
             "linecolor": "#C8D4E3",
             "minorgridcolor": "#C8D4E3",
             "startlinecolor": "#2a3f5f"
            },
            "type": "carpet"
           }
          ],
          "choropleth": [
           {
            "colorbar": {
             "outlinewidth": 0,
             "ticks": ""
            },
            "type": "choropleth"
           }
          ],
          "contour": [
           {
            "colorbar": {
             "outlinewidth": 0,
             "ticks": ""
            },
            "colorscale": [
             [
              0,
              "#0d0887"
             ],
             [
              0.1111111111111111,
              "#46039f"
             ],
             [
              0.2222222222222222,
              "#7201a8"
             ],
             [
              0.3333333333333333,
              "#9c179e"
             ],
             [
              0.4444444444444444,
              "#bd3786"
             ],
             [
              0.5555555555555556,
              "#d8576b"
             ],
             [
              0.6666666666666666,
              "#ed7953"
             ],
             [
              0.7777777777777778,
              "#fb9f3a"
             ],
             [
              0.8888888888888888,
              "#fdca26"
             ],
             [
              1,
              "#f0f921"
             ]
            ],
            "type": "contour"
           }
          ],
          "contourcarpet": [
           {
            "colorbar": {
             "outlinewidth": 0,
             "ticks": ""
            },
            "type": "contourcarpet"
           }
          ],
          "heatmap": [
           {
            "colorbar": {
             "outlinewidth": 0,
             "ticks": ""
            },
            "colorscale": [
             [
              0,
              "#0d0887"
             ],
             [
              0.1111111111111111,
              "#46039f"
             ],
             [
              0.2222222222222222,
              "#7201a8"
             ],
             [
              0.3333333333333333,
              "#9c179e"
             ],
             [
              0.4444444444444444,
              "#bd3786"
             ],
             [
              0.5555555555555556,
              "#d8576b"
             ],
             [
              0.6666666666666666,
              "#ed7953"
             ],
             [
              0.7777777777777778,
              "#fb9f3a"
             ],
             [
              0.8888888888888888,
              "#fdca26"
             ],
             [
              1,
              "#f0f921"
             ]
            ],
            "type": "heatmap"
           }
          ],
          "histogram": [
           {
            "marker": {
             "pattern": {
              "fillmode": "overlay",
              "size": 10,
              "solidity": 0.2
             }
            },
            "type": "histogram"
           }
          ],
          "histogram2d": [
           {
            "colorbar": {
             "outlinewidth": 0,
             "ticks": ""
            },
            "colorscale": [
             [
              0,
              "#0d0887"
             ],
             [
              0.1111111111111111,
              "#46039f"
             ],
             [
              0.2222222222222222,
              "#7201a8"
             ],
             [
              0.3333333333333333,
              "#9c179e"
             ],
             [
              0.4444444444444444,
              "#bd3786"
             ],
             [
              0.5555555555555556,
              "#d8576b"
             ],
             [
              0.6666666666666666,
              "#ed7953"
             ],
             [
              0.7777777777777778,
              "#fb9f3a"
             ],
             [
              0.8888888888888888,
              "#fdca26"
             ],
             [
              1,
              "#f0f921"
             ]
            ],
            "type": "histogram2d"
           }
          ],
          "histogram2dcontour": [
           {
            "colorbar": {
             "outlinewidth": 0,
             "ticks": ""
            },
            "colorscale": [
             [
              0,
              "#0d0887"
             ],
             [
              0.1111111111111111,
              "#46039f"
             ],
             [
              0.2222222222222222,
              "#7201a8"
             ],
             [
              0.3333333333333333,
              "#9c179e"
             ],
             [
              0.4444444444444444,
              "#bd3786"
             ],
             [
              0.5555555555555556,
              "#d8576b"
             ],
             [
              0.6666666666666666,
              "#ed7953"
             ],
             [
              0.7777777777777778,
              "#fb9f3a"
             ],
             [
              0.8888888888888888,
              "#fdca26"
             ],
             [
              1,
              "#f0f921"
             ]
            ],
            "type": "histogram2dcontour"
           }
          ],
          "mesh3d": [
           {
            "colorbar": {
             "outlinewidth": 0,
             "ticks": ""
            },
            "type": "mesh3d"
           }
          ],
          "parcoords": [
           {
            "line": {
             "colorbar": {
              "outlinewidth": 0,
              "ticks": ""
             }
            },
            "type": "parcoords"
           }
          ],
          "pie": [
           {
            "automargin": true,
            "type": "pie"
           }
          ],
          "scatter": [
           {
            "fillpattern": {
             "fillmode": "overlay",
             "size": 10,
             "solidity": 0.2
            },
            "type": "scatter"
           }
          ],
          "scatter3d": [
           {
            "line": {
             "colorbar": {
              "outlinewidth": 0,
              "ticks": ""
             }
            },
            "marker": {
             "colorbar": {
              "outlinewidth": 0,
              "ticks": ""
             }
            },
            "type": "scatter3d"
           }
          ],
          "scattercarpet": [
           {
            "marker": {
             "colorbar": {
              "outlinewidth": 0,
              "ticks": ""
             }
            },
            "type": "scattercarpet"
           }
          ],
          "scattergeo": [
           {
            "marker": {
             "colorbar": {
              "outlinewidth": 0,
              "ticks": ""
             }
            },
            "type": "scattergeo"
           }
          ],
          "scattergl": [
           {
            "marker": {
             "colorbar": {
              "outlinewidth": 0,
              "ticks": ""
             }
            },
            "type": "scattergl"
           }
          ],
          "scattermap": [
           {
            "marker": {
             "colorbar": {
              "outlinewidth": 0,
              "ticks": ""
             }
            },
            "type": "scattermap"
           }
          ],
          "scattermapbox": [
           {
            "marker": {
             "colorbar": {
              "outlinewidth": 0,
              "ticks": ""
             }
            },
            "type": "scattermapbox"
           }
          ],
          "scatterpolar": [
           {
            "marker": {
             "colorbar": {
              "outlinewidth": 0,
              "ticks": ""
             }
            },
            "type": "scatterpolar"
           }
          ],
          "scatterpolargl": [
           {
            "marker": {
             "colorbar": {
              "outlinewidth": 0,
              "ticks": ""
             }
            },
            "type": "scatterpolargl"
           }
          ],
          "scatterternary": [
           {
            "marker": {
             "colorbar": {
              "outlinewidth": 0,
              "ticks": ""
             }
            },
            "type": "scatterternary"
           }
          ],
          "surface": [
           {
            "colorbar": {
             "outlinewidth": 0,
             "ticks": ""
            },
            "colorscale": [
             [
              0,
              "#0d0887"
             ],
             [
              0.1111111111111111,
              "#46039f"
             ],
             [
              0.2222222222222222,
              "#7201a8"
             ],
             [
              0.3333333333333333,
              "#9c179e"
             ],
             [
              0.4444444444444444,
              "#bd3786"
             ],
             [
              0.5555555555555556,
              "#d8576b"
             ],
             [
              0.6666666666666666,
              "#ed7953"
             ],
             [
              0.7777777777777778,
              "#fb9f3a"
             ],
             [
              0.8888888888888888,
              "#fdca26"
             ],
             [
              1,
              "#f0f921"
             ]
            ],
            "type": "surface"
           }
          ],
          "table": [
           {
            "cells": {
             "fill": {
              "color": "#EBF0F8"
             },
             "line": {
              "color": "white"
             }
            },
            "header": {
             "fill": {
              "color": "#C8D4E3"
             },
             "line": {
              "color": "white"
             }
            },
            "type": "table"
           }
          ]
         },
         "layout": {
          "annotationdefaults": {
           "arrowcolor": "#2a3f5f",
           "arrowhead": 0,
           "arrowwidth": 1
          },
          "autotypenumbers": "strict",
          "coloraxis": {
           "colorbar": {
            "outlinewidth": 0,
            "ticks": ""
           }
          },
          "colorscale": {
           "diverging": [
            [
             0,
             "#8e0152"
            ],
            [
             0.1,
             "#c51b7d"
            ],
            [
             0.2,
             "#de77ae"
            ],
            [
             0.3,
             "#f1b6da"
            ],
            [
             0.4,
             "#fde0ef"
            ],
            [
             0.5,
             "#f7f7f7"
            ],
            [
             0.6,
             "#e6f5d0"
            ],
            [
             0.7,
             "#b8e186"
            ],
            [
             0.8,
             "#7fbc41"
            ],
            [
             0.9,
             "#4d9221"
            ],
            [
             1,
             "#276419"
            ]
           ],
           "sequential": [
            [
             0,
             "#0d0887"
            ],
            [
             0.1111111111111111,
             "#46039f"
            ],
            [
             0.2222222222222222,
             "#7201a8"
            ],
            [
             0.3333333333333333,
             "#9c179e"
            ],
            [
             0.4444444444444444,
             "#bd3786"
            ],
            [
             0.5555555555555556,
             "#d8576b"
            ],
            [
             0.6666666666666666,
             "#ed7953"
            ],
            [
             0.7777777777777778,
             "#fb9f3a"
            ],
            [
             0.8888888888888888,
             "#fdca26"
            ],
            [
             1,
             "#f0f921"
            ]
           ],
           "sequentialminus": [
            [
             0,
             "#0d0887"
            ],
            [
             0.1111111111111111,
             "#46039f"
            ],
            [
             0.2222222222222222,
             "#7201a8"
            ],
            [
             0.3333333333333333,
             "#9c179e"
            ],
            [
             0.4444444444444444,
             "#bd3786"
            ],
            [
             0.5555555555555556,
             "#d8576b"
            ],
            [
             0.6666666666666666,
             "#ed7953"
            ],
            [
             0.7777777777777778,
             "#fb9f3a"
            ],
            [
             0.8888888888888888,
             "#fdca26"
            ],
            [
             1,
             "#f0f921"
            ]
           ]
          },
          "colorway": [
           "#636efa",
           "#EF553B",
           "#00cc96",
           "#ab63fa",
           "#FFA15A",
           "#19d3f3",
           "#FF6692",
           "#B6E880",
           "#FF97FF",
           "#FECB52"
          ],
          "font": {
           "color": "#2a3f5f"
          },
          "geo": {
           "bgcolor": "white",
           "lakecolor": "white",
           "landcolor": "white",
           "showlakes": true,
           "showland": true,
           "subunitcolor": "#C8D4E3"
          },
          "hoverlabel": {
           "align": "left"
          },
          "hovermode": "closest",
          "mapbox": {
           "style": "light"
          },
          "paper_bgcolor": "white",
          "plot_bgcolor": "white",
          "polar": {
           "angularaxis": {
            "gridcolor": "#EBF0F8",
            "linecolor": "#EBF0F8",
            "ticks": ""
           },
           "bgcolor": "white",
           "radialaxis": {
            "gridcolor": "#EBF0F8",
            "linecolor": "#EBF0F8",
            "ticks": ""
           }
          },
          "scene": {
           "xaxis": {
            "backgroundcolor": "white",
            "gridcolor": "#DFE8F3",
            "gridwidth": 2,
            "linecolor": "#EBF0F8",
            "showbackground": true,
            "ticks": "",
            "zerolinecolor": "#EBF0F8"
           },
           "yaxis": {
            "backgroundcolor": "white",
            "gridcolor": "#DFE8F3",
            "gridwidth": 2,
            "linecolor": "#EBF0F8",
            "showbackground": true,
            "ticks": "",
            "zerolinecolor": "#EBF0F8"
           },
           "zaxis": {
            "backgroundcolor": "white",
            "gridcolor": "#DFE8F3",
            "gridwidth": 2,
            "linecolor": "#EBF0F8",
            "showbackground": true,
            "ticks": "",
            "zerolinecolor": "#EBF0F8"
           }
          },
          "shapedefaults": {
           "line": {
            "color": "#2a3f5f"
           }
          },
          "ternary": {
           "aaxis": {
            "gridcolor": "#DFE8F3",
            "linecolor": "#A2B1C6",
            "ticks": ""
           },
           "baxis": {
            "gridcolor": "#DFE8F3",
            "linecolor": "#A2B1C6",
            "ticks": ""
           },
           "bgcolor": "white",
           "caxis": {
            "gridcolor": "#DFE8F3",
            "linecolor": "#A2B1C6",
            "ticks": ""
           }
          },
          "title": {
           "x": 0.05
          },
          "xaxis": {
           "automargin": true,
           "gridcolor": "#EBF0F8",
           "linecolor": "#EBF0F8",
           "ticks": "",
           "title": {
            "standoff": 15
           },
           "zerolinecolor": "#EBF0F8",
           "zerolinewidth": 2
          },
          "yaxis": {
           "automargin": true,
           "gridcolor": "#EBF0F8",
           "linecolor": "#EBF0F8",
           "ticks": "",
           "title": {
            "standoff": 15
           },
           "zerolinecolor": "#EBF0F8",
           "zerolinewidth": 2
          }
         }
        },
        "title": {
         "text": "One Sample T-test of Raw Ratings"
        },
        "xaxis": {
         "anchor": "y",
         "domain": [
          0,
          1
         ],
         "tickangle": -45,
         "title": {
          "text": "Item"
         }
        },
        "yaxis": {
         "anchor": "x",
         "domain": [
          0,
          1
         ],
         "title": {
          "text": "Mean Rating"
         }
        }
       }
      }
     },
     "metadata": {},
     "output_type": "display_data"
    }
   ],
   "source": [
    "# Sort by mean for better readability\n",
    "df_results_sorted = df_results.sort_values(by='mean')\n",
    "\n",
    "# Create color labels\n",
    "df_results_sorted['Significance'] = df_results_sorted['significant'].map({True: 'significant', False: 'not significant'})\n",
    "\n",
    "# Plot\n",
    "fig = px.bar(\n",
    "    df_results_sorted,\n",
    "    x='item',\n",
    "    y='mean',\n",
    "    color='Significance',\n",
    "    color_discrete_map={'significant': 'crimson', 'not significant': 'lightgray'},\n",
    "    title='One Sample T-test of Raw Ratings',\n",
    "    labels={'item': 'Item', 'mean': 'Mean Rating'},\n",
    "    # On hover, Show the item, mean rating, and p-value    \n",
    "    hover_data=['item', 'mean', 'p_value'],\n",
    "    # Edit hovertemplate to show item, mean, and p-value\n",
    "    \n",
    ")\n",
    "\n",
    "fig.update_layout(\n",
    "    xaxis_tickangle=-45,\n",
    "    template='plotly_white',\n",
    "    margin=dict(l=0, r=0, t=40, b=0),\n",
    "    legend=dict(\n",
    "        orientation='h',\n",
    "        yanchor='bottom',\n",
    "        y=0,\n",
    "        xanchor='center',\n",
    "        x=0.5,\n",
    "        bgcolor='rgba(220, 220, 220, 0.25)',\n",
    "    )\n",
    ")\n",
    "\n",
    "# Show\n",
    "fig.show()\n",
    "\n",
    "# # Save it as html\n",
    "# fig.write_html('occupations_ttest_hu.html')\n",
    "# fig.write_image('occupations_ttest_hu.png', scale=3, width=1000, height=400)"
   ]
  },
  {
   "cell_type": "markdown",
   "id": "6e10fb07",
   "metadata": {},
   "source": [
    "#### Merge"
   ]
  },
  {
   "cell_type": "code",
   "execution_count": 230,
   "id": "652b7b14",
   "metadata": {},
   "outputs": [
    {
     "data": {
      "text/html": [
       "<div>\n",
       "<style scoped>\n",
       "    .dataframe tbody tr th:only-of-type {\n",
       "        vertical-align: middle;\n",
       "    }\n",
       "\n",
       "    .dataframe tbody tr th {\n",
       "        vertical-align: top;\n",
       "    }\n",
       "\n",
       "    .dataframe thead th {\n",
       "        text-align: right;\n",
       "    }\n",
       "</style>\n",
       "<table border=\"1\" class=\"dataframe\">\n",
       "  <thead>\n",
       "    <tr style=\"text-align: right;\">\n",
       "      <th></th>\n",
       "      <th>hu</th>\n",
       "      <th>en</th>\n",
       "      <th>zh</th>\n",
       "      <th>0</th>\n",
       "      <th>1</th>\n",
       "      <th>2</th>\n",
       "      <th>3</th>\n",
       "      <th>4</th>\n",
       "      <th>5</th>\n",
       "      <th>6</th>\n",
       "      <th>...</th>\n",
       "      <th>chatgpt_zh</th>\n",
       "      <th>chatgpt_zh_std</th>\n",
       "      <th>deepseek_zh</th>\n",
       "      <th>deepseek_zh_std</th>\n",
       "      <th>gemini_zh</th>\n",
       "      <th>gemini_zh_std</th>\n",
       "      <th>mean_hu</th>\n",
       "      <th>std_hu</th>\n",
       "      <th>p_value_hu</th>\n",
       "      <th>significant_hu</th>\n",
       "    </tr>\n",
       "  </thead>\n",
       "  <tbody>\n",
       "    <tr>\n",
       "      <th>5</th>\n",
       "      <td>biztonsági őr</td>\n",
       "      <td>security guard</td>\n",
       "      <td>保安</td>\n",
       "      <td>-2</td>\n",
       "      <td>-2</td>\n",
       "      <td>-2</td>\n",
       "      <td>-2</td>\n",
       "      <td>-1</td>\n",
       "      <td>-2</td>\n",
       "      <td>-2</td>\n",
       "      <td>...</td>\n",
       "      <td>-2.735</td>\n",
       "      <td>0.100139</td>\n",
       "      <td>-2.00</td>\n",
       "      <td>0.235702</td>\n",
       "      <td>-2.408</td>\n",
       "      <td>0.452936</td>\n",
       "      <td>-1.954545</td>\n",
       "      <td>0.485727</td>\n",
       "      <td>1.191073e-14</td>\n",
       "      <td>True</td>\n",
       "    </tr>\n",
       "    <tr>\n",
       "      <th>42</th>\n",
       "      <td>tűzoltó</td>\n",
       "      <td>firefighter</td>\n",
       "      <td>消防员</td>\n",
       "      <td>-2</td>\n",
       "      <td>-3</td>\n",
       "      <td>0</td>\n",
       "      <td>-2</td>\n",
       "      <td>-2</td>\n",
       "      <td>-3</td>\n",
       "      <td>-2</td>\n",
       "      <td>...</td>\n",
       "      <td>-2.855</td>\n",
       "      <td>0.076194</td>\n",
       "      <td>-2.43</td>\n",
       "      <td>0.340098</td>\n",
       "      <td>-3.000</td>\n",
       "      <td>0.000000</td>\n",
       "      <td>-2.272727</td>\n",
       "      <td>0.767297</td>\n",
       "      <td>4.674128e-12</td>\n",
       "      <td>True</td>\n",
       "    </tr>\n",
       "    <tr>\n",
       "      <th>0</th>\n",
       "      <td>Age</td>\n",
       "      <td>NaN</td>\n",
       "      <td>NaN</td>\n",
       "      <td>25-35</td>\n",
       "      <td>45-55</td>\n",
       "      <td>25-35</td>\n",
       "      <td>35-45</td>\n",
       "      <td>25-35</td>\n",
       "      <td>25-35</td>\n",
       "      <td>35-45</td>\n",
       "      <td>...</td>\n",
       "      <td>NaN</td>\n",
       "      <td>NaN</td>\n",
       "      <td>NaN</td>\n",
       "      <td>NaN</td>\n",
       "      <td>NaN</td>\n",
       "      <td>NaN</td>\n",
       "      <td>NaN</td>\n",
       "      <td>NaN</td>\n",
       "      <td>NaN</td>\n",
       "      <td>NaN</td>\n",
       "    </tr>\n",
       "    <tr>\n",
       "      <th>1</th>\n",
       "      <td>Gender</td>\n",
       "      <td>NaN</td>\n",
       "      <td>NaN</td>\n",
       "      <td>male</td>\n",
       "      <td>male</td>\n",
       "      <td>male</td>\n",
       "      <td>male</td>\n",
       "      <td>male</td>\n",
       "      <td>male</td>\n",
       "      <td>female</td>\n",
       "      <td>...</td>\n",
       "      <td>NaN</td>\n",
       "      <td>NaN</td>\n",
       "      <td>NaN</td>\n",
       "      <td>NaN</td>\n",
       "      <td>NaN</td>\n",
       "      <td>NaN</td>\n",
       "      <td>NaN</td>\n",
       "      <td>NaN</td>\n",
       "      <td>NaN</td>\n",
       "      <td>NaN</td>\n",
       "    </tr>\n",
       "    <tr>\n",
       "      <th>3</th>\n",
       "      <td>Mean Rating</td>\n",
       "      <td>NaN</td>\n",
       "      <td>NaN</td>\n",
       "      <td>-0.204545</td>\n",
       "      <td>-0.25</td>\n",
       "      <td>-0.204545</td>\n",
       "      <td>0.272727</td>\n",
       "      <td>-0.204545</td>\n",
       "      <td>-0.136364</td>\n",
       "      <td>-0.340909</td>\n",
       "      <td>...</td>\n",
       "      <td>NaN</td>\n",
       "      <td>NaN</td>\n",
       "      <td>NaN</td>\n",
       "      <td>NaN</td>\n",
       "      <td>NaN</td>\n",
       "      <td>NaN</td>\n",
       "      <td>NaN</td>\n",
       "      <td>NaN</td>\n",
       "      <td>NaN</td>\n",
       "      <td>NaN</td>\n",
       "    </tr>\n",
       "  </tbody>\n",
       "</table>\n",
       "<p>5 rows × 50 columns</p>\n",
       "</div>"
      ],
      "text/plain": [
       "               hu              en   zh         0      1         2         3  \\\n",
       "5   biztonsági őr  security guard   保安        -2     -2        -2        -2   \n",
       "42        tűzoltó     firefighter  消防员        -2     -3         0        -2   \n",
       "0             Age             NaN  NaN     25-35  45-55     25-35     35-45   \n",
       "1          Gender             NaN  NaN      male   male      male      male   \n",
       "3     Mean Rating             NaN  NaN -0.204545  -0.25 -0.204545  0.272727   \n",
       "\n",
       "           4         5         6  ... chatgpt_zh chatgpt_zh_std deepseek_zh  \\\n",
       "5         -1        -2        -2  ...     -2.735       0.100139       -2.00   \n",
       "42        -2        -3        -2  ...     -2.855       0.076194       -2.43   \n",
       "0      25-35     25-35     35-45  ...        NaN            NaN         NaN   \n",
       "1       male      male    female  ...        NaN            NaN         NaN   \n",
       "3  -0.204545 -0.136364 -0.340909  ...        NaN            NaN         NaN   \n",
       "\n",
       "   deepseek_zh_std gemini_zh gemini_zh_std   mean_hu    std_hu    p_value_hu  \\\n",
       "5         0.235702    -2.408      0.452936 -1.954545  0.485727  1.191073e-14   \n",
       "42        0.340098    -3.000      0.000000 -2.272727  0.767297  4.674128e-12   \n",
       "0              NaN       NaN           NaN       NaN       NaN           NaN   \n",
       "1              NaN       NaN           NaN       NaN       NaN           NaN   \n",
       "3              NaN       NaN           NaN       NaN       NaN           NaN   \n",
       "\n",
       "   significant_hu  \n",
       "5            True  \n",
       "42           True  \n",
       "0             NaN  \n",
       "1             NaN  \n",
       "3             NaN  \n",
       "\n",
       "[5 rows x 50 columns]"
      ]
     },
     "execution_count": 230,
     "metadata": {},
     "output_type": "execute_result"
    }
   ],
   "source": [
    "# Turn index column into a column called 'hu'\n",
    "df_hu.reset_index(inplace=True)\n",
    "df_hu.rename(columns={'index': 'hu'}, inplace=True)\n",
    "\n",
    "# Merge df_hu and occupations on the 'hu' column\n",
    "df_hu = pd.merge(df_hu, occupations, on='hu', how='left')\n",
    "\n",
    "# Reorder columns so the dataframe starts with 'hu' 'en', 'zh', and so on\n",
    "df_hu = df_hu[['#', 'hu', 'en', 'zh'] + [col for col in df_hu.columns if col not in ['#', 'hu', 'en' , 'zh']]]\n",
    "\n",
    "# Merge df_hu and df_results on the 'hu' column\n",
    "df_hu = pd.merge(df_hu, df_results, left_on='hu', right_on='item', how='left')\n",
    "\n",
    "# Sort all occupations by their average ratings\n",
    "df_hu = df_hu.sort_values(by='mean', ascending=False)\n",
    "\n",
    "# Drop redundant columns\n",
    "df_hu.drop(columns=['#', 'item', 't_stat'], inplace=True)\n",
    "\n",
    "# Rename the columns for clarity\n",
    "df_hu.rename(columns={'mean': 'mean_hu',\n",
    "                      't_stat': 't_stat_hu',\n",
    "                      'std': 'std_hu',\n",
    "                      'p_value': 'p_value_hu',\n",
    "                      'significant': 'significant_hu'}, inplace=True)\n",
    "\n",
    "\n",
    "# Save df_hu as an Excel file\n",
    "# df_hu.to_excel('occupations_hu.xlsx', index=False)\n",
    "\n",
    "# Show the final DataFrame\n",
    "df_hu.head()\n",
    "\n",
    "#Show\n",
    "df_hu.tail()"
   ]
  },
  {
   "cell_type": "code",
   "execution_count": 231,
   "id": "1ddfc3c0",
   "metadata": {},
   "outputs": [
    {
     "data": {
      "text/html": [
       "<div>\n",
       "<style scoped>\n",
       "    .dataframe tbody tr th:only-of-type {\n",
       "        vertical-align: middle;\n",
       "    }\n",
       "\n",
       "    .dataframe tbody tr th {\n",
       "        vertical-align: top;\n",
       "    }\n",
       "\n",
       "    .dataframe thead th {\n",
       "        text-align: right;\n",
       "    }\n",
       "</style>\n",
       "<table border=\"1\" class=\"dataframe\">\n",
       "  <thead>\n",
       "    <tr style=\"text-align: right;\">\n",
       "      <th></th>\n",
       "      <th>1</th>\n",
       "      <th>2</th>\n",
       "      <th>3</th>\n",
       "      <th>4</th>\n",
       "      <th>5</th>\n",
       "      <th>6</th>\n",
       "      <th>7</th>\n",
       "      <th>8</th>\n",
       "      <th>10</th>\n",
       "      <th>11</th>\n",
       "      <th>...</th>\n",
       "      <th>copilot_hu</th>\n",
       "      <th>copilot_hu_std</th>\n",
       "      <th>chatgpt_hu</th>\n",
       "      <th>chatgpt_hu_std</th>\n",
       "      <th>deepseek_hu</th>\n",
       "      <th>deepseek_hu_std</th>\n",
       "      <th>gemini_hu</th>\n",
       "      <th>gemini_hu_std</th>\n",
       "      <th>lechat_zh</th>\n",
       "      <th>lechat_zh_std</th>\n",
       "    </tr>\n",
       "  </thead>\n",
       "  <tbody>\n",
       "    <tr>\n",
       "      <th>9</th>\n",
       "      <td>0</td>\n",
       "      <td>0</td>\n",
       "      <td>0</td>\n",
       "      <td>0</td>\n",
       "      <td>0</td>\n",
       "      <td>0</td>\n",
       "      <td>0</td>\n",
       "      <td>0</td>\n",
       "      <td>0</td>\n",
       "      <td>0</td>\n",
       "      <td>...</td>\n",
       "      <td>0.0</td>\n",
       "      <td>0.0</td>\n",
       "      <td>0.0</td>\n",
       "      <td>0.0</td>\n",
       "      <td>0.0</td>\n",
       "      <td>0.0</td>\n",
       "      <td>-0.001</td>\n",
       "      <td>0.003162</td>\n",
       "      <td>0.0</td>\n",
       "      <td>0.0</td>\n",
       "    </tr>\n",
       "  </tbody>\n",
       "</table>\n",
       "<p>1 rows × 34 columns</p>\n",
       "</div>"
      ],
      "text/plain": [
       "   1  2  3  4  5  6  7  8 10 11  ... copilot_hu copilot_hu_std chatgpt_hu  \\\n",
       "9  0  0  0  0  0  0  0  0  0  0  ...        0.0            0.0        0.0   \n",
       "\n",
       "  chatgpt_hu_std deepseek_hu deepseek_hu_std gemini_hu gemini_hu_std  \\\n",
       "9            0.0         0.0             0.0    -0.001      0.003162   \n",
       "\n",
       "  lechat_zh lechat_zh_std  \n",
       "9       0.0           0.0  \n",
       "\n",
       "[1 rows x 34 columns]"
      ]
     },
     "execution_count": 231,
     "metadata": {},
     "output_type": "execute_result"
    }
   ],
   "source": [
    "# Show only rating rows for teacher\n",
    "df_hu[df_hu['en'] == 'student'].iloc[:, 4:-12]"
   ]
  },
  {
   "cell_type": "code",
   "execution_count": 232,
   "id": "39521c48",
   "metadata": {},
   "outputs": [
    {
     "name": "stdout",
     "output_type": "stream",
     "text": [
      "Duplicate rows in 'hu' column:\n",
      "                 hu                    en   zh\n",
      "21  légiutas-kísérő      flight attendant  乘务员\n",
      "22  légiutas-kísérő  flight attendant (2)  空服员\n",
      "DataFrame after removing duplicates:\n",
      "                 hu                en   zh\n",
      "18       kozmetikus        beautician  美容师\n",
      "27            nővér    nurse (sister)   护士\n",
      "14        házvezető       housekeeper  家政员\n",
      "21  légiutas-kísérő  flight attendant  乘务员\n",
      "38         takarító           cleaner   保洁\n",
      "24           modell             model   模特\n",
      "33        pénztáros           cashier  收银员\n",
      "11          fodrász       hairdresser  理发师\n",
      "13          gondozó         caregiver   护工\n",
      "6       bolti eladó    shop assistant  导购员\n",
      "2             HR-es      HR personnel   人事\n",
      "8        dietetikus         dietitian  营养师\n",
      "34        recepciós      receptionist   前台\n",
      "20         könyvelő        accountant   会计\n",
      "45            ápoló             nurse   护士\n",
      "15         jegyárus     ticket seller  售票员\n",
      "4      PR munkatárs     PR specialist   公关\n",
      "10      felszolgáló            server  服务员\n",
      "39            tanár           teacher   教师\n",
      "9              diák           student   学生\n",
      "7              bíró             judge   法官\n",
      "40           titkár         secretary   秘书\n",
      "41            tudós         scientist  科学家\n",
      "30           pincér            waiter  服务员\n",
      "28            orvos            doctor   医生\n",
      "23        menedzser           manager   高管\n",
      "47           ügyész        prosecutor  检察官\n",
      "19       kórboncnok       pathologist   法医\n",
      "35          rendező          director   导演\n",
      "37          szakács              chef   厨师\n",
      "17          kertész          gardener   园丁\n",
      "31       professzor         professor   教授\n",
      "46          építész         architect  建筑师\n",
      "26           mérnök          engineer  工程师\n",
      "44        vízimentő         lifeguard  救生员\n",
      "43    vezérigazgató               CEO  董事长\n",
      "36           rendőr    police officer   警察\n",
      "32       programozó        programmer  程序员\n",
      "12        földműves            farmer   农民\n",
      "25           munkás            worker   工人\n",
      "29           pilóta             pilot  飞行员\n",
      "16           katona           soldier   军人\n",
      "5     biztonsági őr    security guard   保安\n",
      "42          tűzoltó       firefighter  消防员\n",
      "0               Age               NaN  NaN\n",
      "1            Gender               NaN  NaN\n",
      "3       Mean Rating               NaN  NaN\n"
     ]
    }
   ],
   "source": [
    "# Find duplicate values in the 'hu' column\n",
    "duplicates = df_hu['hu'][df_hu['hu'].duplicated(keep=False)]\n",
    "\n",
    "# Show duplicate rows\n",
    "duplicate_rows = df_hu[df_hu['hu'].isin(duplicates)]\n",
    "print(\"Duplicate rows in 'hu' column:\")\n",
    "print(duplicate_rows[['hu', 'en', 'zh']])\n",
    "\n",
    "# # If there are duplicates, append (2) to the second and further occurrences\n",
    "# if not duplicates.empty:\n",
    "#     # Create a counter for each zh value\n",
    "#     zh_counts = {}\n",
    "#     def append_suffix(zh):\n",
    "#         count = zh_counts.get(zh, 0) + 1\n",
    "#         zh_counts[zh] = count\n",
    "#         if count > 1:\n",
    "#             return f\"{zh}(2)\"\n",
    "#         return zh\n",
    "#     df_zh['zh'] = df_zh['zh'].apply(append_suffix)\n",
    "\n",
    "# df_hu\n",
    "\n",
    "# If there are duplicates, remove the second one\n",
    "if not duplicates.empty:\n",
    "    # Create a mask for duplicates\n",
    "    mask = df_hu.duplicated(subset=['hu'], keep='first')\n",
    "    # Keep only the first occurrence of each duplicate\n",
    "    df_hu = df_hu[~mask]\n",
    "# Show the DataFrame after removing duplicates\n",
    "print(\"DataFrame after removing duplicates:\")\n",
    "print(df_hu[['hu', 'en', 'zh']])"
   ]
  },
  {
   "cell_type": "code",
   "execution_count": 233,
   "id": "08a7a2d3",
   "metadata": {},
   "outputs": [
    {
     "name": "stdout",
     "output_type": "stream",
     "text": [
      "               hu              en    std_hu\n",
      "9            diák         student  0.000000\n",
      "5   biztonsági őr  security guard  0.485727\n",
      "7            bíró           judge  0.501081\n",
      "10    felszolgáló          server  0.588490\n",
      "41          tudós       scientist  0.590326\n"
     ]
    }
   ],
   "source": [
    "# Get the top 5 words with the smallest standard deviation from df_hu\n",
    "top_smallest_std = df_hu.nsmallest(5, 'std_hu')[['hu', 'en', 'std_hu']]\n",
    "print(top_smallest_std)"
   ]
  },
  {
   "cell_type": "markdown",
   "id": "5879fd7d",
   "metadata": {},
   "source": [
    "#### Plot"
   ]
  },
  {
   "cell_type": "code",
   "execution_count": 234,
   "id": "c8bf8af8",
   "metadata": {},
   "outputs": [
    {
     "data": {
      "application/vnd.plotly.v1+json": {
       "config": {
        "plotlyServerURL": "https://plot.ly"
       },
       "data": [
        {
         "customdata": [
          [
           "beautician",
           "美容师"
          ],
          [
           "nurse (sister)",
           "护士"
          ],
          [
           "housekeeper",
           "家政员"
          ],
          [
           "flight attendant",
           "乘务员"
          ],
          [
           "cleaner",
           "保洁"
          ],
          [
           "model",
           "模特"
          ],
          [
           "cashier",
           "收银员"
          ],
          [
           "hairdresser",
           "理发师"
          ],
          [
           "caregiver",
           "护工"
          ],
          [
           "shop assistant",
           "导购员"
          ],
          [
           "HR personnel",
           "人事"
          ],
          [
           "dietitian",
           "营养师"
          ],
          [
           "receptionist",
           "前台"
          ],
          [
           "accountant",
           "会计"
          ]
         ],
         "error_y": {
          "array": {
           "bdata": "rmn8Xtkx5D+HYcjSFQDqPx6wYACJg+0/2/tmNiWd6T+owOirGwHyP9nTj6jFwOw/rCD5agEB6z84nPtWkO7rPyokYOXOGvE/rCD5agEB6z+hC+EsJyLpP9gz5bbGruQ/zDFgbtf06D+DtHER833rPw==",
           "dtype": "f8"
          },
          "thickness": 0.75,
          "type": "data"
         },
         "hovertemplate": "Hungarian: %{x}<br>Mean Rating: %{y:.2f}<br>Standard Deviation: %{error_y.array:.2f}<br>English: %{customdata[0]}<br>Chinese: %{customdata[1]}<extra></extra>",
         "marker": {
          "color": "#dcb0f2"
         },
         "name": "Female",
         "type": "bar",
         "x": [
          "kozmetikus",
          "nővér",
          "házvezető",
          "légiutas-kísérő",
          "takarító",
          "modell",
          "pénztáros",
          "fodrász",
          "gondozó",
          "bolti eladó",
          "HR-es",
          "dietetikus",
          "recepciós",
          "könyvelő"
         ],
         "y": {
          "bdata": "L7rooosuAkDRRRdddNEBQF100UUXXfw/RhdddNFF9z8vuuiiiy7yP7rooosuuvA/uuiiiy668D8AAAAAAADwPwAAAAAAAPA/jC666KKL7j+MLrrooovuP9FFF1100eU/0UUXXXTR5T8AAAAAAADgPw==",
          "dtype": "f8"
         }
        },
        {
         "customdata": [
          [
           "nurse",
           "护士"
          ],
          [
           "ticket seller",
           "售票员"
          ],
          [
           "PR specialist",
           "公关"
          ],
          [
           "server",
           "服务员"
          ],
          [
           "teacher",
           "教师"
          ],
          [
           "student",
           "学生"
          ],
          [
           "judge",
           "法官"
          ],
          [
           "secretary",
           "秘书"
          ]
         ],
         "error_y": {
          "array": {
           "bdata": "Wxz2FOW/9D+wzX7KSA3oP7DNfspIDeg/2/H6vejU4j+QqabAY2DwPwAAAAAAAAAAdd6pMdsI4D9Q6gVwbbXzPw==",
           "dtype": "f8"
          },
          "thickness": 0.75,
          "type": "data"
         },
         "hovertemplate": "Hungarian: %{x}<br>Mean Rating: %{y:.2f}<br>Standard Deviation: %{error_y.array:.2f}<br>English: %{customdata[0]}<br>Chinese: %{customdata[1]}<extra></extra>",
         "marker": {
          "color": "#b3b3b3"
         },
         "name": "Neutral",
         "type": "bar",
         "x": [
          "ápoló",
          "jegyárus",
          "PR munkatárs",
          "felszolgáló",
          "tanár",
          "diák",
          "bíró",
          "titkár"
         ],
         "y": {
          "bdata": "L7rooosu2j8XXXTRRRfNPxdddNFFF80/RhdddNFFxz8AAAAAAAAAAAAAAAAAAAAARhdddNFFx78XXXTRRRfNvw==",
          "dtype": "f8"
         }
        },
        {
         "customdata": [
          [
           "scientist",
           "科学家"
          ],
          [
           "waiter",
           "服务员"
          ],
          [
           "doctor",
           "医生"
          ],
          [
           "manager",
           "高管"
          ],
          [
           "prosecutor",
           "检察官"
          ],
          [
           "pathologist",
           "法医"
          ],
          [
           "director",
           "导演"
          ],
          [
           "chef",
           "厨师"
          ],
          [
           "gardener",
           "园丁"
          ],
          [
           "professor",
           "教授"
          ],
          [
           "architect",
           "建筑师"
          ],
          [
           "engineer",
           "工程师"
          ],
          [
           "lifeguard",
           "救生员"
          ],
          [
           "CEO",
           "董事长"
          ],
          [
           "police officer",
           "警察"
          ],
          [
           "programmer",
           "程序员"
          ],
          [
           "farmer",
           "农民"
          ],
          [
           "worker",
           "工人"
          ],
          [
           "pilot",
           "飞行员"
          ],
          [
           "soldier",
           "军人"
          ],
          [
           "security guard",
           "保安"
          ],
          [
           "firefighter",
           "消防员"
          ]
         ],
         "error_y": {
          "array": {
           "bdata": "GQFJdvPj4j+i26Y7AtbuP7IQgGvMEOM/Kj7/hF3r5j/MMWBu1/ToP4dhyNIVAOo/xFk2F6S55j/DWTYXpLnmPxSPIpnqee0/MdaDzdHF6z9RlR08KUrrP5E5VIuwcOk/HrBgAImD7T8YNLqk4XrmP6R61KftQ+k/RGhHdBJ+5z+g/1p4L67nP4Zt7TSFLO0/yzFgbtf06D/EWTYXpLnmP1EZLsYmFt8/Kz8RTrKN6D8=",
           "dtype": "f8"
          },
          "thickness": 0.75,
          "type": "data"
         },
         "hovertemplate": "Hungarian: %{x}<br>Mean Rating: %{y:.2f}<br>Standard Deviation: %{error_y.array:.2f}<br>English: %{customdata[0]}<br>Chinese: %{customdata[1]}<extra></extra>",
         "marker": {
          "color": "#9eb9f3"
         },
         "name": "Male",
         "type": "bar",
         "x": [
          "tudós",
          "pincér",
          "orvos",
          "menedzser",
          "ügyész",
          "kórboncnok",
          "rendező",
          "szakács",
          "kertész",
          "professzor",
          "építész",
          "mérnök",
          "vízimentő",
          "vezérigazgató",
          "rendőr",
          "programozó",
          "földműves",
          "munkás",
          "pilóta",
          "katona",
          "biztonsági őr",
          "tűzoltó"
         ],
         "y": {
          "bdata": "L7rooosu2r8AAAAAAADgv3TRRRdddOG/0UUXXXTR5b/RRRdddNHlv7rooosuuui/o4suuuii67+jiy666KLrvxdddNFFF+2/F1100UUX7b/poosuuujyv+miiy666PK/o4suuuii879ddNFFF130v9FFF1100fW/jC666KKL9r8AAAAAAAD4v7rooosuuvi/6aKLLrro+r/RRRdddNH9v0YXXXTRRf+/L7rooosuAsA=",
          "dtype": "f8"
         }
        }
       ],
       "layout": {
        "font": {
         "color": "black",
         "family": "Times New Roman, serif",
         "size": 16
        },
        "legend": {
         "bgcolor": "rgba(220, 220, 220, 0.25)",
         "orientation": "h",
         "x": 0.5,
         "xanchor": "center",
         "y": 0,
         "yanchor": "bottom"
        },
        "margin": {
         "b": 0,
         "l": 0,
         "r": 0,
         "t": 0
        },
        "template": {
         "data": {
          "bar": [
           {
            "error_x": {
             "color": "#2a3f5f"
            },
            "error_y": {
             "color": "#2a3f5f"
            },
            "marker": {
             "line": {
              "color": "white",
              "width": 0.5
             },
             "pattern": {
              "fillmode": "overlay",
              "size": 10,
              "solidity": 0.2
             }
            },
            "type": "bar"
           }
          ],
          "barpolar": [
           {
            "marker": {
             "line": {
              "color": "white",
              "width": 0.5
             },
             "pattern": {
              "fillmode": "overlay",
              "size": 10,
              "solidity": 0.2
             }
            },
            "type": "barpolar"
           }
          ],
          "carpet": [
           {
            "aaxis": {
             "endlinecolor": "#2a3f5f",
             "gridcolor": "#C8D4E3",
             "linecolor": "#C8D4E3",
             "minorgridcolor": "#C8D4E3",
             "startlinecolor": "#2a3f5f"
            },
            "baxis": {
             "endlinecolor": "#2a3f5f",
             "gridcolor": "#C8D4E3",
             "linecolor": "#C8D4E3",
             "minorgridcolor": "#C8D4E3",
             "startlinecolor": "#2a3f5f"
            },
            "type": "carpet"
           }
          ],
          "choropleth": [
           {
            "colorbar": {
             "outlinewidth": 0,
             "ticks": ""
            },
            "type": "choropleth"
           }
          ],
          "contour": [
           {
            "colorbar": {
             "outlinewidth": 0,
             "ticks": ""
            },
            "colorscale": [
             [
              0,
              "#0d0887"
             ],
             [
              0.1111111111111111,
              "#46039f"
             ],
             [
              0.2222222222222222,
              "#7201a8"
             ],
             [
              0.3333333333333333,
              "#9c179e"
             ],
             [
              0.4444444444444444,
              "#bd3786"
             ],
             [
              0.5555555555555556,
              "#d8576b"
             ],
             [
              0.6666666666666666,
              "#ed7953"
             ],
             [
              0.7777777777777778,
              "#fb9f3a"
             ],
             [
              0.8888888888888888,
              "#fdca26"
             ],
             [
              1,
              "#f0f921"
             ]
            ],
            "type": "contour"
           }
          ],
          "contourcarpet": [
           {
            "colorbar": {
             "outlinewidth": 0,
             "ticks": ""
            },
            "type": "contourcarpet"
           }
          ],
          "heatmap": [
           {
            "colorbar": {
             "outlinewidth": 0,
             "ticks": ""
            },
            "colorscale": [
             [
              0,
              "#0d0887"
             ],
             [
              0.1111111111111111,
              "#46039f"
             ],
             [
              0.2222222222222222,
              "#7201a8"
             ],
             [
              0.3333333333333333,
              "#9c179e"
             ],
             [
              0.4444444444444444,
              "#bd3786"
             ],
             [
              0.5555555555555556,
              "#d8576b"
             ],
             [
              0.6666666666666666,
              "#ed7953"
             ],
             [
              0.7777777777777778,
              "#fb9f3a"
             ],
             [
              0.8888888888888888,
              "#fdca26"
             ],
             [
              1,
              "#f0f921"
             ]
            ],
            "type": "heatmap"
           }
          ],
          "histogram": [
           {
            "marker": {
             "pattern": {
              "fillmode": "overlay",
              "size": 10,
              "solidity": 0.2
             }
            },
            "type": "histogram"
           }
          ],
          "histogram2d": [
           {
            "colorbar": {
             "outlinewidth": 0,
             "ticks": ""
            },
            "colorscale": [
             [
              0,
              "#0d0887"
             ],
             [
              0.1111111111111111,
              "#46039f"
             ],
             [
              0.2222222222222222,
              "#7201a8"
             ],
             [
              0.3333333333333333,
              "#9c179e"
             ],
             [
              0.4444444444444444,
              "#bd3786"
             ],
             [
              0.5555555555555556,
              "#d8576b"
             ],
             [
              0.6666666666666666,
              "#ed7953"
             ],
             [
              0.7777777777777778,
              "#fb9f3a"
             ],
             [
              0.8888888888888888,
              "#fdca26"
             ],
             [
              1,
              "#f0f921"
             ]
            ],
            "type": "histogram2d"
           }
          ],
          "histogram2dcontour": [
           {
            "colorbar": {
             "outlinewidth": 0,
             "ticks": ""
            },
            "colorscale": [
             [
              0,
              "#0d0887"
             ],
             [
              0.1111111111111111,
              "#46039f"
             ],
             [
              0.2222222222222222,
              "#7201a8"
             ],
             [
              0.3333333333333333,
              "#9c179e"
             ],
             [
              0.4444444444444444,
              "#bd3786"
             ],
             [
              0.5555555555555556,
              "#d8576b"
             ],
             [
              0.6666666666666666,
              "#ed7953"
             ],
             [
              0.7777777777777778,
              "#fb9f3a"
             ],
             [
              0.8888888888888888,
              "#fdca26"
             ],
             [
              1,
              "#f0f921"
             ]
            ],
            "type": "histogram2dcontour"
           }
          ],
          "mesh3d": [
           {
            "colorbar": {
             "outlinewidth": 0,
             "ticks": ""
            },
            "type": "mesh3d"
           }
          ],
          "parcoords": [
           {
            "line": {
             "colorbar": {
              "outlinewidth": 0,
              "ticks": ""
             }
            },
            "type": "parcoords"
           }
          ],
          "pie": [
           {
            "automargin": true,
            "type": "pie"
           }
          ],
          "scatter": [
           {
            "fillpattern": {
             "fillmode": "overlay",
             "size": 10,
             "solidity": 0.2
            },
            "type": "scatter"
           }
          ],
          "scatter3d": [
           {
            "line": {
             "colorbar": {
              "outlinewidth": 0,
              "ticks": ""
             }
            },
            "marker": {
             "colorbar": {
              "outlinewidth": 0,
              "ticks": ""
             }
            },
            "type": "scatter3d"
           }
          ],
          "scattercarpet": [
           {
            "marker": {
             "colorbar": {
              "outlinewidth": 0,
              "ticks": ""
             }
            },
            "type": "scattercarpet"
           }
          ],
          "scattergeo": [
           {
            "marker": {
             "colorbar": {
              "outlinewidth": 0,
              "ticks": ""
             }
            },
            "type": "scattergeo"
           }
          ],
          "scattergl": [
           {
            "marker": {
             "colorbar": {
              "outlinewidth": 0,
              "ticks": ""
             }
            },
            "type": "scattergl"
           }
          ],
          "scattermap": [
           {
            "marker": {
             "colorbar": {
              "outlinewidth": 0,
              "ticks": ""
             }
            },
            "type": "scattermap"
           }
          ],
          "scattermapbox": [
           {
            "marker": {
             "colorbar": {
              "outlinewidth": 0,
              "ticks": ""
             }
            },
            "type": "scattermapbox"
           }
          ],
          "scatterpolar": [
           {
            "marker": {
             "colorbar": {
              "outlinewidth": 0,
              "ticks": ""
             }
            },
            "type": "scatterpolar"
           }
          ],
          "scatterpolargl": [
           {
            "marker": {
             "colorbar": {
              "outlinewidth": 0,
              "ticks": ""
             }
            },
            "type": "scatterpolargl"
           }
          ],
          "scatterternary": [
           {
            "marker": {
             "colorbar": {
              "outlinewidth": 0,
              "ticks": ""
             }
            },
            "type": "scatterternary"
           }
          ],
          "surface": [
           {
            "colorbar": {
             "outlinewidth": 0,
             "ticks": ""
            },
            "colorscale": [
             [
              0,
              "#0d0887"
             ],
             [
              0.1111111111111111,
              "#46039f"
             ],
             [
              0.2222222222222222,
              "#7201a8"
             ],
             [
              0.3333333333333333,
              "#9c179e"
             ],
             [
              0.4444444444444444,
              "#bd3786"
             ],
             [
              0.5555555555555556,
              "#d8576b"
             ],
             [
              0.6666666666666666,
              "#ed7953"
             ],
             [
              0.7777777777777778,
              "#fb9f3a"
             ],
             [
              0.8888888888888888,
              "#fdca26"
             ],
             [
              1,
              "#f0f921"
             ]
            ],
            "type": "surface"
           }
          ],
          "table": [
           {
            "cells": {
             "fill": {
              "color": "#EBF0F8"
             },
             "line": {
              "color": "white"
             }
            },
            "header": {
             "fill": {
              "color": "#C8D4E3"
             },
             "line": {
              "color": "white"
             }
            },
            "type": "table"
           }
          ]
         },
         "layout": {
          "annotationdefaults": {
           "arrowcolor": "#2a3f5f",
           "arrowhead": 0,
           "arrowwidth": 1
          },
          "autotypenumbers": "strict",
          "coloraxis": {
           "colorbar": {
            "outlinewidth": 0,
            "ticks": ""
           }
          },
          "colorscale": {
           "diverging": [
            [
             0,
             "#8e0152"
            ],
            [
             0.1,
             "#c51b7d"
            ],
            [
             0.2,
             "#de77ae"
            ],
            [
             0.3,
             "#f1b6da"
            ],
            [
             0.4,
             "#fde0ef"
            ],
            [
             0.5,
             "#f7f7f7"
            ],
            [
             0.6,
             "#e6f5d0"
            ],
            [
             0.7,
             "#b8e186"
            ],
            [
             0.8,
             "#7fbc41"
            ],
            [
             0.9,
             "#4d9221"
            ],
            [
             1,
             "#276419"
            ]
           ],
           "sequential": [
            [
             0,
             "#0d0887"
            ],
            [
             0.1111111111111111,
             "#46039f"
            ],
            [
             0.2222222222222222,
             "#7201a8"
            ],
            [
             0.3333333333333333,
             "#9c179e"
            ],
            [
             0.4444444444444444,
             "#bd3786"
            ],
            [
             0.5555555555555556,
             "#d8576b"
            ],
            [
             0.6666666666666666,
             "#ed7953"
            ],
            [
             0.7777777777777778,
             "#fb9f3a"
            ],
            [
             0.8888888888888888,
             "#fdca26"
            ],
            [
             1,
             "#f0f921"
            ]
           ],
           "sequentialminus": [
            [
             0,
             "#0d0887"
            ],
            [
             0.1111111111111111,
             "#46039f"
            ],
            [
             0.2222222222222222,
             "#7201a8"
            ],
            [
             0.3333333333333333,
             "#9c179e"
            ],
            [
             0.4444444444444444,
             "#bd3786"
            ],
            [
             0.5555555555555556,
             "#d8576b"
            ],
            [
             0.6666666666666666,
             "#ed7953"
            ],
            [
             0.7777777777777778,
             "#fb9f3a"
            ],
            [
             0.8888888888888888,
             "#fdca26"
            ],
            [
             1,
             "#f0f921"
            ]
           ]
          },
          "colorway": [
           "#636efa",
           "#EF553B",
           "#00cc96",
           "#ab63fa",
           "#FFA15A",
           "#19d3f3",
           "#FF6692",
           "#B6E880",
           "#FF97FF",
           "#FECB52"
          ],
          "font": {
           "color": "#2a3f5f"
          },
          "geo": {
           "bgcolor": "white",
           "lakecolor": "white",
           "landcolor": "white",
           "showlakes": true,
           "showland": true,
           "subunitcolor": "#C8D4E3"
          },
          "hoverlabel": {
           "align": "left"
          },
          "hovermode": "closest",
          "mapbox": {
           "style": "light"
          },
          "paper_bgcolor": "white",
          "plot_bgcolor": "white",
          "polar": {
           "angularaxis": {
            "gridcolor": "#EBF0F8",
            "linecolor": "#EBF0F8",
            "ticks": ""
           },
           "bgcolor": "white",
           "radialaxis": {
            "gridcolor": "#EBF0F8",
            "linecolor": "#EBF0F8",
            "ticks": ""
           }
          },
          "scene": {
           "xaxis": {
            "backgroundcolor": "white",
            "gridcolor": "#DFE8F3",
            "gridwidth": 2,
            "linecolor": "#EBF0F8",
            "showbackground": true,
            "ticks": "",
            "zerolinecolor": "#EBF0F8"
           },
           "yaxis": {
            "backgroundcolor": "white",
            "gridcolor": "#DFE8F3",
            "gridwidth": 2,
            "linecolor": "#EBF0F8",
            "showbackground": true,
            "ticks": "",
            "zerolinecolor": "#EBF0F8"
           },
           "zaxis": {
            "backgroundcolor": "white",
            "gridcolor": "#DFE8F3",
            "gridwidth": 2,
            "linecolor": "#EBF0F8",
            "showbackground": true,
            "ticks": "",
            "zerolinecolor": "#EBF0F8"
           }
          },
          "shapedefaults": {
           "line": {
            "color": "#2a3f5f"
           }
          },
          "ternary": {
           "aaxis": {
            "gridcolor": "#DFE8F3",
            "linecolor": "#A2B1C6",
            "ticks": ""
           },
           "baxis": {
            "gridcolor": "#DFE8F3",
            "linecolor": "#A2B1C6",
            "ticks": ""
           },
           "bgcolor": "white",
           "caxis": {
            "gridcolor": "#DFE8F3",
            "linecolor": "#A2B1C6",
            "ticks": ""
           }
          },
          "title": {
           "x": 0.05
          },
          "xaxis": {
           "automargin": true,
           "gridcolor": "#EBF0F8",
           "linecolor": "#EBF0F8",
           "ticks": "",
           "title": {
            "standoff": 15
           },
           "zerolinecolor": "#EBF0F8",
           "zerolinewidth": 2
          },
          "yaxis": {
           "automargin": true,
           "gridcolor": "#EBF0F8",
           "linecolor": "#EBF0F8",
           "ticks": "",
           "title": {
            "standoff": 15
           },
           "zerolinecolor": "#EBF0F8",
           "zerolinewidth": 2
          }
         }
        },
        "xaxis": {
         "tickangle": -45,
         "title": {
          "text": ""
         }
        },
        "yaxis": {
         "range": [
          -3.1,
          3.1
         ],
         "tickvals": [
          -3,
          -2,
          -1,
          0,
          1,
          2,
          3
         ],
         "title": {
          "text": "Mean Rating (Bias)"
         }
        }
       }
      }
     },
     "metadata": {},
     "output_type": "display_data"
    }
   ],
   "source": [
    "# Make an explicit copy of the filtered DataFrame\n",
    "df_hu_plot = df_hu[~df_hu['hu'].isin(['Age', 'Gender', 'Mean Rating'])].copy()\n",
    "\n",
    "# Assign the 'bias' column safely\n",
    "df_hu_plot.loc[:, 'bias'] = df_hu_plot['mean_hu'].apply(\n",
    "    lambda x: 'Female' if x > mean_max else ('Male' if x < mean_min else 'Neutral')\n",
    ")\n",
    "\n",
    "color_map = {\n",
    "    'Female': female_color, # '#e377c2', # pinkish\n",
    "    'Male': male_color, # '#1f77b4', # blue\n",
    "    'Neutral': neutral_color # gray\n",
    "}\n",
    "\n",
    "# Sort df_hu_plot by mean value before plotting\n",
    "df_hu_plot_sorted = df_hu_plot.sort_values('mean_hu', ascending=False)\n",
    "\n",
    "df_hu_plot_sorted['label_hu'] = df_hu_plot_sorted.apply(\n",
    "    lambda row: f\"{row['hu']} ({row['en']})\" if pd.notna(row['en']) else row['hu'], axis=1\n",
    ")\n",
    "\n",
    "fig = go.Figure()\n",
    "\n",
    "for bias in ['Female', 'Neutral', 'Male']:\n",
    "    subset = df_hu_plot_sorted[df_hu_plot_sorted['bias'] == bias]\n",
    "    fig.add_trace(go.Bar(\n",
    "        x=subset['hu'],\n",
    "        y=subset['mean_hu'],\n",
    "        error_y=dict(type='data', array=subset['std_hu'], thickness=0.75),\n",
    "        name=bias,\n",
    "        marker_color=color_map[bias],\n",
    "        hovertemplate=(\n",
    "            'Hungarian: %{x}<br>'\n",
    "            'Mean Rating: %{y:.2f}<br>'\n",
    "            'Standard Deviation: %{error_y.array:.2f}<br>'\n",
    "            'English: %{customdata[0]}<br>'\n",
    "            'Chinese: %{customdata[1]}<extra></extra>'\n",
    "        ),\n",
    "        customdata=subset[['en', 'zh']]\n",
    "    ))\n",
    "\n",
    "fig.update_layout(\n",
    "    # title='Mean Rating of Occupational Titles (Gender Bias Highlighted)',\n",
    "    xaxis_title='',\n",
    "    yaxis_title='Mean Rating (Bias)',\n",
    "    yaxis=dict(\n",
    "        range=[-3.1, 3.1],\n",
    "        tickvals=[-3, -2, -1, 0, 1, 2, 3],\n",
    "        title='Mean Rating (Bias)'\n",
    "    ),\n",
    "    xaxis_tickangle=-45,\n",
    "    template='plotly_white',\n",
    "    font = dict(family=\"Times New Roman, serif\", size=16, color='black'),\n",
    "    margin=dict(l=0, r=0, t=0, b=0),\n",
    "    legend=dict(\n",
    "        orientation='h',\n",
    "        yanchor='bottom',\n",
    "        y=0,\n",
    "        xanchor='center',\n",
    "        x=0.5,\n",
    "        bgcolor='rgba(220, 220, 220, 0.25)',\n",
    "    )\n",
    ")\n",
    "\n",
    "fig.show()\n",
    "\n",
    "# Save this as a html and image\n",
    "fig.write_html('occupations_hu.html')\n",
    "fig.write_image('occupations_hu.png', scale=3, width=1000, height=400)\n"
   ]
  },
  {
   "cell_type": "code",
   "execution_count": 235,
   "id": "79924a8a",
   "metadata": {},
   "outputs": [
    {
     "data": {
      "application/vnd.plotly.v1+json": {
       "config": {
        "plotlyServerURL": "https://plot.ly"
       },
       "data": [
        {
         "customdata": [
          [
           "beautician",
           "美容师"
          ],
          [
           "nurse (sister)",
           "护士"
          ],
          [
           "housekeeper",
           "家政员"
          ],
          [
           "flight attendant",
           "乘务员"
          ],
          [
           "cleaner",
           "保洁"
          ],
          [
           "model",
           "模特"
          ],
          [
           "cashier",
           "收银员"
          ],
          [
           "hairdresser",
           "理发师"
          ],
          [
           "caregiver",
           "护工"
          ],
          [
           "shop assistant",
           "导购员"
          ],
          [
           "HR personnel",
           "人事"
          ],
          [
           "dietitian",
           "营养师"
          ],
          [
           "receptionist",
           "前台"
          ],
          [
           "accountant",
           "会计"
          ]
         ],
         "error_y": {
          "array": {
           "bdata": "rmn8Xtkx5D+HYcjSFQDqPx6wYACJg+0/2/tmNiWd6T+owOirGwHyP9nTj6jFwOw/rCD5agEB6z84nPtWkO7rPyokYOXOGvE/rCD5agEB6z+hC+EsJyLpP9gz5bbGruQ/zDFgbtf06D+DtHER833rPw==",
           "dtype": "f8"
          },
          "thickness": 0.75,
          "type": "data",
          "visible": false
         },
         "hovertemplate": "Hungarian: %{x}<br>Mean Rating: %{y:.2f}<br>English: %{customdata[0]}<br>Chinese: %{customdata[1]}<extra></extra>",
         "marker": {
          "color": "#dcb0f2"
         },
         "name": "Female",
         "type": "bar",
         "x": [
          "kozmetikus",
          "nővér",
          "házvezető",
          "légiutas-kísérő",
          "takarító",
          "modell",
          "pénztáros",
          "fodrász",
          "gondozó",
          "bolti eladó",
          "HR-es",
          "dietetikus",
          "recepciós",
          "könyvelő"
         ],
         "y": {
          "bdata": "L7rooosuAkDRRRdddNEBQF100UUXXfw/RhdddNFF9z8vuuiiiy7yP7rooosuuvA/uuiiiy668D8AAAAAAADwPwAAAAAAAPA/jC666KKL7j+MLrrooovuP9FFF1100eU/0UUXXXTR5T8AAAAAAADgPw==",
          "dtype": "f8"
         }
        },
        {
         "customdata": [
          [
           "nurse",
           "护士"
          ],
          [
           "ticket seller",
           "售票员"
          ],
          [
           "PR specialist",
           "公关"
          ],
          [
           "server",
           "服务员"
          ],
          [
           "teacher",
           "教师"
          ],
          [
           "student",
           "学生"
          ],
          [
           "judge",
           "法官"
          ],
          [
           "secretary",
           "秘书"
          ]
         ],
         "error_y": {
          "array": {
           "bdata": "Wxz2FOW/9D+wzX7KSA3oP7DNfspIDeg/2/H6vejU4j+QqabAY2DwPwAAAAAAAAAAdd6pMdsI4D9Q6gVwbbXzPw==",
           "dtype": "f8"
          },
          "thickness": 0.75,
          "type": "data",
          "visible": false
         },
         "hovertemplate": "Hungarian: %{x}<br>Mean Rating: %{y:.2f}<br>English: %{customdata[0]}<br>Chinese: %{customdata[1]}<extra></extra>",
         "marker": {
          "color": "#b3b3b3"
         },
         "name": "Neutral",
         "type": "bar",
         "x": [
          "ápoló",
          "jegyárus",
          "PR munkatárs",
          "felszolgáló",
          "tanár",
          "diák",
          "bíró",
          "titkár"
         ],
         "y": {
          "bdata": "L7rooosu2j8XXXTRRRfNPxdddNFFF80/RhdddNFFxz8AAAAAAAAAAAAAAAAAAAAARhdddNFFx78XXXTRRRfNvw==",
          "dtype": "f8"
         }
        },
        {
         "customdata": [
          [
           "scientist",
           "科学家"
          ],
          [
           "waiter",
           "服务员"
          ],
          [
           "doctor",
           "医生"
          ],
          [
           "manager",
           "高管"
          ],
          [
           "prosecutor",
           "检察官"
          ],
          [
           "pathologist",
           "法医"
          ],
          [
           "director",
           "导演"
          ],
          [
           "chef",
           "厨师"
          ],
          [
           "gardener",
           "园丁"
          ],
          [
           "professor",
           "教授"
          ],
          [
           "architect",
           "建筑师"
          ],
          [
           "engineer",
           "工程师"
          ],
          [
           "lifeguard",
           "救生员"
          ],
          [
           "CEO",
           "董事长"
          ],
          [
           "police officer",
           "警察"
          ],
          [
           "programmer",
           "程序员"
          ],
          [
           "farmer",
           "农民"
          ],
          [
           "worker",
           "工人"
          ],
          [
           "pilot",
           "飞行员"
          ],
          [
           "soldier",
           "军人"
          ],
          [
           "security guard",
           "保安"
          ],
          [
           "firefighter",
           "消防员"
          ]
         ],
         "error_y": {
          "array": {
           "bdata": "GQFJdvPj4j+i26Y7AtbuP7IQgGvMEOM/Kj7/hF3r5j/MMWBu1/ToP4dhyNIVAOo/xFk2F6S55j/DWTYXpLnmPxSPIpnqee0/MdaDzdHF6z9RlR08KUrrP5E5VIuwcOk/HrBgAImD7T8YNLqk4XrmP6R61KftQ+k/RGhHdBJ+5z+g/1p4L67nP4Zt7TSFLO0/yzFgbtf06D/EWTYXpLnmP1EZLsYmFt8/Kz8RTrKN6D8=",
           "dtype": "f8"
          },
          "thickness": 0.75,
          "type": "data",
          "visible": false
         },
         "hovertemplate": "Hungarian: %{x}<br>Mean Rating: %{y:.2f}<br>English: %{customdata[0]}<br>Chinese: %{customdata[1]}<extra></extra>",
         "marker": {
          "color": "#9eb9f3"
         },
         "name": "Male",
         "type": "bar",
         "x": [
          "tudós",
          "pincér",
          "orvos",
          "menedzser",
          "ügyész",
          "kórboncnok",
          "rendező",
          "szakács",
          "kertész",
          "professzor",
          "építész",
          "mérnök",
          "vízimentő",
          "vezérigazgató",
          "rendőr",
          "programozó",
          "földműves",
          "munkás",
          "pilóta",
          "katona",
          "biztonsági őr",
          "tűzoltó"
         ],
         "y": {
          "bdata": "L7rooosu2r8AAAAAAADgv3TRRRdddOG/0UUXXXTR5b/RRRdddNHlv7rooosuuui/o4suuuii67+jiy666KLrvxdddNFFF+2/F1100UUX7b/poosuuujyv+miiy666PK/o4suuuii879ddNFFF130v9FFF1100fW/jC666KKL9r8AAAAAAAD4v7rooosuuvi/6aKLLrro+r/RRRdddNH9v0YXXXTRRf+/L7rooosuAsA=",
          "dtype": "f8"
         }
        },
        {
         "customdata": [
          [
           "beautician",
           0.33747427885527737
          ],
          [
           "nurse (sister)",
           0.21081851067789192
          ],
          [
           "housekeeper",
           0.5868938953886338
          ],
          [
           "flight attendant",
           0.39440531887330754
          ],
          [
           "cleaner",
           0.6146362971528592
          ],
          [
           "model",
           0.7817359599705717
          ],
          [
           "cashier",
           0.9143911149563467
          ],
          [
           "hairdresser",
           0.7071067811865476
          ],
          [
           "caregiver",
           0.4714045207910317
          ],
          [
           "shop assistant",
           0.8834905520465715
          ],
          [
           "HR personnel",
           0.550252467307306
          ],
          [
           "dietitian",
           0.4830458915396481
          ],
          [
           "receptionist",
           0.4743416490252567
          ],
          [
           "accountant",
           0.6258327785172862
          ],
          [
           "nurse",
           1.1606990230986767
          ],
          [
           "ticket seller",
           0.42491829279939874
          ],
          [
           "PR specialist",
           0.4116363011742821
          ],
          [
           "server",
           0.49721446300587663
          ],
          [
           "teacher",
           0.4743416490252569
          ],
          [
           "student",
           0
          ],
          [
           "judge",
           0.6687467549246293
          ],
          [
           "secretary",
           1.165475582469806
          ],
          [
           "scientist",
           0.5296749527356902
          ],
          [
           "waiter",
           0.4972144630058766
          ],
          [
           "doctor",
           0.45946829173634074
          ],
          [
           "manager",
           0.408248290463863
          ],
          [
           "prosecutor",
           0.4743416490252567
          ],
          [
           "pathologist",
           0.9428090415820634
          ],
          [
           "director",
           0.5868938953886336
          ],
          [
           "chef",
           0.3689323936863109
          ],
          [
           "gardener",
           0.5400617248673217
          ],
          [
           "professor",
           0.5163977794943223
          ],
          [
           "architect",
           0.5676462121975466
          ],
          [
           "engineer",
           0.39440531887330754
          ],
          [
           "lifeguard",
           0.31622776601683766
          ],
          [
           "CEO",
           0.4594682917363405
          ],
          [
           "police officer",
           0.43779751788545673
          ],
          [
           "programmer",
           0.31622776601683766
          ],
          [
           "farmer",
           0.5163977794943221
          ],
          [
           "worker",
           0.5892556509887896
          ],
          [
           "pilot",
           0.43779751788545673
          ],
          [
           "soldier",
           0.3496029493900496
          ],
          [
           "security guard",
           0.5986094998689325
          ],
          [
           "firefighter",
           0.3496029493900496
          ]
         ],
         "error_y": {
          "array": {
           "bdata": "qCy7ty2Z1T9oYWDYGfzKP7xR3bTVx+I/xnl7zu892T8cmGa9GavjP9/IxSH7A+k/D7LPJ7FC7T/NO39mnqDmP2b6/t19K94/Kq5r+o1F7D8fGvQPq5vhPyFRqFA56t4/k21sE51b3j/J44920gbkP9NTiyM5kvI/nurCftwx2z/p9NjIP1jaPx1XbZxc0t8/lm1sE51b3j8AAAAAAAAAABqjNphfZuU/7uhvucml8j8HU/DiGPPgPxxXbZxc0t8/2p6jse1n3T8+LAxwvSDaP5NtbBOdW94/Zvr+3X0r7j+6Ud201cfiPzxVVJ2WnNc/QwzEhi9I4T/b9tSiVIbgP5HGomMoKuI/xnl7zu892T8KSUhiEz3UP9aeo7HtZ90//KFl4d8E3D8KSUhiEz3UP9n21KJUhuA/gFy/qi7b4j/8oWXh3wTcPzfJjQzlX9Y/J2IgHM8n4z83yY0M5V/WPw==",
           "dtype": "f8"
          },
          "thickness": 1,
          "type": "data"
         },
         "hovertemplate": "Hungarian: %{x}<br>English: %{customdata[0]}<br>Le Chat: %{y:.2f}<br>STD: %{customdata[1]:.2f}<extra></extra>",
         "line": {
          "color": "#f95010",
          "dash": "dot",
          "width": 2
         },
         "marker": {
          "size": 8,
          "symbol": "star-square"
         },
         "mode": "lines+markers",
         "name": "Le Chat",
         "type": "scatter",
         "x": [
          "kozmetikus",
          "nővér",
          "házvezető",
          "légiutas-kísérő",
          "takarító",
          "modell",
          "pénztáros",
          "fodrász",
          "gondozó",
          "bolti eladó",
          "HR-es",
          "dietetikus",
          "recepciós",
          "könyvelő",
          "ápoló",
          "jegyárus",
          "PR munkatárs",
          "felszolgáló",
          "tanár",
          "diák",
          "bíró",
          "titkár",
          "tudós",
          "pincér",
          "orvos",
          "menedzser",
          "ügyész",
          "kórboncnok",
          "rendező",
          "szakács",
          "kertész",
          "professzor",
          "építész",
          "mérnök",
          "vízimentő",
          "vezérigazgató",
          "rendőr",
          "programozó",
          "földműves",
          "munkás",
          "pilóta",
          "katona",
          "biztonsági őr",
          "tűzoltó"
         ],
         "y": {
          "bdata": "MzMzMzMzBUAzMzMzMzMHQDMzMzMzM/s/ZmZmZmZm/j+amZmZmZnxPwAAAAAAAPA/mpmZmZmZ9T8AAAAAAADwPwAAAAAAAABAMzMzMzMz6z/NzMzMzMz4PzMzMzMzM/s/ZmZmZmZm+j9mZmZmZmbWPwAAAAAAAPQ/AAAAAAAA0D+amZmZmZn1P83MzMzMzNw/ZmZmZmZm1j8AAAAAAAAAADMzMzMzM+u/mpmZmZmZ4T8zMzMzMzPrv83MzMzMzPC/MzMzMzMz478AAAAAAADwv5qZmZmZmfW/AAAAAAAA+L9mZmZmZmbmv5qZmZmZmeG/AAAAAAAA9L/NzMzMzMzsv2ZmZmZmZva/ZmZmZmZm/r9mZmZmZmb+v5qZmZmZmfm/ZmZmZmZmAMBmZmZmZmb+v83MzMzMzADAAAAAAAAAAsBmZmZmZmYAwJqZmZmZmQXAmpmZmZmZA8CamZmZmZkFwA==",
          "dtype": "f8"
         }
        },
        {
         "customdata": [
          [
           "beautician",
           0.24239774476398637
          ],
          [
           "nurse (sister)",
           0
          ],
          [
           "housekeeper",
           1.5899157909217148
          ],
          [
           "flight attendant",
           0.39036877151967514
          ],
          [
           "cleaner",
           0.35685197678215685
          ],
          [
           "model",
           0.4065095324835573
          ],
          [
           "cashier",
           0.24873904219303902
          ],
          [
           "hairdresser",
           0.4132271368952767
          ],
          [
           "caregiver",
           0.3443576951691697
          ],
          [
           "shop assistant",
           0.2520163134049504
          ],
          [
           "HR personnel",
           0.25980548279220156
          ],
          [
           "dietitian",
           0.460001207727883
          ],
          [
           "receptionist",
           0.2402984255739804
          ],
          [
           "accountant",
           0.37786681957183454
          ],
          [
           "nurse",
           1.9770303206802087
          ],
          [
           "ticket seller",
           0.41940301487815906
          ],
          [
           "PR specialist",
           0.3219541030091784
          ],
          [
           "server",
           0.45975355717311583
          ],
          [
           "teacher",
           0.43505938291992613
          ],
          [
           "student",
           0
          ],
          [
           "judge",
           0.45668491447726933
          ],
          [
           "secretary",
           1.30288739174019
          ],
          [
           "scientist",
           0.364087901474356
          ],
          [
           "waiter",
           0.4982814911718522
          ],
          [
           "doctor",
           0.5471187155352015
          ],
          [
           "manager",
           0.23547823678633245
          ],
          [
           "prosecutor",
           0.3815116133371454
          ],
          [
           "pathologist",
           0.31234774068513976
          ],
          [
           "director",
           0.3213322959872615
          ],
          [
           "chef",
           0.32668197243054464
          ],
          [
           "gardener",
           0.27917338300378486
          ],
          [
           "professor",
           0.32313739767748784
          ],
          [
           "architect",
           0.4198200672775051
          ],
          [
           "engineer",
           0.21568753119063494
          ],
          [
           "lifeguard",
           0.4457814611568236
          ],
          [
           "CEO",
           0.32069542490586467
          ],
          [
           "police officer",
           0.30818645150117835
          ],
          [
           "programmer",
           0.2932651435892844
          ],
          [
           "farmer",
           0.3306962352371082
          ],
          [
           "worker",
           0.4767948545583659
          ],
          [
           "pilot",
           0.2757132165453444
          ],
          [
           "soldier",
           0.15311941599795745
          ],
          [
           "security guard",
           0.2092844953645635
          ],
          [
           "firefighter",
           0.21762608095334326
          ]
         ],
         "error_y": {
          "array": {
           "bdata": "TVcxqeMGzz8AAAAAAAAAAJ5xVopLcPk//aDDTM372D9KtXKsqdbWPz3d4Y5ABNo/RY66Ua7Wzz9EPLI7UHLaP04puNv0CdY/834ICAkh0D/rfvosp6DQP+Dz0+eocN0/uG2PSxnCzj/yfRNQ+C7YP6hZqIvqof8/L7Yvvn/X2j8pMs9h5ZrUPwLOES+abN0/pWBdTwPY2z8AAAAAAAAAAFRpEF1TOt0/VVEec6DY9D9+52xXN03XPwNBMg3Y498/XBrIG/+B4T+iYfWeJiTOP3PxlK+vatg/7zfOYIH90z8DfZpVtZDUP64L8oBb6NQ/WY56Cfrd0T8468h6SK7UP3JUyvxU3to/bjNPJqabyz/IOTX3rofcPwykfBpGhtQ/eSSRqlO50z9BdDEq28TSP6o80IogKtU/KqzOkM6D3j84yAgMSaXRPykDDMJqmcM/9EiTl9XJyj/RwjniK9vLPw==",
           "dtype": "f8"
          },
          "thickness": 1,
          "type": "data"
         },
         "hovertemplate": "Hungarian: %{x}<br>English: %{customdata[0]}<br>Copilot: %{y:.2f}<br>STD: %{customdata[1]:.2f}<extra></extra>",
         "line": {
          "color": "#F2AD22",
          "dash": "dot",
          "width": 2
         },
         "marker": {
          "size": 8,
          "symbol": "pentagon"
         },
         "mode": "lines+markers",
         "name": "Copilot",
         "type": "scatter",
         "x": [
          "kozmetikus",
          "nővér",
          "házvezető",
          "légiutas-kísérő",
          "takarító",
          "modell",
          "pénztáros",
          "fodrász",
          "gondozó",
          "bolti eladó",
          "HR-es",
          "dietetikus",
          "recepciós",
          "könyvelő",
          "ápoló",
          "jegyárus",
          "PR munkatárs",
          "felszolgáló",
          "tanár",
          "diák",
          "bíró",
          "titkár",
          "tudós",
          "pincér",
          "orvos",
          "menedzser",
          "ügyész",
          "kórboncnok",
          "rendező",
          "szakács",
          "kertész",
          "professzor",
          "építész",
          "mérnök",
          "vízimentő",
          "vezérigazgató",
          "rendőr",
          "programozó",
          "földműves",
          "munkás",
          "pilóta",
          "katona",
          "biztonsági őr",
          "tűzoltó"
         ],
         "y": {
          "bdata": "OrTIdr6fBUAAAAAAAAAIQEA1XrpJDMI/8/3UeOkmAkAFVg4tsp35P1K4HoXrUfo/yna+nxov+T+lm8QgsHL+Pw0tsp3vp/o/1XjpJjEI9j+oxks3iUHyP9rO91Pjpf0/qMZLN4lB/j9mZmZmZmbqPzAIrBxaZMs/Itv5fmq88j+WbhKDwMrtP0OLbOf7qeE/KocW2c735z8AAAAAAAAAAGZmZmZmZvy/YOXQItv5/r+VQ4ts5/v1v2U730+Nl/6/4noUrkfh7r9I4XoUrkf3vxbZzvdT4/2/uB6F61G4+L9iEFg5tMj4v9Ii2/l+ava/2/l+arx097+rHFpkO9/7v6jGSzeJQfS/KocW2c73AsCmxks3iUH6v2u8dJMYBAPATDeJQWDlA8BKDAIrhxYBwK0cWmQ73wHAPgrXo3A9AMC+nxov3SQEwCPb+X5qvAXAuB6F61G4AsBmZmZmZmYFwA==",
          "dtype": "f8"
         }
        },
        {
         "customdata": [
          [
           "beautician",
           0.02108185106778912
          ],
          [
           "nurse (sister)",
           0.051639777949432246
          ],
          [
           "housekeeper",
           0.2424412872795733
          ],
          [
           "flight attendant",
           0.11167910378500642
          ],
          [
           "cleaner",
           0.23944379994757253
          ],
          [
           "model",
           0.27588242262077983
          ],
          [
           "cashier",
           0.16906606203887764
          ],
          [
           "hairdresser",
           0.18715709384839727
          ],
          [
           "caregiver",
           0.13753787357185163
          ],
          [
           "shop assistant",
           0.19155794017592692
          ],
          [
           "HR personnel",
           0.16799470891138862
          ],
          [
           "dietitian",
           0.1370320319406297
          ],
          [
           "receptionist",
           0.13784048752090228
          ],
          [
           "accountant",
           0.20575065816014673
          ],
          [
           "nurse",
           0.28012893856619436
          ],
          [
           "ticket seller",
           0.20027758514399704
          ],
          [
           "PR specialist",
           0.13834337312964753
          ],
          [
           "server",
           0.19783550967631913
          ],
          [
           "teacher",
           0.12692955176439868
          ],
          [
           "student",
           0
          ],
          [
           "judge",
           0.3062315754094899
          ],
          [
           "secretary",
           0.43461349368017693
          ],
          [
           "scientist",
           0.24726279317537747
          ],
          [
           "waiter",
           0.25083194905487316
          ],
          [
           "doctor",
           0.1766981104093153
          ],
          [
           "manager",
           0.20303256443787948
          ],
          [
           "prosecutor",
           0.20165977949672223
          ],
          [
           "pathologist",
           0.20623880440994696
          ],
          [
           "director",
           0.23243876134968883
          ],
          [
           "chef",
           0.33433183781652803
          ],
          [
           "gardener",
           0.3799122705748437
          ],
          [
           "professor",
           0.15951314818673862
          ],
          [
           "architect",
           0.16873713942763824
          ],
          [
           "engineer",
           0.09660917830792948
          ],
          [
           "lifeguard",
           0.26478502810980525
          ],
          [
           "CEO",
           0.06749485577105523
          ],
          [
           "police officer",
           0.07619419633774978
          ],
          [
           "programmer",
           0.14757295747452434
          ],
          [
           "farmer",
           0.17029386365926397
          ],
          [
           "worker",
           0.05163977794943228
          ],
          [
           "pilot",
           0.10865337342004422
          ],
          [
           "soldier",
           0.023570226039551608
          ],
          [
           "security guard",
           0.19895560643855537
          ],
          [
           "firefighter",
           0.051639777949432204
          ]
         ],
         "error_y": {
          "array": {
           "bdata": "2E2AE3uWlT/HV+5qh3CqP61vCOxQCM8/njdncgCXvD/6nAAtGKbOP9ejrL8OqNE/tAWp6/SjxT/XiaV+w/THPwvreU7XmsE/IiAsePiEyD9GdVbC2YDFP08/2P9DisE/uMX70MGkwT+50vadCVbKPxaFc+2h7dE/f1woJ7KiyT+R5ppTPLXBP1gNBoqsUsk/EK3cQDo/wD8AAAAAAAAAAGu5WFJMmdM/KW1wHbXQ2z+QWRqlTqbPPzjjfnKhDdA/eYu8Lguexj9yUCSY+PzJP/Wx7db8z8k/rq0NfAhmyj+y6iinjcDNP4O/W12xZdU/pfRdjntQ2D/WPF9F7WrEP5gsu7ctmcU/EHRTDWG7uD917gznPPLQP9tWL8ZXR7E/RWdqfXaBsz8vRBCxq+PCP3ohkHcwzMU/zFfuaodwqj8obXAdtdC7P78u/xfLIpg/aDWBl2B3yT/BV+5qh3CqPw==",
           "dtype": "f8"
          },
          "thickness": 1,
          "type": "data"
         },
         "hovertemplate": "Hungarian: %{x}<br>English: %{customdata[0]}<br>ChatGPT: %{y:.2f}<br>STD: %{customdata[1]:.2f}<extra></extra>",
         "line": {
          "color": "#00A67E",
          "dash": "dot",
          "width": 2
         },
         "marker": {
          "size": 8,
          "symbol": "hexagon"
         },
         "mode": "lines+markers",
         "name": "ChatGPT",
         "type": "scatter",
         "x": [
          "kozmetikus",
          "nővér",
          "házvezető",
          "légiutas-kísérő",
          "takarító",
          "modell",
          "pénztáros",
          "fodrász",
          "gondozó",
          "bolti eladó",
          "HR-es",
          "dietetikus",
          "recepciós",
          "könyvelő",
          "ápoló",
          "jegyárus",
          "PR munkatárs",
          "felszolgáló",
          "tanár",
          "diák",
          "bíró",
          "titkár",
          "tudós",
          "pincér",
          "orvos",
          "menedzser",
          "ügyész",
          "kórboncnok",
          "rendező",
          "szakács",
          "kertész",
          "professzor",
          "építész",
          "mérnök",
          "vízimentő",
          "vezérigazgató",
          "rendőr",
          "programozó",
          "földműves",
          "munkás",
          "pilóta",
          "katona",
          "biztonsági őr",
          "tűzoltó"
         ],
         "y": {
          "bdata": "61G4HoXrB0CF61G4HoUHQD4K16NwPf4/CtejcD0KBECuR+F6FK7/PzMzMzMzMwFAhetRuB6F9T/Yo3A9Ctf9P4brUbgehQJA9ihcj8L19j9dj8L1KFz7P4XrUbgehQFAKlyPwvUoAECOwvUoXI/qPzMzMzMzMwBAPgrXo3A96j9H4XoUrkf3P3E9CtejcOE/zczMzMzM5D8AAAAAAAAAANajcD0K1/O/MzMzMzMz9z+OwvUoXI/0vzMzMzMzM/G/1qNwPQrX678VrkfhehT2v7gehetRuPK/JzEIrBxa8r9mZmZmZmb4v7oehetRuPK/16NwPQrX8789CtejcD36v83MzMzMzP6/61G4HoXrAcB7FK5H4Xr8vwvXo3A9CgHAw/UoXI/CBMB7FK5H4Xr8v1yPwvUoXAHAUrgehetRBMDNzMzMzMwDwM7MzMzMzAbAAAAAAAAAA8B7FK5H4XoGwA==",
          "dtype": "f8"
         }
        },
        {
         "customdata": [
          [
           "beautician",
           0.15776212754932314
          ],
          [
           "nurse (sister)",
           0.1732852497409337
          ],
          [
           "housekeeper",
           0.5871068424438984
          ],
          [
           "flight attendant",
           0.3565264521898903
          ],
          [
           "cleaner",
           0.5859702305673139
          ],
          [
           "model",
           0.4999955555358023
          ],
          [
           "cashier",
           0.19137223762430466
          ],
          [
           "hairdresser",
           0.41510507371293637
          ],
          [
           "caregiver",
           0.19810491047815051
          ],
          [
           "shop assistant",
           0.1449137674618944
          ],
          [
           "HR personnel",
           0.28484888781402723
          ],
          [
           "dietitian",
           0.15643600040343086
          ],
          [
           "receptionist",
           0.13954290459289656
          ],
          [
           "accountant",
           0.5826004920469379
          ],
          [
           "nurse",
           0.6746398216003031
          ],
          [
           "ticket seller",
           0.4282379919831703
          ],
          [
           "PR specialist",
           0.25819888974716027
          ],
          [
           "server",
           0.45120209810386913
          ],
          [
           "teacher",
           0.38184493653256113
          ],
          [
           "student",
           0
          ],
          [
           "judge",
           0.2566471854078626
          ],
          [
           "secretary",
           0.865496646119697
          ],
          [
           "scientist",
           0.24404234605221034
          ],
          [
           "waiter",
           0.4590146451306804
          ],
          [
           "doctor",
           0.3816630276391293
          ],
          [
           "manager",
           0.30236291659747794
          ],
          [
           "prosecutor",
           0.3634709219609053
          ],
          [
           "pathologist",
           0.7238976293494668
          ],
          [
           "director",
           0.29664981225531095
          ],
          [
           "chef",
           0.5048652185374716
          ],
          [
           "gardener",
           0.2087662169349566
          ],
          [
           "professor",
           0.1735255344642713
          ],
          [
           "architect",
           0.18880030602611883
          ],
          [
           "engineer",
           0.11979612310551255
          ],
          [
           "lifeguard",
           0.1636391694484477
          ],
          [
           "CEO",
           0.4956432408721247
          ],
          [
           "police officer",
           0.22016408022704845
          ],
          [
           "programmer",
           0.3959517366773106
          ],
          [
           "farmer",
           0.5164246745116322
          ],
          [
           "worker",
           0.11352924243950935
          ],
          [
           "pilot",
           0.16406299603099622
          ],
          [
           "soldier",
           0.033015148038438365
          ],
          [
           "security guard",
           0.147290340635238
          ],
          [
           "firefighter",
           0.0476211904279784
          ]
         ],
         "error_y": {
          "array": {
           "bdata": "o5QvpYwxxD/DHEIINi7GP2O98UmUyeI/jCAUU1TR1j8N6xakRMDiP977ylvt/98/pLf6ruJ+yD/6CwDfFJHaPwEg12+AW8k/E5f+yYiMwj9lpV3U9jrSP/Ar00gYBsQ/bcPOuYrcwT8SNH/JqaTiP05IS0CmluU/PTyeUkBo2z/L9tSiVIbQP2yIz8N+4Nw/JDyjviVw2D8AAAAAAAAAAGL7+1DobNA/kze8BSay6z/hEZGTxzzPPxMqTvZ+YN0/mFpzwypt2D9IzJP96VnTP5+et4obQ9c/CKd2XCsq5z8IEoB+T/zSP+IzUBrbJ+A/VWUf9dm4yj9zwcWvFTbGP0Ox7cGbKsg/Bv/sbvWqvj90FpDYIPLEP9fegW2euN8/ux8qKlYuzD9zs/TzRVfZPzn/+wmNhuA/UNdqn0AQvT+O7DcpBADFP5kEMopc56A/GsQF7mjawj/fMfj+zWGoPw==",
           "dtype": "f8"
          },
          "thickness": 1,
          "type": "data"
         },
         "hovertemplate": "Hungarian: %{x}<br>English: %{customdata[0]}<br>Deepseek: %{y:.2f}<br>STD: %{customdata[1]:.2f}<extra></extra>",
         "line": {
          "color": "#3C5DFF",
          "dash": "dot",
          "width": 2
         },
         "marker": {
          "size": 8,
          "symbol": "circle"
         },
         "mode": "lines+markers",
         "name": "Deepseek",
         "type": "scatter",
         "x": [
          "kozmetikus",
          "nővér",
          "házvezető",
          "légiutas-kísérő",
          "takarító",
          "modell",
          "pénztáros",
          "fodrász",
          "gondozó",
          "bolti eladó",
          "HR-es",
          "dietetikus",
          "recepciós",
          "könyvelő",
          "ápoló",
          "jegyárus",
          "PR munkatárs",
          "felszolgáló",
          "tanár",
          "diák",
          "bíró",
          "titkár",
          "tudós",
          "pincér",
          "orvos",
          "menedzser",
          "ügyész",
          "kórboncnok",
          "rendező",
          "szakács",
          "kertész",
          "professzor",
          "építész",
          "mérnök",
          "vízimentő",
          "vezérigazgató",
          "rendőr",
          "programozó",
          "földműves",
          "munkás",
          "pilóta",
          "katona",
          "biztonsági őr",
          "tűzoltó"
         ],
         "y": {
          "bdata": "61G4HoXrA0BH4XoUrkcGQFuPwvUoXOu/2KNwPQrX/z9zPQrXo3C9v9v5fmq8dKO/CKwcWmQ7/T+yne+nxkvrPzVeukkMAv0/cT0K16Nw+T9yPQrXo3DzP0jhehSuRwBAR+F6FK5HAEByaJHtfD/zP2ZmZmZmZuI/z/dT46Wb4D/OzMzMzMzwP8L1KFyPwuk/jsL1KFyP7j8AAAAAAAAAADeJQWDl0MK/Rrbz/dR48T+sHFpkO9/xvzMzMzMzM/G/CtejcD0K578nMQisHFr2v7oehetRuO6/MjMzMzMz/b+HFtnO91P1vz0K16NwPdq/HoXrUbge3b/Xo3A9Ctfjv0A1XrpJDPy/Di2yne+nAMBcj8L1KFwFwLTIdr6fGgHAMzMzMzMzAsCF61G4HoX7v8L1KFyPwvu/PgrXo3A9BMCkcD0K16MDwMhLN4lBYAbAuR6F61G4BcAkBoGVQ4sHwA==",
          "dtype": "f8"
         }
        },
        {
         "customdata": [
          [
           "beautician",
           0.1805577777641027
          ],
          [
           "nurse (sister)",
           0
          ],
          [
           "housekeeper",
           1.6031413606485934
          ],
          [
           "flight attendant",
           0.3611417081054661
          ],
          [
           "cleaner",
           1.2041599192429184
          ],
          [
           "model",
           0.4234304350579124
          ],
          [
           "cashier",
           0.39052101949404194
          ],
          [
           "hairdresser",
           0.548639732024172
          ],
          [
           "caregiver",
           0.8064386730144669
          ],
          [
           "shop assistant",
           0.33291473716587394
          ],
          [
           "HR personnel",
           0.5106085693670954
          ],
          [
           "dietitian",
           0.5016018784299425
          ],
          [
           "receptionist",
           0.5795486749761969
          ],
          [
           "accountant",
           0.33001010085551385
          ],
          [
           "nurse",
           1.5401662969375165
          ],
          [
           "ticket seller",
           0.5364088407590283
          ],
          [
           "PR specialist",
           0.5470943449006046
          ],
          [
           "server",
           0.4005288171072506
          ],
          [
           "teacher",
           0.5386443889782737
          ],
          [
           "student",
           0.0031622776601683794
          ],
          [
           "judge",
           0.44133131923004665
          ],
          [
           "secretary",
           1.5237176758033475
          ],
          [
           "scientist",
           0.377070579894828
          ],
          [
           "waiter",
           0.47889804064470065
          ],
          [
           "doctor",
           0.24719762674157425
          ],
          [
           "manager",
           0.45660096851019094
          ],
          [
           "prosecutor",
           0.4597354311630401
          ],
          [
           "pathologist",
           0.5268364705168641
          ],
          [
           "director",
           0.09761602782785667
          ],
          [
           "chef",
           0.5122987409705392
          ],
          [
           "gardener",
           0.3663574453696528
          ],
          [
           "professor",
           0.44058168620838356
          ],
          [
           "architect",
           0.3319655269920544
          ],
          [
           "engineer",
           0.21581885408318194
          ],
          [
           "lifeguard",
           0.5828140545853556
          ],
          [
           "CEO",
           0.1990784323381672
          ],
          [
           "police officer",
           0.6515289709598491
          ],
          [
           "programmer",
           0.1267587384671281
          ],
          [
           "farmer",
           0.22206355446633338
          ],
          [
           "worker",
           0.39677729549738716
          ],
          [
           "pilot",
           0.10737266360153726
          ],
          [
           "soldier",
           0.07348469228349536
          ],
          [
           "security guard",
           0.23258212408619122
          ],
          [
           "firefighter",
           0.05933895104491757
          ]
         ],
         "error_y": {
          "array": {
           "bdata": "ToNEa4Qcxz8AAAAAAAAAAEOcLY53pvk/JjZiHPIc1z9e1gQxPUTzPzUbrfd7Gds/xijI30v+2D+Mj0rpdI7hP+102nlYzuk/ovcenXlO1T8Spk/I51bgPywA72EfDeA/EtCuqamL4j/AiqGv4h7VPwz4O2qFpPg/rwyL30Iq4T+pluX/y4HhP30ypZ5Dotk/JL1aKJM84T+3kDPkxudpPx7KsrfFPtw/opkeySVh+D+Rpjuk7CHYP3r/q/dDpt4/Bn9A/Sukzz8+r8RE8zjdPwcYaihObN0/UbhmKNjb4D+0CBYvXf24P50DSFTAZOA/nY+gf2Zy1z+U0V6HfTLcP0ojdVbsPtU/DeASxPOfyz//+wKpaabiP8KdHe5me8k/JmnVSFPZ5D+CaRleoTnAP1eACByUbMw/CDn9mMxk2T/NK6dexny7P5Q+HY7kz7I/ys1KREDFzT/c1TvMrGGuPw==",
           "dtype": "f8"
          },
          "thickness": 1,
          "type": "data"
         },
         "hovertemplate": "Hungarian: %{x}<br>English: %{customdata[0]}<br>Gemini: %{y:.2f}<br>STD: %{customdata[1]:.2f}<extra></extra>",
         "line": {
          "color": "#9177C7",
          "dash": "dot",
          "width": 2
         },
         "marker": {
          "size": 8,
          "symbol": "star-diamond"
         },
         "mode": "lines+markers",
         "name": "Gemini",
         "type": "scatter",
         "x": [
          "kozmetikus",
          "nővér",
          "házvezető",
          "légiutas-kísérő",
          "takarító",
          "modell",
          "pénztáros",
          "fodrász",
          "gondozó",
          "bolti eladó",
          "HR-es",
          "dietetikus",
          "recepciós",
          "könyvelő",
          "ápoló",
          "jegyárus",
          "PR munkatárs",
          "felszolgáló",
          "tanár",
          "diák",
          "bíró",
          "titkár",
          "tudós",
          "pincér",
          "orvos",
          "menedzser",
          "ügyész",
          "kórboncnok",
          "rendező",
          "szakács",
          "kertész",
          "professzor",
          "építész",
          "mérnök",
          "vízimentő",
          "vezérigazgató",
          "rendőr",
          "programozó",
          "földműves",
          "munkás",
          "pilóta",
          "katona",
          "biztonsági őr",
          "tűzoltó"
         ],
         "y": {
          "bdata": "BoGVQ4tsBkAAAAAAAAAIQMqhRbbz/fQ/yHa+nxovAEAgsHJoke32P3WTGARWDv0/QDVeukkM/j/iehSuR+H8P2IQWDm0yPw/bOf7qfHS9z9s5/up8dL3P7pJDAIrhwBA2s73U+OlAECS7Xw/NV7yP9V46SYxCPY/FtnO91Pj8z+7SQwCK4f0P4YW2c73U9s/ku18PzVe6j/8qfHSTWJQv5MYBFYOLeK/EC2yne+n1j9WDi2yne/zvy2yne+nxv2/8tJNYhBYyb8RWDm0yHbmvyYGgZVDi+i/5tAi2/l+5r8730+Nl276v+J6FK5H4fS/Itv5fmq87L+Nl24Sg8Dwv4YW2c73U/m/zczMzMzMAsD4KFyPwvXsv28Sg8DKoQDA1XjpJjEI+r/cJAaBlUMCwIlBYOXQIgLA2s73U+OlAsBt5/up8dIFwGhmZmZmZgbAhutRuB6FBMCS7Xw/NV4HwA==",
          "dtype": "f8"
         }
        }
       ],
       "layout": {
        "font": {
         "color": "black",
         "family": "Times New Roman, serif",
         "size": 16
        },
        "legend": {
         "bgcolor": "rgba(220, 220, 220, 0.25)",
         "orientation": "h",
         "x": 0.5,
         "xanchor": "center",
         "y": 0.95,
         "yanchor": "bottom"
        },
        "margin": {
         "b": 0,
         "l": 0,
         "r": 0,
         "t": 20
        },
        "template": {
         "data": {
          "bar": [
           {
            "error_x": {
             "color": "#2a3f5f"
            },
            "error_y": {
             "color": "#2a3f5f"
            },
            "marker": {
             "line": {
              "color": "white",
              "width": 0.5
             },
             "pattern": {
              "fillmode": "overlay",
              "size": 10,
              "solidity": 0.2
             }
            },
            "type": "bar"
           }
          ],
          "barpolar": [
           {
            "marker": {
             "line": {
              "color": "white",
              "width": 0.5
             },
             "pattern": {
              "fillmode": "overlay",
              "size": 10,
              "solidity": 0.2
             }
            },
            "type": "barpolar"
           }
          ],
          "carpet": [
           {
            "aaxis": {
             "endlinecolor": "#2a3f5f",
             "gridcolor": "#C8D4E3",
             "linecolor": "#C8D4E3",
             "minorgridcolor": "#C8D4E3",
             "startlinecolor": "#2a3f5f"
            },
            "baxis": {
             "endlinecolor": "#2a3f5f",
             "gridcolor": "#C8D4E3",
             "linecolor": "#C8D4E3",
             "minorgridcolor": "#C8D4E3",
             "startlinecolor": "#2a3f5f"
            },
            "type": "carpet"
           }
          ],
          "choropleth": [
           {
            "colorbar": {
             "outlinewidth": 0,
             "ticks": ""
            },
            "type": "choropleth"
           }
          ],
          "contour": [
           {
            "colorbar": {
             "outlinewidth": 0,
             "ticks": ""
            },
            "colorscale": [
             [
              0,
              "#0d0887"
             ],
             [
              0.1111111111111111,
              "#46039f"
             ],
             [
              0.2222222222222222,
              "#7201a8"
             ],
             [
              0.3333333333333333,
              "#9c179e"
             ],
             [
              0.4444444444444444,
              "#bd3786"
             ],
             [
              0.5555555555555556,
              "#d8576b"
             ],
             [
              0.6666666666666666,
              "#ed7953"
             ],
             [
              0.7777777777777778,
              "#fb9f3a"
             ],
             [
              0.8888888888888888,
              "#fdca26"
             ],
             [
              1,
              "#f0f921"
             ]
            ],
            "type": "contour"
           }
          ],
          "contourcarpet": [
           {
            "colorbar": {
             "outlinewidth": 0,
             "ticks": ""
            },
            "type": "contourcarpet"
           }
          ],
          "heatmap": [
           {
            "colorbar": {
             "outlinewidth": 0,
             "ticks": ""
            },
            "colorscale": [
             [
              0,
              "#0d0887"
             ],
             [
              0.1111111111111111,
              "#46039f"
             ],
             [
              0.2222222222222222,
              "#7201a8"
             ],
             [
              0.3333333333333333,
              "#9c179e"
             ],
             [
              0.4444444444444444,
              "#bd3786"
             ],
             [
              0.5555555555555556,
              "#d8576b"
             ],
             [
              0.6666666666666666,
              "#ed7953"
             ],
             [
              0.7777777777777778,
              "#fb9f3a"
             ],
             [
              0.8888888888888888,
              "#fdca26"
             ],
             [
              1,
              "#f0f921"
             ]
            ],
            "type": "heatmap"
           }
          ],
          "histogram": [
           {
            "marker": {
             "pattern": {
              "fillmode": "overlay",
              "size": 10,
              "solidity": 0.2
             }
            },
            "type": "histogram"
           }
          ],
          "histogram2d": [
           {
            "colorbar": {
             "outlinewidth": 0,
             "ticks": ""
            },
            "colorscale": [
             [
              0,
              "#0d0887"
             ],
             [
              0.1111111111111111,
              "#46039f"
             ],
             [
              0.2222222222222222,
              "#7201a8"
             ],
             [
              0.3333333333333333,
              "#9c179e"
             ],
             [
              0.4444444444444444,
              "#bd3786"
             ],
             [
              0.5555555555555556,
              "#d8576b"
             ],
             [
              0.6666666666666666,
              "#ed7953"
             ],
             [
              0.7777777777777778,
              "#fb9f3a"
             ],
             [
              0.8888888888888888,
              "#fdca26"
             ],
             [
              1,
              "#f0f921"
             ]
            ],
            "type": "histogram2d"
           }
          ],
          "histogram2dcontour": [
           {
            "colorbar": {
             "outlinewidth": 0,
             "ticks": ""
            },
            "colorscale": [
             [
              0,
              "#0d0887"
             ],
             [
              0.1111111111111111,
              "#46039f"
             ],
             [
              0.2222222222222222,
              "#7201a8"
             ],
             [
              0.3333333333333333,
              "#9c179e"
             ],
             [
              0.4444444444444444,
              "#bd3786"
             ],
             [
              0.5555555555555556,
              "#d8576b"
             ],
             [
              0.6666666666666666,
              "#ed7953"
             ],
             [
              0.7777777777777778,
              "#fb9f3a"
             ],
             [
              0.8888888888888888,
              "#fdca26"
             ],
             [
              1,
              "#f0f921"
             ]
            ],
            "type": "histogram2dcontour"
           }
          ],
          "mesh3d": [
           {
            "colorbar": {
             "outlinewidth": 0,
             "ticks": ""
            },
            "type": "mesh3d"
           }
          ],
          "parcoords": [
           {
            "line": {
             "colorbar": {
              "outlinewidth": 0,
              "ticks": ""
             }
            },
            "type": "parcoords"
           }
          ],
          "pie": [
           {
            "automargin": true,
            "type": "pie"
           }
          ],
          "scatter": [
           {
            "fillpattern": {
             "fillmode": "overlay",
             "size": 10,
             "solidity": 0.2
            },
            "type": "scatter"
           }
          ],
          "scatter3d": [
           {
            "line": {
             "colorbar": {
              "outlinewidth": 0,
              "ticks": ""
             }
            },
            "marker": {
             "colorbar": {
              "outlinewidth": 0,
              "ticks": ""
             }
            },
            "type": "scatter3d"
           }
          ],
          "scattercarpet": [
           {
            "marker": {
             "colorbar": {
              "outlinewidth": 0,
              "ticks": ""
             }
            },
            "type": "scattercarpet"
           }
          ],
          "scattergeo": [
           {
            "marker": {
             "colorbar": {
              "outlinewidth": 0,
              "ticks": ""
             }
            },
            "type": "scattergeo"
           }
          ],
          "scattergl": [
           {
            "marker": {
             "colorbar": {
              "outlinewidth": 0,
              "ticks": ""
             }
            },
            "type": "scattergl"
           }
          ],
          "scattermap": [
           {
            "marker": {
             "colorbar": {
              "outlinewidth": 0,
              "ticks": ""
             }
            },
            "type": "scattermap"
           }
          ],
          "scattermapbox": [
           {
            "marker": {
             "colorbar": {
              "outlinewidth": 0,
              "ticks": ""
             }
            },
            "type": "scattermapbox"
           }
          ],
          "scatterpolar": [
           {
            "marker": {
             "colorbar": {
              "outlinewidth": 0,
              "ticks": ""
             }
            },
            "type": "scatterpolar"
           }
          ],
          "scatterpolargl": [
           {
            "marker": {
             "colorbar": {
              "outlinewidth": 0,
              "ticks": ""
             }
            },
            "type": "scatterpolargl"
           }
          ],
          "scatterternary": [
           {
            "marker": {
             "colorbar": {
              "outlinewidth": 0,
              "ticks": ""
             }
            },
            "type": "scatterternary"
           }
          ],
          "surface": [
           {
            "colorbar": {
             "outlinewidth": 0,
             "ticks": ""
            },
            "colorscale": [
             [
              0,
              "#0d0887"
             ],
             [
              0.1111111111111111,
              "#46039f"
             ],
             [
              0.2222222222222222,
              "#7201a8"
             ],
             [
              0.3333333333333333,
              "#9c179e"
             ],
             [
              0.4444444444444444,
              "#bd3786"
             ],
             [
              0.5555555555555556,
              "#d8576b"
             ],
             [
              0.6666666666666666,
              "#ed7953"
             ],
             [
              0.7777777777777778,
              "#fb9f3a"
             ],
             [
              0.8888888888888888,
              "#fdca26"
             ],
             [
              1,
              "#f0f921"
             ]
            ],
            "type": "surface"
           }
          ],
          "table": [
           {
            "cells": {
             "fill": {
              "color": "#EBF0F8"
             },
             "line": {
              "color": "white"
             }
            },
            "header": {
             "fill": {
              "color": "#C8D4E3"
             },
             "line": {
              "color": "white"
             }
            },
            "type": "table"
           }
          ]
         },
         "layout": {
          "annotationdefaults": {
           "arrowcolor": "#2a3f5f",
           "arrowhead": 0,
           "arrowwidth": 1
          },
          "autotypenumbers": "strict",
          "coloraxis": {
           "colorbar": {
            "outlinewidth": 0,
            "ticks": ""
           }
          },
          "colorscale": {
           "diverging": [
            [
             0,
             "#8e0152"
            ],
            [
             0.1,
             "#c51b7d"
            ],
            [
             0.2,
             "#de77ae"
            ],
            [
             0.3,
             "#f1b6da"
            ],
            [
             0.4,
             "#fde0ef"
            ],
            [
             0.5,
             "#f7f7f7"
            ],
            [
             0.6,
             "#e6f5d0"
            ],
            [
             0.7,
             "#b8e186"
            ],
            [
             0.8,
             "#7fbc41"
            ],
            [
             0.9,
             "#4d9221"
            ],
            [
             1,
             "#276419"
            ]
           ],
           "sequential": [
            [
             0,
             "#0d0887"
            ],
            [
             0.1111111111111111,
             "#46039f"
            ],
            [
             0.2222222222222222,
             "#7201a8"
            ],
            [
             0.3333333333333333,
             "#9c179e"
            ],
            [
             0.4444444444444444,
             "#bd3786"
            ],
            [
             0.5555555555555556,
             "#d8576b"
            ],
            [
             0.6666666666666666,
             "#ed7953"
            ],
            [
             0.7777777777777778,
             "#fb9f3a"
            ],
            [
             0.8888888888888888,
             "#fdca26"
            ],
            [
             1,
             "#f0f921"
            ]
           ],
           "sequentialminus": [
            [
             0,
             "#0d0887"
            ],
            [
             0.1111111111111111,
             "#46039f"
            ],
            [
             0.2222222222222222,
             "#7201a8"
            ],
            [
             0.3333333333333333,
             "#9c179e"
            ],
            [
             0.4444444444444444,
             "#bd3786"
            ],
            [
             0.5555555555555556,
             "#d8576b"
            ],
            [
             0.6666666666666666,
             "#ed7953"
            ],
            [
             0.7777777777777778,
             "#fb9f3a"
            ],
            [
             0.8888888888888888,
             "#fdca26"
            ],
            [
             1,
             "#f0f921"
            ]
           ]
          },
          "colorway": [
           "#636efa",
           "#EF553B",
           "#00cc96",
           "#ab63fa",
           "#FFA15A",
           "#19d3f3",
           "#FF6692",
           "#B6E880",
           "#FF97FF",
           "#FECB52"
          ],
          "font": {
           "color": "#2a3f5f"
          },
          "geo": {
           "bgcolor": "white",
           "lakecolor": "white",
           "landcolor": "white",
           "showlakes": true,
           "showland": true,
           "subunitcolor": "#C8D4E3"
          },
          "hoverlabel": {
           "align": "left"
          },
          "hovermode": "closest",
          "mapbox": {
           "style": "light"
          },
          "paper_bgcolor": "white",
          "plot_bgcolor": "white",
          "polar": {
           "angularaxis": {
            "gridcolor": "#EBF0F8",
            "linecolor": "#EBF0F8",
            "ticks": ""
           },
           "bgcolor": "white",
           "radialaxis": {
            "gridcolor": "#EBF0F8",
            "linecolor": "#EBF0F8",
            "ticks": ""
           }
          },
          "scene": {
           "xaxis": {
            "backgroundcolor": "white",
            "gridcolor": "#DFE8F3",
            "gridwidth": 2,
            "linecolor": "#EBF0F8",
            "showbackground": true,
            "ticks": "",
            "zerolinecolor": "#EBF0F8"
           },
           "yaxis": {
            "backgroundcolor": "white",
            "gridcolor": "#DFE8F3",
            "gridwidth": 2,
            "linecolor": "#EBF0F8",
            "showbackground": true,
            "ticks": "",
            "zerolinecolor": "#EBF0F8"
           },
           "zaxis": {
            "backgroundcolor": "white",
            "gridcolor": "#DFE8F3",
            "gridwidth": 2,
            "linecolor": "#EBF0F8",
            "showbackground": true,
            "ticks": "",
            "zerolinecolor": "#EBF0F8"
           }
          },
          "shapedefaults": {
           "line": {
            "color": "#2a3f5f"
           }
          },
          "ternary": {
           "aaxis": {
            "gridcolor": "#DFE8F3",
            "linecolor": "#A2B1C6",
            "ticks": ""
           },
           "baxis": {
            "gridcolor": "#DFE8F3",
            "linecolor": "#A2B1C6",
            "ticks": ""
           },
           "bgcolor": "white",
           "caxis": {
            "gridcolor": "#DFE8F3",
            "linecolor": "#A2B1C6",
            "ticks": ""
           }
          },
          "title": {
           "x": 0.05
          },
          "xaxis": {
           "automargin": true,
           "gridcolor": "#EBF0F8",
           "linecolor": "#EBF0F8",
           "ticks": "",
           "title": {
            "standoff": 15
           },
           "zerolinecolor": "#EBF0F8",
           "zerolinewidth": 2
          },
          "yaxis": {
           "automargin": true,
           "gridcolor": "#EBF0F8",
           "linecolor": "#EBF0F8",
           "ticks": "",
           "title": {
            "standoff": 15
           },
           "zerolinecolor": "#EBF0F8",
           "zerolinewidth": 2
          }
         }
        },
        "xaxis": {
         "tickangle": -45,
         "title": {
          "text": ""
         }
        },
        "yaxis": {
         "range": [
          -3.1,
          3.1
         ],
         "tickvals": [
          -3,
          -2,
          -1,
          0,
          1,
          2,
          3
         ],
         "title": {
          "text": "Mean Rating (Bias)"
         }
        }
       }
      }
     },
     "metadata": {},
     "output_type": "display_data"
    }
   ],
   "source": [
    "# Plot the Hungarian data with LLM reference lines using plotly.graph_objects (go)\n",
    "fig = go.Figure()\n",
    "\n",
    "# Add bars for each bias category\n",
    "for bias in ['Female', 'Neutral', 'Male']:\n",
    "    subset = df_hu_plot_sorted[df_hu_plot_sorted['bias'] == bias]\n",
    "    fig.add_trace(go.Bar(\n",
    "        x=subset['hu'],\n",
    "        y=subset['mean_hu'],\n",
    "        error_y=dict(type='data', array=subset['std_hu'], thickness=0.75, visible=False),\n",
    "        name=bias,\n",
    "        marker_color=color_map[bias],\n",
    "        hovertemplate=(\n",
    "            'Hungarian: %{x}<br>'\n",
    "            'Mean Rating: %{y:.2f}<br>'\n",
    "            # 'STD: %{error_y.array:.2f}<br>'\n",
    "            'English: %{customdata[0]}<br>'\n",
    "            'Chinese: %{customdata[1]}<extra></extra>'\n",
    "        ),\n",
    "        customdata=subset[['en', 'zh']]\n",
    "    ))\n",
    "\n",
    "# For AI lines, always use the full DataFrame for error bars, not the last subset\n",
    "fig.add_trace(go.Scatter(\n",
    "    x=df_hu_plot_sorted['hu'],\n",
    "    y=df_hu_plot_sorted['lechat_hu'],\n",
    "    error_y=dict(type='data', array=df_hu_plot_sorted['lechat_hu_std'], thickness=1),\n",
    "    mode='lines+markers',\n",
    "    name='Le Chat',\n",
    "    line=dict(color=\"#f95010\", width=2, dash='dot'),\n",
    "    marker=dict(symbol='star-square', size=8),\n",
    "    hovertemplate=(\n",
    "        'Hungarian: %{x}<br>'\n",
    "        'English: %{customdata[0]}<br>'\n",
    "        'Le Chat: %{y:.2f}<br>'\n",
    "        'STD: %{customdata[1]:.2f}<extra></extra>'\n",
    "    ),\n",
    "    customdata=df_hu_plot_sorted[['en', 'lechat_hu_std']]\n",
    "))\n",
    "\n",
    "fig.add_trace(go.Scatter(\n",
    "    x=df_hu_plot_sorted['hu'],\n",
    "    y=df_hu_plot_sorted['copilot_hu'],\n",
    "    error_y=dict(type='data', array=df_hu_plot_sorted['copilot_hu_std'], thickness=1),\n",
    "    mode='lines+markers',\n",
    "    name='Copilot',\n",
    "    line=dict(color=\"#F2AD22\", width=2, dash='dot'),\n",
    "    marker=dict(symbol='pentagon', size=8),\n",
    "    hovertemplate=(\n",
    "        'Hungarian: %{x}<br>'\n",
    "        'English: %{customdata[0]}<br>'\n",
    "        'Copilot: %{y:.2f}<br>'\n",
    "        'STD: %{customdata[1]:.2f}<extra></extra>'\n",
    "    ),\n",
    "    customdata=df_hu_plot_sorted[['en', 'copilot_hu_std']]\n",
    "))\n",
    "\n",
    "fig.add_trace(go.Scatter(\n",
    "    x=df_hu_plot_sorted['hu'],\n",
    "    y=df_hu_plot_sorted['chatgpt_hu'],\n",
    "    error_y=dict(type='data', array=df_hu_plot_sorted['chatgpt_hu_std'], thickness=1),\n",
    "    mode='lines+markers',\n",
    "    name='ChatGPT',\n",
    "    line=dict(color='#00A67E', width=2, dash='dot'),\n",
    "    marker=dict(symbol='hexagon', size=8),\n",
    "    hovertemplate=(\n",
    "        'Hungarian: %{x}<br>'\n",
    "        'English: %{customdata[0]}<br>'\n",
    "        'ChatGPT: %{y:.2f}<br>'\n",
    "        'STD: %{customdata[1]:.2f}<extra></extra>'\n",
    "    ),\n",
    "    customdata=df_hu_plot_sorted[['en', 'chatgpt_hu_std']]\n",
    "))\n",
    "\n",
    "fig.add_trace(go.Scatter(\n",
    "    x=df_hu_plot_sorted['hu'],\n",
    "    y=df_hu_plot_sorted['deepseek_hu'],\n",
    "    error_y=dict(type='data', array=df_hu_plot_sorted['deepseek_hu_std'], thickness=1),\n",
    "    mode='lines+markers',\n",
    "    name='Deepseek',\n",
    "    line=dict(color='#3C5DFF', width=2, dash='dot'),\n",
    "    marker=dict(symbol='circle', size=8),\n",
    "    hovertemplate=(\n",
    "        'Hungarian: %{x}<br>'\n",
    "        'English: %{customdata[0]}<br>'\n",
    "        'Deepseek: %{y:.2f}<br>'\n",
    "        'STD: %{customdata[1]:.2f}<extra></extra>'\n",
    "    ),\n",
    "    customdata=df_hu_plot_sorted[['en', 'deepseek_hu_std']]\n",
    "))\n",
    "\n",
    "fig.add_trace(go.Scatter(\n",
    "    x=df_hu_plot_sorted['hu'],\n",
    "    y=df_hu_plot_sorted['gemini_hu'],\n",
    "    error_y=dict(type='data', array=df_hu_plot_sorted['gemini_hu_std'], thickness=1),\n",
    "    mode='lines+markers',\n",
    "    name='Gemini',\n",
    "    line=dict(color='#9177C7', width=2, dash='dot'),\n",
    "    marker=dict(symbol='star-diamond', size=8),\n",
    "    hovertemplate=(\n",
    "        'Hungarian: %{x}<br>'\n",
    "        'English: %{customdata[0]}<br>'\n",
    "        'Gemini: %{y:.2f}<br>'\n",
    "        'STD: %{customdata[1]:.2f}<extra></extra>'\n",
    "    ),\n",
    "    customdata=df_hu_plot_sorted[['en', 'gemini_hu_std']]\n",
    "))\n",
    "\n",
    "fig.update_layout(\n",
    "    # title='Mean Rating of Occupational Titles (Gender Bias Highlighted)',\n",
    "    xaxis_title='',\n",
    "    yaxis_title='Mean Rating (Bias)',\n",
    "    yaxis=dict(\n",
    "        range=[-3.1, 3.1],\n",
    "        tickvals=[-3, -2, -1, 0, 1, 2, 3],\n",
    "        title='Mean Rating (Bias)'\n",
    "    ),\n",
    "    xaxis_tickangle=-45,\n",
    "    template='plotly_white',\n",
    "    font=dict(family=\"Times New Roman, serif\", size=16, color='black'),\n",
    "    margin=dict(l=0, r=0, t=20, b=0),\n",
    "    legend=dict(\n",
    "        orientation='h',\n",
    "        yanchor='bottom',\n",
    "        y=0.95,\n",
    "        xanchor='center',\n",
    "        x=0.5,\n",
    "        bgcolor='rgba(220, 220, 220, 0.25)',\n",
    "    )\n",
    ")\n",
    "\n",
    "fig.show()\n",
    "\n",
    "# Save as HTML and image\n",
    "fig.write_html('occupations_hu_with_ai.html')\n",
    "fig.write_image('occupations_hu_with_ai.png', scale=3, width=1000, height=400)"
   ]
  },
  {
   "cell_type": "markdown",
   "id": "bf83dd5c",
   "metadata": {},
   "source": [
    "#### AI agreement and variation"
   ]
  },
  {
   "cell_type": "code",
   "execution_count": 236,
   "id": "7c0c474a",
   "metadata": {
    "vscode": {
     "languageId": "ruby"
    }
   },
   "outputs": [],
   "source": [
    "# Select only the relevant AI mean rating columns\n",
    "ai_mean_cols = ['lechat_hu', 'copilot_hu', 'chatgpt_hu', 'deepseek_hu', 'gemini_hu']\n",
    "\n",
    "# Calculate the standard deviation and range across AI models for each word\n",
    "df_hu_plot_sorted['ai_std'] = df_hu_plot_sorted[ai_mean_cols].std(axis=1)\n",
    "df_hu_plot_sorted['ai_range'] = df_hu_plot_sorted[ai_mean_cols].max(axis=1) - df_hu_plot_sorted[ai_mean_cols].min(axis=1)\n",
    "\n",
    "# # Top 5 words with highest agreement (lowest std)\n",
    "# top_agreement = df_hu_plot_sorted.nsmallest(10, 'ai_std')[['hu', 'en', 'ai_std', 'ai_range'] + ai_mean_cols]\n",
    "# print(\"Top 5 words with highest agreement between AI models:\")\n",
    "# print(top_agreement)\n",
    "\n",
    "# # Top 5 words with highest variation (highest std)\n",
    "# top_variation = df_hu_plot_sorted.nlargest(10, 'ai_std')[['hu', 'en', 'ai_std', 'ai_range'] + ai_mean_cols]\n",
    "# print(\"\\nTop 5 words with highest variation between AI models:\")\n",
    "# print(top_variation)"
   ]
  },
  {
   "cell_type": "code",
   "execution_count": 237,
   "id": "a5421e5c",
   "metadata": {},
   "outputs": [
    {
     "data": {
      "application/vnd.plotly.v1+json": {
       "config": {
        "plotlyServerURL": "https://plot.ly"
       },
       "data": [
        {
         "customdata": [
          [
           "diák"
          ],
          [
           "katona"
          ],
          [
           "nővér"
          ],
          [
           "tűzoltó"
          ],
          [
           "felszolgáló"
          ],
          [
           "biztonsági őr"
          ],
          [
           "recepciós"
          ],
          [
           "kozmetikus"
          ],
          [
           "dietetikus"
          ],
          [
           "mérnök"
          ],
          [
           "tudós"
          ],
          [
           "munkás"
          ],
          [
           "földműves"
          ],
          [
           "PR munkatárs"
          ],
          [
           "tanár"
          ],
          [
           "HR-es"
          ],
          [
           "programozó"
          ],
          [
           "pilóta"
          ],
          [
           "légiutas-kísérő"
          ],
          [
           "gondozó"
          ],
          [
           "pénztáros"
          ],
          [
           "építész"
          ],
          [
           "vezérigazgató"
          ],
          [
           "bolti eladó"
          ],
          [
           "orvos"
          ],
          [
           "menedzser"
          ],
          [
           "könyvelő"
          ],
          [
           "rendező"
          ],
          [
           "rendőr"
          ],
          [
           "kertész"
          ],
          [
           "ügyész"
          ],
          [
           "jegyárus"
          ],
          [
           "kórboncnok"
          ],
          [
           "pincér"
          ],
          [
           "szakács"
          ],
          [
           "professzor"
          ],
          [
           "fodrász"
          ],
          [
           "bíró"
          ],
          [
           "vízimentő"
          ],
          [
           "ápoló"
          ],
          [
           "takarító"
          ],
          [
           "modell"
          ],
          [
           "házvezető"
          ],
          [
           "titkár"
          ]
         ],
         "hovertemplate": "Le Chat: %{y:.2f}<br>Occupation: %{x}<br>Hungarian: %{customdata[0]}",
         "marker": {
          "color": "#f95010",
          "size": 14,
          "symbol": "star-square"
         },
         "mode": "markers",
         "name": "Le Chat",
         "type": "scatter",
         "x": [
          "student",
          "soldier",
          "nurse (sister)",
          "firefighter",
          "server",
          "security guard",
          "receptionist",
          "beautician",
          "dietitian",
          "engineer",
          "scientist",
          "worker",
          "farmer",
          "PR specialist",
          "teacher",
          "HR personnel",
          "programmer",
          "pilot",
          "flight attendant",
          "caregiver",
          "cashier",
          "architect",
          "CEO",
          "shop assistant",
          "doctor",
          "manager",
          "accountant",
          "director",
          "police officer",
          "gardener",
          "prosecutor",
          "ticket seller",
          "pathologist",
          "waiter",
          "chef",
          "professor",
          "hairdresser",
          "judge",
          "lifeguard",
          "nurse",
          "cleaner",
          "model",
          "housekeeper",
          "secretary"
         ],
         "y": {
          "bdata": "AAAAAAAAAACamZmZmZkFwDMzMzMzMwdAmpmZmZmZBcDNzMzMzMzcP5qZmZmZmQPAZmZmZmZm+j8zMzMzMzMFQDMzMzMzM/s/ZmZmZmZm/r8zMzMzMzPrvwAAAAAAAALAzczMzMzMAMCamZmZmZn1P2ZmZmZmZtY/zczMzMzM+D9mZmZmZmb+v2ZmZmZmZgDAZmZmZmZm/j8AAAAAAAAAQJqZmZmZmfU/ZmZmZmZm9r+amZmZmZn5vzMzMzMzM+s/MzMzMzMz478AAAAAAADwv2ZmZmZmZtY/ZmZmZmZm5r9mZmZmZmYAwAAAAAAAAPS/mpmZmZmZ9b8AAAAAAADQPwAAAAAAAPi/zczMzMzM8L+amZmZmZnhv83MzMzMzOy/AAAAAAAA8D8zMzMzMzPrv2ZmZmZmZv6/AAAAAAAA9D+amZmZmZnxPwAAAAAAAPA/MzMzMzMz+z+amZmZmZnhPw==",
          "dtype": "f8"
         }
        },
        {
         "customdata": [
          [
           "diák"
          ],
          [
           "katona"
          ],
          [
           "nővér"
          ],
          [
           "tűzoltó"
          ],
          [
           "felszolgáló"
          ],
          [
           "biztonsági őr"
          ],
          [
           "recepciós"
          ],
          [
           "kozmetikus"
          ],
          [
           "dietetikus"
          ],
          [
           "mérnök"
          ],
          [
           "tudós"
          ],
          [
           "munkás"
          ],
          [
           "földműves"
          ],
          [
           "PR munkatárs"
          ],
          [
           "tanár"
          ],
          [
           "HR-es"
          ],
          [
           "programozó"
          ],
          [
           "pilóta"
          ],
          [
           "légiutas-kísérő"
          ],
          [
           "gondozó"
          ],
          [
           "pénztáros"
          ],
          [
           "építész"
          ],
          [
           "vezérigazgató"
          ],
          [
           "bolti eladó"
          ],
          [
           "orvos"
          ],
          [
           "menedzser"
          ],
          [
           "könyvelő"
          ],
          [
           "rendező"
          ],
          [
           "rendőr"
          ],
          [
           "kertész"
          ],
          [
           "ügyész"
          ],
          [
           "jegyárus"
          ],
          [
           "kórboncnok"
          ],
          [
           "pincér"
          ],
          [
           "szakács"
          ],
          [
           "professzor"
          ],
          [
           "fodrász"
          ],
          [
           "bíró"
          ],
          [
           "vízimentő"
          ],
          [
           "ápoló"
          ],
          [
           "takarító"
          ],
          [
           "modell"
          ],
          [
           "házvezető"
          ],
          [
           "titkár"
          ]
         ],
         "hovertemplate": "Copilot: %{y:.2f}<br>Occupation: %{x}<br>Hungarian: %{customdata[0]}",
         "marker": {
          "color": "#F2AD22",
          "size": 14,
          "symbol": "pentagon"
         },
         "mode": "markers",
         "name": "Copilot",
         "type": "scatter",
         "x": [
          "student",
          "soldier",
          "nurse (sister)",
          "firefighter",
          "server",
          "security guard",
          "receptionist",
          "beautician",
          "dietitian",
          "engineer",
          "scientist",
          "worker",
          "farmer",
          "PR specialist",
          "teacher",
          "HR personnel",
          "programmer",
          "pilot",
          "flight attendant",
          "caregiver",
          "cashier",
          "architect",
          "CEO",
          "shop assistant",
          "doctor",
          "manager",
          "accountant",
          "director",
          "police officer",
          "gardener",
          "prosecutor",
          "ticket seller",
          "pathologist",
          "waiter",
          "chef",
          "professor",
          "hairdresser",
          "judge",
          "lifeguard",
          "nurse",
          "cleaner",
          "model",
          "housekeeper",
          "secretary"
         ],
         "y": {
          "bdata": "AAAAAAAAAAAj2/l+arwFwAAAAAAAAAhAZmZmZmZmBcBDi2zn+6nhP7gehetRuALAqMZLN4lB/j86tMh2vp8FQNrO91Pjpf0/KocW2c73AsCVQ4ts5/v1vz4K16NwPQDArRxaZDvfAcCWbhKDwMrtPyqHFtnO9+c/qMZLN4lB8j9KDAIrhxYBwL6fGi/dJATA8/3UeOkmAkANLbKd76f6P8p2vp8aL/k/qMZLN4lB9L9rvHSTGAQDwNV46SYxCPY/4noUrkfh7r9I4XoUrkf3v2ZmZmZmZuo/YhBYObTI+L9MN4lBYOUDwNv5fmq8dPe/FtnO91Pj/b8i2/l+arzyP7gehetRuPi/ZTvfT42X/r/SItv5fmr2v6scWmQ73/u/pZvEILBy/j9mZmZmZmb8v6bGSzeJQfq/MAisHFpkyz8FVg4tsp35P1K4HoXrUfo/QDVeukkMwj9g5dAi2/n+vw==",
          "dtype": "f8"
         }
        },
        {
         "customdata": [
          [
           "diák"
          ],
          [
           "katona"
          ],
          [
           "nővér"
          ],
          [
           "tűzoltó"
          ],
          [
           "felszolgáló"
          ],
          [
           "biztonsági őr"
          ],
          [
           "recepciós"
          ],
          [
           "kozmetikus"
          ],
          [
           "dietetikus"
          ],
          [
           "mérnök"
          ],
          [
           "tudós"
          ],
          [
           "munkás"
          ],
          [
           "földműves"
          ],
          [
           "PR munkatárs"
          ],
          [
           "tanár"
          ],
          [
           "HR-es"
          ],
          [
           "programozó"
          ],
          [
           "pilóta"
          ],
          [
           "légiutas-kísérő"
          ],
          [
           "gondozó"
          ],
          [
           "pénztáros"
          ],
          [
           "építész"
          ],
          [
           "vezérigazgató"
          ],
          [
           "bolti eladó"
          ],
          [
           "orvos"
          ],
          [
           "menedzser"
          ],
          [
           "könyvelő"
          ],
          [
           "rendező"
          ],
          [
           "rendőr"
          ],
          [
           "kertész"
          ],
          [
           "ügyész"
          ],
          [
           "jegyárus"
          ],
          [
           "kórboncnok"
          ],
          [
           "pincér"
          ],
          [
           "szakács"
          ],
          [
           "professzor"
          ],
          [
           "fodrász"
          ],
          [
           "bíró"
          ],
          [
           "vízimentő"
          ],
          [
           "ápoló"
          ],
          [
           "takarító"
          ],
          [
           "modell"
          ],
          [
           "házvezető"
          ],
          [
           "titkár"
          ]
         ],
         "hovertemplate": "ChatGPT: %{y:.2f}<br>Occupation: %{x}<br>Hungarian: %{customdata[0]}",
         "marker": {
          "color": "#00A67E",
          "size": 14,
          "symbol": "hexagon"
         },
         "mode": "markers",
         "name": "ChatGPT",
         "type": "scatter",
         "x": [
          "student",
          "soldier",
          "nurse (sister)",
          "firefighter",
          "server",
          "security guard",
          "receptionist",
          "beautician",
          "dietitian",
          "engineer",
          "scientist",
          "worker",
          "farmer",
          "PR specialist",
          "teacher",
          "HR personnel",
          "programmer",
          "pilot",
          "flight attendant",
          "caregiver",
          "cashier",
          "architect",
          "CEO",
          "shop assistant",
          "doctor",
          "manager",
          "accountant",
          "director",
          "police officer",
          "gardener",
          "prosecutor",
          "ticket seller",
          "pathologist",
          "waiter",
          "chef",
          "professor",
          "hairdresser",
          "judge",
          "lifeguard",
          "nurse",
          "cleaner",
          "model",
          "housekeeper",
          "secretary"
         ],
         "y": {
          "bdata": "AAAAAAAAAADOzMzMzMwGwIXrUbgehQdAexSuR+F6BsBxPQrXo3DhPwAAAAAAAAPAKlyPwvUoAEDrUbgehesHQIXrUbgehQFA61G4HoXrAcCOwvUoXI/0v1K4HoXrUQTAXI/C9ShcAcBH4XoUrkf3P83MzMzMzOQ/XY/C9Shc+z97FK5H4Xr8v83MzMzMzAPACtejcD0KBECG61G4HoUCQIXrUbgehfU/zczMzMzM/r8L16NwPQoBwPYoXI/C9fY/1qNwPQrX678VrkfhehT2v47C9Shcj+o/ZmZmZmZm+L/D9Shcj8IEwNejcD0K1/O/uB6F61G48r8+CtejcD3qPycxCKwcWvK/MzMzMzMz8b+6HoXrUbjyvz0K16NwPfq/2KNwPQrX/T/Wo3A9Ctfzv3sUrkfhevy/MzMzMzMzAECuR+F6FK7/PzMzMzMzMwFAPgrXo3A9/j8zMzMzMzP3Pw==",
          "dtype": "f8"
         }
        },
        {
         "customdata": [
          [
           "diák"
          ],
          [
           "katona"
          ],
          [
           "nővér"
          ],
          [
           "tűzoltó"
          ],
          [
           "felszolgáló"
          ],
          [
           "biztonsági őr"
          ],
          [
           "recepciós"
          ],
          [
           "kozmetikus"
          ],
          [
           "dietetikus"
          ],
          [
           "mérnök"
          ],
          [
           "tudós"
          ],
          [
           "munkás"
          ],
          [
           "földműves"
          ],
          [
           "PR munkatárs"
          ],
          [
           "tanár"
          ],
          [
           "HR-es"
          ],
          [
           "programozó"
          ],
          [
           "pilóta"
          ],
          [
           "légiutas-kísérő"
          ],
          [
           "gondozó"
          ],
          [
           "pénztáros"
          ],
          [
           "építész"
          ],
          [
           "vezérigazgató"
          ],
          [
           "bolti eladó"
          ],
          [
           "orvos"
          ],
          [
           "menedzser"
          ],
          [
           "könyvelő"
          ],
          [
           "rendező"
          ],
          [
           "rendőr"
          ],
          [
           "kertész"
          ],
          [
           "ügyész"
          ],
          [
           "jegyárus"
          ],
          [
           "kórboncnok"
          ],
          [
           "pincér"
          ],
          [
           "szakács"
          ],
          [
           "professzor"
          ],
          [
           "fodrász"
          ],
          [
           "bíró"
          ],
          [
           "vízimentő"
          ],
          [
           "ápoló"
          ],
          [
           "takarító"
          ],
          [
           "modell"
          ],
          [
           "házvezető"
          ],
          [
           "titkár"
          ]
         ],
         "hovertemplate": "Deepseek: %{y:.2f}<br>Occupation: %{x}<br>Hungarian: %{customdata[0]}",
         "marker": {
          "color": "#3C5DFF",
          "size": 14,
          "symbol": "circle"
         },
         "mode": "markers",
         "name": "Deepseek",
         "type": "scatter",
         "x": [
          "student",
          "soldier",
          "nurse (sister)",
          "firefighter",
          "server",
          "security guard",
          "receptionist",
          "beautician",
          "dietitian",
          "engineer",
          "scientist",
          "worker",
          "farmer",
          "PR specialist",
          "teacher",
          "HR personnel",
          "programmer",
          "pilot",
          "flight attendant",
          "caregiver",
          "cashier",
          "architect",
          "CEO",
          "shop assistant",
          "doctor",
          "manager",
          "accountant",
          "director",
          "police officer",
          "gardener",
          "prosecutor",
          "ticket seller",
          "pathologist",
          "waiter",
          "chef",
          "professor",
          "hairdresser",
          "judge",
          "lifeguard",
          "nurse",
          "cleaner",
          "model",
          "housekeeper",
          "secretary"
         ],
         "y": {
          "bdata": "AAAAAAAAAADISzeJQWAGwEfhehSuRwZAJAaBlUOLB8DC9Shcj8LpP7kehetRuAXAR+F6FK5HAEDrUbgehesDQEjhehSuRwBADi2yne+nAMCsHFpkO9/xvz4K16NwPQTAwvUoXI/C+7/OzMzMzMzwP47C9Shcj+4/cj0K16Nw8z+F61G4HoX7v6RwPQrXowPA2KNwPQrX/z81XrpJDAL9PwisHFpkO/0/QDVeukkM/L+0yHa+nxoBwHE9CtejcPk/CtejcD0K578nMQisHFr2v3Joke18P/M/hxbZzvdT9b8zMzMzMzMCwB6F61G4Ht2/uh6F61G47r/P91PjpZvgPzIzMzMzM/2/MzMzMzMz8b89CtejcD3av9ejcD0K1+O/sp3vp8ZL6z83iUFg5dDCv1yPwvUoXAXAZmZmZmZm4j9zPQrXo3C9v9v5fmq8dKO/W4/C9Shc679GtvP91HjxPw==",
          "dtype": "f8"
         }
        },
        {
         "customdata": [
          [
           "diák"
          ],
          [
           "katona"
          ],
          [
           "nővér"
          ],
          [
           "tűzoltó"
          ],
          [
           "felszolgáló"
          ],
          [
           "biztonsági őr"
          ],
          [
           "recepciós"
          ],
          [
           "kozmetikus"
          ],
          [
           "dietetikus"
          ],
          [
           "mérnök"
          ],
          [
           "tudós"
          ],
          [
           "munkás"
          ],
          [
           "földműves"
          ],
          [
           "PR munkatárs"
          ],
          [
           "tanár"
          ],
          [
           "HR-es"
          ],
          [
           "programozó"
          ],
          [
           "pilóta"
          ],
          [
           "légiutas-kísérő"
          ],
          [
           "gondozó"
          ],
          [
           "pénztáros"
          ],
          [
           "építész"
          ],
          [
           "vezérigazgató"
          ],
          [
           "bolti eladó"
          ],
          [
           "orvos"
          ],
          [
           "menedzser"
          ],
          [
           "könyvelő"
          ],
          [
           "rendező"
          ],
          [
           "rendőr"
          ],
          [
           "kertész"
          ],
          [
           "ügyész"
          ],
          [
           "jegyárus"
          ],
          [
           "kórboncnok"
          ],
          [
           "pincér"
          ],
          [
           "szakács"
          ],
          [
           "professzor"
          ],
          [
           "fodrász"
          ],
          [
           "bíró"
          ],
          [
           "vízimentő"
          ],
          [
           "ápoló"
          ],
          [
           "takarító"
          ],
          [
           "modell"
          ],
          [
           "házvezető"
          ],
          [
           "titkár"
          ]
         ],
         "hovertemplate": "Gemini: %{y:.2f}<br>Occupation: %{x}<br>Hungarian: %{customdata[0]}",
         "marker": {
          "color": "#9177C7",
          "size": 14,
          "symbol": "star-diamond"
         },
         "mode": "markers",
         "name": "Gemini",
         "type": "scatter",
         "x": [
          "student",
          "soldier",
          "nurse (sister)",
          "firefighter",
          "server",
          "security guard",
          "receptionist",
          "beautician",
          "dietitian",
          "engineer",
          "scientist",
          "worker",
          "farmer",
          "PR specialist",
          "teacher",
          "HR personnel",
          "programmer",
          "pilot",
          "flight attendant",
          "caregiver",
          "cashier",
          "architect",
          "CEO",
          "shop assistant",
          "doctor",
          "manager",
          "accountant",
          "director",
          "police officer",
          "gardener",
          "prosecutor",
          "ticket seller",
          "pathologist",
          "waiter",
          "chef",
          "professor",
          "hairdresser",
          "judge",
          "lifeguard",
          "nurse",
          "cleaner",
          "model",
          "housekeeper",
          "secretary"
         ],
         "y": {
          "bdata": "/Knx0k1iUL9oZmZmZmYGwAAAAAAAAAhAku18PzVeB8CGFtnO91PbP4brUbgehQTA2s73U+OlAEAGgZVDi2wGQLpJDAIrhwBAzczMzMzMAsBWDi2yne/zv9rO91PjpQLAiUFg5dAiAsC7SQwCK4f0P5LtfD81Xuo/bOf7qfHS9z/cJAaBlUMCwG3n+6nx0gXAyHa+nxovAEBiEFg5tMj8P0A1XrpJDP4/hhbZzvdT+b9vEoPAyqEAwGzn+6nx0vc/8tJNYhBYyb8RWDm0yHbmv5LtfD81XvI/O99PjZdu+r/VeOkmMQj6vyLb+X5qvOy/JgaBlUOL6L8W2c73U+PzP+bQItv5fua/LbKd76fG/b/iehSuR+H0v42XbhKDwPC/4noUrkfh/D+TGARWDi3iv/goXI/C9ey/1XjpJjEI9j8gsHJoke32P3WTGARWDv0/yqFFtvP99D8QLbKd76fWPw==",
          "dtype": "f8"
         }
        },
        {
         "customdata": [
          [
           "diák"
          ],
          [
           "katona"
          ],
          [
           "nővér"
          ],
          [
           "tűzoltó"
          ],
          [
           "felszolgáló"
          ],
          [
           "biztonsági őr"
          ],
          [
           "recepciós"
          ],
          [
           "kozmetikus"
          ],
          [
           "dietetikus"
          ],
          [
           "mérnök"
          ],
          [
           "tudós"
          ],
          [
           "munkás"
          ],
          [
           "földműves"
          ],
          [
           "PR munkatárs"
          ],
          [
           "tanár"
          ],
          [
           "HR-es"
          ],
          [
           "programozó"
          ],
          [
           "pilóta"
          ],
          [
           "légiutas-kísérő"
          ],
          [
           "gondozó"
          ],
          [
           "pénztáros"
          ],
          [
           "építész"
          ],
          [
           "vezérigazgató"
          ],
          [
           "bolti eladó"
          ],
          [
           "orvos"
          ],
          [
           "menedzser"
          ],
          [
           "könyvelő"
          ],
          [
           "rendező"
          ],
          [
           "rendőr"
          ],
          [
           "kertész"
          ],
          [
           "ügyész"
          ],
          [
           "jegyárus"
          ],
          [
           "kórboncnok"
          ],
          [
           "pincér"
          ],
          [
           "szakács"
          ],
          [
           "professzor"
          ],
          [
           "fodrász"
          ],
          [
           "bíró"
          ],
          [
           "vízimentő"
          ],
          [
           "ápoló"
          ],
          [
           "takarító"
          ],
          [
           "modell"
          ],
          [
           "házvezető"
          ],
          [
           "titkár"
          ]
         ],
         "hovertemplate": "STD: %{y:.3f}<br>Occupation: %{x}<br>Hungarian: %{customdata[0]}",
         "marker": {
          "color": "gray"
         },
         "name": "STD (AI models)",
         "opacity": 0.5,
         "type": "bar",
         "x": [
          "student",
          "soldier",
          "nurse (sister)",
          "firefighter",
          "server",
          "security guard",
          "receptionist",
          "beautician",
          "dietitian",
          "engineer",
          "scientist",
          "worker",
          "farmer",
          "PR specialist",
          "teacher",
          "HR personnel",
          "programmer",
          "pilot",
          "flight attendant",
          "caregiver",
          "cashier",
          "architect",
          "CEO",
          "shop assistant",
          "doctor",
          "manager",
          "accountant",
          "director",
          "police officer",
          "gardener",
          "prosecutor",
          "ticket seller",
          "pathologist",
          "waiter",
          "chef",
          "professor",
          "hairdresser",
          "judge",
          "lifeguard",
          "nurse",
          "cleaner",
          "model",
          "housekeeper",
          "secretary"
         ],
         "y": {
          "bdata": "FgpaxP9OPT/K6GFmqQmwP9H/RzEtyrY/rUL3ydlwvz9ULr6nmjPDP3OIC568k8M/EA6SRaxTxj+xsvpJ+b3HPxOhbSAMqMg/6Z2Wo+hTyT9OO9bs5g3KP7wvRzwaLcs/tmPqGD5zyz+ZGWuAB8bLP8EmBMPgKc0/2ASgJ1lmzj+6Bf8Ih53OPx2Mx5I7g88/Q8mmf9CWzz8yB2vjrBjQP+ZyoP/3N9A/ehdITVrt0D9L3UBOEDLSP2APTKR2hNI/opnk7Bgg0z8dGmRmQtLUP2ZQcLtMwdU/jNMAjWd12D/f2BZE96zYP4GuDAFlT9k/DhXpS78A2z8evsa9lxLbP4sS2N+Hots/ggmHMevE3D8IN0fIBx7dPzr9Yv9I+N4/laG8XXhx4D/mVx7VX/vjP3O+68kzL+Q/j3qmOfu15j9qkC/zEp3pP2fOzi8Lp+s/nTP938ai8j83lBPVPjD1Pw==",
          "dtype": "f8"
         },
         "yaxis": "y2"
        },
        {
         "customdata": [
          [
           "diák"
          ],
          [
           "katona"
          ],
          [
           "nővér"
          ],
          [
           "tűzoltó"
          ],
          [
           "felszolgáló"
          ],
          [
           "biztonsági őr"
          ],
          [
           "recepciós"
          ],
          [
           "kozmetikus"
          ],
          [
           "dietetikus"
          ],
          [
           "mérnök"
          ],
          [
           "tudós"
          ],
          [
           "munkás"
          ],
          [
           "földműves"
          ],
          [
           "PR munkatárs"
          ],
          [
           "tanár"
          ],
          [
           "HR-es"
          ],
          [
           "programozó"
          ],
          [
           "pilóta"
          ],
          [
           "légiutas-kísérő"
          ],
          [
           "gondozó"
          ],
          [
           "pénztáros"
          ],
          [
           "építész"
          ],
          [
           "vezérigazgató"
          ],
          [
           "bolti eladó"
          ],
          [
           "orvos"
          ],
          [
           "menedzser"
          ],
          [
           "könyvelő"
          ],
          [
           "rendező"
          ],
          [
           "rendőr"
          ],
          [
           "kertész"
          ],
          [
           "ügyész"
          ],
          [
           "jegyárus"
          ],
          [
           "kórboncnok"
          ],
          [
           "pincér"
          ],
          [
           "szakács"
          ],
          [
           "professzor"
          ],
          [
           "fodrász"
          ],
          [
           "bíró"
          ],
          [
           "vízimentő"
          ],
          [
           "ápoló"
          ],
          [
           "takarító"
          ],
          [
           "modell"
          ],
          [
           "házvezető"
          ],
          [
           "titkár"
          ]
         ],
         "hovertemplate": "Range: %{y:.3f}<br>Occupation: %{x}<br>Hungarian: %{customdata[0]}",
         "marker": {
          "color": "lightgray"
         },
         "name": "Range (AI models)",
         "opacity": 0.5,
         "type": "bar",
         "x": [
          "student",
          "soldier",
          "nurse (sister)",
          "firefighter",
          "server",
          "security guard",
          "receptionist",
          "beautician",
          "dietitian",
          "engineer",
          "scientist",
          "worker",
          "farmer",
          "PR specialist",
          "teacher",
          "HR personnel",
          "programmer",
          "pilot",
          "flight attendant",
          "caregiver",
          "cashier",
          "architect",
          "CEO",
          "shop assistant",
          "doctor",
          "manager",
          "accountant",
          "director",
          "police officer",
          "gardener",
          "prosecutor",
          "ticket seller",
          "pathologist",
          "waiter",
          "chef",
          "professor",
          "hairdresser",
          "judge",
          "lifeguard",
          "nurse",
          "cleaner",
          "model",
          "housekeeper",
          "secretary"
         ],
         "y": {
          "bdata": "/Knx0k1iUD9AMzMzMzPDP5DrUbgehcs/8P3UeOkm0T/+1HjpJjHYPwgAAAAAANg/ON0kBoGV2z8AAAAAAADgP1yPwvUoXN8/uJ8aL90k3j/3U+Olm8TgP1C4HoXrUeA/oBov3SQG4T/4U+Olm8TgP1uPwvUoXOM/apHtfD814j9mvHSTGATiPxwEVg4tsuU/XI/C9Shc4z/+U+Olm8TkP3aTGARWDuE/SgwCK4cW5T94vp8aL93oP69H4XoUruc/JgaBlUOL6D9/arx0kxjoP7Gd76fGS+s/EFg5tMh27j9i5dAi2/nuP5QYBFYOLfA/A1YOLbKd8T8ssp3vp8bvP7/KoUW28/E/MN0kBoGV6z+GwMqhRbbvP8DKoUW28/E/zMzMzMzM8D8/NV66SQz6PzwK16NwPfw/YOXQItv5/D/D9Shcj8IAQBov3SQGgQFA9ihcj8L1BUBKDAIrhxYLQA==",
          "dtype": "f8"
         },
         "yaxis": "y2"
        }
       ],
       "layout": {
        "barmode": "group",
        "font": {
         "color": "black",
         "family": "Times New Roman, serif",
         "size": 16
        },
        "legend": {
         "orientation": "h",
         "x": 0.7,
         "xanchor": "center",
         "y": 1.025,
         "yanchor": "bottom"
        },
        "margin": {
         "b": 0,
         "l": 0,
         "r": 0,
         "t": 0
        },
        "template": {
         "data": {
          "bar": [
           {
            "error_x": {
             "color": "#2a3f5f"
            },
            "error_y": {
             "color": "#2a3f5f"
            },
            "marker": {
             "line": {
              "color": "white",
              "width": 0.5
             },
             "pattern": {
              "fillmode": "overlay",
              "size": 10,
              "solidity": 0.2
             }
            },
            "type": "bar"
           }
          ],
          "barpolar": [
           {
            "marker": {
             "line": {
              "color": "white",
              "width": 0.5
             },
             "pattern": {
              "fillmode": "overlay",
              "size": 10,
              "solidity": 0.2
             }
            },
            "type": "barpolar"
           }
          ],
          "carpet": [
           {
            "aaxis": {
             "endlinecolor": "#2a3f5f",
             "gridcolor": "#C8D4E3",
             "linecolor": "#C8D4E3",
             "minorgridcolor": "#C8D4E3",
             "startlinecolor": "#2a3f5f"
            },
            "baxis": {
             "endlinecolor": "#2a3f5f",
             "gridcolor": "#C8D4E3",
             "linecolor": "#C8D4E3",
             "minorgridcolor": "#C8D4E3",
             "startlinecolor": "#2a3f5f"
            },
            "type": "carpet"
           }
          ],
          "choropleth": [
           {
            "colorbar": {
             "outlinewidth": 0,
             "ticks": ""
            },
            "type": "choropleth"
           }
          ],
          "contour": [
           {
            "colorbar": {
             "outlinewidth": 0,
             "ticks": ""
            },
            "colorscale": [
             [
              0,
              "#0d0887"
             ],
             [
              0.1111111111111111,
              "#46039f"
             ],
             [
              0.2222222222222222,
              "#7201a8"
             ],
             [
              0.3333333333333333,
              "#9c179e"
             ],
             [
              0.4444444444444444,
              "#bd3786"
             ],
             [
              0.5555555555555556,
              "#d8576b"
             ],
             [
              0.6666666666666666,
              "#ed7953"
             ],
             [
              0.7777777777777778,
              "#fb9f3a"
             ],
             [
              0.8888888888888888,
              "#fdca26"
             ],
             [
              1,
              "#f0f921"
             ]
            ],
            "type": "contour"
           }
          ],
          "contourcarpet": [
           {
            "colorbar": {
             "outlinewidth": 0,
             "ticks": ""
            },
            "type": "contourcarpet"
           }
          ],
          "heatmap": [
           {
            "colorbar": {
             "outlinewidth": 0,
             "ticks": ""
            },
            "colorscale": [
             [
              0,
              "#0d0887"
             ],
             [
              0.1111111111111111,
              "#46039f"
             ],
             [
              0.2222222222222222,
              "#7201a8"
             ],
             [
              0.3333333333333333,
              "#9c179e"
             ],
             [
              0.4444444444444444,
              "#bd3786"
             ],
             [
              0.5555555555555556,
              "#d8576b"
             ],
             [
              0.6666666666666666,
              "#ed7953"
             ],
             [
              0.7777777777777778,
              "#fb9f3a"
             ],
             [
              0.8888888888888888,
              "#fdca26"
             ],
             [
              1,
              "#f0f921"
             ]
            ],
            "type": "heatmap"
           }
          ],
          "histogram": [
           {
            "marker": {
             "pattern": {
              "fillmode": "overlay",
              "size": 10,
              "solidity": 0.2
             }
            },
            "type": "histogram"
           }
          ],
          "histogram2d": [
           {
            "colorbar": {
             "outlinewidth": 0,
             "ticks": ""
            },
            "colorscale": [
             [
              0,
              "#0d0887"
             ],
             [
              0.1111111111111111,
              "#46039f"
             ],
             [
              0.2222222222222222,
              "#7201a8"
             ],
             [
              0.3333333333333333,
              "#9c179e"
             ],
             [
              0.4444444444444444,
              "#bd3786"
             ],
             [
              0.5555555555555556,
              "#d8576b"
             ],
             [
              0.6666666666666666,
              "#ed7953"
             ],
             [
              0.7777777777777778,
              "#fb9f3a"
             ],
             [
              0.8888888888888888,
              "#fdca26"
             ],
             [
              1,
              "#f0f921"
             ]
            ],
            "type": "histogram2d"
           }
          ],
          "histogram2dcontour": [
           {
            "colorbar": {
             "outlinewidth": 0,
             "ticks": ""
            },
            "colorscale": [
             [
              0,
              "#0d0887"
             ],
             [
              0.1111111111111111,
              "#46039f"
             ],
             [
              0.2222222222222222,
              "#7201a8"
             ],
             [
              0.3333333333333333,
              "#9c179e"
             ],
             [
              0.4444444444444444,
              "#bd3786"
             ],
             [
              0.5555555555555556,
              "#d8576b"
             ],
             [
              0.6666666666666666,
              "#ed7953"
             ],
             [
              0.7777777777777778,
              "#fb9f3a"
             ],
             [
              0.8888888888888888,
              "#fdca26"
             ],
             [
              1,
              "#f0f921"
             ]
            ],
            "type": "histogram2dcontour"
           }
          ],
          "mesh3d": [
           {
            "colorbar": {
             "outlinewidth": 0,
             "ticks": ""
            },
            "type": "mesh3d"
           }
          ],
          "parcoords": [
           {
            "line": {
             "colorbar": {
              "outlinewidth": 0,
              "ticks": ""
             }
            },
            "type": "parcoords"
           }
          ],
          "pie": [
           {
            "automargin": true,
            "type": "pie"
           }
          ],
          "scatter": [
           {
            "fillpattern": {
             "fillmode": "overlay",
             "size": 10,
             "solidity": 0.2
            },
            "type": "scatter"
           }
          ],
          "scatter3d": [
           {
            "line": {
             "colorbar": {
              "outlinewidth": 0,
              "ticks": ""
             }
            },
            "marker": {
             "colorbar": {
              "outlinewidth": 0,
              "ticks": ""
             }
            },
            "type": "scatter3d"
           }
          ],
          "scattercarpet": [
           {
            "marker": {
             "colorbar": {
              "outlinewidth": 0,
              "ticks": ""
             }
            },
            "type": "scattercarpet"
           }
          ],
          "scattergeo": [
           {
            "marker": {
             "colorbar": {
              "outlinewidth": 0,
              "ticks": ""
             }
            },
            "type": "scattergeo"
           }
          ],
          "scattergl": [
           {
            "marker": {
             "colorbar": {
              "outlinewidth": 0,
              "ticks": ""
             }
            },
            "type": "scattergl"
           }
          ],
          "scattermap": [
           {
            "marker": {
             "colorbar": {
              "outlinewidth": 0,
              "ticks": ""
             }
            },
            "type": "scattermap"
           }
          ],
          "scattermapbox": [
           {
            "marker": {
             "colorbar": {
              "outlinewidth": 0,
              "ticks": ""
             }
            },
            "type": "scattermapbox"
           }
          ],
          "scatterpolar": [
           {
            "marker": {
             "colorbar": {
              "outlinewidth": 0,
              "ticks": ""
             }
            },
            "type": "scatterpolar"
           }
          ],
          "scatterpolargl": [
           {
            "marker": {
             "colorbar": {
              "outlinewidth": 0,
              "ticks": ""
             }
            },
            "type": "scatterpolargl"
           }
          ],
          "scatterternary": [
           {
            "marker": {
             "colorbar": {
              "outlinewidth": 0,
              "ticks": ""
             }
            },
            "type": "scatterternary"
           }
          ],
          "surface": [
           {
            "colorbar": {
             "outlinewidth": 0,
             "ticks": ""
            },
            "colorscale": [
             [
              0,
              "#0d0887"
             ],
             [
              0.1111111111111111,
              "#46039f"
             ],
             [
              0.2222222222222222,
              "#7201a8"
             ],
             [
              0.3333333333333333,
              "#9c179e"
             ],
             [
              0.4444444444444444,
              "#bd3786"
             ],
             [
              0.5555555555555556,
              "#d8576b"
             ],
             [
              0.6666666666666666,
              "#ed7953"
             ],
             [
              0.7777777777777778,
              "#fb9f3a"
             ],
             [
              0.8888888888888888,
              "#fdca26"
             ],
             [
              1,
              "#f0f921"
             ]
            ],
            "type": "surface"
           }
          ],
          "table": [
           {
            "cells": {
             "fill": {
              "color": "#EBF0F8"
             },
             "line": {
              "color": "white"
             }
            },
            "header": {
             "fill": {
              "color": "#C8D4E3"
             },
             "line": {
              "color": "white"
             }
            },
            "type": "table"
           }
          ]
         },
         "layout": {
          "annotationdefaults": {
           "arrowcolor": "#2a3f5f",
           "arrowhead": 0,
           "arrowwidth": 1
          },
          "autotypenumbers": "strict",
          "coloraxis": {
           "colorbar": {
            "outlinewidth": 0,
            "ticks": ""
           }
          },
          "colorscale": {
           "diverging": [
            [
             0,
             "#8e0152"
            ],
            [
             0.1,
             "#c51b7d"
            ],
            [
             0.2,
             "#de77ae"
            ],
            [
             0.3,
             "#f1b6da"
            ],
            [
             0.4,
             "#fde0ef"
            ],
            [
             0.5,
             "#f7f7f7"
            ],
            [
             0.6,
             "#e6f5d0"
            ],
            [
             0.7,
             "#b8e186"
            ],
            [
             0.8,
             "#7fbc41"
            ],
            [
             0.9,
             "#4d9221"
            ],
            [
             1,
             "#276419"
            ]
           ],
           "sequential": [
            [
             0,
             "#0d0887"
            ],
            [
             0.1111111111111111,
             "#46039f"
            ],
            [
             0.2222222222222222,
             "#7201a8"
            ],
            [
             0.3333333333333333,
             "#9c179e"
            ],
            [
             0.4444444444444444,
             "#bd3786"
            ],
            [
             0.5555555555555556,
             "#d8576b"
            ],
            [
             0.6666666666666666,
             "#ed7953"
            ],
            [
             0.7777777777777778,
             "#fb9f3a"
            ],
            [
             0.8888888888888888,
             "#fdca26"
            ],
            [
             1,
             "#f0f921"
            ]
           ],
           "sequentialminus": [
            [
             0,
             "#0d0887"
            ],
            [
             0.1111111111111111,
             "#46039f"
            ],
            [
             0.2222222222222222,
             "#7201a8"
            ],
            [
             0.3333333333333333,
             "#9c179e"
            ],
            [
             0.4444444444444444,
             "#bd3786"
            ],
            [
             0.5555555555555556,
             "#d8576b"
            ],
            [
             0.6666666666666666,
             "#ed7953"
            ],
            [
             0.7777777777777778,
             "#fb9f3a"
            ],
            [
             0.8888888888888888,
             "#fdca26"
            ],
            [
             1,
             "#f0f921"
            ]
           ]
          },
          "colorway": [
           "#636efa",
           "#EF553B",
           "#00cc96",
           "#ab63fa",
           "#FFA15A",
           "#19d3f3",
           "#FF6692",
           "#B6E880",
           "#FF97FF",
           "#FECB52"
          ],
          "font": {
           "color": "#2a3f5f"
          },
          "geo": {
           "bgcolor": "white",
           "lakecolor": "white",
           "landcolor": "white",
           "showlakes": true,
           "showland": true,
           "subunitcolor": "#C8D4E3"
          },
          "hoverlabel": {
           "align": "left"
          },
          "hovermode": "closest",
          "mapbox": {
           "style": "light"
          },
          "paper_bgcolor": "white",
          "plot_bgcolor": "white",
          "polar": {
           "angularaxis": {
            "gridcolor": "#EBF0F8",
            "linecolor": "#EBF0F8",
            "ticks": ""
           },
           "bgcolor": "white",
           "radialaxis": {
            "gridcolor": "#EBF0F8",
            "linecolor": "#EBF0F8",
            "ticks": ""
           }
          },
          "scene": {
           "xaxis": {
            "backgroundcolor": "white",
            "gridcolor": "#DFE8F3",
            "gridwidth": 2,
            "linecolor": "#EBF0F8",
            "showbackground": true,
            "ticks": "",
            "zerolinecolor": "#EBF0F8"
           },
           "yaxis": {
            "backgroundcolor": "white",
            "gridcolor": "#DFE8F3",
            "gridwidth": 2,
            "linecolor": "#EBF0F8",
            "showbackground": true,
            "ticks": "",
            "zerolinecolor": "#EBF0F8"
           },
           "zaxis": {
            "backgroundcolor": "white",
            "gridcolor": "#DFE8F3",
            "gridwidth": 2,
            "linecolor": "#EBF0F8",
            "showbackground": true,
            "ticks": "",
            "zerolinecolor": "#EBF0F8"
           }
          },
          "shapedefaults": {
           "line": {
            "color": "#2a3f5f"
           }
          },
          "ternary": {
           "aaxis": {
            "gridcolor": "#DFE8F3",
            "linecolor": "#A2B1C6",
            "ticks": ""
           },
           "baxis": {
            "gridcolor": "#DFE8F3",
            "linecolor": "#A2B1C6",
            "ticks": ""
           },
           "bgcolor": "white",
           "caxis": {
            "gridcolor": "#DFE8F3",
            "linecolor": "#A2B1C6",
            "ticks": ""
           }
          },
          "title": {
           "x": 0.05
          },
          "xaxis": {
           "automargin": true,
           "gridcolor": "#EBF0F8",
           "linecolor": "#EBF0F8",
           "ticks": "",
           "title": {
            "standoff": 15
           },
           "zerolinecolor": "#EBF0F8",
           "zerolinewidth": 2
          },
          "yaxis": {
           "automargin": true,
           "gridcolor": "#EBF0F8",
           "linecolor": "#EBF0F8",
           "ticks": "",
           "title": {
            "standoff": 15
           },
           "zerolinecolor": "#EBF0F8",
           "zerolinewidth": 2
          }
         }
        },
        "title": {
         "text": "AI agent agreement and variation across Hungarian occupations"
        },
        "xaxis": {
         "tickangle": 45
        },
        "yaxis": {
         "range": [
          -3.2,
          3.2
         ],
         "tickvals": [
          -3,
          -2,
          -1,
          0,
          1,
          2,
          3
         ],
         "title": {
          "text": "Mean Rating (Bias)"
         }
        },
        "yaxis2": {
         "overlaying": "y",
         "showgrid": false,
         "side": "right",
         "title": {
          "text": "STD / Range"
         }
        }
       }
      }
     },
     "metadata": {},
     "output_type": "display_data"
    }
   ],
   "source": [
    "import plotly.graph_objects as go\n",
    "\n",
    "# Sort the full DataFrame by ai_std (lowest to highest)\n",
    "df_ai_sorted = df_hu_plot_sorted.sort_values('ai_std')\n",
    "\n",
    "# Prepare data for plotting\n",
    "x_labels = df_ai_sorted['en']\n",
    "hu_labels = df_ai_sorted['hu']\n",
    "means = df_ai_sorted[['lechat_hu', 'copilot_hu', 'chatgpt_hu', 'deepseek_hu', 'gemini_hu']].values.T\n",
    "models = ['Le Chat', 'Copilot', 'ChatGPT', 'Deepseek', 'Gemini']\n",
    "colors = ['#f95010', '#F2AD22', '#00A67E', '#3C5DFF', '#9177C7']\n",
    "markers = ['star-square', 'pentagon', 'hexagon', 'circle', 'star-diamond']\n",
    "\n",
    "fig = go.Figure()\n",
    "\n",
    "# Plot each model's mean as a scatter with markers (not lines)\n",
    "for i, (model, color, marker) in enumerate(zip(models, colors, markers)):\n",
    "    fig.add_trace(go.Scatter(\n",
    "        x=x_labels,\n",
    "        y=means[i],\n",
    "        mode='markers',\n",
    "        name=model,\n",
    "        marker=dict(size=14, color=color, symbol=marker),\n",
    "        customdata=np.stack([hu_labels], axis=-1),\n",
    "        hovertemplate=f\"{model}: %{{y:.2f}}<br>Occupation: %{{x}}<br>Hungarian: %{{customdata[0]}}\"\n",
    "    ))\n",
    "\n",
    "# Add error bars for std\n",
    "fig.add_trace(go.Bar(\n",
    "    x=x_labels,\n",
    "    y=df_ai_sorted['ai_std'],\n",
    "    name='STD (AI models)',\n",
    "    marker_color='gray',\n",
    "    opacity=0.5,\n",
    "    yaxis='y2',\n",
    "    customdata=np.stack([hu_labels], axis=-1),\n",
    "    hovertemplate='STD: %{y:.3f}<br>Occupation: %{x}<br>Hungarian: %{customdata[0]}'\n",
    "))\n",
    "\n",
    "# Add bar for range\n",
    "fig.add_trace(go.Bar(\n",
    "    x=x_labels,\n",
    "    y=df_ai_sorted['ai_range'],\n",
    "    name='Range (AI models)',\n",
    "    marker_color='lightgray',\n",
    "    opacity=0.5,\n",
    "    yaxis='y2',\n",
    "    customdata=np.stack([hu_labels], axis=-1),\n",
    "    hovertemplate='Range: %{y:.3f}<br>Occupation: %{x}<br>Hungarian: %{customdata[0]}'\n",
    "))\n",
    "\n",
    "# Set up secondary y-axis for std and range\n",
    "fig.update_layout(\n",
    "    title='AI agent agreement and variation across Hungarian occupations',\n",
    "    yaxis=dict(\n",
    "        title='Mean Rating (Bias)',\n",
    "        range=[-3.2, 3.2],\n",
    "        tickvals=[-3, -2, -1, 0, 1, 2, 3]\n",
    "    ),\n",
    "    yaxis2=dict(\n",
    "        title='STD / Range',\n",
    "        overlaying='y',\n",
    "        side='right',\n",
    "        showgrid=False\n",
    "    ),\n",
    "    barmode='group',\n",
    "    legend=dict(\n",
    "        orientation='h',\n",
    "        yanchor='bottom',\n",
    "        y=1.025,\n",
    "        xanchor='center',\n",
    "        x=0.7\n",
    "    ),\n",
    "    template='plotly_white',\n",
    "    margin=dict(l=0, r=0, t=0, b=0),\n",
    "    font=dict(family=\"Times New Roman, serif\", size=16, color='black'),\n",
    "    xaxis_tickangle=45  # Rotate x-axis tick labels by 45 degrees\n",
    ")\n",
    "\n",
    "fig.show()"
   ]
  },
  {
   "cell_type": "markdown",
   "id": "a6b1eb09",
   "metadata": {},
   "source": [
    "#### Correlation"
   ]
  },
  {
   "cell_type": "code",
   "execution_count": 238,
   "id": "d0055fdd",
   "metadata": {},
   "outputs": [
    {
     "name": "stdout",
     "output_type": "stream",
     "text": [
      "Mean absolute difference between human and AI model ratings (lower is closer):\n",
      "             mean_absolute_difference\n",
      "lechat_hu                    0.453926\n",
      "gemini_hu                    0.639576\n",
      "deepseek_hu                  0.705913\n",
      "copilot_hu                   0.746975\n",
      "chatgpt_hu                   0.754632\n",
      "\n",
      "The AI model whose mean ratings are closest to human ratings is: lechat_hu\n"
     ]
    },
    {
     "data": {
      "application/vnd.plotly.v1+json": {
       "config": {
        "plotlyServerURL": "https://plot.ly"
       },
       "data": [
        {
         "colorbar": {
          "title": {
           "text": "Pearson R"
          }
         },
         "colorscale": [
          [
           0,
           "white"
          ],
          [
           1,
           "#87c55f"
          ]
         ],
         "reversescale": false,
         "showscale": true,
         "type": "heatmap",
         "x": [
          "mean_hu",
          "lechat_hu",
          "copilot_hu",
          "chatgpt_hu",
          "deepseek_hu",
          "gemini_hu"
         ],
         "y": [
          "mean_hu",
          "lechat_hu",
          "copilot_hu",
          "chatgpt_hu",
          "deepseek_hu",
          "gemini_hu"
         ],
         "z": {
          "bdata": "AAAAAAAA8D/iF6/AItTuPxSvnp3fne0/592ug/d67j9nyFwvcw7sP7PUE2UJfu4/4hevwCLU7j8AAAAAAADwP54LPvNL1+0/3lKAfd1O7z+tI1LPasntPx6ejpkcz+4/FK+end+d7T+eCz7zS9ftPwAAAAAAAPA/c1cKquTx7T8i+iP44YjsPx7EWNysju4/592ug/d67j/eUoB93U7vP3NXCqrk8e0/AAAAAAAA8D8xuP/MyjLtPz/1oA+yGe8/Z8hcL3MO7D+tI1LPasntPyL6I/jhiOw/Mbj/zMoy7T8AAAAAAADwP7Sx1yijbu0/s9QTZQl+7j8eno6ZHM/uPx7EWNysju4/P/WgD7IZ7z+0sdcoo27tPwAAAAAAAPA/",
          "dtype": "f8",
          "shape": "6, 6"
         },
         "zmax": 1,
         "zmin": -1
        }
       ],
       "layout": {
        "annotations": [
         {
          "font": {
           "color": "#FFFFFF"
          },
          "showarrow": false,
          "text": "R=1.00<br>p=0",
          "x": "mean_hu",
          "xref": "x",
          "y": "mean_hu",
          "yref": "y"
         },
         {
          "font": {
           "color": "#FFFFFF"
          },
          "showarrow": false,
          "text": "R=0.96<br>p=1.23e-25",
          "x": "lechat_hu",
          "xref": "x",
          "y": "mean_hu",
          "yref": "y"
         },
         {
          "font": {
           "color": "#FFFFFF"
          },
          "showarrow": false,
          "text": "R=0.93<br>p=2.56e-19",
          "x": "copilot_hu",
          "xref": "x",
          "y": "mean_hu",
          "yref": "y"
         },
         {
          "font": {
           "color": "#FFFFFF"
          },
          "showarrow": false,
          "text": "R=0.95<br>p=2.62e-23",
          "x": "chatgpt_hu",
          "xref": "x",
          "y": "mean_hu",
          "yref": "y"
         },
         {
          "font": {
           "color": "#FFFFFF"
          },
          "showarrow": false,
          "text": "R=0.88<br>p=6.15e-15",
          "x": "deepseek_hu",
          "xref": "x",
          "y": "mean_hu",
          "yref": "y"
         },
         {
          "font": {
           "color": "#FFFFFF"
          },
          "showarrow": false,
          "text": "R=0.95<br>p=2.23e-23",
          "x": "gemini_hu",
          "xref": "x",
          "y": "mean_hu",
          "yref": "y"
         },
         {
          "font": {
           "color": "#FFFFFF"
          },
          "showarrow": false,
          "text": "R=0.96<br>p=1.23e-25",
          "x": "mean_hu",
          "xref": "x",
          "y": "lechat_hu",
          "yref": "y"
         },
         {
          "font": {
           "color": "#FFFFFF"
          },
          "showarrow": false,
          "text": "R=1.00<br>p=0",
          "x": "lechat_hu",
          "xref": "x",
          "y": "lechat_hu",
          "yref": "y"
         },
         {
          "font": {
           "color": "#FFFFFF"
          },
          "showarrow": false,
          "text": "R=0.93<br>p=3.44e-20",
          "x": "copilot_hu",
          "xref": "x",
          "y": "lechat_hu",
          "yref": "y"
         },
         {
          "font": {
           "color": "#FFFFFF"
          },
          "showarrow": false,
          "text": "R=0.98<br>p=2.25e-30",
          "x": "chatgpt_hu",
          "xref": "x",
          "y": "lechat_hu",
          "yref": "y"
         },
         {
          "font": {
           "color": "#FFFFFF"
          },
          "showarrow": false,
          "text": "R=0.93<br>p=5.69e-20",
          "x": "deepseek_hu",
          "xref": "x",
          "y": "lechat_hu",
          "yref": "y"
         },
         {
          "font": {
           "color": "#FFFFFF"
          },
          "showarrow": false,
          "text": "R=0.96<br>p=1.74e-25",
          "x": "gemini_hu",
          "xref": "x",
          "y": "lechat_hu",
          "yref": "y"
         },
         {
          "font": {
           "color": "#FFFFFF"
          },
          "showarrow": false,
          "text": "R=0.93<br>p=2.56e-19",
          "x": "mean_hu",
          "xref": "x",
          "y": "copilot_hu",
          "yref": "y"
         },
         {
          "font": {
           "color": "#FFFFFF"
          },
          "showarrow": false,
          "text": "R=0.93<br>p=3.44e-20",
          "x": "lechat_hu",
          "xref": "x",
          "y": "copilot_hu",
          "yref": "y"
         },
         {
          "font": {
           "color": "#FFFFFF"
          },
          "showarrow": false,
          "text": "R=1.00<br>p=0",
          "x": "copilot_hu",
          "xref": "x",
          "y": "copilot_hu",
          "yref": "y"
         },
         {
          "font": {
           "color": "#FFFFFF"
          },
          "showarrow": false,
          "text": "R=0.94<br>p=1.26e-20",
          "x": "chatgpt_hu",
          "xref": "x",
          "y": "copilot_hu",
          "yref": "y"
         },
         {
          "font": {
           "color": "#FFFFFF"
          },
          "showarrow": false,
          "text": "R=0.89<br>p=4.74e-16",
          "x": "deepseek_hu",
          "xref": "x",
          "y": "copilot_hu",
          "yref": "y"
         },
         {
          "font": {
           "color": "#FFFFFF"
          },
          "showarrow": false,
          "text": "R=0.95<br>p=9.01e-24",
          "x": "gemini_hu",
          "xref": "x",
          "y": "copilot_hu",
          "yref": "y"
         },
         {
          "font": {
           "color": "#FFFFFF"
          },
          "showarrow": false,
          "text": "R=0.95<br>p=2.62e-23",
          "x": "mean_hu",
          "xref": "x",
          "y": "chatgpt_hu",
          "yref": "y"
         },
         {
          "font": {
           "color": "#FFFFFF"
          },
          "showarrow": false,
          "text": "R=0.98<br>p=2.25e-30",
          "x": "lechat_hu",
          "xref": "x",
          "y": "chatgpt_hu",
          "yref": "y"
         },
         {
          "font": {
           "color": "#FFFFFF"
          },
          "showarrow": false,
          "text": "R=0.94<br>p=1.26e-20",
          "x": "copilot_hu",
          "xref": "x",
          "y": "chatgpt_hu",
          "yref": "y"
         },
         {
          "font": {
           "color": "#FFFFFF"
          },
          "showarrow": false,
          "text": "R=1.00<br>p=0",
          "x": "chatgpt_hu",
          "xref": "x",
          "y": "chatgpt_hu",
          "yref": "y"
         },
         {
          "font": {
           "color": "#FFFFFF"
          },
          "showarrow": false,
          "text": "R=0.91<br>p=6.7e-18",
          "x": "deepseek_hu",
          "xref": "x",
          "y": "chatgpt_hu",
          "yref": "y"
         },
         {
          "font": {
           "color": "#FFFFFF"
          },
          "showarrow": false,
          "text": "R=0.97<br>p=5.24e-28",
          "x": "gemini_hu",
          "xref": "x",
          "y": "chatgpt_hu",
          "yref": "y"
         },
         {
          "font": {
           "color": "#FFFFFF"
          },
          "showarrow": false,
          "text": "R=0.88<br>p=6.15e-15",
          "x": "mean_hu",
          "xref": "x",
          "y": "deepseek_hu",
          "yref": "y"
         },
         {
          "font": {
           "color": "#FFFFFF"
          },
          "showarrow": false,
          "text": "R=0.93<br>p=5.69e-20",
          "x": "lechat_hu",
          "xref": "x",
          "y": "deepseek_hu",
          "yref": "y"
         },
         {
          "font": {
           "color": "#FFFFFF"
          },
          "showarrow": false,
          "text": "R=0.89<br>p=4.74e-16",
          "x": "copilot_hu",
          "xref": "x",
          "y": "deepseek_hu",
          "yref": "y"
         },
         {
          "font": {
           "color": "#FFFFFF"
          },
          "showarrow": false,
          "text": "R=0.91<br>p=6.7e-18",
          "x": "chatgpt_hu",
          "xref": "x",
          "y": "deepseek_hu",
          "yref": "y"
         },
         {
          "font": {
           "color": "#FFFFFF"
          },
          "showarrow": false,
          "text": "R=1.00<br>p=0",
          "x": "deepseek_hu",
          "xref": "x",
          "y": "deepseek_hu",
          "yref": "y"
         },
         {
          "font": {
           "color": "#FFFFFF"
          },
          "showarrow": false,
          "text": "R=0.92<br>p=1.16e-18",
          "x": "gemini_hu",
          "xref": "x",
          "y": "deepseek_hu",
          "yref": "y"
         },
         {
          "font": {
           "color": "#FFFFFF"
          },
          "showarrow": false,
          "text": "R=0.95<br>p=2.23e-23",
          "x": "mean_hu",
          "xref": "x",
          "y": "gemini_hu",
          "yref": "y"
         },
         {
          "font": {
           "color": "#FFFFFF"
          },
          "showarrow": false,
          "text": "R=0.96<br>p=1.74e-25",
          "x": "lechat_hu",
          "xref": "x",
          "y": "gemini_hu",
          "yref": "y"
         },
         {
          "font": {
           "color": "#FFFFFF"
          },
          "showarrow": false,
          "text": "R=0.95<br>p=9.01e-24",
          "x": "copilot_hu",
          "xref": "x",
          "y": "gemini_hu",
          "yref": "y"
         },
         {
          "font": {
           "color": "#FFFFFF"
          },
          "showarrow": false,
          "text": "R=0.97<br>p=5.24e-28",
          "x": "chatgpt_hu",
          "xref": "x",
          "y": "gemini_hu",
          "yref": "y"
         },
         {
          "font": {
           "color": "#FFFFFF"
          },
          "showarrow": false,
          "text": "R=0.92<br>p=1.16e-18",
          "x": "deepseek_hu",
          "xref": "x",
          "y": "gemini_hu",
          "yref": "y"
         },
         {
          "font": {
           "color": "#FFFFFF"
          },
          "showarrow": false,
          "text": "R=1.00<br>p=0",
          "x": "gemini_hu",
          "xref": "x",
          "y": "gemini_hu",
          "yref": "y"
         }
        ],
        "font": {
         "color": "black",
         "family": "Times New Roman, serif",
         "size": 12
        },
        "height": 500,
        "margin": {
         "b": 0,
         "l": 0,
         "r": 0,
         "t": 40
        },
        "template": {
         "data": {
          "bar": [
           {
            "error_x": {
             "color": "#2a3f5f"
            },
            "error_y": {
             "color": "#2a3f5f"
            },
            "marker": {
             "line": {
              "color": "#E5ECF6",
              "width": 0.5
             },
             "pattern": {
              "fillmode": "overlay",
              "size": 10,
              "solidity": 0.2
             }
            },
            "type": "bar"
           }
          ],
          "barpolar": [
           {
            "marker": {
             "line": {
              "color": "#E5ECF6",
              "width": 0.5
             },
             "pattern": {
              "fillmode": "overlay",
              "size": 10,
              "solidity": 0.2
             }
            },
            "type": "barpolar"
           }
          ],
          "carpet": [
           {
            "aaxis": {
             "endlinecolor": "#2a3f5f",
             "gridcolor": "white",
             "linecolor": "white",
             "minorgridcolor": "white",
             "startlinecolor": "#2a3f5f"
            },
            "baxis": {
             "endlinecolor": "#2a3f5f",
             "gridcolor": "white",
             "linecolor": "white",
             "minorgridcolor": "white",
             "startlinecolor": "#2a3f5f"
            },
            "type": "carpet"
           }
          ],
          "choropleth": [
           {
            "colorbar": {
             "outlinewidth": 0,
             "ticks": ""
            },
            "type": "choropleth"
           }
          ],
          "contour": [
           {
            "colorbar": {
             "outlinewidth": 0,
             "ticks": ""
            },
            "colorscale": [
             [
              0,
              "#0d0887"
             ],
             [
              0.1111111111111111,
              "#46039f"
             ],
             [
              0.2222222222222222,
              "#7201a8"
             ],
             [
              0.3333333333333333,
              "#9c179e"
             ],
             [
              0.4444444444444444,
              "#bd3786"
             ],
             [
              0.5555555555555556,
              "#d8576b"
             ],
             [
              0.6666666666666666,
              "#ed7953"
             ],
             [
              0.7777777777777778,
              "#fb9f3a"
             ],
             [
              0.8888888888888888,
              "#fdca26"
             ],
             [
              1,
              "#f0f921"
             ]
            ],
            "type": "contour"
           }
          ],
          "contourcarpet": [
           {
            "colorbar": {
             "outlinewidth": 0,
             "ticks": ""
            },
            "type": "contourcarpet"
           }
          ],
          "heatmap": [
           {
            "colorbar": {
             "outlinewidth": 0,
             "ticks": ""
            },
            "colorscale": [
             [
              0,
              "#0d0887"
             ],
             [
              0.1111111111111111,
              "#46039f"
             ],
             [
              0.2222222222222222,
              "#7201a8"
             ],
             [
              0.3333333333333333,
              "#9c179e"
             ],
             [
              0.4444444444444444,
              "#bd3786"
             ],
             [
              0.5555555555555556,
              "#d8576b"
             ],
             [
              0.6666666666666666,
              "#ed7953"
             ],
             [
              0.7777777777777778,
              "#fb9f3a"
             ],
             [
              0.8888888888888888,
              "#fdca26"
             ],
             [
              1,
              "#f0f921"
             ]
            ],
            "type": "heatmap"
           }
          ],
          "histogram": [
           {
            "marker": {
             "pattern": {
              "fillmode": "overlay",
              "size": 10,
              "solidity": 0.2
             }
            },
            "type": "histogram"
           }
          ],
          "histogram2d": [
           {
            "colorbar": {
             "outlinewidth": 0,
             "ticks": ""
            },
            "colorscale": [
             [
              0,
              "#0d0887"
             ],
             [
              0.1111111111111111,
              "#46039f"
             ],
             [
              0.2222222222222222,
              "#7201a8"
             ],
             [
              0.3333333333333333,
              "#9c179e"
             ],
             [
              0.4444444444444444,
              "#bd3786"
             ],
             [
              0.5555555555555556,
              "#d8576b"
             ],
             [
              0.6666666666666666,
              "#ed7953"
             ],
             [
              0.7777777777777778,
              "#fb9f3a"
             ],
             [
              0.8888888888888888,
              "#fdca26"
             ],
             [
              1,
              "#f0f921"
             ]
            ],
            "type": "histogram2d"
           }
          ],
          "histogram2dcontour": [
           {
            "colorbar": {
             "outlinewidth": 0,
             "ticks": ""
            },
            "colorscale": [
             [
              0,
              "#0d0887"
             ],
             [
              0.1111111111111111,
              "#46039f"
             ],
             [
              0.2222222222222222,
              "#7201a8"
             ],
             [
              0.3333333333333333,
              "#9c179e"
             ],
             [
              0.4444444444444444,
              "#bd3786"
             ],
             [
              0.5555555555555556,
              "#d8576b"
             ],
             [
              0.6666666666666666,
              "#ed7953"
             ],
             [
              0.7777777777777778,
              "#fb9f3a"
             ],
             [
              0.8888888888888888,
              "#fdca26"
             ],
             [
              1,
              "#f0f921"
             ]
            ],
            "type": "histogram2dcontour"
           }
          ],
          "mesh3d": [
           {
            "colorbar": {
             "outlinewidth": 0,
             "ticks": ""
            },
            "type": "mesh3d"
           }
          ],
          "parcoords": [
           {
            "line": {
             "colorbar": {
              "outlinewidth": 0,
              "ticks": ""
             }
            },
            "type": "parcoords"
           }
          ],
          "pie": [
           {
            "automargin": true,
            "type": "pie"
           }
          ],
          "scatter": [
           {
            "fillpattern": {
             "fillmode": "overlay",
             "size": 10,
             "solidity": 0.2
            },
            "type": "scatter"
           }
          ],
          "scatter3d": [
           {
            "line": {
             "colorbar": {
              "outlinewidth": 0,
              "ticks": ""
             }
            },
            "marker": {
             "colorbar": {
              "outlinewidth": 0,
              "ticks": ""
             }
            },
            "type": "scatter3d"
           }
          ],
          "scattercarpet": [
           {
            "marker": {
             "colorbar": {
              "outlinewidth": 0,
              "ticks": ""
             }
            },
            "type": "scattercarpet"
           }
          ],
          "scattergeo": [
           {
            "marker": {
             "colorbar": {
              "outlinewidth": 0,
              "ticks": ""
             }
            },
            "type": "scattergeo"
           }
          ],
          "scattergl": [
           {
            "marker": {
             "colorbar": {
              "outlinewidth": 0,
              "ticks": ""
             }
            },
            "type": "scattergl"
           }
          ],
          "scattermap": [
           {
            "marker": {
             "colorbar": {
              "outlinewidth": 0,
              "ticks": ""
             }
            },
            "type": "scattermap"
           }
          ],
          "scattermapbox": [
           {
            "marker": {
             "colorbar": {
              "outlinewidth": 0,
              "ticks": ""
             }
            },
            "type": "scattermapbox"
           }
          ],
          "scatterpolar": [
           {
            "marker": {
             "colorbar": {
              "outlinewidth": 0,
              "ticks": ""
             }
            },
            "type": "scatterpolar"
           }
          ],
          "scatterpolargl": [
           {
            "marker": {
             "colorbar": {
              "outlinewidth": 0,
              "ticks": ""
             }
            },
            "type": "scatterpolargl"
           }
          ],
          "scatterternary": [
           {
            "marker": {
             "colorbar": {
              "outlinewidth": 0,
              "ticks": ""
             }
            },
            "type": "scatterternary"
           }
          ],
          "surface": [
           {
            "colorbar": {
             "outlinewidth": 0,
             "ticks": ""
            },
            "colorscale": [
             [
              0,
              "#0d0887"
             ],
             [
              0.1111111111111111,
              "#46039f"
             ],
             [
              0.2222222222222222,
              "#7201a8"
             ],
             [
              0.3333333333333333,
              "#9c179e"
             ],
             [
              0.4444444444444444,
              "#bd3786"
             ],
             [
              0.5555555555555556,
              "#d8576b"
             ],
             [
              0.6666666666666666,
              "#ed7953"
             ],
             [
              0.7777777777777778,
              "#fb9f3a"
             ],
             [
              0.8888888888888888,
              "#fdca26"
             ],
             [
              1,
              "#f0f921"
             ]
            ],
            "type": "surface"
           }
          ],
          "table": [
           {
            "cells": {
             "fill": {
              "color": "#EBF0F8"
             },
             "line": {
              "color": "white"
             }
            },
            "header": {
             "fill": {
              "color": "#C8D4E3"
             },
             "line": {
              "color": "white"
             }
            },
            "type": "table"
           }
          ]
         },
         "layout": {
          "annotationdefaults": {
           "arrowcolor": "#2a3f5f",
           "arrowhead": 0,
           "arrowwidth": 1
          },
          "autotypenumbers": "strict",
          "coloraxis": {
           "colorbar": {
            "outlinewidth": 0,
            "ticks": ""
           }
          },
          "colorscale": {
           "diverging": [
            [
             0,
             "#8e0152"
            ],
            [
             0.1,
             "#c51b7d"
            ],
            [
             0.2,
             "#de77ae"
            ],
            [
             0.3,
             "#f1b6da"
            ],
            [
             0.4,
             "#fde0ef"
            ],
            [
             0.5,
             "#f7f7f7"
            ],
            [
             0.6,
             "#e6f5d0"
            ],
            [
             0.7,
             "#b8e186"
            ],
            [
             0.8,
             "#7fbc41"
            ],
            [
             0.9,
             "#4d9221"
            ],
            [
             1,
             "#276419"
            ]
           ],
           "sequential": [
            [
             0,
             "#0d0887"
            ],
            [
             0.1111111111111111,
             "#46039f"
            ],
            [
             0.2222222222222222,
             "#7201a8"
            ],
            [
             0.3333333333333333,
             "#9c179e"
            ],
            [
             0.4444444444444444,
             "#bd3786"
            ],
            [
             0.5555555555555556,
             "#d8576b"
            ],
            [
             0.6666666666666666,
             "#ed7953"
            ],
            [
             0.7777777777777778,
             "#fb9f3a"
            ],
            [
             0.8888888888888888,
             "#fdca26"
            ],
            [
             1,
             "#f0f921"
            ]
           ],
           "sequentialminus": [
            [
             0,
             "#0d0887"
            ],
            [
             0.1111111111111111,
             "#46039f"
            ],
            [
             0.2222222222222222,
             "#7201a8"
            ],
            [
             0.3333333333333333,
             "#9c179e"
            ],
            [
             0.4444444444444444,
             "#bd3786"
            ],
            [
             0.5555555555555556,
             "#d8576b"
            ],
            [
             0.6666666666666666,
             "#ed7953"
            ],
            [
             0.7777777777777778,
             "#fb9f3a"
            ],
            [
             0.8888888888888888,
             "#fdca26"
            ],
            [
             1,
             "#f0f921"
            ]
           ]
          },
          "colorway": [
           "#636efa",
           "#EF553B",
           "#00cc96",
           "#ab63fa",
           "#FFA15A",
           "#19d3f3",
           "#FF6692",
           "#B6E880",
           "#FF97FF",
           "#FECB52"
          ],
          "font": {
           "color": "#2a3f5f"
          },
          "geo": {
           "bgcolor": "white",
           "lakecolor": "white",
           "landcolor": "#E5ECF6",
           "showlakes": true,
           "showland": true,
           "subunitcolor": "white"
          },
          "hoverlabel": {
           "align": "left"
          },
          "hovermode": "closest",
          "mapbox": {
           "style": "light"
          },
          "paper_bgcolor": "white",
          "plot_bgcolor": "#E5ECF6",
          "polar": {
           "angularaxis": {
            "gridcolor": "white",
            "linecolor": "white",
            "ticks": ""
           },
           "bgcolor": "#E5ECF6",
           "radialaxis": {
            "gridcolor": "white",
            "linecolor": "white",
            "ticks": ""
           }
          },
          "scene": {
           "xaxis": {
            "backgroundcolor": "#E5ECF6",
            "gridcolor": "white",
            "gridwidth": 2,
            "linecolor": "white",
            "showbackground": true,
            "ticks": "",
            "zerolinecolor": "white"
           },
           "yaxis": {
            "backgroundcolor": "#E5ECF6",
            "gridcolor": "white",
            "gridwidth": 2,
            "linecolor": "white",
            "showbackground": true,
            "ticks": "",
            "zerolinecolor": "white"
           },
           "zaxis": {
            "backgroundcolor": "#E5ECF6",
            "gridcolor": "white",
            "gridwidth": 2,
            "linecolor": "white",
            "showbackground": true,
            "ticks": "",
            "zerolinecolor": "white"
           }
          },
          "shapedefaults": {
           "line": {
            "color": "#2a3f5f"
           }
          },
          "ternary": {
           "aaxis": {
            "gridcolor": "white",
            "linecolor": "white",
            "ticks": ""
           },
           "baxis": {
            "gridcolor": "white",
            "linecolor": "white",
            "ticks": ""
           },
           "bgcolor": "#E5ECF6",
           "caxis": {
            "gridcolor": "white",
            "linecolor": "white",
            "ticks": ""
           }
          },
          "title": {
           "x": 0.05
          },
          "xaxis": {
           "automargin": true,
           "gridcolor": "white",
           "linecolor": "white",
           "ticks": "",
           "title": {
            "standoff": 15
           },
           "zerolinecolor": "white",
           "zerolinewidth": 2
          },
          "yaxis": {
           "automargin": true,
           "gridcolor": "white",
           "linecolor": "white",
           "ticks": "",
           "title": {
            "standoff": 15
           },
           "zerolinecolor": "white",
           "zerolinewidth": 2
          }
         }
        },
        "title": {
         "text": "Correlation Matrix: Human vs AI Model Ratings"
        },
        "width": 600,
        "xaxis": {
         "dtick": 1,
         "gridcolor": "rgb(0, 0, 0)",
         "side": "top",
         "ticks": ""
        },
        "yaxis": {
         "dtick": 1,
         "ticks": "",
         "ticksuffix": "  "
        }
       }
      }
     },
     "metadata": {},
     "output_type": "display_data"
    },
    {
     "name": "stdout",
     "output_type": "stream",
     "text": [
      "Correlation Results:\n"
     ]
    },
    {
     "data": {
      "text/html": [
       "<div>\n",
       "<style scoped>\n",
       "    .dataframe tbody tr th:only-of-type {\n",
       "        vertical-align: middle;\n",
       "    }\n",
       "\n",
       "    .dataframe tbody tr th {\n",
       "        vertical-align: top;\n",
       "    }\n",
       "\n",
       "    .dataframe thead th {\n",
       "        text-align: right;\n",
       "    }\n",
       "</style>\n",
       "<table border=\"1\" class=\"dataframe\">\n",
       "  <thead>\n",
       "    <tr style=\"text-align: right;\">\n",
       "      <th></th>\n",
       "      <th>AI Model</th>\n",
       "      <th>R</th>\n",
       "      <th>p_value</th>\n",
       "    </tr>\n",
       "  </thead>\n",
       "  <tbody>\n",
       "    <tr>\n",
       "      <th>0</th>\n",
       "      <td>lechat_hu</td>\n",
       "      <td>0.963395</td>\n",
       "      <td>&lt; 0.01</td>\n",
       "    </tr>\n",
       "    <tr>\n",
       "      <th>4</th>\n",
       "      <td>gemini_hu</td>\n",
       "      <td>0.952885</td>\n",
       "      <td>&lt; 0.01</td>\n",
       "    </tr>\n",
       "    <tr>\n",
       "      <th>2</th>\n",
       "      <td>chatgpt_hu</td>\n",
       "      <td>0.952511</td>\n",
       "      <td>&lt; 0.01</td>\n",
       "    </tr>\n",
       "    <tr>\n",
       "      <th>1</th>\n",
       "      <td>copilot_hu</td>\n",
       "      <td>0.925522</td>\n",
       "      <td>&lt; 0.01</td>\n",
       "    </tr>\n",
       "    <tr>\n",
       "      <th>3</th>\n",
       "      <td>deepseek_hu</td>\n",
       "      <td>0.876764</td>\n",
       "      <td>&lt; 0.01</td>\n",
       "    </tr>\n",
       "  </tbody>\n",
       "</table>\n",
       "</div>"
      ],
      "text/plain": [
       "      AI Model         R p_value\n",
       "0    lechat_hu  0.963395  < 0.01\n",
       "4    gemini_hu  0.952885  < 0.01\n",
       "2   chatgpt_hu  0.952511  < 0.01\n",
       "1   copilot_hu  0.925522  < 0.01\n",
       "3  deepseek_hu  0.876764  < 0.01"
      ]
     },
     "execution_count": 238,
     "metadata": {},
     "output_type": "execute_result"
    }
   ],
   "source": [
    "# Calculate the absolute difference between human mean ratings and each AI model's mean ratings\n",
    "ai_columns = ['lechat_hu', 'copilot_hu', 'chatgpt_hu', 'deepseek_hu', 'gemini_hu']\n",
    "diffs = {}\n",
    "\n",
    "# Calculate the absolute differences\n",
    "for col in ai_columns:\n",
    "    diffs[col] = (df_hu['mean_hu'] - df_hu[col]).abs()\n",
    "\n",
    "# Create a DataFrame to summarize the mean absolute differences for each model\n",
    "mean_diffs = {col: diffs[col].mean() for col in ai_columns}\n",
    "mean_diffs_df = pd.DataFrame.from_dict(mean_diffs, orient='index', columns=['mean_absolute_difference'])\n",
    "mean_diffs_df = mean_diffs_df.sort_values('mean_absolute_difference')\n",
    "\n",
    "print(\"Mean absolute difference between human and AI model ratings (lower is closer):\")\n",
    "print(mean_diffs_df)\n",
    "\n",
    "# Find the AI model with the smallest mean absolute difference\n",
    "closest_model = mean_diffs_df.index[0]\n",
    "print(f\"\\nThe AI model whose mean ratings are closest to human ratings is: {closest_model}\")\n",
    "\n",
    "\n",
    "\n",
    "# Plot\n",
    "import plotly.figure_factory as ff\n",
    "from scipy.stats import pearsonr\n",
    "\n",
    "# Prepare correlation and p-value matrices as before\n",
    "corr_cols = ['mean_hu', 'lechat_hu', 'copilot_hu', 'chatgpt_hu', 'deepseek_hu', 'gemini_hu']\n",
    "df_corr = df_hu_plot[corr_cols].dropna()\n",
    "corr_matrix = df_corr.corr(method='pearson')\n",
    "\n",
    "# Compute p-value matrix\n",
    "pval_matrix = pd.DataFrame(np.ones_like(corr_matrix), columns=corr_matrix.columns, index=corr_matrix.index)\n",
    "for i in corr_matrix.columns:\n",
    "    for j in corr_matrix.columns:\n",
    "        if i == j:\n",
    "            pval_matrix.loc[i, j] = 0.0\n",
    "        else:\n",
    "            r, p = pearsonr(df_corr[i], df_corr[j])\n",
    "            pval_matrix.loc[i, j] = p\n",
    "\n",
    "# Annotate with R and p\n",
    "z_text = [[f\"R={corr_matrix.iloc[i, j]:.2f}<br>p={pval_matrix.iloc[i, j]:.3g}\" \n",
    "           for j in range(len(corr_matrix))] for i in range(len(corr_matrix))]\n",
    "\n",
    "fig = ff.create_annotated_heatmap(\n",
    "    z=corr_matrix.values,\n",
    "    x=list(corr_matrix.columns),\n",
    "    y=list(corr_matrix.index),\n",
    "    annotation_text=z_text,\n",
    "    colorscale=hungarian_color_scale,\n",
    "    zmin=-1, zmax=1,\n",
    "    showscale=True,\n",
    "    colorbar=dict(title='Pearson R')\n",
    ")\n",
    "\n",
    "fig.update_layout(\n",
    "    title='Correlation Matrix: Human vs AI Model Ratings',\n",
    "    font=dict(family=\"Times New Roman, serif\", size=12, color='black'),\n",
    "    width=600, height=500,\n",
    "    margin=dict(l=0, r=0, t=40, b=0)\n",
    ")\n",
    "fig.show()\n",
    "\n",
    "\n",
    "\n",
    "# Table\n",
    "# Prepare a DataFrame with R and p for each AI model vs mean_hu\n",
    "correlation_results = pd.DataFrame({\n",
    "    'AI Model': ai_columns,\n",
    "    'R': [corr_matrix.loc['mean_hu', model] for model in ai_columns],\n",
    "    'p_value': [pval_matrix.loc['mean_hu', model] for model in ai_columns]\n",
    "})\n",
    "\n",
    "# If P value is lower than 0.01, show < 0.01\n",
    "correlation_results['p_value'] = correlation_results['p_value'].apply(lambda x: '< 0.01' if x < 0.01 else x)\n",
    "\n",
    "# Sort it by R\n",
    "correlation_results = correlation_results.sort_values(by='R', ascending=False)\n",
    "\n",
    "print(\"Correlation Results:\")\n",
    "correlation_results"
   ]
  },
  {
   "cell_type": "markdown",
   "id": "853d0fcd",
   "metadata": {},
   "source": [
    "## Chinese data"
   ]
  },
  {
   "cell_type": "code",
   "execution_count": 239,
   "id": "86678edd",
   "metadata": {},
   "outputs": [
    {
     "name": "stdout",
     "output_type": "stream",
     "text": [
      "Number of participants: 24\n"
     ]
    },
    {
     "data": {
      "text/html": [
       "<div>\n",
       "<style scoped>\n",
       "    .dataframe tbody tr th:only-of-type {\n",
       "        vertical-align: middle;\n",
       "    }\n",
       "\n",
       "    .dataframe tbody tr th {\n",
       "        vertical-align: top;\n",
       "    }\n",
       "\n",
       "    .dataframe thead th {\n",
       "        text-align: right;\n",
       "    }\n",
       "</style>\n",
       "<table border=\"1\" class=\"dataframe\">\n",
       "  <thead>\n",
       "    <tr style=\"text-align: right;\">\n",
       "      <th></th>\n",
       "      <th>Participant ID</th>\n",
       "      <th>您的年龄是？</th>\n",
       "      <th>您的性别是？</th>\n",
       "      <th>您的学历是？</th>\n",
       "      <th>警察</th>\n",
       "      <th>秘书</th>\n",
       "      <th>教授</th>\n",
       "      <th>护士</th>\n",
       "      <th>高管</th>\n",
       "      <th>教师</th>\n",
       "      <th>...</th>\n",
       "      <th>农民</th>\n",
       "      <th>学生</th>\n",
       "      <th>园丁</th>\n",
       "      <th>飞行员</th>\n",
       "      <th>人事</th>\n",
       "      <th>消防员</th>\n",
       "      <th>科学家</th>\n",
       "      <th>检察官</th>\n",
       "      <th>救生员</th>\n",
       "      <th>建筑师</th>\n",
       "    </tr>\n",
       "  </thead>\n",
       "  <tbody>\n",
       "    <tr>\n",
       "      <th>0</th>\n",
       "      <td>24</td>\n",
       "      <td>小于25岁</td>\n",
       "      <td>男</td>\n",
       "      <td>硕士</td>\n",
       "      <td>1</td>\n",
       "      <td>-1</td>\n",
       "      <td>0</td>\n",
       "      <td>-1</td>\n",
       "      <td>0</td>\n",
       "      <td>0</td>\n",
       "      <td>...</td>\n",
       "      <td>1</td>\n",
       "      <td>0</td>\n",
       "      <td>1</td>\n",
       "      <td>1</td>\n",
       "      <td>0</td>\n",
       "      <td>2</td>\n",
       "      <td>0</td>\n",
       "      <td>1</td>\n",
       "      <td>2</td>\n",
       "      <td>1</td>\n",
       "    </tr>\n",
       "    <tr>\n",
       "      <th>1</th>\n",
       "      <td>1</td>\n",
       "      <td>小于25岁</td>\n",
       "      <td>女</td>\n",
       "      <td>硕士</td>\n",
       "      <td>0</td>\n",
       "      <td>-1</td>\n",
       "      <td>0</td>\n",
       "      <td>-2</td>\n",
       "      <td>0</td>\n",
       "      <td>-1</td>\n",
       "      <td>...</td>\n",
       "      <td>0</td>\n",
       "      <td>0</td>\n",
       "      <td>0</td>\n",
       "      <td>0</td>\n",
       "      <td>-2</td>\n",
       "      <td>1</td>\n",
       "      <td>0</td>\n",
       "      <td>0</td>\n",
       "      <td>1</td>\n",
       "      <td>0</td>\n",
       "    </tr>\n",
       "    <tr>\n",
       "      <th>2</th>\n",
       "      <td>2</td>\n",
       "      <td>小于25岁</td>\n",
       "      <td>女</td>\n",
       "      <td>本科</td>\n",
       "      <td>2</td>\n",
       "      <td>-2</td>\n",
       "      <td>2</td>\n",
       "      <td>-2</td>\n",
       "      <td>2</td>\n",
       "      <td>0</td>\n",
       "      <td>...</td>\n",
       "      <td>1</td>\n",
       "      <td>1</td>\n",
       "      <td>2</td>\n",
       "      <td>2</td>\n",
       "      <td>-2</td>\n",
       "      <td>2</td>\n",
       "      <td>2</td>\n",
       "      <td>2</td>\n",
       "      <td>2</td>\n",
       "      <td>2</td>\n",
       "    </tr>\n",
       "    <tr>\n",
       "      <th>3</th>\n",
       "      <td>3</td>\n",
       "      <td>小于25岁</td>\n",
       "      <td>女</td>\n",
       "      <td>硕士</td>\n",
       "      <td>1</td>\n",
       "      <td>-1</td>\n",
       "      <td>1</td>\n",
       "      <td>-2</td>\n",
       "      <td>1</td>\n",
       "      <td>0</td>\n",
       "      <td>...</td>\n",
       "      <td>0</td>\n",
       "      <td>0</td>\n",
       "      <td>0</td>\n",
       "      <td>1</td>\n",
       "      <td>0</td>\n",
       "      <td>2</td>\n",
       "      <td>1</td>\n",
       "      <td>1</td>\n",
       "      <td>1</td>\n",
       "      <td>2</td>\n",
       "    </tr>\n",
       "    <tr>\n",
       "      <th>4</th>\n",
       "      <td>4</td>\n",
       "      <td>小于25岁</td>\n",
       "      <td>男</td>\n",
       "      <td>本科</td>\n",
       "      <td>1</td>\n",
       "      <td>-1</td>\n",
       "      <td>0</td>\n",
       "      <td>-2</td>\n",
       "      <td>1</td>\n",
       "      <td>0</td>\n",
       "      <td>...</td>\n",
       "      <td>1</td>\n",
       "      <td>0</td>\n",
       "      <td>1</td>\n",
       "      <td>1</td>\n",
       "      <td>1</td>\n",
       "      <td>2</td>\n",
       "      <td>1</td>\n",
       "      <td>1</td>\n",
       "      <td>2</td>\n",
       "      <td>0</td>\n",
       "    </tr>\n",
       "  </tbody>\n",
       "</table>\n",
       "<p>5 rows × 48 columns</p>\n",
       "</div>"
      ],
      "text/plain": [
       "   Participant ID 您的年龄是？ 您的性别是？ 您的学历是？  警察  秘书  教授  护士  高管  教师  ...  农民  学生  \\\n",
       "0              24  小于25岁      男     硕士   1  -1   0  -1   0   0  ...   1   0   \n",
       "1               1  小于25岁      女     硕士   0  -1   0  -2   0  -1  ...   0   0   \n",
       "2               2  小于25岁      女     本科   2  -2   2  -2   2   0  ...   1   1   \n",
       "3               3  小于25岁      女     硕士   1  -1   1  -2   1   0  ...   0   0   \n",
       "4               4  小于25岁      男     本科   1  -1   0  -2   1   0  ...   1   0   \n",
       "\n",
       "   园丁  飞行员  人事  消防员  科学家  检察官  救生员  建筑师  \n",
       "0   1    1   0    2    0    1    2    1  \n",
       "1   0    0  -2    1    0    0    1    0  \n",
       "2   2    2  -2    2    2    2    2    2  \n",
       "3   0    1   0    2    1    1    1    2  \n",
       "4   1    1   1    2    1    1    2    0  \n",
       "\n",
       "[5 rows x 48 columns]"
      ]
     },
     "execution_count": 239,
     "metadata": {},
     "output_type": "execute_result"
    }
   ],
   "source": [
    "# Read Chinese data from hu.xlsx\n",
    "df_zh = pd.read_excel('ratings_zh.xlsx')\n",
    "\n",
    "# Rename ID to Participant ID\n",
    "df_zh.rename(columns={'ID': 'Participant ID'}, inplace=True)\n",
    "\n",
    "# Print number of participants\n",
    "print(f\"Number of participants: {df_zh.shape[0]}\")\n",
    "\n",
    "# Define Chinese attention checks #######################################\n",
    "zh_attention_checks = ['妈妈', '女画家', '女作家', '爸爸', '男画家', '男作家'] # '男演员'\n",
    "\n",
    "# # Show wo failed attention any checks, find participants who did not mark all hu_attention_checks columns as 3\n",
    "# failed_attention = df_zh[df_zh[zh_attention_checks].apply(lambda row: any(row != 3), axis=1)]\n",
    "\n",
    "# # Show the failed participants (if any)\n",
    "# failed = failed_attention[['Participant ID'] + zh_attention_checks] if not failed_attention.empty else print(\"All participants passed the attention checks.\")\n",
    "# failed\n",
    "\n",
    "# Drop attention checks\n",
    "df_zh.drop(columns=zh_attention_checks, inplace=True)\n",
    "df_zh.head()"
   ]
  },
  {
   "cell_type": "code",
   "execution_count": 240,
   "id": "e20094fe",
   "metadata": {},
   "outputs": [
    {
     "name": "stdout",
     "output_type": "stream",
     "text": [
      "Number of participants: 24\n",
      "Number of words: 48\n"
     ]
    },
    {
     "data": {
      "text/html": [
       "<div>\n",
       "<style scoped>\n",
       "    .dataframe tbody tr th:only-of-type {\n",
       "        vertical-align: middle;\n",
       "    }\n",
       "\n",
       "    .dataframe tbody tr th {\n",
       "        vertical-align: top;\n",
       "    }\n",
       "\n",
       "    .dataframe thead th {\n",
       "        text-align: right;\n",
       "    }\n",
       "</style>\n",
       "<table border=\"1\" class=\"dataframe\">\n",
       "  <thead>\n",
       "    <tr style=\"text-align: right;\">\n",
       "      <th></th>\n",
       "      <th>Participant ID</th>\n",
       "      <th>Age</th>\n",
       "      <th>Gender</th>\n",
       "      <th>Education</th>\n",
       "      <th>警察</th>\n",
       "      <th>秘书</th>\n",
       "      <th>教授</th>\n",
       "      <th>护士</th>\n",
       "      <th>高管</th>\n",
       "      <th>教师</th>\n",
       "      <th>...</th>\n",
       "      <th>农民</th>\n",
       "      <th>学生</th>\n",
       "      <th>园丁</th>\n",
       "      <th>飞行员</th>\n",
       "      <th>人事</th>\n",
       "      <th>消防员</th>\n",
       "      <th>科学家</th>\n",
       "      <th>检察官</th>\n",
       "      <th>救生员</th>\n",
       "      <th>建筑师</th>\n",
       "    </tr>\n",
       "  </thead>\n",
       "  <tbody>\n",
       "    <tr>\n",
       "      <th>0</th>\n",
       "      <td>24</td>\n",
       "      <td>&lt;25</td>\n",
       "      <td>male</td>\n",
       "      <td>硕士</td>\n",
       "      <td>-1</td>\n",
       "      <td>1</td>\n",
       "      <td>0</td>\n",
       "      <td>1</td>\n",
       "      <td>0</td>\n",
       "      <td>0</td>\n",
       "      <td>...</td>\n",
       "      <td>-1</td>\n",
       "      <td>0</td>\n",
       "      <td>-1</td>\n",
       "      <td>-1</td>\n",
       "      <td>0</td>\n",
       "      <td>-2</td>\n",
       "      <td>0</td>\n",
       "      <td>-1</td>\n",
       "      <td>-2</td>\n",
       "      <td>-1</td>\n",
       "    </tr>\n",
       "    <tr>\n",
       "      <th>1</th>\n",
       "      <td>1</td>\n",
       "      <td>&lt;25</td>\n",
       "      <td>female</td>\n",
       "      <td>硕士</td>\n",
       "      <td>0</td>\n",
       "      <td>1</td>\n",
       "      <td>0</td>\n",
       "      <td>2</td>\n",
       "      <td>0</td>\n",
       "      <td>1</td>\n",
       "      <td>...</td>\n",
       "      <td>0</td>\n",
       "      <td>0</td>\n",
       "      <td>0</td>\n",
       "      <td>0</td>\n",
       "      <td>2</td>\n",
       "      <td>-1</td>\n",
       "      <td>0</td>\n",
       "      <td>0</td>\n",
       "      <td>-1</td>\n",
       "      <td>0</td>\n",
       "    </tr>\n",
       "    <tr>\n",
       "      <th>2</th>\n",
       "      <td>2</td>\n",
       "      <td>&lt;25</td>\n",
       "      <td>female</td>\n",
       "      <td>本科</td>\n",
       "      <td>-2</td>\n",
       "      <td>2</td>\n",
       "      <td>-2</td>\n",
       "      <td>2</td>\n",
       "      <td>-2</td>\n",
       "      <td>0</td>\n",
       "      <td>...</td>\n",
       "      <td>-1</td>\n",
       "      <td>-1</td>\n",
       "      <td>-2</td>\n",
       "      <td>-2</td>\n",
       "      <td>2</td>\n",
       "      <td>-2</td>\n",
       "      <td>-2</td>\n",
       "      <td>-2</td>\n",
       "      <td>-2</td>\n",
       "      <td>-2</td>\n",
       "    </tr>\n",
       "    <tr>\n",
       "      <th>3</th>\n",
       "      <td>3</td>\n",
       "      <td>&lt;25</td>\n",
       "      <td>female</td>\n",
       "      <td>硕士</td>\n",
       "      <td>-1</td>\n",
       "      <td>1</td>\n",
       "      <td>-1</td>\n",
       "      <td>2</td>\n",
       "      <td>-1</td>\n",
       "      <td>0</td>\n",
       "      <td>...</td>\n",
       "      <td>0</td>\n",
       "      <td>0</td>\n",
       "      <td>0</td>\n",
       "      <td>-1</td>\n",
       "      <td>0</td>\n",
       "      <td>-2</td>\n",
       "      <td>-1</td>\n",
       "      <td>-1</td>\n",
       "      <td>-1</td>\n",
       "      <td>-2</td>\n",
       "    </tr>\n",
       "    <tr>\n",
       "      <th>4</th>\n",
       "      <td>4</td>\n",
       "      <td>&lt;25</td>\n",
       "      <td>male</td>\n",
       "      <td>本科</td>\n",
       "      <td>-1</td>\n",
       "      <td>1</td>\n",
       "      <td>0</td>\n",
       "      <td>2</td>\n",
       "      <td>-1</td>\n",
       "      <td>0</td>\n",
       "      <td>...</td>\n",
       "      <td>-1</td>\n",
       "      <td>0</td>\n",
       "      <td>-1</td>\n",
       "      <td>-1</td>\n",
       "      <td>-1</td>\n",
       "      <td>-2</td>\n",
       "      <td>-1</td>\n",
       "      <td>-1</td>\n",
       "      <td>-2</td>\n",
       "      <td>0</td>\n",
       "    </tr>\n",
       "  </tbody>\n",
       "</table>\n",
       "<p>5 rows × 48 columns</p>\n",
       "</div>"
      ],
      "text/plain": [
       "   Participant ID  Age  Gender Education  警察  秘书  教授  护士  高管  教师  ...  农民  学生  \\\n",
       "0              24  <25    male        硕士  -1   1   0   1   0   0  ...  -1   0   \n",
       "1               1  <25  female        硕士   0   1   0   2   0   1  ...   0   0   \n",
       "2               2  <25  female        本科  -2   2  -2   2  -2   0  ...  -1  -1   \n",
       "3               3  <25  female        硕士  -1   1  -1   2  -1   0  ...   0   0   \n",
       "4               4  <25    male        本科  -1   1   0   2  -1   0  ...  -1   0   \n",
       "\n",
       "   园丁  飞行员  人事  消防员  科学家  检察官  救生员  建筑师  \n",
       "0  -1   -1   0   -2    0   -1   -2   -1  \n",
       "1   0    0   2   -1    0    0   -1    0  \n",
       "2  -2   -2   2   -2   -2   -2   -2   -2  \n",
       "3   0   -1   0   -2   -1   -1   -1   -2  \n",
       "4  -1   -1  -1   -2   -1   -1   -2    0  \n",
       "\n",
       "[5 rows x 48 columns]"
      ]
     },
     "execution_count": 240,
     "metadata": {},
     "output_type": "execute_result"
    }
   ],
   "source": [
    "# Define the mapping for ratings\n",
    "rating_map = {\n",
    "    3: -3,\n",
    "    2: -2,\n",
    "    1: -1,\n",
    "    0: 0,\n",
    "    -1: 1,\n",
    "    -2: 2,\n",
    "    -3: 3\n",
    "}\n",
    "\n",
    "# Get columns to convert (skip non-rating columns)\n",
    "rating_columns = df_zh.columns[4:]  # assuming first 8 columns are not ratings\n",
    "\n",
    "# Replace and explicitly infer objects to avoid warning\n",
    "for col in rating_columns:\n",
    "    df_zh[col] = df_zh[col].map(rating_map)\n",
    "\n",
    "# Rename 您的年龄是？ to Age and 您的性别是？ to Gender\n",
    "df_zh.rename(columns={'您的年龄是？': 'Age', '您的性别是？':'Gender', '您的学历是？':'Education'}, inplace=True)\n",
    "\n",
    "# Replace férfi to male and nő to female in Gender column\n",
    "df_zh['Gender'] = df_zh['Gender'].replace({'男': 'male', '女': 'female'})\n",
    "\n",
    "# In the Age column, change 小于25岁 to <25, 25-35岁 to 25-35, 36-45岁\n",
    "df_zh['Age'] = df_zh['Age'].replace({'小于25岁': '<25', '25-35岁': '25-35', '35-45岁': '35-45',})\n",
    "\n",
    "# Count and print participants based on unique Participant ID\n",
    "num_participants = df_zh['Participant ID'].nunique()\n",
    "print(f'Number of participants: {num_participants}')\n",
    "\n",
    "# Count the number of columns starting with the 8th.\n",
    "num_columns = len(df_zh.columns)\n",
    "print(f'Number of words: {num_columns}')\n",
    "\n",
    "# Show\n",
    "df_zh.head()"
   ]
  },
  {
   "cell_type": "markdown",
   "id": "598c7bc8",
   "metadata": {},
   "source": [
    "### Demographics"
   ]
  },
  {
   "cell_type": "code",
   "execution_count": 241,
   "id": "700e8f0b",
   "metadata": {},
   "outputs": [
    {
     "data": {
      "application/vnd.plotly.v1+json": {
       "config": {
        "plotlyServerURL": "https://plot.ly"
       },
       "data": [
        {
         "customdata": [
          [
           "Male",
           "14",
           "58.333333333333336"
          ],
          [
           "Female",
           "10",
           "41.66666666666667"
          ]
         ],
         "domain": {
          "x": [
           0,
           0.45
          ],
          "y": [
           0,
           1
          ]
         },
         "hole": 0.33,
         "labels": [
          "Male",
          "Female"
         ],
         "marker": {
          "colors": [
           "#9eb9f3",
           "#dcb0f2"
          ]
         },
         "name": "Gender",
         "text": [
          "Male<br>n=14<br>58.3%",
          "Female<br>n=10<br>41.7%"
         ],
         "textfont": {
          "size": 28
         },
         "textinfo": "text",
         "title": {
          "text": "Gender"
         },
         "type": "pie",
         "values": {
          "bdata": "q6qqqqoqTUBWVVVVVdVEQA==",
          "dtype": "f8"
         }
        },
        {
         "customdata": [
          [
           "25-35",
           8,
           33.33333333333333
          ],
          [
           "35-45",
           1,
           4.166666666666666
          ],
          [
           "<25",
           15,
           62.5
          ]
         ],
         "domain": {
          "x": [
           0.55,
           1
          ],
          "y": [
           0,
           1
          ]
         },
         "hole": 0.33,
         "labels": [
          "25-35",
          "35-45",
          "<25"
         ],
         "marker": {
          "colors": [
           "#f6cf71",
           "#f6b671",
           "#f89c74"
          ]
         },
         "name": "Age",
         "text": [
          "25-35<br>n=8<br>33.3%",
          "35-45<br>n=1<br>4.2%",
          "<25<br>n=15<br>62.5%"
         ],
         "textfont": {
          "size": 28
         },
         "textinfo": "text",
         "title": {
          "text": "Age"
         },
         "type": "pie",
         "values": {
          "bdata": "qqqqqqqqQECqqqqqqqoQQAAAAAAAQE9A",
          "dtype": "f8"
         }
        }
       ],
       "layout": {
        "annotations": [
         {
          "align": "center",
          "font": {
           "size": 28
          },
          "showarrow": false,
          "text": "No. of participants: 24",
          "x": 0.5,
          "xanchor": "center",
          "xref": "paper",
          "y": 0.9,
          "yanchor": "bottom",
          "yref": "paper"
         },
         {
          "align": "center",
          "font": {
           "size": 28
          },
          "showarrow": false,
          "text": "No. of participants: 24",
          "x": 0.5,
          "xanchor": "center",
          "xref": "paper",
          "y": 0.9,
          "yanchor": "bottom",
          "yref": "paper"
         }
        ],
        "font": {
         "color": "black",
         "family": "Times New Roman, serif",
         "size": 32
        },
        "legend": {
         "font": {
          "size": 28
         },
         "orientation": "v",
         "x": 0.5,
         "xanchor": "center",
         "y": 1,
         "yanchor": "top"
        },
        "margin": {
         "b": 0,
         "l": 0,
         "r": 0,
         "t": 0
        },
        "showlegend": false,
        "template": {
         "data": {
          "bar": [
           {
            "error_x": {
             "color": "#2a3f5f"
            },
            "error_y": {
             "color": "#2a3f5f"
            },
            "marker": {
             "line": {
              "color": "#E5ECF6",
              "width": 0.5
             },
             "pattern": {
              "fillmode": "overlay",
              "size": 10,
              "solidity": 0.2
             }
            },
            "type": "bar"
           }
          ],
          "barpolar": [
           {
            "marker": {
             "line": {
              "color": "#E5ECF6",
              "width": 0.5
             },
             "pattern": {
              "fillmode": "overlay",
              "size": 10,
              "solidity": 0.2
             }
            },
            "type": "barpolar"
           }
          ],
          "carpet": [
           {
            "aaxis": {
             "endlinecolor": "#2a3f5f",
             "gridcolor": "white",
             "linecolor": "white",
             "minorgridcolor": "white",
             "startlinecolor": "#2a3f5f"
            },
            "baxis": {
             "endlinecolor": "#2a3f5f",
             "gridcolor": "white",
             "linecolor": "white",
             "minorgridcolor": "white",
             "startlinecolor": "#2a3f5f"
            },
            "type": "carpet"
           }
          ],
          "choropleth": [
           {
            "colorbar": {
             "outlinewidth": 0,
             "ticks": ""
            },
            "type": "choropleth"
           }
          ],
          "contour": [
           {
            "colorbar": {
             "outlinewidth": 0,
             "ticks": ""
            },
            "colorscale": [
             [
              0,
              "#0d0887"
             ],
             [
              0.1111111111111111,
              "#46039f"
             ],
             [
              0.2222222222222222,
              "#7201a8"
             ],
             [
              0.3333333333333333,
              "#9c179e"
             ],
             [
              0.4444444444444444,
              "#bd3786"
             ],
             [
              0.5555555555555556,
              "#d8576b"
             ],
             [
              0.6666666666666666,
              "#ed7953"
             ],
             [
              0.7777777777777778,
              "#fb9f3a"
             ],
             [
              0.8888888888888888,
              "#fdca26"
             ],
             [
              1,
              "#f0f921"
             ]
            ],
            "type": "contour"
           }
          ],
          "contourcarpet": [
           {
            "colorbar": {
             "outlinewidth": 0,
             "ticks": ""
            },
            "type": "contourcarpet"
           }
          ],
          "heatmap": [
           {
            "colorbar": {
             "outlinewidth": 0,
             "ticks": ""
            },
            "colorscale": [
             [
              0,
              "#0d0887"
             ],
             [
              0.1111111111111111,
              "#46039f"
             ],
             [
              0.2222222222222222,
              "#7201a8"
             ],
             [
              0.3333333333333333,
              "#9c179e"
             ],
             [
              0.4444444444444444,
              "#bd3786"
             ],
             [
              0.5555555555555556,
              "#d8576b"
             ],
             [
              0.6666666666666666,
              "#ed7953"
             ],
             [
              0.7777777777777778,
              "#fb9f3a"
             ],
             [
              0.8888888888888888,
              "#fdca26"
             ],
             [
              1,
              "#f0f921"
             ]
            ],
            "type": "heatmap"
           }
          ],
          "histogram": [
           {
            "marker": {
             "pattern": {
              "fillmode": "overlay",
              "size": 10,
              "solidity": 0.2
             }
            },
            "type": "histogram"
           }
          ],
          "histogram2d": [
           {
            "colorbar": {
             "outlinewidth": 0,
             "ticks": ""
            },
            "colorscale": [
             [
              0,
              "#0d0887"
             ],
             [
              0.1111111111111111,
              "#46039f"
             ],
             [
              0.2222222222222222,
              "#7201a8"
             ],
             [
              0.3333333333333333,
              "#9c179e"
             ],
             [
              0.4444444444444444,
              "#bd3786"
             ],
             [
              0.5555555555555556,
              "#d8576b"
             ],
             [
              0.6666666666666666,
              "#ed7953"
             ],
             [
              0.7777777777777778,
              "#fb9f3a"
             ],
             [
              0.8888888888888888,
              "#fdca26"
             ],
             [
              1,
              "#f0f921"
             ]
            ],
            "type": "histogram2d"
           }
          ],
          "histogram2dcontour": [
           {
            "colorbar": {
             "outlinewidth": 0,
             "ticks": ""
            },
            "colorscale": [
             [
              0,
              "#0d0887"
             ],
             [
              0.1111111111111111,
              "#46039f"
             ],
             [
              0.2222222222222222,
              "#7201a8"
             ],
             [
              0.3333333333333333,
              "#9c179e"
             ],
             [
              0.4444444444444444,
              "#bd3786"
             ],
             [
              0.5555555555555556,
              "#d8576b"
             ],
             [
              0.6666666666666666,
              "#ed7953"
             ],
             [
              0.7777777777777778,
              "#fb9f3a"
             ],
             [
              0.8888888888888888,
              "#fdca26"
             ],
             [
              1,
              "#f0f921"
             ]
            ],
            "type": "histogram2dcontour"
           }
          ],
          "mesh3d": [
           {
            "colorbar": {
             "outlinewidth": 0,
             "ticks": ""
            },
            "type": "mesh3d"
           }
          ],
          "parcoords": [
           {
            "line": {
             "colorbar": {
              "outlinewidth": 0,
              "ticks": ""
             }
            },
            "type": "parcoords"
           }
          ],
          "pie": [
           {
            "automargin": true,
            "type": "pie"
           }
          ],
          "scatter": [
           {
            "fillpattern": {
             "fillmode": "overlay",
             "size": 10,
             "solidity": 0.2
            },
            "type": "scatter"
           }
          ],
          "scatter3d": [
           {
            "line": {
             "colorbar": {
              "outlinewidth": 0,
              "ticks": ""
             }
            },
            "marker": {
             "colorbar": {
              "outlinewidth": 0,
              "ticks": ""
             }
            },
            "type": "scatter3d"
           }
          ],
          "scattercarpet": [
           {
            "marker": {
             "colorbar": {
              "outlinewidth": 0,
              "ticks": ""
             }
            },
            "type": "scattercarpet"
           }
          ],
          "scattergeo": [
           {
            "marker": {
             "colorbar": {
              "outlinewidth": 0,
              "ticks": ""
             }
            },
            "type": "scattergeo"
           }
          ],
          "scattergl": [
           {
            "marker": {
             "colorbar": {
              "outlinewidth": 0,
              "ticks": ""
             }
            },
            "type": "scattergl"
           }
          ],
          "scattermap": [
           {
            "marker": {
             "colorbar": {
              "outlinewidth": 0,
              "ticks": ""
             }
            },
            "type": "scattermap"
           }
          ],
          "scattermapbox": [
           {
            "marker": {
             "colorbar": {
              "outlinewidth": 0,
              "ticks": ""
             }
            },
            "type": "scattermapbox"
           }
          ],
          "scatterpolar": [
           {
            "marker": {
             "colorbar": {
              "outlinewidth": 0,
              "ticks": ""
             }
            },
            "type": "scatterpolar"
           }
          ],
          "scatterpolargl": [
           {
            "marker": {
             "colorbar": {
              "outlinewidth": 0,
              "ticks": ""
             }
            },
            "type": "scatterpolargl"
           }
          ],
          "scatterternary": [
           {
            "marker": {
             "colorbar": {
              "outlinewidth": 0,
              "ticks": ""
             }
            },
            "type": "scatterternary"
           }
          ],
          "surface": [
           {
            "colorbar": {
             "outlinewidth": 0,
             "ticks": ""
            },
            "colorscale": [
             [
              0,
              "#0d0887"
             ],
             [
              0.1111111111111111,
              "#46039f"
             ],
             [
              0.2222222222222222,
              "#7201a8"
             ],
             [
              0.3333333333333333,
              "#9c179e"
             ],
             [
              0.4444444444444444,
              "#bd3786"
             ],
             [
              0.5555555555555556,
              "#d8576b"
             ],
             [
              0.6666666666666666,
              "#ed7953"
             ],
             [
              0.7777777777777778,
              "#fb9f3a"
             ],
             [
              0.8888888888888888,
              "#fdca26"
             ],
             [
              1,
              "#f0f921"
             ]
            ],
            "type": "surface"
           }
          ],
          "table": [
           {
            "cells": {
             "fill": {
              "color": "#EBF0F8"
             },
             "line": {
              "color": "white"
             }
            },
            "header": {
             "fill": {
              "color": "#C8D4E3"
             },
             "line": {
              "color": "white"
             }
            },
            "type": "table"
           }
          ]
         },
         "layout": {
          "annotationdefaults": {
           "arrowcolor": "#2a3f5f",
           "arrowhead": 0,
           "arrowwidth": 1
          },
          "autotypenumbers": "strict",
          "coloraxis": {
           "colorbar": {
            "outlinewidth": 0,
            "ticks": ""
           }
          },
          "colorscale": {
           "diverging": [
            [
             0,
             "#8e0152"
            ],
            [
             0.1,
             "#c51b7d"
            ],
            [
             0.2,
             "#de77ae"
            ],
            [
             0.3,
             "#f1b6da"
            ],
            [
             0.4,
             "#fde0ef"
            ],
            [
             0.5,
             "#f7f7f7"
            ],
            [
             0.6,
             "#e6f5d0"
            ],
            [
             0.7,
             "#b8e186"
            ],
            [
             0.8,
             "#7fbc41"
            ],
            [
             0.9,
             "#4d9221"
            ],
            [
             1,
             "#276419"
            ]
           ],
           "sequential": [
            [
             0,
             "#0d0887"
            ],
            [
             0.1111111111111111,
             "#46039f"
            ],
            [
             0.2222222222222222,
             "#7201a8"
            ],
            [
             0.3333333333333333,
             "#9c179e"
            ],
            [
             0.4444444444444444,
             "#bd3786"
            ],
            [
             0.5555555555555556,
             "#d8576b"
            ],
            [
             0.6666666666666666,
             "#ed7953"
            ],
            [
             0.7777777777777778,
             "#fb9f3a"
            ],
            [
             0.8888888888888888,
             "#fdca26"
            ],
            [
             1,
             "#f0f921"
            ]
           ],
           "sequentialminus": [
            [
             0,
             "#0d0887"
            ],
            [
             0.1111111111111111,
             "#46039f"
            ],
            [
             0.2222222222222222,
             "#7201a8"
            ],
            [
             0.3333333333333333,
             "#9c179e"
            ],
            [
             0.4444444444444444,
             "#bd3786"
            ],
            [
             0.5555555555555556,
             "#d8576b"
            ],
            [
             0.6666666666666666,
             "#ed7953"
            ],
            [
             0.7777777777777778,
             "#fb9f3a"
            ],
            [
             0.8888888888888888,
             "#fdca26"
            ],
            [
             1,
             "#f0f921"
            ]
           ]
          },
          "colorway": [
           "#636efa",
           "#EF553B",
           "#00cc96",
           "#ab63fa",
           "#FFA15A",
           "#19d3f3",
           "#FF6692",
           "#B6E880",
           "#FF97FF",
           "#FECB52"
          ],
          "font": {
           "color": "#2a3f5f"
          },
          "geo": {
           "bgcolor": "white",
           "lakecolor": "white",
           "landcolor": "#E5ECF6",
           "showlakes": true,
           "showland": true,
           "subunitcolor": "white"
          },
          "hoverlabel": {
           "align": "left"
          },
          "hovermode": "closest",
          "mapbox": {
           "style": "light"
          },
          "paper_bgcolor": "white",
          "plot_bgcolor": "#E5ECF6",
          "polar": {
           "angularaxis": {
            "gridcolor": "white",
            "linecolor": "white",
            "ticks": ""
           },
           "bgcolor": "#E5ECF6",
           "radialaxis": {
            "gridcolor": "white",
            "linecolor": "white",
            "ticks": ""
           }
          },
          "scene": {
           "xaxis": {
            "backgroundcolor": "#E5ECF6",
            "gridcolor": "white",
            "gridwidth": 2,
            "linecolor": "white",
            "showbackground": true,
            "ticks": "",
            "zerolinecolor": "white"
           },
           "yaxis": {
            "backgroundcolor": "#E5ECF6",
            "gridcolor": "white",
            "gridwidth": 2,
            "linecolor": "white",
            "showbackground": true,
            "ticks": "",
            "zerolinecolor": "white"
           },
           "zaxis": {
            "backgroundcolor": "#E5ECF6",
            "gridcolor": "white",
            "gridwidth": 2,
            "linecolor": "white",
            "showbackground": true,
            "ticks": "",
            "zerolinecolor": "white"
           }
          },
          "shapedefaults": {
           "line": {
            "color": "#2a3f5f"
           }
          },
          "ternary": {
           "aaxis": {
            "gridcolor": "white",
            "linecolor": "white",
            "ticks": ""
           },
           "baxis": {
            "gridcolor": "white",
            "linecolor": "white",
            "ticks": ""
           },
           "bgcolor": "#E5ECF6",
           "caxis": {
            "gridcolor": "white",
            "linecolor": "white",
            "ticks": ""
           }
          },
          "title": {
           "x": 0.05
          },
          "xaxis": {
           "automargin": true,
           "gridcolor": "white",
           "linecolor": "white",
           "ticks": "",
           "title": {
            "standoff": 15
           },
           "zerolinecolor": "white",
           "zerolinewidth": 2
          },
          "yaxis": {
           "automargin": true,
           "gridcolor": "white",
           "linecolor": "white",
           "ticks": "",
           "title": {
            "standoff": 15
           },
           "zerolinecolor": "white",
           "zerolinewidth": 2
          }
         }
        }
       }
      }
     },
     "metadata": {},
     "output_type": "display_data"
    }
   ],
   "source": [
    "# # Print unique value counts of Age, Gender, and Education\n",
    "# print(\"Unique values in Age:\")\n",
    "# print(df_zh['Age'].value_counts())\n",
    "# print(\"\\nUnique values in Gender:\")\n",
    "# print(df_zh['Gender'].value_counts())\n",
    "# print(\"\\nUnique values in Education:\")\n",
    "# print(df_zh['Education'].value_counts())\n",
    "\n",
    "# Sawp colors\n",
    "gender_colors = gender_colors[::-1]\n",
    "\n",
    "# Prepare gender and age counts and percentages\n",
    "gender_counts = df_zh['Gender'].value_counts()\n",
    "gender_labels = gender_counts.index\n",
    "gender_labels_en = ['Male' if g == 'male' else 'Female' for g in gender_labels]\n",
    "gender = gender_counts / gender_counts.sum() * 100\n",
    "\n",
    "age_counts = df_zh['Age'].value_counts().sort_index()\n",
    "age = age_counts / age_counts.sum() * 100\n",
    "\n",
    "# Gender pie with custom colors\n",
    "gender_pie = go.Pie(\n",
    "    labels=gender_labels_en,\n",
    "    values=gender.values,\n",
    "    name='Gender',\n",
    "    hole=0.33,\n",
    "    title='Gender',\n",
    "    marker=dict(colors=gender_colors),\n",
    "    customdata=np.stack([gender_labels_en, gender_counts.values, gender.values], axis=-1),\n",
    "    textinfo='text',\n",
    "    textfont=dict(size=28),\n",
    "    text=[f\"{label}<br>n={int(n)}<br>{p:.1f}%\" for label, n, p in zip(gender_labels_en, gender_counts.values, gender.values)],\n",
    ")\n",
    "\n",
    "# Age pie with custom teal shades (repeat if more age groups)\n",
    "age_colors = (age_shades * ((len(age) // len(age_shades)) + 1))[:len(age)]\n",
    "age_pie = go.Pie(\n",
    "    labels=age.index,\n",
    "    values=age.values,\n",
    "    name='Age',\n",
    "    hole=0.33,\n",
    "    title='Age',\n",
    "    marker=dict(colors=age_colors),\n",
    "    customdata=np.stack([age.index, age_counts.values, age.values], axis=-1),\n",
    "    textinfo='text',\n",
    "    textfont=dict(size=28),\n",
    "    text=[f\"{label}<br>n={int(n)}<br>{p:.1f}%\" for label, n, p in zip(age.index, age_counts.values, age.values)],\n",
    ")\n",
    "\n",
    "# Create subplot with 1 row and 2 columns\n",
    "fig = make_subplots(\n",
    "    rows=1, cols=2, specs=[[{'type':'domain'}, {'type':'domain'}]],\n",
    "    subplot_titles=['Gender Distribution', 'Age Distribution']\n",
    ")\n",
    "\n",
    "fig.add_trace(gender_pie, 1, 1)\n",
    "fig.add_trace(age_pie, 1, 2)\n",
    "\n",
    "fig.update_layout(\n",
    "    font = dict(family=\"Times New Roman, serif\", size=32, color='black'),\n",
    "    margin=dict(l=0, r=0, t=0, b=0),\n",
    "    showlegend=False,\n",
    "    legend=dict(\n",
    "        font=dict(size=28),\n",
    "        orientation='v',\n",
    "        x=0.5,\n",
    "        xanchor='center',\n",
    "        y=1,\n",
    "        yanchor='top'\n",
    "    ),\n",
    "    annotations=[\n",
    "        dict(\n",
    "            text=f'No. of participants: {df_zh.shape[0]}',\n",
    "            x=0.5, y=0.9, xref='paper', yref='paper',\n",
    "            showarrow=False, font=dict(size=28), align='center'\n",
    "        )\n",
    "    ]\n",
    ")\n",
    "\n",
    "fig.show()\n",
    "\n",
    "# Save it as html\n",
    "fig.write_html('demographics_zh.html')\n",
    "\n",
    "# Save it as image\n",
    "fig.write_image('demographics_zh.png', scale=3, width=1000, height=400)"
   ]
  },
  {
   "cell_type": "markdown",
   "id": "641a696c",
   "metadata": {},
   "source": [
    "### Analysis"
   ]
  },
  {
   "cell_type": "markdown",
   "id": "132294f7",
   "metadata": {},
   "source": [
    "#### Two Sample T-Test by Gender"
   ]
  },
  {
   "cell_type": "code",
   "execution_count": 242,
   "id": "0020f4b1",
   "metadata": {},
   "outputs": [
    {
     "name": "stdout",
     "output_type": "stream",
     "text": [
      "Number of male participants: 14\n",
      "Number of female participants: 10\n"
     ]
    },
    {
     "data": {
      "application/vnd.plotly.v1+json": {
       "config": {
        "plotlyServerURL": "https://plot.ly"
       },
       "data": [
        {
         "customdata": [
          [
           "nanny"
          ],
          [
           "kindergarten teacher"
          ],
          [
           "nurse (sister)"
          ],
          [
           "beautician"
          ],
          [
           "receptionist"
          ],
          [
           "secretary"
          ],
          [
           "cashier"
          ],
          [
           "shop assistant"
          ],
          [
           "cleaner"
          ],
          [
           "flight attendant (2)"
          ],
          [
           "caregiver"
          ],
          [
           "HR personnel"
          ],
          [
           "teacher"
          ],
          [
           "housekeeper"
          ],
          [
           "flight attendant"
          ],
          [
           "accountant"
          ],
          [
           "ticket seller"
          ],
          [
           "model"
          ],
          [
           "dietitian"
          ],
          [
           "server"
          ],
          [
           "student"
          ],
          [
           "doctor"
          ],
          [
           "prosecutor"
          ],
          [
           "judge"
          ],
          [
           "gardener"
          ],
          [
           "scientist"
          ],
          [
           "professor"
          ],
          [
           "farmer"
          ],
          [
           "manager"
          ],
          [
           "architect"
          ],
          [
           "director"
          ],
          [
           "hairdresser"
          ],
          [
           "pathologist"
          ],
          [
           "engineer"
          ],
          [
           "CEO"
          ],
          [
           "soldier"
          ],
          [
           "pilot"
          ],
          [
           "chef"
          ],
          [
           "programmer"
          ],
          [
           "worker"
          ],
          [
           "police officer"
          ],
          [
           "lifeguard"
          ],
          [
           "security guard"
          ],
          [
           "firefighter"
          ]
         ],
         "hovertemplate": "Occupation: %{x}<br>English: %{customdata[0]}<br>Mean (Male): %{y:.2f}<extra></extra>",
         "marker": {
          "color": "#9eb9f3"
         },
         "name": "Male",
         "type": "bar",
         "x": [
          "保姆",
          "幼师",
          "护士",
          "美容师",
          "前台",
          "秘书",
          "<b>收银员*</b>",
          "导购员",
          "保洁",
          "空服员",
          "护工",
          "人事",
          "教师",
          "家政员",
          "乘务员",
          "<b>会计+</b>",
          "售票员",
          "<b>模特*</b>",
          "营养师",
          "服务员",
          "学生",
          "医生",
          "检察官",
          "<b>法官*</b>",
          "园丁",
          "科学家",
          "教授",
          "<b>农民*</b>",
          "<b>高管+</b>",
          "建筑师",
          "导演",
          "理发师",
          "法医",
          "工程师",
          "董事长",
          "军人",
          "飞行员",
          "厨师",
          "程序员",
          "<b>工人+</b>",
          "警察",
          "救生员",
          "<b>保安+</b>",
          "消防员"
         ],
         "y": {
          "bdata": "SZIkSZIk+T9JkiRJkiT5P5IkSZIkSfo/SZIkSZIk+T9u27Zt27b1P0mSJEmSJPE/JUmSJEmS5D+3bdu2bdvmP5IkSZIkSeI/SZIkSZIk6T+SJEmSJEniP9u2bdu2bds/t23btm3b1j+3bdu2bdvWP7dt27Zt29Y/t23btm3b5j/btm3btm3LP5IkSZIkSeI/kiRJkiRJwj+SJEmSJEmyPwAAAAAAAAAAkiRJkiRJwr/btm3btm3bv5IkSZIkScK/t23btm3b1r8AAAAAAADgv7dt27Zt29a/SZIkSZIk6b+SJEmSJEnSv7dt27Zt2+a/kiRJkiRJ4r8lSZIkSZLkv9u2bdu2beu/27Zt27Zt67+3bdu2bdvmv5IkSZIkSfK/btu2bdu27b9JkiRJkiTxv9u2bdu2bfO/btu2bdu29b/btm3btm3zv5IkSZIkSfq/AAAAAAAAAMC3bdu2bdv+vw==",
          "dtype": "f8"
         }
        },
        {
         "customdata": [
          [
           "nanny"
          ],
          [
           "kindergarten teacher"
          ],
          [
           "nurse (sister)"
          ],
          [
           "beautician"
          ],
          [
           "receptionist"
          ],
          [
           "secretary"
          ],
          [
           "cashier"
          ],
          [
           "shop assistant"
          ],
          [
           "cleaner"
          ],
          [
           "flight attendant (2)"
          ],
          [
           "caregiver"
          ],
          [
           "HR personnel"
          ],
          [
           "teacher"
          ],
          [
           "housekeeper"
          ],
          [
           "flight attendant"
          ],
          [
           "accountant"
          ],
          [
           "ticket seller"
          ],
          [
           "model"
          ],
          [
           "dietitian"
          ],
          [
           "server"
          ],
          [
           "student"
          ],
          [
           "doctor"
          ],
          [
           "prosecutor"
          ],
          [
           "judge"
          ],
          [
           "gardener"
          ],
          [
           "scientist"
          ],
          [
           "professor"
          ],
          [
           "farmer"
          ],
          [
           "manager"
          ],
          [
           "architect"
          ],
          [
           "director"
          ],
          [
           "hairdresser"
          ],
          [
           "pathologist"
          ],
          [
           "engineer"
          ],
          [
           "CEO"
          ],
          [
           "soldier"
          ],
          [
           "pilot"
          ],
          [
           "chef"
          ],
          [
           "programmer"
          ],
          [
           "worker"
          ],
          [
           "police officer"
          ],
          [
           "lifeguard"
          ],
          [
           "security guard"
          ],
          [
           "firefighter"
          ]
         ],
         "hovertemplate": "Occupation: %{x}<br>English: %{customdata[0]}<br>Mean (Female): %{y:.2f}<extra></extra>",
         "marker": {
          "color": "#dcb0f2"
         },
         "name": "Female",
         "type": "bar",
         "x": [
          "保姆",
          "幼师",
          "护士",
          "美容师",
          "前台",
          "秘书",
          "<b>收银员*</b>",
          "导购员",
          "保洁",
          "空服员",
          "护工",
          "人事",
          "教师",
          "家政员",
          "乘务员",
          "<b>会计+</b>",
          "售票员",
          "<b>模特*</b>",
          "营养师",
          "服务员",
          "学生",
          "医生",
          "检察官",
          "<b>法官*</b>",
          "园丁",
          "科学家",
          "教授",
          "<b>农民*</b>",
          "<b>高管+</b>",
          "建筑师",
          "导演",
          "理发师",
          "法医",
          "工程师",
          "董事长",
          "军人",
          "飞行员",
          "厨师",
          "程序员",
          "<b>工人+</b>",
          "警察",
          "救生员",
          "<b>保安+</b>",
          "消防员"
         ],
         "y": {
          "bdata": "MzMzMzMz+z+amZmZmZn5PwAAAAAAAPg/zczMzMzM9D9mZmZmZmb2P5qZmZmZmek/MzMzMzMz8z8AAAAAAADwP83MzMzMzOw/MzMzMzMz4z9mZmZmZmbmP5qZmZmZmek/mpmZmZmZ6T9mZmZmZmbmPzMzMzMzM+M/mpmZmZmZyT8AAAAAAADgPwAAAAAAAAAAMzMzMzMz0z+amZmZmZm5P5qZmZmZmbm/MzMzMzMz07+amZmZmZnZv2ZmZmZmZua/AAAAAAAA4L+amZmZmZnZvzMzMzMzM+O/mpmZmZmZyb+amZmZmZnpv2ZmZmZmZua/zczMzMzM7L/NzMzMzMzsv2ZmZmZmZua/zczMzMzM7L+amZmZmZnxv5qZmZmZmem/mpmZmZmZ8b8AAAAAAADwv83MzMzMzOy/mpmZmZmZ6b8AAAAAAADwv83MzMzMzPS/AAAAAAAA+L+amZmZmZn5vw==",
          "dtype": "f8"
         }
        }
       ],
       "layout": {
        "barmode": "group",
        "font": {
         "color": "black",
         "family": "Times New Roman, serif",
         "size": 16
        },
        "legend": {
         "bgcolor": "rgba(220, 220, 220, 0.25)",
         "orientation": "h",
         "x": 0.5,
         "xanchor": "center",
         "y": 0,
         "yanchor": "bottom"
        },
        "margin": {
         "b": 0,
         "l": 0,
         "r": 0,
         "t": 0
        },
        "template": {
         "data": {
          "bar": [
           {
            "error_x": {
             "color": "#2a3f5f"
            },
            "error_y": {
             "color": "#2a3f5f"
            },
            "marker": {
             "line": {
              "color": "white",
              "width": 0.5
             },
             "pattern": {
              "fillmode": "overlay",
              "size": 10,
              "solidity": 0.2
             }
            },
            "type": "bar"
           }
          ],
          "barpolar": [
           {
            "marker": {
             "line": {
              "color": "white",
              "width": 0.5
             },
             "pattern": {
              "fillmode": "overlay",
              "size": 10,
              "solidity": 0.2
             }
            },
            "type": "barpolar"
           }
          ],
          "carpet": [
           {
            "aaxis": {
             "endlinecolor": "#2a3f5f",
             "gridcolor": "#C8D4E3",
             "linecolor": "#C8D4E3",
             "minorgridcolor": "#C8D4E3",
             "startlinecolor": "#2a3f5f"
            },
            "baxis": {
             "endlinecolor": "#2a3f5f",
             "gridcolor": "#C8D4E3",
             "linecolor": "#C8D4E3",
             "minorgridcolor": "#C8D4E3",
             "startlinecolor": "#2a3f5f"
            },
            "type": "carpet"
           }
          ],
          "choropleth": [
           {
            "colorbar": {
             "outlinewidth": 0,
             "ticks": ""
            },
            "type": "choropleth"
           }
          ],
          "contour": [
           {
            "colorbar": {
             "outlinewidth": 0,
             "ticks": ""
            },
            "colorscale": [
             [
              0,
              "#0d0887"
             ],
             [
              0.1111111111111111,
              "#46039f"
             ],
             [
              0.2222222222222222,
              "#7201a8"
             ],
             [
              0.3333333333333333,
              "#9c179e"
             ],
             [
              0.4444444444444444,
              "#bd3786"
             ],
             [
              0.5555555555555556,
              "#d8576b"
             ],
             [
              0.6666666666666666,
              "#ed7953"
             ],
             [
              0.7777777777777778,
              "#fb9f3a"
             ],
             [
              0.8888888888888888,
              "#fdca26"
             ],
             [
              1,
              "#f0f921"
             ]
            ],
            "type": "contour"
           }
          ],
          "contourcarpet": [
           {
            "colorbar": {
             "outlinewidth": 0,
             "ticks": ""
            },
            "type": "contourcarpet"
           }
          ],
          "heatmap": [
           {
            "colorbar": {
             "outlinewidth": 0,
             "ticks": ""
            },
            "colorscale": [
             [
              0,
              "#0d0887"
             ],
             [
              0.1111111111111111,
              "#46039f"
             ],
             [
              0.2222222222222222,
              "#7201a8"
             ],
             [
              0.3333333333333333,
              "#9c179e"
             ],
             [
              0.4444444444444444,
              "#bd3786"
             ],
             [
              0.5555555555555556,
              "#d8576b"
             ],
             [
              0.6666666666666666,
              "#ed7953"
             ],
             [
              0.7777777777777778,
              "#fb9f3a"
             ],
             [
              0.8888888888888888,
              "#fdca26"
             ],
             [
              1,
              "#f0f921"
             ]
            ],
            "type": "heatmap"
           }
          ],
          "histogram": [
           {
            "marker": {
             "pattern": {
              "fillmode": "overlay",
              "size": 10,
              "solidity": 0.2
             }
            },
            "type": "histogram"
           }
          ],
          "histogram2d": [
           {
            "colorbar": {
             "outlinewidth": 0,
             "ticks": ""
            },
            "colorscale": [
             [
              0,
              "#0d0887"
             ],
             [
              0.1111111111111111,
              "#46039f"
             ],
             [
              0.2222222222222222,
              "#7201a8"
             ],
             [
              0.3333333333333333,
              "#9c179e"
             ],
             [
              0.4444444444444444,
              "#bd3786"
             ],
             [
              0.5555555555555556,
              "#d8576b"
             ],
             [
              0.6666666666666666,
              "#ed7953"
             ],
             [
              0.7777777777777778,
              "#fb9f3a"
             ],
             [
              0.8888888888888888,
              "#fdca26"
             ],
             [
              1,
              "#f0f921"
             ]
            ],
            "type": "histogram2d"
           }
          ],
          "histogram2dcontour": [
           {
            "colorbar": {
             "outlinewidth": 0,
             "ticks": ""
            },
            "colorscale": [
             [
              0,
              "#0d0887"
             ],
             [
              0.1111111111111111,
              "#46039f"
             ],
             [
              0.2222222222222222,
              "#7201a8"
             ],
             [
              0.3333333333333333,
              "#9c179e"
             ],
             [
              0.4444444444444444,
              "#bd3786"
             ],
             [
              0.5555555555555556,
              "#d8576b"
             ],
             [
              0.6666666666666666,
              "#ed7953"
             ],
             [
              0.7777777777777778,
              "#fb9f3a"
             ],
             [
              0.8888888888888888,
              "#fdca26"
             ],
             [
              1,
              "#f0f921"
             ]
            ],
            "type": "histogram2dcontour"
           }
          ],
          "mesh3d": [
           {
            "colorbar": {
             "outlinewidth": 0,
             "ticks": ""
            },
            "type": "mesh3d"
           }
          ],
          "parcoords": [
           {
            "line": {
             "colorbar": {
              "outlinewidth": 0,
              "ticks": ""
             }
            },
            "type": "parcoords"
           }
          ],
          "pie": [
           {
            "automargin": true,
            "type": "pie"
           }
          ],
          "scatter": [
           {
            "fillpattern": {
             "fillmode": "overlay",
             "size": 10,
             "solidity": 0.2
            },
            "type": "scatter"
           }
          ],
          "scatter3d": [
           {
            "line": {
             "colorbar": {
              "outlinewidth": 0,
              "ticks": ""
             }
            },
            "marker": {
             "colorbar": {
              "outlinewidth": 0,
              "ticks": ""
             }
            },
            "type": "scatter3d"
           }
          ],
          "scattercarpet": [
           {
            "marker": {
             "colorbar": {
              "outlinewidth": 0,
              "ticks": ""
             }
            },
            "type": "scattercarpet"
           }
          ],
          "scattergeo": [
           {
            "marker": {
             "colorbar": {
              "outlinewidth": 0,
              "ticks": ""
             }
            },
            "type": "scattergeo"
           }
          ],
          "scattergl": [
           {
            "marker": {
             "colorbar": {
              "outlinewidth": 0,
              "ticks": ""
             }
            },
            "type": "scattergl"
           }
          ],
          "scattermap": [
           {
            "marker": {
             "colorbar": {
              "outlinewidth": 0,
              "ticks": ""
             }
            },
            "type": "scattermap"
           }
          ],
          "scattermapbox": [
           {
            "marker": {
             "colorbar": {
              "outlinewidth": 0,
              "ticks": ""
             }
            },
            "type": "scattermapbox"
           }
          ],
          "scatterpolar": [
           {
            "marker": {
             "colorbar": {
              "outlinewidth": 0,
              "ticks": ""
             }
            },
            "type": "scatterpolar"
           }
          ],
          "scatterpolargl": [
           {
            "marker": {
             "colorbar": {
              "outlinewidth": 0,
              "ticks": ""
             }
            },
            "type": "scatterpolargl"
           }
          ],
          "scatterternary": [
           {
            "marker": {
             "colorbar": {
              "outlinewidth": 0,
              "ticks": ""
             }
            },
            "type": "scatterternary"
           }
          ],
          "surface": [
           {
            "colorbar": {
             "outlinewidth": 0,
             "ticks": ""
            },
            "colorscale": [
             [
              0,
              "#0d0887"
             ],
             [
              0.1111111111111111,
              "#46039f"
             ],
             [
              0.2222222222222222,
              "#7201a8"
             ],
             [
              0.3333333333333333,
              "#9c179e"
             ],
             [
              0.4444444444444444,
              "#bd3786"
             ],
             [
              0.5555555555555556,
              "#d8576b"
             ],
             [
              0.6666666666666666,
              "#ed7953"
             ],
             [
              0.7777777777777778,
              "#fb9f3a"
             ],
             [
              0.8888888888888888,
              "#fdca26"
             ],
             [
              1,
              "#f0f921"
             ]
            ],
            "type": "surface"
           }
          ],
          "table": [
           {
            "cells": {
             "fill": {
              "color": "#EBF0F8"
             },
             "line": {
              "color": "white"
             }
            },
            "header": {
             "fill": {
              "color": "#C8D4E3"
             },
             "line": {
              "color": "white"
             }
            },
            "type": "table"
           }
          ]
         },
         "layout": {
          "annotationdefaults": {
           "arrowcolor": "#2a3f5f",
           "arrowhead": 0,
           "arrowwidth": 1
          },
          "autotypenumbers": "strict",
          "coloraxis": {
           "colorbar": {
            "outlinewidth": 0,
            "ticks": ""
           }
          },
          "colorscale": {
           "diverging": [
            [
             0,
             "#8e0152"
            ],
            [
             0.1,
             "#c51b7d"
            ],
            [
             0.2,
             "#de77ae"
            ],
            [
             0.3,
             "#f1b6da"
            ],
            [
             0.4,
             "#fde0ef"
            ],
            [
             0.5,
             "#f7f7f7"
            ],
            [
             0.6,
             "#e6f5d0"
            ],
            [
             0.7,
             "#b8e186"
            ],
            [
             0.8,
             "#7fbc41"
            ],
            [
             0.9,
             "#4d9221"
            ],
            [
             1,
             "#276419"
            ]
           ],
           "sequential": [
            [
             0,
             "#0d0887"
            ],
            [
             0.1111111111111111,
             "#46039f"
            ],
            [
             0.2222222222222222,
             "#7201a8"
            ],
            [
             0.3333333333333333,
             "#9c179e"
            ],
            [
             0.4444444444444444,
             "#bd3786"
            ],
            [
             0.5555555555555556,
             "#d8576b"
            ],
            [
             0.6666666666666666,
             "#ed7953"
            ],
            [
             0.7777777777777778,
             "#fb9f3a"
            ],
            [
             0.8888888888888888,
             "#fdca26"
            ],
            [
             1,
             "#f0f921"
            ]
           ],
           "sequentialminus": [
            [
             0,
             "#0d0887"
            ],
            [
             0.1111111111111111,
             "#46039f"
            ],
            [
             0.2222222222222222,
             "#7201a8"
            ],
            [
             0.3333333333333333,
             "#9c179e"
            ],
            [
             0.4444444444444444,
             "#bd3786"
            ],
            [
             0.5555555555555556,
             "#d8576b"
            ],
            [
             0.6666666666666666,
             "#ed7953"
            ],
            [
             0.7777777777777778,
             "#fb9f3a"
            ],
            [
             0.8888888888888888,
             "#fdca26"
            ],
            [
             1,
             "#f0f921"
            ]
           ]
          },
          "colorway": [
           "#636efa",
           "#EF553B",
           "#00cc96",
           "#ab63fa",
           "#FFA15A",
           "#19d3f3",
           "#FF6692",
           "#B6E880",
           "#FF97FF",
           "#FECB52"
          ],
          "font": {
           "color": "#2a3f5f"
          },
          "geo": {
           "bgcolor": "white",
           "lakecolor": "white",
           "landcolor": "white",
           "showlakes": true,
           "showland": true,
           "subunitcolor": "#C8D4E3"
          },
          "hoverlabel": {
           "align": "left"
          },
          "hovermode": "closest",
          "mapbox": {
           "style": "light"
          },
          "paper_bgcolor": "white",
          "plot_bgcolor": "white",
          "polar": {
           "angularaxis": {
            "gridcolor": "#EBF0F8",
            "linecolor": "#EBF0F8",
            "ticks": ""
           },
           "bgcolor": "white",
           "radialaxis": {
            "gridcolor": "#EBF0F8",
            "linecolor": "#EBF0F8",
            "ticks": ""
           }
          },
          "scene": {
           "xaxis": {
            "backgroundcolor": "white",
            "gridcolor": "#DFE8F3",
            "gridwidth": 2,
            "linecolor": "#EBF0F8",
            "showbackground": true,
            "ticks": "",
            "zerolinecolor": "#EBF0F8"
           },
           "yaxis": {
            "backgroundcolor": "white",
            "gridcolor": "#DFE8F3",
            "gridwidth": 2,
            "linecolor": "#EBF0F8",
            "showbackground": true,
            "ticks": "",
            "zerolinecolor": "#EBF0F8"
           },
           "zaxis": {
            "backgroundcolor": "white",
            "gridcolor": "#DFE8F3",
            "gridwidth": 2,
            "linecolor": "#EBF0F8",
            "showbackground": true,
            "ticks": "",
            "zerolinecolor": "#EBF0F8"
           }
          },
          "shapedefaults": {
           "line": {
            "color": "#2a3f5f"
           }
          },
          "ternary": {
           "aaxis": {
            "gridcolor": "#DFE8F3",
            "linecolor": "#A2B1C6",
            "ticks": ""
           },
           "baxis": {
            "gridcolor": "#DFE8F3",
            "linecolor": "#A2B1C6",
            "ticks": ""
           },
           "bgcolor": "white",
           "caxis": {
            "gridcolor": "#DFE8F3",
            "linecolor": "#A2B1C6",
            "ticks": ""
           }
          },
          "title": {
           "x": 0.05
          },
          "xaxis": {
           "automargin": true,
           "gridcolor": "#EBF0F8",
           "linecolor": "#EBF0F8",
           "ticks": "",
           "title": {
            "standoff": 15
           },
           "zerolinecolor": "#EBF0F8",
           "zerolinewidth": 2
          },
          "yaxis": {
           "automargin": true,
           "gridcolor": "#EBF0F8",
           "linecolor": "#EBF0F8",
           "ticks": "",
           "title": {
            "standoff": 15
           },
           "zerolinecolor": "#EBF0F8",
           "zerolinewidth": 2
          }
         }
        },
        "xaxis": {
         "tickangle": -45
        },
        "yaxis": {
         "range": [
          -3.1,
          3.1
         ],
         "tickvals": [
          -3,
          -2,
          -1,
          0,
          1,
          2,
          3
         ],
         "title": {
          "text": "Mean Rating (Bias)"
         }
        }
       }
      }
     },
     "metadata": {},
     "output_type": "display_data"
    }
   ],
   "source": [
    "# Add a new column with the mean of the ratings for each participant\n",
    "df_zh['Mean Rating'] = df_zh.iloc[:, 8:].mean(axis=1)\n",
    "\n",
    "# Separate df_zh into male and female datasets based on the Gender column\n",
    "df_zh_male = df_zh[df_zh['Gender'] == 'male']\n",
    "df_zh_female = df_zh[df_zh['Gender'] == 'female']\n",
    "\n",
    "# Show the number of male and female participants\n",
    "print(f\"Number of male participants: {df_zh_male['Participant ID'].nunique()}\")\n",
    "print(f\"Number of female participants: {df_zh_female['Participant ID'].nunique()}\")\n",
    "\n",
    "# Two Sample T-Test between male and female participants for each occupation word\n",
    "results = []\n",
    "for col in rating_columns:\n",
    "    male_ratings = df_zh_male[col].dropna().astype(float)\n",
    "    female_ratings = df_zh_female[col].dropna().astype(float)\n",
    "    # Only test if both groups have at least 2 ratings\n",
    "    if len(male_ratings) > 1 and len(female_ratings) > 1:\n",
    "        t_stat, p_value = stats.ttest_ind(male_ratings, female_ratings, equal_var=False)\n",
    "        mean_male = male_ratings.mean()\n",
    "        mean_female = female_ratings.mean()\n",
    "        # Get English translation from occupations DataFrame\n",
    "        en_translation = occupations.loc[occupations['zh'] == col, 'en'].values\n",
    "        en_translation = en_translation[0] if len(en_translation) > 0 else \"\"\n",
    "        results.append({\n",
    "            'occupation': col,\n",
    "            'mean_male': mean_male,\n",
    "            'mean_female': mean_female,\n",
    "            't_stat': t_stat,\n",
    "            'p_value': p_value,\n",
    "            'significant': p_value < 0.05,\n",
    "            'marg_significant': 0.05 < p_value < 0.1,\n",
    "            'en': en_translation\n",
    "        })\n",
    "\n",
    "# Create a DataFrame from the results\n",
    "df_ttest = pd.DataFrame(results)\n",
    "\n",
    "# Add overall mean rating for sorting\n",
    "df_ttest['overall_mean'] = (df_ttest['mean_male'] + df_ttest['mean_female']) / 2\n",
    "\n",
    "# Sort by overall mean rating\n",
    "df_ttest_sorted = df_ttest.sort_values('overall_mean', ascending=False)\n",
    "\n",
    "# Prepare axis labels: bold for significant\n",
    "def bold_label(row):\n",
    "    occupation = row['occupation']\n",
    "    if row.get('significant'):\n",
    "        occupation = f\"<b>{occupation}*</b>\"\n",
    "    if row.get('marg_significant'):\n",
    "        occupation = f\"<b>{occupation}+</b>\"\n",
    "    return occupation\n",
    "\n",
    "df_ttest_sorted['occupation_label'] = df_ttest_sorted.apply(bold_label, axis=1)\n",
    "\n",
    "# Plot with English translation in hover\n",
    "fig = go.Figure()\n",
    "\n",
    "fig.add_trace(go.Bar(\n",
    "    x=df_ttest_sorted['occupation_label'],\n",
    "    y=df_ttest_sorted['mean_male'],\n",
    "    name='Male',\n",
    "    marker_color=male_color,\n",
    "    customdata=df_ttest_sorted[['en']],\n",
    "    hovertemplate='Occupation: %{x}<br>English: %{customdata[0]}<br>Mean (Male): %{y:.2f}<extra></extra>'\n",
    "))\n",
    "\n",
    "fig.add_trace(go.Bar(\n",
    "    x=df_ttest_sorted['occupation_label'],\n",
    "    y=df_ttest_sorted['mean_female'],\n",
    "    name='Female',\n",
    "    marker_color=female_color,\n",
    "    customdata=df_ttest_sorted[['en']],\n",
    "    hovertemplate='Occupation: %{x}<br>English: %{customdata[0]}<br>Mean (Female): %{y:.2f}<extra></extra>'\n",
    "))\n",
    "\n",
    "fig.update_layout(\n",
    "    barmode='group',\n",
    "    xaxis_tickangle=-45,\n",
    "    yaxis_title='Bias (Male - Female)',\n",
    "    yaxis=dict(\n",
    "        range=[-3.1, 3.1],\n",
    "        tickvals=[-3, -2, -1, 0, 1, 2, 3],\n",
    "        title='Mean Rating (Bias)'\n",
    "    ),\n",
    "    template='plotly_white',\n",
    "    font=dict(family=\"Times New Roman, serif\", size=16, color='black'),\n",
    "    margin=dict(l=0, r=0, t=0, b=0),\n",
    "    legend=dict(\n",
    "        orientation='h',\n",
    "        yanchor='bottom',\n",
    "        y=0,\n",
    "        xanchor='center',\n",
    "        x=0.5,\n",
    "        bgcolor='rgba(220, 220, 220, 0.25)',\n",
    "    )\n",
    ")\n",
    "\n",
    "# Show the plot\n",
    "fig.show()\n",
    "\n",
    "# Save it as HTML and image\n",
    "fig.write_html('occupations_zh_gender.html')\n",
    "fig.write_image('occupations_zh_gender.png', scale=3, width=1000, height=400)"
   ]
  },
  {
   "cell_type": "markdown",
   "id": "a870abef",
   "metadata": {},
   "source": [
    "#### Biases and biases by"
   ]
  },
  {
   "cell_type": "code",
   "execution_count": 243,
   "id": "4c5016e9",
   "metadata": {},
   "outputs": [],
   "source": [
    "# Add a column 'bias_by' to df_ttest_sorted: 'Male' if abs(mean_male) > abs(mean_female), 'Female' if abs(mean_female) > abs(mean_male), 'Equal' if they are the same\n",
    "df_ttest_sorted['bias_by'] = np.where(\n",
    "    np.abs(df_ttest_sorted['mean_male']) > np.abs(df_ttest_sorted['mean_female']), 'Men',\n",
    "    np.where(np.abs(df_ttest_sorted['mean_male']) < np.abs(df_ttest_sorted['mean_female']), 'Women', 'Equal')\n",
    ")\n",
    "\n",
    "# Add columns that show if the bias is male or female. Add male, if the overall mean is lower than 0, othervise add Female\n",
    "df_ttest_sorted['bias'] = np.where(\n",
    "    df_ttest_sorted['overall_mean'] > 0, 'Female',\n",
    "    np.where(df_ttest_sorted['overall_mean'] < 0, 'Male', 'Equal')\n",
    ")\n",
    "\n",
    "# Calculate mean_difference (mean_male - mean_female), and add its absolute value\n",
    "df_ttest_sorted['mean_difference'] = (df_ttest_sorted['mean_male'] - df_ttest_sorted['mean_female']).abs()\n"
   ]
  },
  {
   "cell_type": "markdown",
   "id": "9b5936ae",
   "metadata": {},
   "source": [
    "#### Confusion matrix of biases"
   ]
  },
  {
   "cell_type": "code",
   "execution_count": 244,
   "id": "d6e21cf3",
   "metadata": {},
   "outputs": [
    {
     "data": {
      "application/vnd.plotly.v1+json": {
       "config": {
        "plotlyServerURL": "https://plot.ly"
       },
       "data": [
        {
         "colorscale": [
          [
           0,
           "white"
          ],
          [
           1,
           "#c55f5f"
          ]
         ],
         "hovertemplate": "Bias: %{y}<br>Bias By: %{x}<br>Count: %{z}<extra></extra>",
         "text": {
          "bdata": "Bg4NCw==",
          "dtype": "i1",
          "shape": "2, 2"
         },
         "texttemplate": "%{text}",
         "type": "heatmap",
         "x": [
          "Men",
          "Women"
         ],
         "y": [
          "Female",
          "Male"
         ],
         "z": {
          "bdata": "Bg4NCw==",
          "dtype": "i1",
          "shape": "2, 2"
         }
        }
       ],
       "layout": {
        "font": {
         "color": "black",
         "family": "Times New Roman, serif",
         "size": 28
        },
        "height": 400,
        "margin": {
         "b": 0,
         "l": 0,
         "r": 0,
         "t": 0
        },
        "template": {
         "data": {
          "bar": [
           {
            "error_x": {
             "color": "#2a3f5f"
            },
            "error_y": {
             "color": "#2a3f5f"
            },
            "marker": {
             "line": {
              "color": "#E5ECF6",
              "width": 0.5
             },
             "pattern": {
              "fillmode": "overlay",
              "size": 10,
              "solidity": 0.2
             }
            },
            "type": "bar"
           }
          ],
          "barpolar": [
           {
            "marker": {
             "line": {
              "color": "#E5ECF6",
              "width": 0.5
             },
             "pattern": {
              "fillmode": "overlay",
              "size": 10,
              "solidity": 0.2
             }
            },
            "type": "barpolar"
           }
          ],
          "carpet": [
           {
            "aaxis": {
             "endlinecolor": "#2a3f5f",
             "gridcolor": "white",
             "linecolor": "white",
             "minorgridcolor": "white",
             "startlinecolor": "#2a3f5f"
            },
            "baxis": {
             "endlinecolor": "#2a3f5f",
             "gridcolor": "white",
             "linecolor": "white",
             "minorgridcolor": "white",
             "startlinecolor": "#2a3f5f"
            },
            "type": "carpet"
           }
          ],
          "choropleth": [
           {
            "colorbar": {
             "outlinewidth": 0,
             "ticks": ""
            },
            "type": "choropleth"
           }
          ],
          "contour": [
           {
            "colorbar": {
             "outlinewidth": 0,
             "ticks": ""
            },
            "colorscale": [
             [
              0,
              "#0d0887"
             ],
             [
              0.1111111111111111,
              "#46039f"
             ],
             [
              0.2222222222222222,
              "#7201a8"
             ],
             [
              0.3333333333333333,
              "#9c179e"
             ],
             [
              0.4444444444444444,
              "#bd3786"
             ],
             [
              0.5555555555555556,
              "#d8576b"
             ],
             [
              0.6666666666666666,
              "#ed7953"
             ],
             [
              0.7777777777777778,
              "#fb9f3a"
             ],
             [
              0.8888888888888888,
              "#fdca26"
             ],
             [
              1,
              "#f0f921"
             ]
            ],
            "type": "contour"
           }
          ],
          "contourcarpet": [
           {
            "colorbar": {
             "outlinewidth": 0,
             "ticks": ""
            },
            "type": "contourcarpet"
           }
          ],
          "heatmap": [
           {
            "colorbar": {
             "outlinewidth": 0,
             "ticks": ""
            },
            "colorscale": [
             [
              0,
              "#0d0887"
             ],
             [
              0.1111111111111111,
              "#46039f"
             ],
             [
              0.2222222222222222,
              "#7201a8"
             ],
             [
              0.3333333333333333,
              "#9c179e"
             ],
             [
              0.4444444444444444,
              "#bd3786"
             ],
             [
              0.5555555555555556,
              "#d8576b"
             ],
             [
              0.6666666666666666,
              "#ed7953"
             ],
             [
              0.7777777777777778,
              "#fb9f3a"
             ],
             [
              0.8888888888888888,
              "#fdca26"
             ],
             [
              1,
              "#f0f921"
             ]
            ],
            "type": "heatmap"
           }
          ],
          "histogram": [
           {
            "marker": {
             "pattern": {
              "fillmode": "overlay",
              "size": 10,
              "solidity": 0.2
             }
            },
            "type": "histogram"
           }
          ],
          "histogram2d": [
           {
            "colorbar": {
             "outlinewidth": 0,
             "ticks": ""
            },
            "colorscale": [
             [
              0,
              "#0d0887"
             ],
             [
              0.1111111111111111,
              "#46039f"
             ],
             [
              0.2222222222222222,
              "#7201a8"
             ],
             [
              0.3333333333333333,
              "#9c179e"
             ],
             [
              0.4444444444444444,
              "#bd3786"
             ],
             [
              0.5555555555555556,
              "#d8576b"
             ],
             [
              0.6666666666666666,
              "#ed7953"
             ],
             [
              0.7777777777777778,
              "#fb9f3a"
             ],
             [
              0.8888888888888888,
              "#fdca26"
             ],
             [
              1,
              "#f0f921"
             ]
            ],
            "type": "histogram2d"
           }
          ],
          "histogram2dcontour": [
           {
            "colorbar": {
             "outlinewidth": 0,
             "ticks": ""
            },
            "colorscale": [
             [
              0,
              "#0d0887"
             ],
             [
              0.1111111111111111,
              "#46039f"
             ],
             [
              0.2222222222222222,
              "#7201a8"
             ],
             [
              0.3333333333333333,
              "#9c179e"
             ],
             [
              0.4444444444444444,
              "#bd3786"
             ],
             [
              0.5555555555555556,
              "#d8576b"
             ],
             [
              0.6666666666666666,
              "#ed7953"
             ],
             [
              0.7777777777777778,
              "#fb9f3a"
             ],
             [
              0.8888888888888888,
              "#fdca26"
             ],
             [
              1,
              "#f0f921"
             ]
            ],
            "type": "histogram2dcontour"
           }
          ],
          "mesh3d": [
           {
            "colorbar": {
             "outlinewidth": 0,
             "ticks": ""
            },
            "type": "mesh3d"
           }
          ],
          "parcoords": [
           {
            "line": {
             "colorbar": {
              "outlinewidth": 0,
              "ticks": ""
             }
            },
            "type": "parcoords"
           }
          ],
          "pie": [
           {
            "automargin": true,
            "type": "pie"
           }
          ],
          "scatter": [
           {
            "fillpattern": {
             "fillmode": "overlay",
             "size": 10,
             "solidity": 0.2
            },
            "type": "scatter"
           }
          ],
          "scatter3d": [
           {
            "line": {
             "colorbar": {
              "outlinewidth": 0,
              "ticks": ""
             }
            },
            "marker": {
             "colorbar": {
              "outlinewidth": 0,
              "ticks": ""
             }
            },
            "type": "scatter3d"
           }
          ],
          "scattercarpet": [
           {
            "marker": {
             "colorbar": {
              "outlinewidth": 0,
              "ticks": ""
             }
            },
            "type": "scattercarpet"
           }
          ],
          "scattergeo": [
           {
            "marker": {
             "colorbar": {
              "outlinewidth": 0,
              "ticks": ""
             }
            },
            "type": "scattergeo"
           }
          ],
          "scattergl": [
           {
            "marker": {
             "colorbar": {
              "outlinewidth": 0,
              "ticks": ""
             }
            },
            "type": "scattergl"
           }
          ],
          "scattermap": [
           {
            "marker": {
             "colorbar": {
              "outlinewidth": 0,
              "ticks": ""
             }
            },
            "type": "scattermap"
           }
          ],
          "scattermapbox": [
           {
            "marker": {
             "colorbar": {
              "outlinewidth": 0,
              "ticks": ""
             }
            },
            "type": "scattermapbox"
           }
          ],
          "scatterpolar": [
           {
            "marker": {
             "colorbar": {
              "outlinewidth": 0,
              "ticks": ""
             }
            },
            "type": "scatterpolar"
           }
          ],
          "scatterpolargl": [
           {
            "marker": {
             "colorbar": {
              "outlinewidth": 0,
              "ticks": ""
             }
            },
            "type": "scatterpolargl"
           }
          ],
          "scatterternary": [
           {
            "marker": {
             "colorbar": {
              "outlinewidth": 0,
              "ticks": ""
             }
            },
            "type": "scatterternary"
           }
          ],
          "surface": [
           {
            "colorbar": {
             "outlinewidth": 0,
             "ticks": ""
            },
            "colorscale": [
             [
              0,
              "#0d0887"
             ],
             [
              0.1111111111111111,
              "#46039f"
             ],
             [
              0.2222222222222222,
              "#7201a8"
             ],
             [
              0.3333333333333333,
              "#9c179e"
             ],
             [
              0.4444444444444444,
              "#bd3786"
             ],
             [
              0.5555555555555556,
              "#d8576b"
             ],
             [
              0.6666666666666666,
              "#ed7953"
             ],
             [
              0.7777777777777778,
              "#fb9f3a"
             ],
             [
              0.8888888888888888,
              "#fdca26"
             ],
             [
              1,
              "#f0f921"
             ]
            ],
            "type": "surface"
           }
          ],
          "table": [
           {
            "cells": {
             "fill": {
              "color": "#EBF0F8"
             },
             "line": {
              "color": "white"
             }
            },
            "header": {
             "fill": {
              "color": "#C8D4E3"
             },
             "line": {
              "color": "white"
             }
            },
            "type": "table"
           }
          ]
         },
         "layout": {
          "annotationdefaults": {
           "arrowcolor": "#2a3f5f",
           "arrowhead": 0,
           "arrowwidth": 1
          },
          "autotypenumbers": "strict",
          "coloraxis": {
           "colorbar": {
            "outlinewidth": 0,
            "ticks": ""
           }
          },
          "colorscale": {
           "diverging": [
            [
             0,
             "#8e0152"
            ],
            [
             0.1,
             "#c51b7d"
            ],
            [
             0.2,
             "#de77ae"
            ],
            [
             0.3,
             "#f1b6da"
            ],
            [
             0.4,
             "#fde0ef"
            ],
            [
             0.5,
             "#f7f7f7"
            ],
            [
             0.6,
             "#e6f5d0"
            ],
            [
             0.7,
             "#b8e186"
            ],
            [
             0.8,
             "#7fbc41"
            ],
            [
             0.9,
             "#4d9221"
            ],
            [
             1,
             "#276419"
            ]
           ],
           "sequential": [
            [
             0,
             "#0d0887"
            ],
            [
             0.1111111111111111,
             "#46039f"
            ],
            [
             0.2222222222222222,
             "#7201a8"
            ],
            [
             0.3333333333333333,
             "#9c179e"
            ],
            [
             0.4444444444444444,
             "#bd3786"
            ],
            [
             0.5555555555555556,
             "#d8576b"
            ],
            [
             0.6666666666666666,
             "#ed7953"
            ],
            [
             0.7777777777777778,
             "#fb9f3a"
            ],
            [
             0.8888888888888888,
             "#fdca26"
            ],
            [
             1,
             "#f0f921"
            ]
           ],
           "sequentialminus": [
            [
             0,
             "#0d0887"
            ],
            [
             0.1111111111111111,
             "#46039f"
            ],
            [
             0.2222222222222222,
             "#7201a8"
            ],
            [
             0.3333333333333333,
             "#9c179e"
            ],
            [
             0.4444444444444444,
             "#bd3786"
            ],
            [
             0.5555555555555556,
             "#d8576b"
            ],
            [
             0.6666666666666666,
             "#ed7953"
            ],
            [
             0.7777777777777778,
             "#fb9f3a"
            ],
            [
             0.8888888888888888,
             "#fdca26"
            ],
            [
             1,
             "#f0f921"
            ]
           ]
          },
          "colorway": [
           "#636efa",
           "#EF553B",
           "#00cc96",
           "#ab63fa",
           "#FFA15A",
           "#19d3f3",
           "#FF6692",
           "#B6E880",
           "#FF97FF",
           "#FECB52"
          ],
          "font": {
           "color": "#2a3f5f"
          },
          "geo": {
           "bgcolor": "white",
           "lakecolor": "white",
           "landcolor": "#E5ECF6",
           "showlakes": true,
           "showland": true,
           "subunitcolor": "white"
          },
          "hoverlabel": {
           "align": "left"
          },
          "hovermode": "closest",
          "mapbox": {
           "style": "light"
          },
          "paper_bgcolor": "white",
          "plot_bgcolor": "#E5ECF6",
          "polar": {
           "angularaxis": {
            "gridcolor": "white",
            "linecolor": "white",
            "ticks": ""
           },
           "bgcolor": "#E5ECF6",
           "radialaxis": {
            "gridcolor": "white",
            "linecolor": "white",
            "ticks": ""
           }
          },
          "scene": {
           "xaxis": {
            "backgroundcolor": "#E5ECF6",
            "gridcolor": "white",
            "gridwidth": 2,
            "linecolor": "white",
            "showbackground": true,
            "ticks": "",
            "zerolinecolor": "white"
           },
           "yaxis": {
            "backgroundcolor": "#E5ECF6",
            "gridcolor": "white",
            "gridwidth": 2,
            "linecolor": "white",
            "showbackground": true,
            "ticks": "",
            "zerolinecolor": "white"
           },
           "zaxis": {
            "backgroundcolor": "#E5ECF6",
            "gridcolor": "white",
            "gridwidth": 2,
            "linecolor": "white",
            "showbackground": true,
            "ticks": "",
            "zerolinecolor": "white"
           }
          },
          "shapedefaults": {
           "line": {
            "color": "#2a3f5f"
           }
          },
          "ternary": {
           "aaxis": {
            "gridcolor": "white",
            "linecolor": "white",
            "ticks": ""
           },
           "baxis": {
            "gridcolor": "white",
            "linecolor": "white",
            "ticks": ""
           },
           "bgcolor": "#E5ECF6",
           "caxis": {
            "gridcolor": "white",
            "linecolor": "white",
            "ticks": ""
           }
          },
          "title": {
           "x": 0.05
          },
          "xaxis": {
           "automargin": true,
           "gridcolor": "white",
           "linecolor": "white",
           "ticks": "",
           "title": {
            "standoff": 15
           },
           "zerolinecolor": "white",
           "zerolinewidth": 2
          },
          "yaxis": {
           "automargin": true,
           "gridcolor": "white",
           "linecolor": "white",
           "ticks": "",
           "title": {
            "standoff": 15
           },
           "zerolinecolor": "white",
           "zerolinewidth": 2
          }
         }
        },
        "title": {
         "text": "Confusion Matrix of Biases"
        },
        "width": 500,
        "xaxis": {
         "title": {
          "text": "Bias By"
         }
        },
        "yaxis": {
         "title": {
          "text": "Bias"
         }
        }
       }
      }
     },
     "metadata": {},
     "output_type": "display_data"
    }
   ],
   "source": [
    "# Count unique values in 'bias' and 'bias_by' columns, ignoring 'Equal'\n",
    "# Create confusion matrix, ignoring 'Equal'\n",
    "conf_matrix_zh = pd.crosstab(\n",
    "    df_ttest_sorted.loc[df_ttest_sorted['bias'] != 'Equal', 'bias'],\n",
    "    df_ttest_sorted.loc[df_ttest_sorted['bias_by'] != 'Equal', 'bias_by']\n",
    ")\n",
    "\n",
    "# Plot confusion matrix with plotly\n",
    "fig = go.Figure(data=go.Heatmap(\n",
    "    z=conf_matrix_zh.values,\n",
    "    x=conf_matrix_zh.columns,\n",
    "    y=conf_matrix_zh.index,\n",
    "    colorscale=chinese_color_scale,\n",
    "    text=conf_matrix_zh.values,\n",
    "    texttemplate=\"%{text}\",\n",
    "    hovertemplate=\"Bias: %{y}<br>Bias By: %{x}<br>Count: %{z}<extra></extra>\"\n",
    "))\n",
    "\n",
    "fig.update_layout(\n",
    "    font=dict(family=\"Times New Roman, serif\", size=28, color='black'),\n",
    "    margin=dict(l=0, r=0, t=0, b=0),\n",
    "    title=\"Confusion Matrix of Biases\",\n",
    "    xaxis_title=\"Bias By\",\n",
    "    yaxis_title=\"Bias\",\n",
    "    width=500,\n",
    "    height=400\n",
    ")\n",
    "\n",
    "# Show\n",
    "fig.show()\n",
    "\n",
    "# # Save confusion matrix as HTML and image\n",
    "# fig.write_html('confusion_matrix_zh.html')\n",
    "# fig.write_image('confusion_matrix_zh.png', scale=3, width=550, height=400)"
   ]
  },
  {
   "cell_type": "markdown",
   "id": "ee46ab87",
   "metadata": {},
   "source": [
    "#### Combined confusion matrices"
   ]
  },
  {
   "cell_type": "code",
   "execution_count": 245,
   "id": "4c841971",
   "metadata": {},
   "outputs": [
    {
     "data": {
      "application/vnd.plotly.v1+json": {
       "config": {
        "plotlyServerURL": "https://plot.ly"
       },
       "data": [
        {
         "colorscale": [
          [
           0,
           "white"
          ],
          [
           1,
           "#87c55f"
          ]
         ],
         "hovertemplate": "Bias: %{y}<br>Bias By: %{x}<br>Count: %{z}<extra></extra>",
         "showscale": false,
         "text": {
          "bdata": "DgQSBQ==",
          "dtype": "i1",
          "shape": "2, 2"
         },
         "texttemplate": "%{text}",
         "type": "heatmap",
         "x": [
          "Men",
          "Women"
         ],
         "xaxis": "x",
         "y": [
          "Female",
          "Male"
         ],
         "yaxis": "y",
         "z": {
          "bdata": "DgQSBQ==",
          "dtype": "i1",
          "shape": "2, 2"
         }
        },
        {
         "colorscale": [
          [
           0,
           "white"
          ],
          [
           1,
           "#c55f5f"
          ]
         ],
         "hovertemplate": "Bias: %{y}<br>Bias By: %{x}<br>Count: %{z}<extra></extra>",
         "showscale": false,
         "text": {
          "bdata": "Bg4NCw==",
          "dtype": "i1",
          "shape": "2, 2"
         },
         "texttemplate": "%{text}",
         "type": "heatmap",
         "x": [
          "Men",
          "Women"
         ],
         "xaxis": "x2",
         "y": [
          "Female",
          "Male"
         ],
         "yaxis": "y2",
         "z": {
          "bdata": "Bg4NCw==",
          "dtype": "i1",
          "shape": "2, 2"
         }
        }
       ],
       "layout": {
        "annotations": [
         {
          "font": {
           "size": 32
          },
          "showarrow": false,
          "text": "Hungarian",
          "x": 0.15,
          "xanchor": "center",
          "xref": "paper",
          "y": 1,
          "yanchor": "bottom",
          "yref": "paper"
         },
         {
          "font": {
           "size": 32
          },
          "showarrow": false,
          "text": "Chinese",
          "x": 0.85,
          "xanchor": "center",
          "xref": "paper",
          "y": 1,
          "yanchor": "bottom",
          "yref": "paper"
         }
        ],
        "font": {
         "color": "black",
         "family": "Times New Roman, serif",
         "size": 32
        },
        "height": 400,
        "margin": {
         "b": 0,
         "l": 0,
         "r": 0,
         "t": 40
        },
        "template": {
         "data": {
          "bar": [
           {
            "error_x": {
             "color": "#2a3f5f"
            },
            "error_y": {
             "color": "#2a3f5f"
            },
            "marker": {
             "line": {
              "color": "#E5ECF6",
              "width": 0.5
             },
             "pattern": {
              "fillmode": "overlay",
              "size": 10,
              "solidity": 0.2
             }
            },
            "type": "bar"
           }
          ],
          "barpolar": [
           {
            "marker": {
             "line": {
              "color": "#E5ECF6",
              "width": 0.5
             },
             "pattern": {
              "fillmode": "overlay",
              "size": 10,
              "solidity": 0.2
             }
            },
            "type": "barpolar"
           }
          ],
          "carpet": [
           {
            "aaxis": {
             "endlinecolor": "#2a3f5f",
             "gridcolor": "white",
             "linecolor": "white",
             "minorgridcolor": "white",
             "startlinecolor": "#2a3f5f"
            },
            "baxis": {
             "endlinecolor": "#2a3f5f",
             "gridcolor": "white",
             "linecolor": "white",
             "minorgridcolor": "white",
             "startlinecolor": "#2a3f5f"
            },
            "type": "carpet"
           }
          ],
          "choropleth": [
           {
            "colorbar": {
             "outlinewidth": 0,
             "ticks": ""
            },
            "type": "choropleth"
           }
          ],
          "contour": [
           {
            "colorbar": {
             "outlinewidth": 0,
             "ticks": ""
            },
            "colorscale": [
             [
              0,
              "#0d0887"
             ],
             [
              0.1111111111111111,
              "#46039f"
             ],
             [
              0.2222222222222222,
              "#7201a8"
             ],
             [
              0.3333333333333333,
              "#9c179e"
             ],
             [
              0.4444444444444444,
              "#bd3786"
             ],
             [
              0.5555555555555556,
              "#d8576b"
             ],
             [
              0.6666666666666666,
              "#ed7953"
             ],
             [
              0.7777777777777778,
              "#fb9f3a"
             ],
             [
              0.8888888888888888,
              "#fdca26"
             ],
             [
              1,
              "#f0f921"
             ]
            ],
            "type": "contour"
           }
          ],
          "contourcarpet": [
           {
            "colorbar": {
             "outlinewidth": 0,
             "ticks": ""
            },
            "type": "contourcarpet"
           }
          ],
          "heatmap": [
           {
            "colorbar": {
             "outlinewidth": 0,
             "ticks": ""
            },
            "colorscale": [
             [
              0,
              "#0d0887"
             ],
             [
              0.1111111111111111,
              "#46039f"
             ],
             [
              0.2222222222222222,
              "#7201a8"
             ],
             [
              0.3333333333333333,
              "#9c179e"
             ],
             [
              0.4444444444444444,
              "#bd3786"
             ],
             [
              0.5555555555555556,
              "#d8576b"
             ],
             [
              0.6666666666666666,
              "#ed7953"
             ],
             [
              0.7777777777777778,
              "#fb9f3a"
             ],
             [
              0.8888888888888888,
              "#fdca26"
             ],
             [
              1,
              "#f0f921"
             ]
            ],
            "type": "heatmap"
           }
          ],
          "histogram": [
           {
            "marker": {
             "pattern": {
              "fillmode": "overlay",
              "size": 10,
              "solidity": 0.2
             }
            },
            "type": "histogram"
           }
          ],
          "histogram2d": [
           {
            "colorbar": {
             "outlinewidth": 0,
             "ticks": ""
            },
            "colorscale": [
             [
              0,
              "#0d0887"
             ],
             [
              0.1111111111111111,
              "#46039f"
             ],
             [
              0.2222222222222222,
              "#7201a8"
             ],
             [
              0.3333333333333333,
              "#9c179e"
             ],
             [
              0.4444444444444444,
              "#bd3786"
             ],
             [
              0.5555555555555556,
              "#d8576b"
             ],
             [
              0.6666666666666666,
              "#ed7953"
             ],
             [
              0.7777777777777778,
              "#fb9f3a"
             ],
             [
              0.8888888888888888,
              "#fdca26"
             ],
             [
              1,
              "#f0f921"
             ]
            ],
            "type": "histogram2d"
           }
          ],
          "histogram2dcontour": [
           {
            "colorbar": {
             "outlinewidth": 0,
             "ticks": ""
            },
            "colorscale": [
             [
              0,
              "#0d0887"
             ],
             [
              0.1111111111111111,
              "#46039f"
             ],
             [
              0.2222222222222222,
              "#7201a8"
             ],
             [
              0.3333333333333333,
              "#9c179e"
             ],
             [
              0.4444444444444444,
              "#bd3786"
             ],
             [
              0.5555555555555556,
              "#d8576b"
             ],
             [
              0.6666666666666666,
              "#ed7953"
             ],
             [
              0.7777777777777778,
              "#fb9f3a"
             ],
             [
              0.8888888888888888,
              "#fdca26"
             ],
             [
              1,
              "#f0f921"
             ]
            ],
            "type": "histogram2dcontour"
           }
          ],
          "mesh3d": [
           {
            "colorbar": {
             "outlinewidth": 0,
             "ticks": ""
            },
            "type": "mesh3d"
           }
          ],
          "parcoords": [
           {
            "line": {
             "colorbar": {
              "outlinewidth": 0,
              "ticks": ""
             }
            },
            "type": "parcoords"
           }
          ],
          "pie": [
           {
            "automargin": true,
            "type": "pie"
           }
          ],
          "scatter": [
           {
            "fillpattern": {
             "fillmode": "overlay",
             "size": 10,
             "solidity": 0.2
            },
            "type": "scatter"
           }
          ],
          "scatter3d": [
           {
            "line": {
             "colorbar": {
              "outlinewidth": 0,
              "ticks": ""
             }
            },
            "marker": {
             "colorbar": {
              "outlinewidth": 0,
              "ticks": ""
             }
            },
            "type": "scatter3d"
           }
          ],
          "scattercarpet": [
           {
            "marker": {
             "colorbar": {
              "outlinewidth": 0,
              "ticks": ""
             }
            },
            "type": "scattercarpet"
           }
          ],
          "scattergeo": [
           {
            "marker": {
             "colorbar": {
              "outlinewidth": 0,
              "ticks": ""
             }
            },
            "type": "scattergeo"
           }
          ],
          "scattergl": [
           {
            "marker": {
             "colorbar": {
              "outlinewidth": 0,
              "ticks": ""
             }
            },
            "type": "scattergl"
           }
          ],
          "scattermap": [
           {
            "marker": {
             "colorbar": {
              "outlinewidth": 0,
              "ticks": ""
             }
            },
            "type": "scattermap"
           }
          ],
          "scattermapbox": [
           {
            "marker": {
             "colorbar": {
              "outlinewidth": 0,
              "ticks": ""
             }
            },
            "type": "scattermapbox"
           }
          ],
          "scatterpolar": [
           {
            "marker": {
             "colorbar": {
              "outlinewidth": 0,
              "ticks": ""
             }
            },
            "type": "scatterpolar"
           }
          ],
          "scatterpolargl": [
           {
            "marker": {
             "colorbar": {
              "outlinewidth": 0,
              "ticks": ""
             }
            },
            "type": "scatterpolargl"
           }
          ],
          "scatterternary": [
           {
            "marker": {
             "colorbar": {
              "outlinewidth": 0,
              "ticks": ""
             }
            },
            "type": "scatterternary"
           }
          ],
          "surface": [
           {
            "colorbar": {
             "outlinewidth": 0,
             "ticks": ""
            },
            "colorscale": [
             [
              0,
              "#0d0887"
             ],
             [
              0.1111111111111111,
              "#46039f"
             ],
             [
              0.2222222222222222,
              "#7201a8"
             ],
             [
              0.3333333333333333,
              "#9c179e"
             ],
             [
              0.4444444444444444,
              "#bd3786"
             ],
             [
              0.5555555555555556,
              "#d8576b"
             ],
             [
              0.6666666666666666,
              "#ed7953"
             ],
             [
              0.7777777777777778,
              "#fb9f3a"
             ],
             [
              0.8888888888888888,
              "#fdca26"
             ],
             [
              1,
              "#f0f921"
             ]
            ],
            "type": "surface"
           }
          ],
          "table": [
           {
            "cells": {
             "fill": {
              "color": "#EBF0F8"
             },
             "line": {
              "color": "white"
             }
            },
            "header": {
             "fill": {
              "color": "#C8D4E3"
             },
             "line": {
              "color": "white"
             }
            },
            "type": "table"
           }
          ]
         },
         "layout": {
          "annotationdefaults": {
           "arrowcolor": "#2a3f5f",
           "arrowhead": 0,
           "arrowwidth": 1
          },
          "autotypenumbers": "strict",
          "coloraxis": {
           "colorbar": {
            "outlinewidth": 0,
            "ticks": ""
           }
          },
          "colorscale": {
           "diverging": [
            [
             0,
             "#8e0152"
            ],
            [
             0.1,
             "#c51b7d"
            ],
            [
             0.2,
             "#de77ae"
            ],
            [
             0.3,
             "#f1b6da"
            ],
            [
             0.4,
             "#fde0ef"
            ],
            [
             0.5,
             "#f7f7f7"
            ],
            [
             0.6,
             "#e6f5d0"
            ],
            [
             0.7,
             "#b8e186"
            ],
            [
             0.8,
             "#7fbc41"
            ],
            [
             0.9,
             "#4d9221"
            ],
            [
             1,
             "#276419"
            ]
           ],
           "sequential": [
            [
             0,
             "#0d0887"
            ],
            [
             0.1111111111111111,
             "#46039f"
            ],
            [
             0.2222222222222222,
             "#7201a8"
            ],
            [
             0.3333333333333333,
             "#9c179e"
            ],
            [
             0.4444444444444444,
             "#bd3786"
            ],
            [
             0.5555555555555556,
             "#d8576b"
            ],
            [
             0.6666666666666666,
             "#ed7953"
            ],
            [
             0.7777777777777778,
             "#fb9f3a"
            ],
            [
             0.8888888888888888,
             "#fdca26"
            ],
            [
             1,
             "#f0f921"
            ]
           ],
           "sequentialminus": [
            [
             0,
             "#0d0887"
            ],
            [
             0.1111111111111111,
             "#46039f"
            ],
            [
             0.2222222222222222,
             "#7201a8"
            ],
            [
             0.3333333333333333,
             "#9c179e"
            ],
            [
             0.4444444444444444,
             "#bd3786"
            ],
            [
             0.5555555555555556,
             "#d8576b"
            ],
            [
             0.6666666666666666,
             "#ed7953"
            ],
            [
             0.7777777777777778,
             "#fb9f3a"
            ],
            [
             0.8888888888888888,
             "#fdca26"
            ],
            [
             1,
             "#f0f921"
            ]
           ]
          },
          "colorway": [
           "#636efa",
           "#EF553B",
           "#00cc96",
           "#ab63fa",
           "#FFA15A",
           "#19d3f3",
           "#FF6692",
           "#B6E880",
           "#FF97FF",
           "#FECB52"
          ],
          "font": {
           "color": "#2a3f5f"
          },
          "geo": {
           "bgcolor": "white",
           "lakecolor": "white",
           "landcolor": "#E5ECF6",
           "showlakes": true,
           "showland": true,
           "subunitcolor": "white"
          },
          "hoverlabel": {
           "align": "left"
          },
          "hovermode": "closest",
          "mapbox": {
           "style": "light"
          },
          "paper_bgcolor": "white",
          "plot_bgcolor": "#E5ECF6",
          "polar": {
           "angularaxis": {
            "gridcolor": "white",
            "linecolor": "white",
            "ticks": ""
           },
           "bgcolor": "#E5ECF6",
           "radialaxis": {
            "gridcolor": "white",
            "linecolor": "white",
            "ticks": ""
           }
          },
          "scene": {
           "xaxis": {
            "backgroundcolor": "#E5ECF6",
            "gridcolor": "white",
            "gridwidth": 2,
            "linecolor": "white",
            "showbackground": true,
            "ticks": "",
            "zerolinecolor": "white"
           },
           "yaxis": {
            "backgroundcolor": "#E5ECF6",
            "gridcolor": "white",
            "gridwidth": 2,
            "linecolor": "white",
            "showbackground": true,
            "ticks": "",
            "zerolinecolor": "white"
           },
           "zaxis": {
            "backgroundcolor": "#E5ECF6",
            "gridcolor": "white",
            "gridwidth": 2,
            "linecolor": "white",
            "showbackground": true,
            "ticks": "",
            "zerolinecolor": "white"
           }
          },
          "shapedefaults": {
           "line": {
            "color": "#2a3f5f"
           }
          },
          "ternary": {
           "aaxis": {
            "gridcolor": "white",
            "linecolor": "white",
            "ticks": ""
           },
           "baxis": {
            "gridcolor": "white",
            "linecolor": "white",
            "ticks": ""
           },
           "bgcolor": "#E5ECF6",
           "caxis": {
            "gridcolor": "white",
            "linecolor": "white",
            "ticks": ""
           }
          },
          "title": {
           "x": 0.05
          },
          "xaxis": {
           "automargin": true,
           "gridcolor": "white",
           "linecolor": "white",
           "ticks": "",
           "title": {
            "standoff": 15
           },
           "zerolinecolor": "white",
           "zerolinewidth": 2
          },
          "yaxis": {
           "automargin": true,
           "gridcolor": "white",
           "linecolor": "white",
           "ticks": "",
           "title": {
            "standoff": 15
           },
           "zerolinecolor": "white",
           "zerolinewidth": 2
          }
         }
        },
        "width": 1000,
        "xaxis": {
         "anchor": "y",
         "domain": [
          0,
          0.3
         ],
         "title": {
          "text": "Bias By"
         }
        },
        "xaxis2": {
         "anchor": "y2",
         "domain": [
          0.7,
          1
         ],
         "title": {
          "text": "Bias By"
         }
        },
        "yaxis": {
         "anchor": "x",
         "domain": [
          0,
          1
         ],
         "side": "right",
         "title": {
          "text": "Bias"
         }
        },
        "yaxis2": {
         "anchor": "x2",
         "domain": [
          0,
          1
         ],
         "title": {
          "text": "Bias"
         }
        }
       }
      }
     },
     "metadata": {},
     "output_type": "display_data"
    }
   ],
   "source": [
    "from plotly.subplots import make_subplots\n",
    "\n",
    "import plotly.graph_objects as go\n",
    "\n",
    "# Create subplots\n",
    "fig = make_subplots(\n",
    "    rows=1, cols=2,\n",
    "    subplot_titles=[\"Hungarian\", \"Chinese\"],\n",
    "    horizontal_spacing=0.40\n",
    ")\n",
    "fig.update_annotations(font_size=32)\n",
    "\n",
    "# Hungarian confusion matrix heatmap (greenish)\n",
    "fig.add_trace(\n",
    "    go.Heatmap(\n",
    "        z=conf_matrix_hu.values,\n",
    "        x=conf_matrix_hu.columns,\n",
    "        y=conf_matrix_hu.index,\n",
    "        colorscale=hungarian_color_scale,\n",
    "        text=conf_matrix_hu.values,\n",
    "        texttemplate=\"%{text}\",\n",
    "        hovertemplate=\"Bias: %{y}<br>Bias By: %{x}<br>Count: %{z}<extra></extra>\",\n",
    "        # yaxis =dict(\n",
    "            # title_text=\"Bias\",\n",
    "            # side=\"right\",\n",
    "            # title_standoff=10,\n",
    "        # )    \n",
    "    ),\n",
    "    row=1, col=1\n",
    ")\n",
    "\n",
    "# Chinese confusion matrix heatmap (reddish)\n",
    "fig.add_trace(\n",
    "    go.Heatmap(\n",
    "        z=conf_matrix_zh.values,\n",
    "        x=conf_matrix_zh.columns,\n",
    "        y=conf_matrix_zh.index,\n",
    "        colorscale=chinese_color_scale,\n",
    "        text=conf_matrix_zh.values,\n",
    "        texttemplate=\"%{text}\",\n",
    "        hovertemplate=\"Bias: %{y}<br>Bias By: %{x}<br>Count: %{z}<extra></extra>\"\n",
    "    ),\n",
    "    row=1, col=2\n",
    ")\n",
    "\n",
    "fig.update_traces(showscale=False)\n",
    "\n",
    "fig.update_layout(\n",
    "    font=dict(family=\"Times New Roman, serif\", size=32, color='black'),\n",
    "    margin=dict(l=0, r=0, t=40, b=0),\n",
    "    width=1000,\n",
    "    height=400,\n",
    "    # showlegend=False\n",
    ")\n",
    "\n",
    "fig.update_xaxes(title_text=\"Bias By\", row=1, col=1)\n",
    "fig.update_xaxes(title_text=\"Bias By\", row=1, col=2)\n",
    "fig.update_yaxes(title_text=\"Bias\", row=1, col=1, side=\"right\")\n",
    "fig.update_yaxes(title_text=\"Bias\", row=1, col=2)\n",
    "\n",
    "# fig.update_yaxes(\n",
    "#     showticklabels=True,\n",
    "#     title_text=\"Bias\",\n",
    "#     title_standoff=10,\n",
    "#     side=\"right\",\n",
    "#     row=1, col=2\n",
    "# )\n",
    "\n",
    "fig.show()\n",
    "\n",
    "# Save the combined confusion matrix as HTML and image\n",
    "fig.write_html('confusion_matrices.html')\n",
    "fig.write_image('confusion_matrices.png', scale=3, width=1000, height=400)"
   ]
  },
  {
   "cell_type": "markdown",
   "id": "a7d4af3e",
   "metadata": {},
   "source": [
    "#### Transpose"
   ]
  },
  {
   "cell_type": "code",
   "execution_count": 246,
   "id": "3ac3cef0",
   "metadata": {},
   "outputs": [
    {
     "name": "stdout",
     "output_type": "stream",
     "text": [
      "Number of rows: 44\n"
     ]
    },
    {
     "data": {
      "text/html": [
       "<div>\n",
       "<style scoped>\n",
       "    .dataframe tbody tr th:only-of-type {\n",
       "        vertical-align: middle;\n",
       "    }\n",
       "\n",
       "    .dataframe tbody tr th {\n",
       "        vertical-align: top;\n",
       "    }\n",
       "\n",
       "    .dataframe thead th {\n",
       "        text-align: right;\n",
       "    }\n",
       "</style>\n",
       "<table border=\"1\" class=\"dataframe\">\n",
       "  <thead>\n",
       "    <tr style=\"text-align: right;\">\n",
       "      <th></th>\n",
       "      <th>0</th>\n",
       "      <th>1</th>\n",
       "      <th>2</th>\n",
       "      <th>3</th>\n",
       "      <th>4</th>\n",
       "      <th>5</th>\n",
       "      <th>6</th>\n",
       "      <th>7</th>\n",
       "      <th>8</th>\n",
       "      <th>9</th>\n",
       "      <th>...</th>\n",
       "      <th>14</th>\n",
       "      <th>15</th>\n",
       "      <th>16</th>\n",
       "      <th>17</th>\n",
       "      <th>18</th>\n",
       "      <th>19</th>\n",
       "      <th>20</th>\n",
       "      <th>21</th>\n",
       "      <th>22</th>\n",
       "      <th>23</th>\n",
       "    </tr>\n",
       "  </thead>\n",
       "  <tbody>\n",
       "    <tr>\n",
       "      <th>Age</th>\n",
       "      <td>&lt;25</td>\n",
       "      <td>&lt;25</td>\n",
       "      <td>&lt;25</td>\n",
       "      <td>&lt;25</td>\n",
       "      <td>&lt;25</td>\n",
       "      <td>&lt;25</td>\n",
       "      <td>&lt;25</td>\n",
       "      <td>&lt;25</td>\n",
       "      <td>35-45</td>\n",
       "      <td>&lt;25</td>\n",
       "      <td>...</td>\n",
       "      <td>&lt;25</td>\n",
       "      <td>&lt;25</td>\n",
       "      <td>&lt;25</td>\n",
       "      <td>25-35</td>\n",
       "      <td>&lt;25</td>\n",
       "      <td>25-35</td>\n",
       "      <td>25-35</td>\n",
       "      <td>25-35</td>\n",
       "      <td>25-35</td>\n",
       "      <td>&lt;25</td>\n",
       "    </tr>\n",
       "    <tr>\n",
       "      <th>Gender</th>\n",
       "      <td>male</td>\n",
       "      <td>female</td>\n",
       "      <td>female</td>\n",
       "      <td>female</td>\n",
       "      <td>male</td>\n",
       "      <td>female</td>\n",
       "      <td>female</td>\n",
       "      <td>male</td>\n",
       "      <td>male</td>\n",
       "      <td>male</td>\n",
       "      <td>...</td>\n",
       "      <td>male</td>\n",
       "      <td>male</td>\n",
       "      <td>male</td>\n",
       "      <td>female</td>\n",
       "      <td>male</td>\n",
       "      <td>male</td>\n",
       "      <td>male</td>\n",
       "      <td>male</td>\n",
       "      <td>male</td>\n",
       "      <td>female</td>\n",
       "    </tr>\n",
       "    <tr>\n",
       "      <th>警察</th>\n",
       "      <td>-1</td>\n",
       "      <td>0</td>\n",
       "      <td>-2</td>\n",
       "      <td>-1</td>\n",
       "      <td>-1</td>\n",
       "      <td>-1</td>\n",
       "      <td>0</td>\n",
       "      <td>-2</td>\n",
       "      <td>-1</td>\n",
       "      <td>-2</td>\n",
       "      <td>...</td>\n",
       "      <td>-1</td>\n",
       "      <td>-1</td>\n",
       "      <td>-1</td>\n",
       "      <td>-1</td>\n",
       "      <td>-2</td>\n",
       "      <td>-1</td>\n",
       "      <td>-1</td>\n",
       "      <td>-2</td>\n",
       "      <td>0</td>\n",
       "      <td>-1</td>\n",
       "    </tr>\n",
       "    <tr>\n",
       "      <th>秘书</th>\n",
       "      <td>1</td>\n",
       "      <td>1</td>\n",
       "      <td>2</td>\n",
       "      <td>1</td>\n",
       "      <td>1</td>\n",
       "      <td>0</td>\n",
       "      <td>0</td>\n",
       "      <td>2</td>\n",
       "      <td>1</td>\n",
       "      <td>0</td>\n",
       "      <td>...</td>\n",
       "      <td>1</td>\n",
       "      <td>1</td>\n",
       "      <td>1</td>\n",
       "      <td>1</td>\n",
       "      <td>1</td>\n",
       "      <td>1</td>\n",
       "      <td>1</td>\n",
       "      <td>2</td>\n",
       "      <td>1</td>\n",
       "      <td>1</td>\n",
       "    </tr>\n",
       "    <tr>\n",
       "      <th>教授</th>\n",
       "      <td>0</td>\n",
       "      <td>0</td>\n",
       "      <td>-2</td>\n",
       "      <td>-1</td>\n",
       "      <td>0</td>\n",
       "      <td>-1</td>\n",
       "      <td>-1</td>\n",
       "      <td>-2</td>\n",
       "      <td>0</td>\n",
       "      <td>-1</td>\n",
       "      <td>...</td>\n",
       "      <td>-1</td>\n",
       "      <td>0</td>\n",
       "      <td>0</td>\n",
       "      <td>0</td>\n",
       "      <td>0</td>\n",
       "      <td>0</td>\n",
       "      <td>0</td>\n",
       "      <td>-1</td>\n",
       "      <td>0</td>\n",
       "      <td>0</td>\n",
       "    </tr>\n",
       "  </tbody>\n",
       "</table>\n",
       "<p>5 rows × 24 columns</p>\n",
       "</div>"
      ],
      "text/plain": [
       "          0       1       2       3     4       5       6     7      8     9   \\\n",
       "Age      <25     <25     <25     <25   <25     <25     <25   <25  35-45   <25   \n",
       "Gender  male  female  female  female  male  female  female  male   male  male   \n",
       "警察        -1       0      -2      -1    -1      -1       0    -2     -1    -2   \n",
       "秘书         1       1       2       1     1       0       0     2      1     0   \n",
       "教授         0       0      -2      -1     0      -1      -1    -2      0    -1   \n",
       "\n",
       "        ...    14    15    16      17    18     19     20     21     22  \\\n",
       "Age     ...   <25   <25   <25   25-35   <25  25-35  25-35  25-35  25-35   \n",
       "Gender  ...  male  male  male  female  male   male   male   male   male   \n",
       "警察      ...    -1    -1    -1      -1    -2     -1     -1     -2      0   \n",
       "秘书      ...     1     1     1       1     1      1      1      2      1   \n",
       "教授      ...    -1     0     0       0     0      0      0     -1      0   \n",
       "\n",
       "            23  \n",
       "Age        <25  \n",
       "Gender  female  \n",
       "警察          -1  \n",
       "秘书           1  \n",
       "教授           0  \n",
       "\n",
       "[5 rows x 24 columns]"
      ]
     },
     "execution_count": 246,
     "metadata": {},
     "output_type": "execute_result"
    }
   ],
   "source": [
    "# Transpose results, a prepare a copy with only the ratings\n",
    "df_zh_ratings = df_zh[rating_columns].transpose()\n",
    "df_zh = df_zh.transpose()\n",
    "\n",
    "# Remove rows with index: ID, Start Time, Completion time, Email, Name, Participant ID\n",
    "df_zh = df_zh.drop(['Participant ID', 'Education'], axis=0) \n",
    "\n",
    "# Print number of rows\n",
    "print(f\"Number of rows: {len(df_zh_ratings)}\")\n",
    "\n",
    "# # Sort by index\n",
    "# df_zh = df_zh.sort_index()\n",
    "\n",
    "# Show\n",
    "df_zh.head()"
   ]
  },
  {
   "cell_type": "markdown",
   "id": "37c54cf6",
   "metadata": {},
   "source": [
    "#### One Sample T-test"
   ]
  },
  {
   "cell_type": "code",
   "execution_count": 247,
   "id": "ddecec3e",
   "metadata": {},
   "outputs": [
    {
     "name": "stdout",
     "output_type": "stream",
     "text": [
      "   item      mean       std       p_value\n",
      "0    警察 -1.125000  0.612372  5.367933e-09\n",
      "1    秘书  0.958333  0.550033  1.386222e-08\n",
      "2    教授 -0.458333  0.658005  2.385824e-03\n",
      "3    护士  1.583333  0.503610  1.312409e-13\n",
      "4    高管 -0.500000  0.659380  1.138944e-03\n",
      "5    教师  0.541667  0.658005  5.185043e-04\n",
      "6    前台  1.375000  1.013496  8.825420e-07\n",
      "7    工人 -1.125000  0.797414  4.790048e-07\n",
      "8    幼师  1.583333  0.717282  1.711575e-10\n",
      "9    模特  0.333333  0.564660  8.223215e-03\n",
      "10   护工  0.625000  0.769670  5.938987e-04\n",
      "11   保姆  1.625000  0.710939  8.681772e-11\n",
      "12   会计  0.500000  0.722315  2.511711e-03\n",
      "13  工程师 -0.875000  0.899879  8.393129e-05\n",
      "14   保洁  0.708333  0.858673  5.077495e-04\n",
      "15   法官 -0.375000  0.646899  9.277574e-03\n",
      "16  导购员  0.833333  0.637022  1.537714e-06\n",
      "17  美容师  1.458333  0.779028  3.813259e-09\n",
      "19  乘务员  0.458333  0.658005  2.385824e-03\n",
      "20  理发师 -0.750000  0.737210  4.853396e-05\n",
      "21  空服员  0.708333  0.806450  2.646259e-04\n",
      "22  售票员  0.333333  0.481543  2.511711e-03\n",
      "23   厨师 -1.041667  0.750604  6.206482e-07\n",
      "25  家政员  0.500000  0.780189  4.594662e-03\n",
      "26  收银员  0.875000  0.679674  1.954731e-06\n",
      "28   法医 -0.791667  0.832971  1.096936e-04\n",
      "29  程序员 -1.083333  0.775532  5.600510e-07\n",
      "30   保安 -1.791667  0.721060  1.660571e-11\n",
      "31   导演 -0.708333  0.690253  4.359181e-05\n",
      "32   军人 -1.000000  0.722315  6.444485e-07\n",
      "33  董事长 -0.875000  0.740887  6.794579e-06\n",
      "34   农民 -0.541667  0.779028  2.421177e-03\n",
      "36   园丁 -0.416667  0.653863  4.793003e-03\n",
      "37  飞行员 -1.000000  0.659380  1.489369e-07\n",
      "38   人事  0.583333  0.880547  3.568862e-03\n",
      "39  消防员 -1.791667  0.721060  1.660571e-11\n",
      "40  科学家 -0.458333  0.658005  2.385824e-03\n",
      "41  检察官 -0.416667  0.583592  1.938806e-03\n",
      "42  救生员 -1.500000  0.884652  2.236210e-08\n",
      "43  建筑师 -0.708333  0.806450  2.646259e-04\n",
      "\n",
      "Range of mean ratings where the rating is not significant: -0.20833333333333334 to 0.20833333333333334\n"
     ]
    }
   ],
   "source": [
    "# One Sample T-test with standard deviation\n",
    "results = []\n",
    "\n",
    "for index, row in df_zh_ratings.iterrows():\n",
    "    ratings = row.dropna().astype(float)\n",
    "    t_stat, p_value = stats.ttest_1samp(ratings, popmean=0)\n",
    "    mean_rating = ratings.mean()\n",
    "    std_rating = ratings.std()\n",
    "    results.append({\n",
    "        'item': index,  # item name from index\n",
    "        'mean': mean_rating,\n",
    "        'std': std_rating,\n",
    "        't_stat': t_stat,\n",
    "        'p_value': p_value,\n",
    "        'significant': p_value < 0.05\n",
    "    })\n",
    "\n",
    "df_results = pd.DataFrame(results)\n",
    "\n",
    "# Print significant results\n",
    "print(df_results[df_results['significant']][['item', 'mean', 'std', 'p_value']])\n",
    "\n",
    "# Filter for non-significant ratings\n",
    "not_significant = df_results[~df_results['significant']]\n",
    "\n",
    "# Get the min and max of the mean ratings where not significant\n",
    "mean_min = not_significant['mean'].min()\n",
    "mean_max = not_significant['mean'].max()\n",
    "\n",
    "# Print the range of mean ratings where the rating is not significant\n",
    "print(f\"\\nRange of mean ratings where the rating is not significant: {mean_min} to {mean_max}\")"
   ]
  },
  {
   "cell_type": "code",
   "execution_count": 248,
   "id": "6ea675a5",
   "metadata": {},
   "outputs": [
    {
     "data": {
      "application/vnd.plotly.v1+json": {
       "config": {
        "plotlyServerURL": "https://plot.ly"
       },
       "data": [
        {
         "customdata": {
          "bdata": "IaTyYxdCsj0hpPJjF0KyPc8QUh3ZAlg+gtHq2BoONz7kIJKgnhKgPogyLzHNyqI+mdR4zlPTpD79+Jjubv2DPs7xNFjFn6U+Z4XPjYgAFj9UdCPCn3/cPkAkXiFqwRw/EJS/IB5yCT+dHsUSy9oGPyrG0nyvVzE/S2p/vZPVYz91EWRJE6lSP0/ggJ1vi2M/T+CAnW+LYz98taHv06FzP5l4/E/xw18/HS8y6h4Agz/8S1WqcJNkPwDG8klV14A/T+CAnW+LYz/8S1WqcJNkP1pLlRXa0XI/tpKlcof9QD+kyXNycjxtP/rOnbv7dUM/Z41rsU+jQD8qxtJ8r1cxP+xGWGRuzLk+iSg6+cBlwD4i9j5G1sRNPhkBBVn6nK0+pAix/bhgMD6bH07qc3hCPZPI2KERhuc9Thob70Dd1z0=",
          "dtype": "f8",
          "shape": "40, 1"
         },
         "hovertemplate": "Significance=significant<br>Item=%{x}<br>Mean Rating=%{y}<br>p_value=%{customdata[0]}<extra></extra>",
         "legendgroup": "significant",
         "marker": {
          "color": "crimson",
          "pattern": {
           "shape": ""
          }
         },
         "name": "significant",
         "orientation": "v",
         "showlegend": true,
         "textposition": "auto",
         "type": "bar",
         "x": [
          "保安",
          "消防员",
          "救生员",
          "警察",
          "工人",
          "程序员",
          "厨师",
          "飞行员",
          "军人",
          "工程师",
          "董事长",
          "法医",
          "理发师",
          "导演",
          "建筑师",
          "农民",
          "高管",
          "科学家",
          "教授",
          "园丁",
          "检察官",
          "法官",
          "售票员",
          "模特",
          "乘务员",
          "会计",
          "家政员",
          "教师",
          "人事",
          "护工",
          "保洁",
          "空服员",
          "导购员",
          "收银员",
          "秘书",
          "前台",
          "美容师",
          "护士",
          "幼师",
          "保姆"
         ],
         "xaxis": "x",
         "y": {
          "bdata": "q6qqqqqq/L+rqqqqqqr8vwAAAAAAAPi/AAAAAAAA8r8AAAAAAADyv1VVVVVVVfG/q6qqqqqq8L8AAAAAAADwvwAAAAAAAPC/AAAAAAAA7L8AAAAAAADsv1VVVVVVVem/AAAAAAAA6L+rqqqqqqrmv6uqqqqqqua/VVVVVVVV4b8AAAAAAADgv1VVVVVVVd2/VVVVVVVV3b+rqqqqqqrav6uqqqqqqtq/AAAAAAAA2L9VVVVVVVXVP1VVVVVVVdU/VVVVVVVV3T8AAAAAAADgPwAAAAAAAOA/VVVVVVVV4T+rqqqqqqriPwAAAAAAAOQ/q6qqqqqq5j+rqqqqqqrmP6uqqqqqquo/AAAAAAAA7D+rqqqqqqruPwAAAAAAAPY/VVVVVVVV9z9VVVVVVVX5P1VVVVVVVfk/AAAAAAAA+j8=",
          "dtype": "f8"
         },
         "yaxis": "y"
        },
        {
         "customdata": {
          "bdata": "mlsu8J8arT/AA3G3S/nUP8IDcbdL+dQ/UB/ZhraauD8=",
          "dtype": "f8",
          "shape": "4, 1"
         },
         "hovertemplate": "Significance=not significant<br>Item=%{x}<br>Mean Rating=%{y}<br>p_value=%{customdata[0]}<extra></extra>",
         "legendgroup": "not significant",
         "marker": {
          "color": "lightgray",
          "pattern": {
           "shape": ""
          }
         },
         "name": "not significant",
         "orientation": "v",
         "showlegend": true,
         "textposition": "auto",
         "type": "bar",
         "x": [
          "医生",
          "学生",
          "服务员",
          "营养师"
         ],
         "xaxis": "x",
         "y": {
          "bdata": "q6qqqqqqyr9VVVVVVVWlv1VVVVVVVbU/q6qqqqqqyj8=",
          "dtype": "f8"
         },
         "yaxis": "y"
        }
       ],
       "layout": {
        "barmode": "relative",
        "legend": {
         "bgcolor": "rgba(220, 220, 220, 0.25)",
         "orientation": "h",
         "title": {
          "text": "Significance"
         },
         "tracegroupgap": 0,
         "x": 0.5,
         "xanchor": "center",
         "y": 0,
         "yanchor": "bottom"
        },
        "margin": {
         "b": 0,
         "l": 0,
         "r": 0,
         "t": 40
        },
        "template": {
         "data": {
          "bar": [
           {
            "error_x": {
             "color": "#2a3f5f"
            },
            "error_y": {
             "color": "#2a3f5f"
            },
            "marker": {
             "line": {
              "color": "white",
              "width": 0.5
             },
             "pattern": {
              "fillmode": "overlay",
              "size": 10,
              "solidity": 0.2
             }
            },
            "type": "bar"
           }
          ],
          "barpolar": [
           {
            "marker": {
             "line": {
              "color": "white",
              "width": 0.5
             },
             "pattern": {
              "fillmode": "overlay",
              "size": 10,
              "solidity": 0.2
             }
            },
            "type": "barpolar"
           }
          ],
          "carpet": [
           {
            "aaxis": {
             "endlinecolor": "#2a3f5f",
             "gridcolor": "#C8D4E3",
             "linecolor": "#C8D4E3",
             "minorgridcolor": "#C8D4E3",
             "startlinecolor": "#2a3f5f"
            },
            "baxis": {
             "endlinecolor": "#2a3f5f",
             "gridcolor": "#C8D4E3",
             "linecolor": "#C8D4E3",
             "minorgridcolor": "#C8D4E3",
             "startlinecolor": "#2a3f5f"
            },
            "type": "carpet"
           }
          ],
          "choropleth": [
           {
            "colorbar": {
             "outlinewidth": 0,
             "ticks": ""
            },
            "type": "choropleth"
           }
          ],
          "contour": [
           {
            "colorbar": {
             "outlinewidth": 0,
             "ticks": ""
            },
            "colorscale": [
             [
              0,
              "#0d0887"
             ],
             [
              0.1111111111111111,
              "#46039f"
             ],
             [
              0.2222222222222222,
              "#7201a8"
             ],
             [
              0.3333333333333333,
              "#9c179e"
             ],
             [
              0.4444444444444444,
              "#bd3786"
             ],
             [
              0.5555555555555556,
              "#d8576b"
             ],
             [
              0.6666666666666666,
              "#ed7953"
             ],
             [
              0.7777777777777778,
              "#fb9f3a"
             ],
             [
              0.8888888888888888,
              "#fdca26"
             ],
             [
              1,
              "#f0f921"
             ]
            ],
            "type": "contour"
           }
          ],
          "contourcarpet": [
           {
            "colorbar": {
             "outlinewidth": 0,
             "ticks": ""
            },
            "type": "contourcarpet"
           }
          ],
          "heatmap": [
           {
            "colorbar": {
             "outlinewidth": 0,
             "ticks": ""
            },
            "colorscale": [
             [
              0,
              "#0d0887"
             ],
             [
              0.1111111111111111,
              "#46039f"
             ],
             [
              0.2222222222222222,
              "#7201a8"
             ],
             [
              0.3333333333333333,
              "#9c179e"
             ],
             [
              0.4444444444444444,
              "#bd3786"
             ],
             [
              0.5555555555555556,
              "#d8576b"
             ],
             [
              0.6666666666666666,
              "#ed7953"
             ],
             [
              0.7777777777777778,
              "#fb9f3a"
             ],
             [
              0.8888888888888888,
              "#fdca26"
             ],
             [
              1,
              "#f0f921"
             ]
            ],
            "type": "heatmap"
           }
          ],
          "histogram": [
           {
            "marker": {
             "pattern": {
              "fillmode": "overlay",
              "size": 10,
              "solidity": 0.2
             }
            },
            "type": "histogram"
           }
          ],
          "histogram2d": [
           {
            "colorbar": {
             "outlinewidth": 0,
             "ticks": ""
            },
            "colorscale": [
             [
              0,
              "#0d0887"
             ],
             [
              0.1111111111111111,
              "#46039f"
             ],
             [
              0.2222222222222222,
              "#7201a8"
             ],
             [
              0.3333333333333333,
              "#9c179e"
             ],
             [
              0.4444444444444444,
              "#bd3786"
             ],
             [
              0.5555555555555556,
              "#d8576b"
             ],
             [
              0.6666666666666666,
              "#ed7953"
             ],
             [
              0.7777777777777778,
              "#fb9f3a"
             ],
             [
              0.8888888888888888,
              "#fdca26"
             ],
             [
              1,
              "#f0f921"
             ]
            ],
            "type": "histogram2d"
           }
          ],
          "histogram2dcontour": [
           {
            "colorbar": {
             "outlinewidth": 0,
             "ticks": ""
            },
            "colorscale": [
             [
              0,
              "#0d0887"
             ],
             [
              0.1111111111111111,
              "#46039f"
             ],
             [
              0.2222222222222222,
              "#7201a8"
             ],
             [
              0.3333333333333333,
              "#9c179e"
             ],
             [
              0.4444444444444444,
              "#bd3786"
             ],
             [
              0.5555555555555556,
              "#d8576b"
             ],
             [
              0.6666666666666666,
              "#ed7953"
             ],
             [
              0.7777777777777778,
              "#fb9f3a"
             ],
             [
              0.8888888888888888,
              "#fdca26"
             ],
             [
              1,
              "#f0f921"
             ]
            ],
            "type": "histogram2dcontour"
           }
          ],
          "mesh3d": [
           {
            "colorbar": {
             "outlinewidth": 0,
             "ticks": ""
            },
            "type": "mesh3d"
           }
          ],
          "parcoords": [
           {
            "line": {
             "colorbar": {
              "outlinewidth": 0,
              "ticks": ""
             }
            },
            "type": "parcoords"
           }
          ],
          "pie": [
           {
            "automargin": true,
            "type": "pie"
           }
          ],
          "scatter": [
           {
            "fillpattern": {
             "fillmode": "overlay",
             "size": 10,
             "solidity": 0.2
            },
            "type": "scatter"
           }
          ],
          "scatter3d": [
           {
            "line": {
             "colorbar": {
              "outlinewidth": 0,
              "ticks": ""
             }
            },
            "marker": {
             "colorbar": {
              "outlinewidth": 0,
              "ticks": ""
             }
            },
            "type": "scatter3d"
           }
          ],
          "scattercarpet": [
           {
            "marker": {
             "colorbar": {
              "outlinewidth": 0,
              "ticks": ""
             }
            },
            "type": "scattercarpet"
           }
          ],
          "scattergeo": [
           {
            "marker": {
             "colorbar": {
              "outlinewidth": 0,
              "ticks": ""
             }
            },
            "type": "scattergeo"
           }
          ],
          "scattergl": [
           {
            "marker": {
             "colorbar": {
              "outlinewidth": 0,
              "ticks": ""
             }
            },
            "type": "scattergl"
           }
          ],
          "scattermap": [
           {
            "marker": {
             "colorbar": {
              "outlinewidth": 0,
              "ticks": ""
             }
            },
            "type": "scattermap"
           }
          ],
          "scattermapbox": [
           {
            "marker": {
             "colorbar": {
              "outlinewidth": 0,
              "ticks": ""
             }
            },
            "type": "scattermapbox"
           }
          ],
          "scatterpolar": [
           {
            "marker": {
             "colorbar": {
              "outlinewidth": 0,
              "ticks": ""
             }
            },
            "type": "scatterpolar"
           }
          ],
          "scatterpolargl": [
           {
            "marker": {
             "colorbar": {
              "outlinewidth": 0,
              "ticks": ""
             }
            },
            "type": "scatterpolargl"
           }
          ],
          "scatterternary": [
           {
            "marker": {
             "colorbar": {
              "outlinewidth": 0,
              "ticks": ""
             }
            },
            "type": "scatterternary"
           }
          ],
          "surface": [
           {
            "colorbar": {
             "outlinewidth": 0,
             "ticks": ""
            },
            "colorscale": [
             [
              0,
              "#0d0887"
             ],
             [
              0.1111111111111111,
              "#46039f"
             ],
             [
              0.2222222222222222,
              "#7201a8"
             ],
             [
              0.3333333333333333,
              "#9c179e"
             ],
             [
              0.4444444444444444,
              "#bd3786"
             ],
             [
              0.5555555555555556,
              "#d8576b"
             ],
             [
              0.6666666666666666,
              "#ed7953"
             ],
             [
              0.7777777777777778,
              "#fb9f3a"
             ],
             [
              0.8888888888888888,
              "#fdca26"
             ],
             [
              1,
              "#f0f921"
             ]
            ],
            "type": "surface"
           }
          ],
          "table": [
           {
            "cells": {
             "fill": {
              "color": "#EBF0F8"
             },
             "line": {
              "color": "white"
             }
            },
            "header": {
             "fill": {
              "color": "#C8D4E3"
             },
             "line": {
              "color": "white"
             }
            },
            "type": "table"
           }
          ]
         },
         "layout": {
          "annotationdefaults": {
           "arrowcolor": "#2a3f5f",
           "arrowhead": 0,
           "arrowwidth": 1
          },
          "autotypenumbers": "strict",
          "coloraxis": {
           "colorbar": {
            "outlinewidth": 0,
            "ticks": ""
           }
          },
          "colorscale": {
           "diverging": [
            [
             0,
             "#8e0152"
            ],
            [
             0.1,
             "#c51b7d"
            ],
            [
             0.2,
             "#de77ae"
            ],
            [
             0.3,
             "#f1b6da"
            ],
            [
             0.4,
             "#fde0ef"
            ],
            [
             0.5,
             "#f7f7f7"
            ],
            [
             0.6,
             "#e6f5d0"
            ],
            [
             0.7,
             "#b8e186"
            ],
            [
             0.8,
             "#7fbc41"
            ],
            [
             0.9,
             "#4d9221"
            ],
            [
             1,
             "#276419"
            ]
           ],
           "sequential": [
            [
             0,
             "#0d0887"
            ],
            [
             0.1111111111111111,
             "#46039f"
            ],
            [
             0.2222222222222222,
             "#7201a8"
            ],
            [
             0.3333333333333333,
             "#9c179e"
            ],
            [
             0.4444444444444444,
             "#bd3786"
            ],
            [
             0.5555555555555556,
             "#d8576b"
            ],
            [
             0.6666666666666666,
             "#ed7953"
            ],
            [
             0.7777777777777778,
             "#fb9f3a"
            ],
            [
             0.8888888888888888,
             "#fdca26"
            ],
            [
             1,
             "#f0f921"
            ]
           ],
           "sequentialminus": [
            [
             0,
             "#0d0887"
            ],
            [
             0.1111111111111111,
             "#46039f"
            ],
            [
             0.2222222222222222,
             "#7201a8"
            ],
            [
             0.3333333333333333,
             "#9c179e"
            ],
            [
             0.4444444444444444,
             "#bd3786"
            ],
            [
             0.5555555555555556,
             "#d8576b"
            ],
            [
             0.6666666666666666,
             "#ed7953"
            ],
            [
             0.7777777777777778,
             "#fb9f3a"
            ],
            [
             0.8888888888888888,
             "#fdca26"
            ],
            [
             1,
             "#f0f921"
            ]
           ]
          },
          "colorway": [
           "#636efa",
           "#EF553B",
           "#00cc96",
           "#ab63fa",
           "#FFA15A",
           "#19d3f3",
           "#FF6692",
           "#B6E880",
           "#FF97FF",
           "#FECB52"
          ],
          "font": {
           "color": "#2a3f5f"
          },
          "geo": {
           "bgcolor": "white",
           "lakecolor": "white",
           "landcolor": "white",
           "showlakes": true,
           "showland": true,
           "subunitcolor": "#C8D4E3"
          },
          "hoverlabel": {
           "align": "left"
          },
          "hovermode": "closest",
          "mapbox": {
           "style": "light"
          },
          "paper_bgcolor": "white",
          "plot_bgcolor": "white",
          "polar": {
           "angularaxis": {
            "gridcolor": "#EBF0F8",
            "linecolor": "#EBF0F8",
            "ticks": ""
           },
           "bgcolor": "white",
           "radialaxis": {
            "gridcolor": "#EBF0F8",
            "linecolor": "#EBF0F8",
            "ticks": ""
           }
          },
          "scene": {
           "xaxis": {
            "backgroundcolor": "white",
            "gridcolor": "#DFE8F3",
            "gridwidth": 2,
            "linecolor": "#EBF0F8",
            "showbackground": true,
            "ticks": "",
            "zerolinecolor": "#EBF0F8"
           },
           "yaxis": {
            "backgroundcolor": "white",
            "gridcolor": "#DFE8F3",
            "gridwidth": 2,
            "linecolor": "#EBF0F8",
            "showbackground": true,
            "ticks": "",
            "zerolinecolor": "#EBF0F8"
           },
           "zaxis": {
            "backgroundcolor": "white",
            "gridcolor": "#DFE8F3",
            "gridwidth": 2,
            "linecolor": "#EBF0F8",
            "showbackground": true,
            "ticks": "",
            "zerolinecolor": "#EBF0F8"
           }
          },
          "shapedefaults": {
           "line": {
            "color": "#2a3f5f"
           }
          },
          "ternary": {
           "aaxis": {
            "gridcolor": "#DFE8F3",
            "linecolor": "#A2B1C6",
            "ticks": ""
           },
           "baxis": {
            "gridcolor": "#DFE8F3",
            "linecolor": "#A2B1C6",
            "ticks": ""
           },
           "bgcolor": "white",
           "caxis": {
            "gridcolor": "#DFE8F3",
            "linecolor": "#A2B1C6",
            "ticks": ""
           }
          },
          "title": {
           "x": 0.05
          },
          "xaxis": {
           "automargin": true,
           "gridcolor": "#EBF0F8",
           "linecolor": "#EBF0F8",
           "ticks": "",
           "title": {
            "standoff": 15
           },
           "zerolinecolor": "#EBF0F8",
           "zerolinewidth": 2
          },
          "yaxis": {
           "automargin": true,
           "gridcolor": "#EBF0F8",
           "linecolor": "#EBF0F8",
           "ticks": "",
           "title": {
            "standoff": 15
           },
           "zerolinecolor": "#EBF0F8",
           "zerolinewidth": 2
          }
         }
        },
        "title": {
         "text": "One Sample T-test of Raw Ratings"
        },
        "xaxis": {
         "anchor": "y",
         "domain": [
          0,
          1
         ],
         "tickangle": -45,
         "title": {
          "text": "Item"
         }
        },
        "yaxis": {
         "anchor": "x",
         "domain": [
          0,
          1
         ],
         "title": {
          "text": "Mean Rating"
         }
        }
       }
      }
     },
     "metadata": {},
     "output_type": "display_data"
    }
   ],
   "source": [
    "# Sort by mean for better readability\n",
    "df_results_sorted = df_results.sort_values(by='mean')\n",
    "\n",
    "# Create color labels\n",
    "df_results_sorted['Significance'] = df_results_sorted['significant'].map({True: 'significant', False: 'not significant'})\n",
    "\n",
    "# Plot\n",
    "fig = px.bar(\n",
    "    df_results_sorted,\n",
    "    x='item',\n",
    "    y='mean',\n",
    "    color='Significance',\n",
    "    color_discrete_map={'significant': 'crimson', 'not significant': 'lightgray'},\n",
    "    title='One Sample T-test of Raw Ratings',\n",
    "    labels={'item': 'Item', 'mean': 'Mean Rating'},\n",
    "    # On hover, Show the item, mean rating, and p-value    \n",
    "    hover_data=['item', 'mean', 'p_value'],\n",
    "    # Edit hovertemplate to show item, mean, and p-value\n",
    "    \n",
    ")\n",
    "\n",
    "fig.update_layout(\n",
    "    xaxis_tickangle=-45,\n",
    "    template='plotly_white',\n",
    "    margin=dict(l=0, r=0, t=40, b=0),\n",
    "    legend=dict(\n",
    "        orientation='h',\n",
    "        yanchor='bottom',\n",
    "        y=0,\n",
    "        xanchor='center',\n",
    "        x=0.5,\n",
    "        bgcolor='rgba(220, 220, 220, 0.25)',\n",
    "    )\n",
    ")\n",
    "\n",
    "# Show\n",
    "fig.show()\n",
    "\n",
    "# # Save it as html\n",
    "# fig.write_html('occupations_ttest_zh.html')\n",
    "# fig.write_image('occupations_ttest_zh.png', scale=3, width=1000, height=400)"
   ]
  },
  {
   "cell_type": "markdown",
   "id": "5992f673",
   "metadata": {},
   "source": [
    "#### Merge"
   ]
  },
  {
   "cell_type": "code",
   "execution_count": 249,
   "id": "1366b085",
   "metadata": {},
   "outputs": [
    {
     "data": {
      "text/html": [
       "<div>\n",
       "<style scoped>\n",
       "    .dataframe tbody tr th:only-of-type {\n",
       "        vertical-align: middle;\n",
       "    }\n",
       "\n",
       "    .dataframe tbody tr th {\n",
       "        vertical-align: top;\n",
       "    }\n",
       "\n",
       "    .dataframe thead th {\n",
       "        text-align: right;\n",
       "    }\n",
       "</style>\n",
       "<table border=\"1\" class=\"dataframe\">\n",
       "  <thead>\n",
       "    <tr style=\"text-align: right;\">\n",
       "      <th></th>\n",
       "      <th>zh</th>\n",
       "      <th>en</th>\n",
       "      <th>hu</th>\n",
       "      <th>0</th>\n",
       "      <th>1</th>\n",
       "      <th>2</th>\n",
       "      <th>3</th>\n",
       "      <th>4</th>\n",
       "      <th>5</th>\n",
       "      <th>6</th>\n",
       "      <th>...</th>\n",
       "      <th>chatgpt_zh</th>\n",
       "      <th>chatgpt_zh_std</th>\n",
       "      <th>deepseek_zh</th>\n",
       "      <th>deepseek_zh_std</th>\n",
       "      <th>gemini_zh</th>\n",
       "      <th>gemini_zh_std</th>\n",
       "      <th>mean_zh</th>\n",
       "      <th>std_zh</th>\n",
       "      <th>p_value_zh</th>\n",
       "      <th>significant_zh</th>\n",
       "    </tr>\n",
       "  </thead>\n",
       "  <tbody>\n",
       "    <tr>\n",
       "      <th>34</th>\n",
       "      <td>保安</td>\n",
       "      <td>security guard</td>\n",
       "      <td>biztonsági őr</td>\n",
       "      <td>-2</td>\n",
       "      <td>-1</td>\n",
       "      <td>-2</td>\n",
       "      <td>-1</td>\n",
       "      <td>-2</td>\n",
       "      <td>-2</td>\n",
       "      <td>-1</td>\n",
       "      <td>...</td>\n",
       "      <td>-2.735</td>\n",
       "      <td>0.100139</td>\n",
       "      <td>-2.00</td>\n",
       "      <td>0.235702</td>\n",
       "      <td>-2.408</td>\n",
       "      <td>0.452936</td>\n",
       "      <td>-1.791667</td>\n",
       "      <td>0.72106</td>\n",
       "      <td>1.660571e-11</td>\n",
       "      <td>True</td>\n",
       "    </tr>\n",
       "    <tr>\n",
       "      <th>43</th>\n",
       "      <td>消防员</td>\n",
       "      <td>firefighter</td>\n",
       "      <td>tűzoltó</td>\n",
       "      <td>-2</td>\n",
       "      <td>-1</td>\n",
       "      <td>-2</td>\n",
       "      <td>-2</td>\n",
       "      <td>-2</td>\n",
       "      <td>-2</td>\n",
       "      <td>-2</td>\n",
       "      <td>...</td>\n",
       "      <td>-2.855</td>\n",
       "      <td>0.076194</td>\n",
       "      <td>-2.43</td>\n",
       "      <td>0.340098</td>\n",
       "      <td>-3.000</td>\n",
       "      <td>0.000000</td>\n",
       "      <td>-1.791667</td>\n",
       "      <td>0.72106</td>\n",
       "      <td>1.660571e-11</td>\n",
       "      <td>True</td>\n",
       "    </tr>\n",
       "    <tr>\n",
       "      <th>0</th>\n",
       "      <td>Age</td>\n",
       "      <td>NaN</td>\n",
       "      <td>NaN</td>\n",
       "      <td>&lt;25</td>\n",
       "      <td>&lt;25</td>\n",
       "      <td>&lt;25</td>\n",
       "      <td>&lt;25</td>\n",
       "      <td>&lt;25</td>\n",
       "      <td>&lt;25</td>\n",
       "      <td>&lt;25</td>\n",
       "      <td>...</td>\n",
       "      <td>NaN</td>\n",
       "      <td>NaN</td>\n",
       "      <td>NaN</td>\n",
       "      <td>NaN</td>\n",
       "      <td>NaN</td>\n",
       "      <td>NaN</td>\n",
       "      <td>NaN</td>\n",
       "      <td>NaN</td>\n",
       "      <td>NaN</td>\n",
       "      <td>NaN</td>\n",
       "    </tr>\n",
       "    <tr>\n",
       "      <th>1</th>\n",
       "      <td>Gender</td>\n",
       "      <td>NaN</td>\n",
       "      <td>NaN</td>\n",
       "      <td>male</td>\n",
       "      <td>female</td>\n",
       "      <td>female</td>\n",
       "      <td>female</td>\n",
       "      <td>male</td>\n",
       "      <td>female</td>\n",
       "      <td>female</td>\n",
       "      <td>...</td>\n",
       "      <td>NaN</td>\n",
       "      <td>NaN</td>\n",
       "      <td>NaN</td>\n",
       "      <td>NaN</td>\n",
       "      <td>NaN</td>\n",
       "      <td>NaN</td>\n",
       "      <td>NaN</td>\n",
       "      <td>NaN</td>\n",
       "      <td>NaN</td>\n",
       "      <td>NaN</td>\n",
       "    </tr>\n",
       "    <tr>\n",
       "      <th>48</th>\n",
       "      <td>Mean Rating</td>\n",
       "      <td>NaN</td>\n",
       "      <td>NaN</td>\n",
       "      <td>-0.25</td>\n",
       "      <td>0.15</td>\n",
       "      <td>-0.4</td>\n",
       "      <td>-0.25</td>\n",
       "      <td>-0.35</td>\n",
       "      <td>-0.25</td>\n",
       "      <td>0.225</td>\n",
       "      <td>...</td>\n",
       "      <td>NaN</td>\n",
       "      <td>NaN</td>\n",
       "      <td>NaN</td>\n",
       "      <td>NaN</td>\n",
       "      <td>NaN</td>\n",
       "      <td>NaN</td>\n",
       "      <td>NaN</td>\n",
       "      <td>NaN</td>\n",
       "      <td>NaN</td>\n",
       "      <td>NaN</td>\n",
       "    </tr>\n",
       "  </tbody>\n",
       "</table>\n",
       "<p>5 rows × 52 columns</p>\n",
       "</div>"
      ],
      "text/plain": [
       "             zh              en             hu     0       1       2       3  \\\n",
       "34           保安  security guard  biztonsági őr    -2      -1      -2      -1   \n",
       "43          消防员     firefighter        tűzoltó    -2      -1      -2      -2   \n",
       "0           Age             NaN            NaN   <25     <25     <25     <25   \n",
       "1        Gender             NaN            NaN  male  female  female  female   \n",
       "48  Mean Rating             NaN            NaN -0.25    0.15    -0.4   -0.25   \n",
       "\n",
       "       4       5       6  ... chatgpt_zh chatgpt_zh_std deepseek_zh  \\\n",
       "34    -2      -2      -1  ...     -2.735       0.100139       -2.00   \n",
       "43    -2      -2      -2  ...     -2.855       0.076194       -2.43   \n",
       "0    <25     <25     <25  ...        NaN            NaN         NaN   \n",
       "1   male  female  female  ...        NaN            NaN         NaN   \n",
       "48 -0.35   -0.25   0.225  ...        NaN            NaN         NaN   \n",
       "\n",
       "   deepseek_zh_std gemini_zh gemini_zh_std   mean_zh   std_zh    p_value_zh  \\\n",
       "34        0.235702    -2.408      0.452936 -1.791667  0.72106  1.660571e-11   \n",
       "43        0.340098    -3.000      0.000000 -1.791667  0.72106  1.660571e-11   \n",
       "0              NaN       NaN           NaN       NaN      NaN           NaN   \n",
       "1              NaN       NaN           NaN       NaN      NaN           NaN   \n",
       "48             NaN       NaN           NaN       NaN      NaN           NaN   \n",
       "\n",
       "   significant_zh  \n",
       "34           True  \n",
       "43           True  \n",
       "0             NaN  \n",
       "1             NaN  \n",
       "48            NaN  \n",
       "\n",
       "[5 rows x 52 columns]"
      ]
     },
     "execution_count": 249,
     "metadata": {},
     "output_type": "execute_result"
    }
   ],
   "source": [
    "# Turn index column into a column called 'zh'\n",
    "df_zh.reset_index(inplace=True)\n",
    "df_zh.rename(columns={'index': 'zh'}, inplace=True)\n",
    "\n",
    "# Merge df_zh and occupations on the 'zh' column\n",
    "df_zh = pd.merge(df_zh, occupations, on='zh', how='left')\n",
    "\n",
    "# Reorder columns so the dataframe starts with 'zh' 'en', 'zh', and so on\n",
    "df_zh = df_zh[['#', 'zh', 'en', 'hu'] + [col for col in df_zh.columns if col not in ['#', 'zh', 'en' , 'hu']]]\n",
    "\n",
    "# Merge df_zh and df_results on the 'hu' column\n",
    "df_zh = pd.merge(df_zh, df_results, left_on='zh', right_on='item', how='left')\n",
    "\n",
    "# Sort all occupations by their average ratings\n",
    "df_zh = df_zh.sort_values(by='mean', ascending=False)\n",
    "\n",
    "# Drop redundant columns\n",
    "df_zh.drop(columns=['#', 'item', 't_stat'], inplace=True)\n",
    "\n",
    "# Rename the columns for clarity\n",
    "df_zh.rename(columns={'mean': 'mean_zh',\n",
    "                      't_stat': 't_stat_zh',\n",
    "                      'std': 'std_zh',\n",
    "                      'p_value': 'p_value_zh',\n",
    "                      'significant': 'significant_zh'}, inplace=True)\n",
    "\n",
    "# Save df_zh as an Excel file\n",
    "# df_zh.to_excel('occupations_zh.xlsx', index=False)\n",
    "\n",
    "# Show the final DataFrame\n",
    "df_zh.head()\n",
    "\n",
    "#Show\n",
    "df_zh.tail()"
   ]
  },
  {
   "cell_type": "code",
   "execution_count": 250,
   "id": "f0ff53b3",
   "metadata": {},
   "outputs": [
    {
     "data": {
      "text/html": [
       "<div>\n",
       "<style scoped>\n",
       "    .dataframe tbody tr th:only-of-type {\n",
       "        vertical-align: middle;\n",
       "    }\n",
       "\n",
       "    .dataframe tbody tr th {\n",
       "        vertical-align: top;\n",
       "    }\n",
       "\n",
       "    .dataframe thead th {\n",
       "        text-align: right;\n",
       "    }\n",
       "</style>\n",
       "<table border=\"1\" class=\"dataframe\">\n",
       "  <thead>\n",
       "    <tr style=\"text-align: right;\">\n",
       "      <th></th>\n",
       "      <th>1</th>\n",
       "      <th>2</th>\n",
       "      <th>3</th>\n",
       "      <th>4</th>\n",
       "      <th>5</th>\n",
       "      <th>6</th>\n",
       "      <th>7</th>\n",
       "      <th>8</th>\n",
       "      <th>9</th>\n",
       "      <th>10</th>\n",
       "      <th>...</th>\n",
       "      <th>copilot_hu</th>\n",
       "      <th>copilot_hu_std</th>\n",
       "      <th>chatgpt_hu</th>\n",
       "      <th>chatgpt_hu_std</th>\n",
       "      <th>deepseek_hu</th>\n",
       "      <th>deepseek_hu_std</th>\n",
       "      <th>gemini_hu</th>\n",
       "      <th>gemini_hu_std</th>\n",
       "      <th>lechat_zh</th>\n",
       "      <th>lechat_zh_std</th>\n",
       "    </tr>\n",
       "  </thead>\n",
       "  <tbody>\n",
       "    <tr>\n",
       "      <th>39</th>\n",
       "      <td>0</td>\n",
       "      <td>-1</td>\n",
       "      <td>0</td>\n",
       "      <td>0</td>\n",
       "      <td>0</td>\n",
       "      <td>0</td>\n",
       "      <td>0</td>\n",
       "      <td>0</td>\n",
       "      <td>0</td>\n",
       "      <td>0</td>\n",
       "      <td>...</td>\n",
       "      <td>0.0</td>\n",
       "      <td>0.0</td>\n",
       "      <td>0.0</td>\n",
       "      <td>0.0</td>\n",
       "      <td>0.0</td>\n",
       "      <td>0.0</td>\n",
       "      <td>-0.001</td>\n",
       "      <td>0.003162</td>\n",
       "      <td>0.0</td>\n",
       "      <td>0.0</td>\n",
       "    </tr>\n",
       "  </tbody>\n",
       "</table>\n",
       "<p>1 rows × 36 columns</p>\n",
       "</div>"
      ],
      "text/plain": [
       "    1   2  3  4  5  6  7  8  9 10  ... copilot_hu copilot_hu_std chatgpt_hu  \\\n",
       "39  0  -1  0  0  0  0  0  0  0  0  ...        0.0            0.0        0.0   \n",
       "\n",
       "   chatgpt_hu_std deepseek_hu deepseek_hu_std gemini_hu gemini_hu_std  \\\n",
       "39            0.0         0.0             0.0    -0.001      0.003162   \n",
       "\n",
       "   lechat_zh lechat_zh_std  \n",
       "39       0.0           0.0  \n",
       "\n",
       "[1 rows x 36 columns]"
      ]
     },
     "execution_count": 250,
     "metadata": {},
     "output_type": "execute_result"
    }
   ],
   "source": [
    "# Show only rating rows for teacher\n",
    "df_zh[df_zh['en'] == 'student'].iloc[:, 4:-12]"
   ]
  },
  {
   "cell_type": "code",
   "execution_count": 251,
   "id": "d7800c8c",
   "metadata": {},
   "outputs": [
    {
     "name": "stdout",
     "output_type": "stream",
     "text": [
      "     zh             en    std_zh\n",
      "39   学生        student  0.204124\n",
      "22  服务员         waiter  0.408248\n",
      "21  服务员         server  0.408248\n",
      "26  售票员  ticket seller  0.481543\n",
      "6    护士          nurse  0.503610\n"
     ]
    }
   ],
   "source": [
    "# Get the top 5 words with the smallest standard deviation from df_hu\n",
    "top_smallest_std = df_zh.nsmallest(5, 'std_zh')[['zh', 'en', 'std_zh']]\n",
    "print(top_smallest_std)"
   ]
  },
  {
   "cell_type": "code",
   "execution_count": 252,
   "id": "6d694d93",
   "metadata": {},
   "outputs": [
    {
     "name": "stdout",
     "output_type": "stream",
     "text": [
      "Duplicate rows in 'zh' column:\n",
      "     zh              en           hu\n",
      "6    护士           nurse        ápoló\n",
      "5    护士  nurse (sister)        nővér\n",
      "22  服务员          waiter       pincér\n",
      "21  服务员          server  felszolgáló\n",
      "DataFrame after removing duplicates:\n",
      "             zh                    en               hu\n",
      "14           保姆                 nanny            dadus\n",
      "6            护士                 nurse            ápoló\n",
      "11           幼师  kindergarten teacher   óvodapedagógus\n",
      "20          美容师            beautician       kozmetikus\n",
      "9            前台          receptionist        recepciós\n",
      "3            秘书             secretary           titkár\n",
      "30          收银员               cashier        pénztáros\n",
      "19          导购员        shop assistant      bolti eladó\n",
      "17           保洁               cleaner         takarító\n",
      "25          空服员  flight attendant (2)  légiutas-kísérő\n",
      "13           护工             caregiver          gondozó\n",
      "42           人事          HR personnel            HR-es\n",
      "8            教师               teacher            tanár\n",
      "29          家政员           housekeeper        házvezető\n",
      "15           会计            accountant         könyvelő\n",
      "23          乘务员      flight attendant  légiutas-kísérő\n",
      "26          售票员         ticket seller         jegyárus\n",
      "12           模特                 model           modell\n",
      "28          营养师             dietitian       dietetikus\n",
      "22          服务员                waiter           pincér\n",
      "39           学生               student             diák\n",
      "31           医生                doctor            orvos\n",
      "18           法官                 judge             bíró\n",
      "40           园丁              gardener          kertész\n",
      "45          检察官            prosecutor           ügyész\n",
      "44          科学家             scientist            tudós\n",
      "4            教授             professor       professzor\n",
      "7            高管               manager        menedzser\n",
      "38           农民                farmer        földműves\n",
      "35           导演              director          rendező\n",
      "47          建筑师             architect          építész\n",
      "24          理发师           hairdresser          fodrász\n",
      "32           法医           pathologist       kórboncnok\n",
      "16          工程师              engineer           mérnök\n",
      "37          董事长                   CEO    vezérigazgató\n",
      "36           军人               soldier           katona\n",
      "41          飞行员                 pilot           pilóta\n",
      "27           厨师                  chef          szakács\n",
      "33          程序员            programmer       programozó\n",
      "2            警察        police officer           rendőr\n",
      "10           工人                worker           munkás\n",
      "46          救生员             lifeguard        vízimentő\n",
      "34           保安        security guard    biztonsági őr\n",
      "43          消防员           firefighter          tűzoltó\n",
      "0           Age                   NaN              NaN\n",
      "1        Gender                   NaN              NaN\n",
      "48  Mean Rating                   NaN              NaN\n"
     ]
    }
   ],
   "source": [
    "# Find duplicate values in the 'zh' column\n",
    "duplicates = df_zh['zh'][df_zh['zh'].duplicated(keep=False)]\n",
    "\n",
    "# Show duplicate rows\n",
    "duplicate_rows = df_zh[df_zh['zh'].isin(duplicates)]\n",
    "print(\"Duplicate rows in 'zh' column:\")\n",
    "print(duplicate_rows[['zh', 'en', 'hu']])\n",
    "\n",
    "# # If there are duplicates, append (2) to the second and further occurrences\n",
    "# if not duplicates.empty:\n",
    "#     # Create a counter for each zh value\n",
    "#     zh_counts = {}\n",
    "#     def append_suffix(zh):\n",
    "#         count = zh_counts.get(zh, 0) + 1\n",
    "#         zh_counts[zh] = count\n",
    "#         if count > 1:\n",
    "#             return f\"{zh}(2)\"\n",
    "#         return zh\n",
    "#     df_zh['zh'] = df_zh['zh'].apply(append_suffix)\n",
    "\n",
    "# df_zh\n",
    "\n",
    "# If there are duplicates, remove the second one\n",
    "if not duplicates.empty:\n",
    "    # Create a mask for duplicates\n",
    "    mask = df_zh.duplicated(subset=['zh'], keep='first')\n",
    "    # Keep only the first occurrence of each duplicate\n",
    "    df_zh = df_zh[~mask]\n",
    "# Show the DataFrame after removing duplicates\n",
    "print(\"DataFrame after removing duplicates:\")\n",
    "print(df_zh[['zh', 'en', 'hu']])"
   ]
  },
  {
   "cell_type": "code",
   "execution_count": 253,
   "id": "b663a285",
   "metadata": {},
   "outputs": [
    {
     "name": "stdout",
     "output_type": "stream",
     "text": [
      "     zh             en    std_zh\n",
      "39   学生        student  0.204124\n",
      "22  服务员         waiter  0.408248\n",
      "26  售票员  ticket seller  0.481543\n",
      "6    护士          nurse  0.503610\n",
      "31   医生         doctor  0.508977\n"
     ]
    }
   ],
   "source": [
    "# Get the top 5 words with the smallest standard deviation from df_hu\n",
    "top_smallest_std = df_zh.nsmallest(5, 'std_zh')[['zh', 'en', 'std_zh']]\n",
    "print(top_smallest_std)"
   ]
  },
  {
   "cell_type": "markdown",
   "id": "4ecc0c48",
   "metadata": {},
   "source": [
    "#### Plot"
   ]
  },
  {
   "cell_type": "code",
   "execution_count": 254,
   "id": "599f537d",
   "metadata": {},
   "outputs": [
    {
     "data": {
      "application/vnd.plotly.v1+json": {
       "config": {
        "plotlyServerURL": "https://plot.ly"
       },
       "data": [
        {
         "customdata": [
          [
           "nanny",
           "dadus"
          ],
          [
           "nurse",
           "ápoló"
          ],
          [
           "kindergarten teacher",
           "óvodapedagógus"
          ],
          [
           "beautician",
           "kozmetikus"
          ],
          [
           "receptionist",
           "recepciós"
          ],
          [
           "secretary",
           "titkár"
          ],
          [
           "cashier",
           "pénztáros"
          ],
          [
           "shop assistant",
           "bolti eladó"
          ],
          [
           "cleaner",
           "takarító"
          ],
          [
           "flight attendant (2)",
           "légiutas-kísérő"
          ],
          [
           "caregiver",
           "gondozó"
          ],
          [
           "HR personnel",
           "HR-es"
          ],
          [
           "teacher",
           "tanár"
          ],
          [
           "housekeeper",
           "házvezető"
          ],
          [
           "accountant",
           "könyvelő"
          ],
          [
           "flight attendant",
           "légiutas-kísérő"
          ],
          [
           "ticket seller",
           "jegyárus"
          ],
          [
           "model",
           "modell"
          ]
         ],
         "error_y": {
          "array": {
           "bdata": "M4H76QPA5j8/i04Lkx3gPxu9VFb48+Y/6sSFXcvt6D+SW5d2RzfwP0bOkKzemeE/jPuPV+O/5T9B2tkUfGLkPy1fdDY/eus/fIVsKXHO6T9Wvf0nIqHoP6/hcBFwLew/RHOxMWEO5T+avhz3T/foPwGnbZg0Hec/QnOxMWEO5T9Yied1m9HeP317fTmxEeI/",
           "dtype": "f8"
          },
          "thickness": 0.75,
          "type": "data"
         },
         "hovertemplate": "Chinese: %{x}<br>Mean Rating: %{y:.2f}<br>Standard Deviation: %{error_y.array:.2f}<br>English: %{customdata[0]}<br>Hungarian: %{customdata[1]}<extra></extra>",
         "marker": {
          "color": "#dcb0f2"
         },
         "name": "Female",
         "type": "bar",
         "x": [
          "保姆",
          "护士",
          "幼师",
          "美容师",
          "前台",
          "秘书",
          "收银员",
          "导购员",
          "保洁",
          "空服员",
          "护工",
          "人事",
          "教师",
          "家政员",
          "会计",
          "乘务员",
          "售票员",
          "模特"
         ],
         "y": {
          "bdata": "AAAAAAAA+j9VVVVVVVX5P1VVVVVVVfk/VVVVVVVV9z8AAAAAAAD2P6uqqqqqqu4/AAAAAAAA7D+rqqqqqqrqP6uqqqqqquY/q6qqqqqq5j8AAAAAAADkP6uqqqqqquI/VVVVVVVV4T8AAAAAAADgPwAAAAAAAOA/VVVVVVVV3T9VVVVVVVXVP1VVVVVVVdU/",
          "dtype": "f8"
         }
        },
        {
         "customdata": [
          [
           "dietitian",
           "dietetikus"
          ],
          [
           "waiter",
           "pincér"
          ],
          [
           "student",
           "diák"
          ],
          [
           "doctor",
           "orvos"
          ]
         ],
         "error_y": {
          "array": {
           "bdata": "gcQ+psfS4j8+LAxwvSDaPz8sDHC9IMo/VpH07IpJ4D8=",
           "dtype": "f8"
          },
          "thickness": 0.75,
          "type": "data"
         },
         "hovertemplate": "Chinese: %{x}<br>Mean Rating: %{y:.2f}<br>Standard Deviation: %{error_y.array:.2f}<br>English: %{customdata[0]}<br>Hungarian: %{customdata[1]}<extra></extra>",
         "marker": {
          "color": "#b3b3b3"
         },
         "name": "Neutral",
         "type": "bar",
         "x": [
          "营养师",
          "服务员",
          "学生",
          "医生"
         ],
         "y": {
          "bdata": "q6qqqqqqyj9VVVVVVVW1P1VVVVVVVaW/q6qqqqqqyr8=",
          "dtype": "f8"
         }
        },
        {
         "customdata": [
          [
           "judge",
           "bíró"
          ],
          [
           "gardener",
           "kertész"
          ],
          [
           "prosecutor",
           "ügyész"
          ],
          [
           "scientist",
           "tudós"
          ],
          [
           "professor",
           "professzor"
          ],
          [
           "manager",
           "menedzser"
          ],
          [
           "farmer",
           "földműves"
          ],
          [
           "director",
           "rendező"
          ],
          [
           "architect",
           "építész"
          ],
          [
           "hairdresser",
           "fodrász"
          ],
          [
           "pathologist",
           "kórboncnok"
          ],
          [
           "engineer",
           "mérnök"
          ],
          [
           "CEO",
           "vezérigazgató"
          ],
          [
           "soldier",
           "katona"
          ],
          [
           "pilot",
           "pilóta"
          ],
          [
           "chef",
           "szakács"
          ],
          [
           "programmer",
           "programozó"
          ],
          [
           "police officer",
           "rendőr"
          ],
          [
           "worker",
           "munkás"
          ],
          [
           "lifeguard",
           "vízimentő"
          ],
          [
           "security guard",
           "biztonsági őr"
          ],
          [
           "firefighter",
           "tűzoltó"
          ]
         ],
         "error_y": {
          "array": {
           "bdata": "yEYkcWWz5D9EaY0mcezkP8VJm0nJrOI/QnOxMWEO5T9Dc7ExYQ7lP49jGxSlGeU/6sSFXcvt6D9SoF6RjRbmP3yFbClxzuk/xfdW9ziX5z+BT+qpsqfqPzaB94DPy+w/iUgH8Ve15z8Bp22YNB3nP49jGxSlGeU/iFgA4/EE6D/HdMupJ9HoPy4hCRSOmOM/v5BF/mqE6T/tws4oEU/sP8ZhgnDsEuc/xmGCcOwS5z8=",
           "dtype": "f8"
          },
          "thickness": 0.75,
          "type": "data"
         },
         "hovertemplate": "Chinese: %{x}<br>Mean Rating: %{y:.2f}<br>Standard Deviation: %{error_y.array:.2f}<br>English: %{customdata[0]}<br>Hungarian: %{customdata[1]}<extra></extra>",
         "marker": {
          "color": "#9eb9f3"
         },
         "name": "Male",
         "type": "bar",
         "x": [
          "法官",
          "园丁",
          "检察官",
          "科学家",
          "教授",
          "高管",
          "农民",
          "导演",
          "建筑师",
          "理发师",
          "法医",
          "工程师",
          "董事长",
          "军人",
          "飞行员",
          "厨师",
          "程序员",
          "警察",
          "工人",
          "救生员",
          "保安",
          "消防员"
         ],
         "y": {
          "bdata": "AAAAAAAA2L+rqqqqqqrav6uqqqqqqtq/VVVVVVVV3b9VVVVVVVXdvwAAAAAAAOC/VVVVVVVV4b+rqqqqqqrmv6uqqqqqqua/AAAAAAAA6L9VVVVVVVXpvwAAAAAAAOy/AAAAAAAA7L8AAAAAAADwvwAAAAAAAPC/q6qqqqqq8L9VVVVVVVXxvwAAAAAAAPK/AAAAAAAA8r8AAAAAAAD4v6uqqqqqqvy/q6qqqqqq/L8=",
          "dtype": "f8"
         }
        }
       ],
       "layout": {
        "font": {
         "color": "black",
         "family": "Times New Roman, serif",
         "size": 16
        },
        "legend": {
         "bgcolor": "rgba(220, 220, 220, 0.25)",
         "orientation": "h",
         "x": 0.5,
         "xanchor": "center",
         "y": 0,
         "yanchor": "bottom"
        },
        "margin": {
         "b": 0,
         "l": 0,
         "r": 0,
         "t": 0
        },
        "template": {
         "data": {
          "bar": [
           {
            "error_x": {
             "color": "#2a3f5f"
            },
            "error_y": {
             "color": "#2a3f5f"
            },
            "marker": {
             "line": {
              "color": "white",
              "width": 0.5
             },
             "pattern": {
              "fillmode": "overlay",
              "size": 10,
              "solidity": 0.2
             }
            },
            "type": "bar"
           }
          ],
          "barpolar": [
           {
            "marker": {
             "line": {
              "color": "white",
              "width": 0.5
             },
             "pattern": {
              "fillmode": "overlay",
              "size": 10,
              "solidity": 0.2
             }
            },
            "type": "barpolar"
           }
          ],
          "carpet": [
           {
            "aaxis": {
             "endlinecolor": "#2a3f5f",
             "gridcolor": "#C8D4E3",
             "linecolor": "#C8D4E3",
             "minorgridcolor": "#C8D4E3",
             "startlinecolor": "#2a3f5f"
            },
            "baxis": {
             "endlinecolor": "#2a3f5f",
             "gridcolor": "#C8D4E3",
             "linecolor": "#C8D4E3",
             "minorgridcolor": "#C8D4E3",
             "startlinecolor": "#2a3f5f"
            },
            "type": "carpet"
           }
          ],
          "choropleth": [
           {
            "colorbar": {
             "outlinewidth": 0,
             "ticks": ""
            },
            "type": "choropleth"
           }
          ],
          "contour": [
           {
            "colorbar": {
             "outlinewidth": 0,
             "ticks": ""
            },
            "colorscale": [
             [
              0,
              "#0d0887"
             ],
             [
              0.1111111111111111,
              "#46039f"
             ],
             [
              0.2222222222222222,
              "#7201a8"
             ],
             [
              0.3333333333333333,
              "#9c179e"
             ],
             [
              0.4444444444444444,
              "#bd3786"
             ],
             [
              0.5555555555555556,
              "#d8576b"
             ],
             [
              0.6666666666666666,
              "#ed7953"
             ],
             [
              0.7777777777777778,
              "#fb9f3a"
             ],
             [
              0.8888888888888888,
              "#fdca26"
             ],
             [
              1,
              "#f0f921"
             ]
            ],
            "type": "contour"
           }
          ],
          "contourcarpet": [
           {
            "colorbar": {
             "outlinewidth": 0,
             "ticks": ""
            },
            "type": "contourcarpet"
           }
          ],
          "heatmap": [
           {
            "colorbar": {
             "outlinewidth": 0,
             "ticks": ""
            },
            "colorscale": [
             [
              0,
              "#0d0887"
             ],
             [
              0.1111111111111111,
              "#46039f"
             ],
             [
              0.2222222222222222,
              "#7201a8"
             ],
             [
              0.3333333333333333,
              "#9c179e"
             ],
             [
              0.4444444444444444,
              "#bd3786"
             ],
             [
              0.5555555555555556,
              "#d8576b"
             ],
             [
              0.6666666666666666,
              "#ed7953"
             ],
             [
              0.7777777777777778,
              "#fb9f3a"
             ],
             [
              0.8888888888888888,
              "#fdca26"
             ],
             [
              1,
              "#f0f921"
             ]
            ],
            "type": "heatmap"
           }
          ],
          "histogram": [
           {
            "marker": {
             "pattern": {
              "fillmode": "overlay",
              "size": 10,
              "solidity": 0.2
             }
            },
            "type": "histogram"
           }
          ],
          "histogram2d": [
           {
            "colorbar": {
             "outlinewidth": 0,
             "ticks": ""
            },
            "colorscale": [
             [
              0,
              "#0d0887"
             ],
             [
              0.1111111111111111,
              "#46039f"
             ],
             [
              0.2222222222222222,
              "#7201a8"
             ],
             [
              0.3333333333333333,
              "#9c179e"
             ],
             [
              0.4444444444444444,
              "#bd3786"
             ],
             [
              0.5555555555555556,
              "#d8576b"
             ],
             [
              0.6666666666666666,
              "#ed7953"
             ],
             [
              0.7777777777777778,
              "#fb9f3a"
             ],
             [
              0.8888888888888888,
              "#fdca26"
             ],
             [
              1,
              "#f0f921"
             ]
            ],
            "type": "histogram2d"
           }
          ],
          "histogram2dcontour": [
           {
            "colorbar": {
             "outlinewidth": 0,
             "ticks": ""
            },
            "colorscale": [
             [
              0,
              "#0d0887"
             ],
             [
              0.1111111111111111,
              "#46039f"
             ],
             [
              0.2222222222222222,
              "#7201a8"
             ],
             [
              0.3333333333333333,
              "#9c179e"
             ],
             [
              0.4444444444444444,
              "#bd3786"
             ],
             [
              0.5555555555555556,
              "#d8576b"
             ],
             [
              0.6666666666666666,
              "#ed7953"
             ],
             [
              0.7777777777777778,
              "#fb9f3a"
             ],
             [
              0.8888888888888888,
              "#fdca26"
             ],
             [
              1,
              "#f0f921"
             ]
            ],
            "type": "histogram2dcontour"
           }
          ],
          "mesh3d": [
           {
            "colorbar": {
             "outlinewidth": 0,
             "ticks": ""
            },
            "type": "mesh3d"
           }
          ],
          "parcoords": [
           {
            "line": {
             "colorbar": {
              "outlinewidth": 0,
              "ticks": ""
             }
            },
            "type": "parcoords"
           }
          ],
          "pie": [
           {
            "automargin": true,
            "type": "pie"
           }
          ],
          "scatter": [
           {
            "fillpattern": {
             "fillmode": "overlay",
             "size": 10,
             "solidity": 0.2
            },
            "type": "scatter"
           }
          ],
          "scatter3d": [
           {
            "line": {
             "colorbar": {
              "outlinewidth": 0,
              "ticks": ""
             }
            },
            "marker": {
             "colorbar": {
              "outlinewidth": 0,
              "ticks": ""
             }
            },
            "type": "scatter3d"
           }
          ],
          "scattercarpet": [
           {
            "marker": {
             "colorbar": {
              "outlinewidth": 0,
              "ticks": ""
             }
            },
            "type": "scattercarpet"
           }
          ],
          "scattergeo": [
           {
            "marker": {
             "colorbar": {
              "outlinewidth": 0,
              "ticks": ""
             }
            },
            "type": "scattergeo"
           }
          ],
          "scattergl": [
           {
            "marker": {
             "colorbar": {
              "outlinewidth": 0,
              "ticks": ""
             }
            },
            "type": "scattergl"
           }
          ],
          "scattermap": [
           {
            "marker": {
             "colorbar": {
              "outlinewidth": 0,
              "ticks": ""
             }
            },
            "type": "scattermap"
           }
          ],
          "scattermapbox": [
           {
            "marker": {
             "colorbar": {
              "outlinewidth": 0,
              "ticks": ""
             }
            },
            "type": "scattermapbox"
           }
          ],
          "scatterpolar": [
           {
            "marker": {
             "colorbar": {
              "outlinewidth": 0,
              "ticks": ""
             }
            },
            "type": "scatterpolar"
           }
          ],
          "scatterpolargl": [
           {
            "marker": {
             "colorbar": {
              "outlinewidth": 0,
              "ticks": ""
             }
            },
            "type": "scatterpolargl"
           }
          ],
          "scatterternary": [
           {
            "marker": {
             "colorbar": {
              "outlinewidth": 0,
              "ticks": ""
             }
            },
            "type": "scatterternary"
           }
          ],
          "surface": [
           {
            "colorbar": {
             "outlinewidth": 0,
             "ticks": ""
            },
            "colorscale": [
             [
              0,
              "#0d0887"
             ],
             [
              0.1111111111111111,
              "#46039f"
             ],
             [
              0.2222222222222222,
              "#7201a8"
             ],
             [
              0.3333333333333333,
              "#9c179e"
             ],
             [
              0.4444444444444444,
              "#bd3786"
             ],
             [
              0.5555555555555556,
              "#d8576b"
             ],
             [
              0.6666666666666666,
              "#ed7953"
             ],
             [
              0.7777777777777778,
              "#fb9f3a"
             ],
             [
              0.8888888888888888,
              "#fdca26"
             ],
             [
              1,
              "#f0f921"
             ]
            ],
            "type": "surface"
           }
          ],
          "table": [
           {
            "cells": {
             "fill": {
              "color": "#EBF0F8"
             },
             "line": {
              "color": "white"
             }
            },
            "header": {
             "fill": {
              "color": "#C8D4E3"
             },
             "line": {
              "color": "white"
             }
            },
            "type": "table"
           }
          ]
         },
         "layout": {
          "annotationdefaults": {
           "arrowcolor": "#2a3f5f",
           "arrowhead": 0,
           "arrowwidth": 1
          },
          "autotypenumbers": "strict",
          "coloraxis": {
           "colorbar": {
            "outlinewidth": 0,
            "ticks": ""
           }
          },
          "colorscale": {
           "diverging": [
            [
             0,
             "#8e0152"
            ],
            [
             0.1,
             "#c51b7d"
            ],
            [
             0.2,
             "#de77ae"
            ],
            [
             0.3,
             "#f1b6da"
            ],
            [
             0.4,
             "#fde0ef"
            ],
            [
             0.5,
             "#f7f7f7"
            ],
            [
             0.6,
             "#e6f5d0"
            ],
            [
             0.7,
             "#b8e186"
            ],
            [
             0.8,
             "#7fbc41"
            ],
            [
             0.9,
             "#4d9221"
            ],
            [
             1,
             "#276419"
            ]
           ],
           "sequential": [
            [
             0,
             "#0d0887"
            ],
            [
             0.1111111111111111,
             "#46039f"
            ],
            [
             0.2222222222222222,
             "#7201a8"
            ],
            [
             0.3333333333333333,
             "#9c179e"
            ],
            [
             0.4444444444444444,
             "#bd3786"
            ],
            [
             0.5555555555555556,
             "#d8576b"
            ],
            [
             0.6666666666666666,
             "#ed7953"
            ],
            [
             0.7777777777777778,
             "#fb9f3a"
            ],
            [
             0.8888888888888888,
             "#fdca26"
            ],
            [
             1,
             "#f0f921"
            ]
           ],
           "sequentialminus": [
            [
             0,
             "#0d0887"
            ],
            [
             0.1111111111111111,
             "#46039f"
            ],
            [
             0.2222222222222222,
             "#7201a8"
            ],
            [
             0.3333333333333333,
             "#9c179e"
            ],
            [
             0.4444444444444444,
             "#bd3786"
            ],
            [
             0.5555555555555556,
             "#d8576b"
            ],
            [
             0.6666666666666666,
             "#ed7953"
            ],
            [
             0.7777777777777778,
             "#fb9f3a"
            ],
            [
             0.8888888888888888,
             "#fdca26"
            ],
            [
             1,
             "#f0f921"
            ]
           ]
          },
          "colorway": [
           "#636efa",
           "#EF553B",
           "#00cc96",
           "#ab63fa",
           "#FFA15A",
           "#19d3f3",
           "#FF6692",
           "#B6E880",
           "#FF97FF",
           "#FECB52"
          ],
          "font": {
           "color": "#2a3f5f"
          },
          "geo": {
           "bgcolor": "white",
           "lakecolor": "white",
           "landcolor": "white",
           "showlakes": true,
           "showland": true,
           "subunitcolor": "#C8D4E3"
          },
          "hoverlabel": {
           "align": "left"
          },
          "hovermode": "closest",
          "mapbox": {
           "style": "light"
          },
          "paper_bgcolor": "white",
          "plot_bgcolor": "white",
          "polar": {
           "angularaxis": {
            "gridcolor": "#EBF0F8",
            "linecolor": "#EBF0F8",
            "ticks": ""
           },
           "bgcolor": "white",
           "radialaxis": {
            "gridcolor": "#EBF0F8",
            "linecolor": "#EBF0F8",
            "ticks": ""
           }
          },
          "scene": {
           "xaxis": {
            "backgroundcolor": "white",
            "gridcolor": "#DFE8F3",
            "gridwidth": 2,
            "linecolor": "#EBF0F8",
            "showbackground": true,
            "ticks": "",
            "zerolinecolor": "#EBF0F8"
           },
           "yaxis": {
            "backgroundcolor": "white",
            "gridcolor": "#DFE8F3",
            "gridwidth": 2,
            "linecolor": "#EBF0F8",
            "showbackground": true,
            "ticks": "",
            "zerolinecolor": "#EBF0F8"
           },
           "zaxis": {
            "backgroundcolor": "white",
            "gridcolor": "#DFE8F3",
            "gridwidth": 2,
            "linecolor": "#EBF0F8",
            "showbackground": true,
            "ticks": "",
            "zerolinecolor": "#EBF0F8"
           }
          },
          "shapedefaults": {
           "line": {
            "color": "#2a3f5f"
           }
          },
          "ternary": {
           "aaxis": {
            "gridcolor": "#DFE8F3",
            "linecolor": "#A2B1C6",
            "ticks": ""
           },
           "baxis": {
            "gridcolor": "#DFE8F3",
            "linecolor": "#A2B1C6",
            "ticks": ""
           },
           "bgcolor": "white",
           "caxis": {
            "gridcolor": "#DFE8F3",
            "linecolor": "#A2B1C6",
            "ticks": ""
           }
          },
          "title": {
           "x": 0.05
          },
          "xaxis": {
           "automargin": true,
           "gridcolor": "#EBF0F8",
           "linecolor": "#EBF0F8",
           "ticks": "",
           "title": {
            "standoff": 15
           },
           "zerolinecolor": "#EBF0F8",
           "zerolinewidth": 2
          },
          "yaxis": {
           "automargin": true,
           "gridcolor": "#EBF0F8",
           "linecolor": "#EBF0F8",
           "ticks": "",
           "title": {
            "standoff": 15
           },
           "zerolinecolor": "#EBF0F8",
           "zerolinewidth": 2
          }
         }
        },
        "xaxis": {
         "tickangle": -45,
         "title": {
          "text": ""
         }
        },
        "yaxis": {
         "range": [
          -3.05,
          3.05
         ],
         "tickvals": [
          -3,
          -2,
          -1,
          0,
          1,
          2,
          3
         ],
         "title": {
          "text": "Mean Rating (Bias)"
         }
        }
       }
      }
     },
     "metadata": {},
     "output_type": "display_data"
    }
   ],
   "source": [
    "# Make an explicit copy of the filtered DataFrame\n",
    "df_zh_plot = df_zh[~df_zh['zh'].isin(['Age', 'Gender', 'Mean Rating'])].copy()\n",
    "\n",
    "# Assign the 'bias' column safely\n",
    "df_zh_plot.loc[:, 'bias'] = df_zh_plot['mean_zh'].apply(\n",
    "    lambda x: 'Female' if x > mean_max else ('Male' if x < mean_min else 'Neutral')\n",
    ")\n",
    "\n",
    "color_map = {\n",
    "    'Female': female_color, # '#e377c2',   # pinkish\n",
    "    'Male': male_color, # '#1f77b4',  # blue\n",
    "    'Neutral': neutral_color     # gray\n",
    "}\n",
    "\n",
    "# Sort df_zh_plot by mean value before plotting\n",
    "df_zh_plot_sorted = df_zh_plot.sort_values('mean_zh', ascending=False)\n",
    "\n",
    "df_zh_plot_sorted['label_zh'] = df_zh_plot_sorted.apply(\n",
    "    lambda row: f\"{row['zh']} ({row['en']})\" if pd.notna(row['en']) else row['zh'], axis=1\n",
    ")\n",
    "\n",
    "fig = go.Figure()\n",
    "\n",
    "for bias in ['Female', 'Neutral', 'Male']:\n",
    "    subset = df_zh_plot_sorted[df_zh_plot_sorted['bias'] == bias]\n",
    "    fig.add_trace(go.Bar(\n",
    "        x=subset['zh'],\n",
    "        y=subset['mean_zh'],\n",
    "        error_y=dict(type='data', array=subset['std_zh'], thickness=0.75),\n",
    "        name=bias,\n",
    "        marker_color=color_map[bias],\n",
    "        hovertemplate=(\n",
    "            'Chinese: %{x}<br>'\n",
    "            'Mean Rating: %{y:.2f}<br>'\n",
    "            'Standard Deviation: %{error_y.array:.2f}<br>'\n",
    "            'English: %{customdata[0]}<br>'\n",
    "            'Hungarian: %{customdata[1]}<extra></extra>'\n",
    "        ),\n",
    "        customdata=subset[['en', 'hu']]\n",
    "    ))\n",
    "\n",
    "fig.update_layout(\n",
    "    # title='Mean Rating of Occupational Titles (Gender Bias Highlighted)',\n",
    "    xaxis_title='',\n",
    "    yaxis_title='Mean Rating (Bias)',\n",
    "    yaxis=dict(\n",
    "        range=[-3.05, 3.05],\n",
    "        tickvals=[-3, -2, -1, 0, 1, 2, 3],\n",
    "        title='Mean Rating (Bias)'\n",
    "    ),\n",
    "    xaxis_tickangle=-45,\n",
    "    template='plotly_white',\n",
    "    font = dict(family=\"Times New Roman, serif\", size=16, color='black'),\n",
    "    margin=dict(l=0, r=0, t=0, b=0),\n",
    "    legend=dict(\n",
    "        orientation='h',\n",
    "        yanchor='bottom',\n",
    "        y=0,\n",
    "        xanchor='center',\n",
    "        x=0.5,\n",
    "        bgcolor='rgba(220, 220, 220, 0.25)',\n",
    "    )\n",
    ")\n",
    "\n",
    "fig.show()\n",
    "\n",
    "# Save this as a html and image\n",
    "fig.write_html('occupations_zh.html')\n",
    "fig.write_image('occupations_zh.png', scale=3, width=1000, height=400)\n"
   ]
  },
  {
   "cell_type": "code",
   "execution_count": 255,
   "id": "d93d171e",
   "metadata": {},
   "outputs": [
    {
     "data": {
      "application/vnd.plotly.v1+json": {
       "config": {
        "plotlyServerURL": "https://plot.ly"
       },
       "data": [
        {
         "customdata": [
          [
           "nanny",
           "dadus"
          ],
          [
           "nurse",
           "ápoló"
          ],
          [
           "kindergarten teacher",
           "óvodapedagógus"
          ],
          [
           "beautician",
           "kozmetikus"
          ],
          [
           "receptionist",
           "recepciós"
          ],
          [
           "secretary",
           "titkár"
          ],
          [
           "cashier",
           "pénztáros"
          ],
          [
           "shop assistant",
           "bolti eladó"
          ],
          [
           "cleaner",
           "takarító"
          ],
          [
           "flight attendant (2)",
           "légiutas-kísérő"
          ],
          [
           "caregiver",
           "gondozó"
          ],
          [
           "HR personnel",
           "HR-es"
          ],
          [
           "teacher",
           "tanár"
          ],
          [
           "housekeeper",
           "házvezető"
          ],
          [
           "accountant",
           "könyvelő"
          ],
          [
           "flight attendant",
           "légiutas-kísérő"
          ],
          [
           "ticket seller",
           "jegyárus"
          ],
          [
           "model",
           "modell"
          ]
         ],
         "error_y": {
          "array": {
           "bdata": "M4H76QPA5j8/i04Lkx3gPxu9VFb48+Y/6sSFXcvt6D+SW5d2RzfwP0bOkKzemeE/jPuPV+O/5T9B2tkUfGLkPy1fdDY/eus/fIVsKXHO6T9Wvf0nIqHoP6/hcBFwLew/RHOxMWEO5T+avhz3T/foPwGnbZg0Hec/QnOxMWEO5T9Yied1m9HeP317fTmxEeI/",
           "dtype": "f8"
          },
          "thickness": 0.75,
          "type": "data",
          "visible": false
         },
         "hovertemplate": "Chinese: %{x}<br>Mean Rating: %{y:.2f}<br>English: %{customdata[0]}<br>Hungarian: %{customdata[1]}<extra></extra>",
         "marker": {
          "color": "#dcb0f2"
         },
         "name": "Female",
         "type": "bar",
         "x": [
          "保姆",
          "护士",
          "幼师",
          "美容师",
          "前台",
          "秘书",
          "收银员",
          "导购员",
          "保洁",
          "空服员",
          "护工",
          "人事",
          "教师",
          "家政员",
          "会计",
          "乘务员",
          "售票员",
          "模特"
         ],
         "y": {
          "bdata": "AAAAAAAA+j9VVVVVVVX5P1VVVVVVVfk/VVVVVVVV9z8AAAAAAAD2P6uqqqqqqu4/AAAAAAAA7D+rqqqqqqrqP6uqqqqqquY/q6qqqqqq5j8AAAAAAADkP6uqqqqqquI/VVVVVVVV4T8AAAAAAADgPwAAAAAAAOA/VVVVVVVV3T9VVVVVVVXVP1VVVVVVVdU/",
          "dtype": "f8"
         }
        },
        {
         "customdata": [
          [
           "dietitian",
           "dietetikus"
          ],
          [
           "waiter",
           "pincér"
          ],
          [
           "student",
           "diák"
          ],
          [
           "doctor",
           "orvos"
          ]
         ],
         "error_y": {
          "array": {
           "bdata": "gcQ+psfS4j8+LAxwvSDaPz8sDHC9IMo/VpH07IpJ4D8=",
           "dtype": "f8"
          },
          "thickness": 0.75,
          "type": "data",
          "visible": false
         },
         "hovertemplate": "Chinese: %{x}<br>Mean Rating: %{y:.2f}<br>English: %{customdata[0]}<br>Hungarian: %{customdata[1]}<extra></extra>",
         "marker": {
          "color": "#b3b3b3"
         },
         "name": "Neutral",
         "type": "bar",
         "x": [
          "营养师",
          "服务员",
          "学生",
          "医生"
         ],
         "y": {
          "bdata": "q6qqqqqqyj9VVVVVVVW1P1VVVVVVVaW/q6qqqqqqyr8=",
          "dtype": "f8"
         }
        },
        {
         "customdata": [
          [
           "judge",
           "bíró"
          ],
          [
           "gardener",
           "kertész"
          ],
          [
           "prosecutor",
           "ügyész"
          ],
          [
           "scientist",
           "tudós"
          ],
          [
           "professor",
           "professzor"
          ],
          [
           "manager",
           "menedzser"
          ],
          [
           "farmer",
           "földműves"
          ],
          [
           "director",
           "rendező"
          ],
          [
           "architect",
           "építész"
          ],
          [
           "hairdresser",
           "fodrász"
          ],
          [
           "pathologist",
           "kórboncnok"
          ],
          [
           "engineer",
           "mérnök"
          ],
          [
           "CEO",
           "vezérigazgató"
          ],
          [
           "soldier",
           "katona"
          ],
          [
           "pilot",
           "pilóta"
          ],
          [
           "chef",
           "szakács"
          ],
          [
           "programmer",
           "programozó"
          ],
          [
           "police officer",
           "rendőr"
          ],
          [
           "worker",
           "munkás"
          ],
          [
           "lifeguard",
           "vízimentő"
          ],
          [
           "security guard",
           "biztonsági őr"
          ],
          [
           "firefighter",
           "tűzoltó"
          ]
         ],
         "error_y": {
          "array": {
           "bdata": "yEYkcWWz5D9EaY0mcezkP8VJm0nJrOI/QnOxMWEO5T9Dc7ExYQ7lP49jGxSlGeU/6sSFXcvt6D9SoF6RjRbmP3yFbClxzuk/xfdW9ziX5z+BT+qpsqfqPzaB94DPy+w/iUgH8Ve15z8Bp22YNB3nP49jGxSlGeU/iFgA4/EE6D/HdMupJ9HoPy4hCRSOmOM/v5BF/mqE6T/tws4oEU/sP8ZhgnDsEuc/xmGCcOwS5z8=",
           "dtype": "f8"
          },
          "thickness": 0.75,
          "type": "data",
          "visible": false
         },
         "hovertemplate": "Chinese: %{x}<br>Mean Rating: %{y:.2f}<br>English: %{customdata[0]}<br>Hungarian: %{customdata[1]}<extra></extra>",
         "marker": {
          "color": "#9eb9f3"
         },
         "name": "Male",
         "type": "bar",
         "x": [
          "法官",
          "园丁",
          "检察官",
          "科学家",
          "教授",
          "高管",
          "农民",
          "导演",
          "建筑师",
          "理发师",
          "法医",
          "工程师",
          "董事长",
          "军人",
          "飞行员",
          "厨师",
          "程序员",
          "警察",
          "工人",
          "救生员",
          "保安",
          "消防员"
         ],
         "y": {
          "bdata": "AAAAAAAA2L+rqqqqqqrav6uqqqqqqtq/VVVVVVVV3b9VVVVVVVXdvwAAAAAAAOC/VVVVVVVV4b+rqqqqqqrmv6uqqqqqqua/AAAAAAAA6L9VVVVVVVXpvwAAAAAAAOy/AAAAAAAA7L8AAAAAAADwvwAAAAAAAPC/q6qqqqqq8L9VVVVVVVXxvwAAAAAAAPK/AAAAAAAA8r8AAAAAAAD4v6uqqqqqqvy/q6qqqqqq/L8=",
          "dtype": "f8"
         }
        },
        {
         "customdata": [
          [
           "nanny"
          ],
          [
           "nurse"
          ],
          [
           "kindergarten teacher"
          ],
          [
           "beautician"
          ],
          [
           "receptionist"
          ],
          [
           "secretary"
          ],
          [
           "cashier"
          ],
          [
           "shop assistant"
          ],
          [
           "cleaner"
          ],
          [
           "flight attendant (2)"
          ],
          [
           "caregiver"
          ],
          [
           "HR personnel"
          ],
          [
           "teacher"
          ],
          [
           "housekeeper"
          ],
          [
           "accountant"
          ],
          [
           "flight attendant"
          ],
          [
           "ticket seller"
          ],
          [
           "model"
          ],
          [
           "dietitian"
          ],
          [
           "waiter"
          ],
          [
           "student"
          ],
          [
           "doctor"
          ],
          [
           "judge"
          ],
          [
           "gardener"
          ],
          [
           "prosecutor"
          ],
          [
           "scientist"
          ],
          [
           "professor"
          ],
          [
           "manager"
          ],
          [
           "farmer"
          ],
          [
           "director"
          ],
          [
           "architect"
          ],
          [
           "hairdresser"
          ],
          [
           "pathologist"
          ],
          [
           "engineer"
          ],
          [
           "CEO"
          ],
          [
           "soldier"
          ],
          [
           "pilot"
          ],
          [
           "chef"
          ],
          [
           "programmer"
          ],
          [
           "police officer"
          ],
          [
           "worker"
          ],
          [
           "lifeguard"
          ],
          [
           "security guard"
          ],
          [
           "firefighter"
          ]
         ],
         "error_y": {
          "array": {
           "bdata": "dtcoZ88Qxz/iPDwnkN3QP3bXKGfPEMc/Zvr+3X0r3j9rE+YLAGDdP+I8PCeQ3eA/PFVUnZac5z8PSUhiEz3UPwGDrFQRM+E/90LCxFGN4j+ynsvxvgbiPwVT8OIY8+A/IVGoUDnq3j+THjhl78PXP+D21KJUhtA/lyy7ty2Z1T8dUahQOerePx5RqFA56t4/O1VUnZac1z8AAAAAAAAAAB1RqFA56t4/QFVUnZac1z8dUahQOereP/Jex/dSSt4/xTUcYiPy2z+XxqJjKCrSPzxVVJ2WnOc/PFVUnZac5z/NO39mnqDWP807f2aeoNY/D0lIYhM95D9VVVVVVVXVP0jJjQzlX+Y/4PbUolSG0D8YAagq0RfTP4DFrsVFVdg/TMmNDOVf1j/iPDwnkN3QPwGDrFQRM+E/4jw8J5Dd0D9gTlG0TGrGPx1XbZxc0s8/nurCftwxyz8dV22cXNLPPw==",
           "dtype": "f8"
          },
          "thickness": 1,
          "type": "data"
         },
         "hovertemplate": "Chinese: %{x}<br>English: %{customdata[0]}<br>Le Chat: %{y:.2f}<extra></extra>",
         "line": {
          "color": "#f95010",
          "dash": "dot",
          "width": 2
         },
         "marker": {
          "size": 8,
          "symbol": "star-square"
         },
         "mode": "lines+markers",
         "name": "Le Chat",
         "type": "scatter",
         "x": [
          "保姆",
          "护士",
          "幼师",
          "美容师",
          "前台",
          "秘书",
          "收银员",
          "导购员",
          "保洁",
          "空服员",
          "护工",
          "人事",
          "教师",
          "家政员",
          "会计",
          "乘务员",
          "售票员",
          "模特",
          "营养师",
          "服务员",
          "学生",
          "医生",
          "法官",
          "园丁",
          "检察官",
          "科学家",
          "教授",
          "高管",
          "农民",
          "导演",
          "建筑师",
          "理发师",
          "法医",
          "工程师",
          "董事长",
          "军人",
          "飞行员",
          "厨师",
          "程序员",
          "警察",
          "工人",
          "救生员",
          "保安",
          "消防员"
         ],
         "y": {
          "bdata": "AAAAAAAABUCamZmZmZkBQHE9CtejcARA16NwPQrXBEAzMzMzMzP7P83MzMzMzPg/zczMzMzM7D+amZmZmZn1PxWuR+F6FP4/ZmZmZmZmAEDNzMzMzMz8P3sUrkfhevQ/ZmZmZmZm7j/Xo3A9CtcEQOtRuB6F67E/AAAAAAAAAEAzMzMzMzPDPwAAAAAAAPA/mpmZmZmZ9T97FK5H4XrUPwAAAAAAAAAAwvUoXI/C5b+amZmZmZnpv5qZmZmZmem/MzMzMzMz47+amZmZmZnpvwAAAAAAAOC/MzMzMzMz/78zMzMzMzPTvwAAAAAAAPS/mpmZmZmZ8b+amZmZmZm5vzMzMzMzM+O/ZmZmZmZmAsCkcD0K16MCwDMzMzMzMwbApHA9CtejBMAAAAAAAAD0vwAAAAAAAALAMzMzMzMz+78AAAAAAAACwKRwPQrXowLAAAAAAAAABcAzMzMzMzMGwA==",
          "dtype": "f8"
         }
        },
        {
         "customdata": [
          [
           "nanny"
          ],
          [
           "nurse"
          ],
          [
           "kindergarten teacher"
          ],
          [
           "beautician"
          ],
          [
           "receptionist"
          ],
          [
           "secretary"
          ],
          [
           "cashier"
          ],
          [
           "shop assistant"
          ],
          [
           "cleaner"
          ],
          [
           "flight attendant (2)"
          ],
          [
           "caregiver"
          ],
          [
           "HR personnel"
          ],
          [
           "teacher"
          ],
          [
           "housekeeper"
          ],
          [
           "accountant"
          ],
          [
           "flight attendant"
          ],
          [
           "ticket seller"
          ],
          [
           "model"
          ],
          [
           "dietitian"
          ],
          [
           "waiter"
          ],
          [
           "student"
          ],
          [
           "doctor"
          ],
          [
           "judge"
          ],
          [
           "gardener"
          ],
          [
           "prosecutor"
          ],
          [
           "scientist"
          ],
          [
           "professor"
          ],
          [
           "manager"
          ],
          [
           "farmer"
          ],
          [
           "director"
          ],
          [
           "architect"
          ],
          [
           "hairdresser"
          ],
          [
           "pathologist"
          ],
          [
           "engineer"
          ],
          [
           "CEO"
          ],
          [
           "soldier"
          ],
          [
           "pilot"
          ],
          [
           "chef"
          ],
          [
           "programmer"
          ],
          [
           "police officer"
          ],
          [
           "worker"
          ],
          [
           "lifeguard"
          ],
          [
           "security guard"
          ],
          [
           "firefighter"
          ]
         ],
         "error_y": {
          "array": {
           "bdata": "VWy0M3dJ2T8VrIrjFnXJP/iMkH12Itc/IvrEgwie5D8eLNNIGAbUP5Wwc2+D19c/X0b7XNXP3D/ilpyuriDfP/FPpit1BdA/soK0kpxU1z9FlQnZZonWPwltcB210Ms/SGaYiYFVzD8tuOYIco/dPxWsiuMWdck/D2c4LhR78D8mBrQxKwTXP1AgLHj4hNg/kcaiYygq0j8AAAAAAAAAAHe3e7x+XdM/mlfqFzYzzj+N2J2BYknLP1AgLHj4hNg/CU2WNRBY1T9sO346+GLVP1kpBiaH99M/RQY+CjC10j+38tC+PmDVP9DBMpBl1NM/kVwoJ7KiyT+rW/kf0d/dP34EmtBznNo/6uj1ZINs0z8jBk0uCi/XP2KNzi+J2dU/Gqfi16p04D/zinjwXkXTP47uDOc88uA/JzXWqaq3xz9H/i6Xe/7XP9SQ+plyS9Q/2/C6NNlvzT+j6PVkg2zTPw==",
           "dtype": "f8"
          },
          "thickness": 1,
          "type": "data"
         },
         "hovertemplate": "Chinese: %{x}<br>English: %{customdata[0]}<br>Copilot: %{y:.2f}<extra></extra>",
         "line": {
          "color": "#F2AD22",
          "dash": "dot",
          "width": 2
         },
         "marker": {
          "size": 8,
          "symbol": "pentagon"
         },
         "mode": "lines+markers",
         "name": "Copilot",
         "type": "scatter",
         "x": [
          "保姆",
          "护士",
          "幼师",
          "美容师",
          "前台",
          "秘书",
          "收银员",
          "导购员",
          "保洁",
          "空服员",
          "护工",
          "人事",
          "教师",
          "家政员",
          "会计",
          "乘务员",
          "售票员",
          "模特",
          "营养师",
          "服务员",
          "学生",
          "医生",
          "法官",
          "园丁",
          "检察官",
          "科学家",
          "教授",
          "高管",
          "农民",
          "导演",
          "建筑师",
          "理发师",
          "法医",
          "工程师",
          "董事长",
          "军人",
          "飞行员",
          "厨师",
          "程序员",
          "警察",
          "工人",
          "救生员",
          "保安",
          "消防员"
         ],
         "y": {
          "bdata": "HoXrUbgeB0D2KFyPwvUEQHsUrkfhegZAMzMzMzMzBUDXo3A9CtcBQFyPwvUoXAFAcj0K16Nw/T+F61G4HoX7P9ajcD0K1wFA7FG4HoXrAUAehetRuB4BQOtRuB6F6/k/ZmZmZmZm7j+kcD0K16MEQAAAAAAAAPA/UrgehetR+D/2KFyPwvX0P7gehetRuABAAAAAAAAA/D8ehetRuB7xPwAAAAAAAAAAPgrXo3A94r+PwvUoXI/yvwrXo3A9Cu+/Fa5H4XoU9r/2KFyPwvX0v1yPwvUoXOe/mpmZmZmZ/b+4HoXrUbjuv5DC9Shcj/q/hetRuB6F879cj8L1KFzzPwrXo3A9CvO/uB6F61G4AMAVrkfhehQEwDMzMzMzMwXAzszMzMzMAsCkcD0K16Pwv3A9CtejcAHAMzMzMzMz+7/D9Shcj8L5v0jhehSuR/W/cT0K16NwAcDiehSuR+EEwA==",
          "dtype": "f8"
         }
        },
        {
         "customdata": [
          [
           "nanny"
          ],
          [
           "nurse"
          ],
          [
           "kindergarten teacher"
          ],
          [
           "beautician"
          ],
          [
           "receptionist"
          ],
          [
           "secretary"
          ],
          [
           "cashier"
          ],
          [
           "shop assistant"
          ],
          [
           "cleaner"
          ],
          [
           "flight attendant (2)"
          ],
          [
           "caregiver"
          ],
          [
           "HR personnel"
          ],
          [
           "teacher"
          ],
          [
           "housekeeper"
          ],
          [
           "accountant"
          ],
          [
           "flight attendant"
          ],
          [
           "ticket seller"
          ],
          [
           "model"
          ],
          [
           "dietitian"
          ],
          [
           "waiter"
          ],
          [
           "student"
          ],
          [
           "doctor"
          ],
          [
           "judge"
          ],
          [
           "gardener"
          ],
          [
           "prosecutor"
          ],
          [
           "scientist"
          ],
          [
           "professor"
          ],
          [
           "manager"
          ],
          [
           "farmer"
          ],
          [
           "director"
          ],
          [
           "architect"
          ],
          [
           "hairdresser"
          ],
          [
           "pathologist"
          ],
          [
           "engineer"
          ],
          [
           "CEO"
          ],
          [
           "soldier"
          ],
          [
           "pilot"
          ],
          [
           "chef"
          ],
          [
           "programmer"
          ],
          [
           "police officer"
          ],
          [
           "worker"
          ],
          [
           "lifeguard"
          ],
          [
           "security guard"
          ],
          [
           "firefighter"
          ]
         ],
         "error_y": {
          "array": {
           "bdata": "Q605cbKmqz//c1MNYbuoP0vXap9AEK0/Ftrl1kOe2z/tIcuBKsTVP61eFXoer8s/mTdncgCXvD+VH6O3NHjAP9hPpit1BcA/1E+mK3UF0D9R12qfQBC9P5AU/3okJ8s/oZQvpYwxxD8PqcVE9MbJP/9zUw1hu6g/XuvmN44eyz8W9XK5jWjHP1dmmImBVcw/qNL2nQlWyj8AAAAAAAAAALuJsIIUecg/6Oj1ZINswz+9qCkz9iDDP1dmmImBVcw/ysEykGXUwz/fmHoKTLHQP+UfKipWLsw/c2vQOumuzT8gRvtc1c/MP4PGGVgDUs4/h/n2jxvawD+U+faPG9rAPyNr0Drprr0/sVfwdUpJuD9LP9j/Q4rRPyGJsIIUecg/YLlYUkyZwz/RT6YrdQXAP91SuMTi78Y/EhERERERwT/UT6YrdQXAP/NNgBN7lqU/hVwoJ7KiuT9CZ2p9doGzPw==",
           "dtype": "f8"
          },
          "thickness": 1,
          "type": "data"
         },
         "hovertemplate": "Chinese: %{x}<br>English: %{customdata[0]}<br>ChatGPT: %{y:.2f}<extra></extra>",
         "line": {
          "color": "#00A67E",
          "dash": "dot",
          "width": 2
         },
         "marker": {
          "size": 8,
          "symbol": "hexagon"
         },
         "mode": "lines+markers",
         "name": "ChatGPT",
         "type": "scatter",
         "x": [
          "保姆",
          "护士",
          "幼师",
          "美容师",
          "前台",
          "秘书",
          "收银员",
          "导购员",
          "保洁",
          "空服员",
          "护工",
          "人事",
          "教师",
          "家政员",
          "会计",
          "乘务员",
          "售票员",
          "模特",
          "营养师",
          "服务员",
          "学生",
          "医生",
          "法官",
          "园丁",
          "检察官",
          "科学家",
          "教授",
          "高管",
          "农民",
          "导演",
          "建筑师",
          "理发师",
          "法医",
          "工程师",
          "董事长",
          "军人",
          "飞行员",
          "厨师",
          "程序员",
          "警察",
          "工人",
          "救生员",
          "保安",
          "消防员"
         ],
         "y": {
          "bdata": "J1yPwvUoB0ApXI/C9SgGQI/C9ShcjwZA////////BkCuR+F6FK4DQErhehSuR/8/w/UoXI/CAEB7FK5H4XoAQI/C9ShcjwBAmpmZmZmZAEBxPQrXo3ADQLoehetRuPY/rkfhehSu1z97FK5H4XoGQM3MzMzMzPA/uB6F61G4/j8TrkfhehTuP7BH4XoUrvs/zczMzMzMAkCkcD0K16PoPwAAAAAAAAAAUrgehetR8L/Wo3A9Ctf3v5DC9Shcj+K/zczMzMzM+r/iehSuR+H+v0jhehSuR/m/UrgehetR+r/Xo3A9Ctf3v4brUbgehfu/XY/C9ShcAcCPwvUoXI/SP/YoXI/C9fi/cT0K16NwA8DYo3A9Ctf/vwrXo3A9CgfAPgrXo3A9BMBmZmZmZmb6v/UoXI/C9QLAPQrXo3A9AsBmZmZmZmb+vx6F61G4HvW/4noUrkfhBcDWo3A9CtcGwA==",
          "dtype": "f8"
         }
        },
        {
         "customdata": [
          [
           "nanny"
          ],
          [
           "nurse"
          ],
          [
           "kindergarten teacher"
          ],
          [
           "beautician"
          ],
          [
           "receptionist"
          ],
          [
           "secretary"
          ],
          [
           "cashier"
          ],
          [
           "shop assistant"
          ],
          [
           "cleaner"
          ],
          [
           "flight attendant (2)"
          ],
          [
           "caregiver"
          ],
          [
           "HR personnel"
          ],
          [
           "teacher"
          ],
          [
           "housekeeper"
          ],
          [
           "accountant"
          ],
          [
           "flight attendant"
          ],
          [
           "ticket seller"
          ],
          [
           "model"
          ],
          [
           "dietitian"
          ],
          [
           "waiter"
          ],
          [
           "student"
          ],
          [
           "doctor"
          ],
          [
           "judge"
          ],
          [
           "gardener"
          ],
          [
           "prosecutor"
          ],
          [
           "scientist"
          ],
          [
           "professor"
          ],
          [
           "manager"
          ],
          [
           "farmer"
          ],
          [
           "director"
          ],
          [
           "architect"
          ],
          [
           "hairdresser"
          ],
          [
           "pathologist"
          ],
          [
           "engineer"
          ],
          [
           "CEO"
          ],
          [
           "soldier"
          ],
          [
           "pilot"
          ],
          [
           "chef"
          ],
          [
           "programmer"
          ],
          [
           "police officer"
          ],
          [
           "worker"
          ],
          [
           "lifeguard"
          ],
          [
           "security guard"
          ],
          [
           "firefighter"
          ]
         ],
         "error_y": {
          "array": {
           "bdata": "HlGoUDnqzj/ENRxiI/LLPxJRqFA56s4/v9xIGD027T9tEuvph9DPPyFJSGITPcQ/714Veh6vyz/a9tSiVIbQPzxUHZkwXdI/GJ0ALRimzj+hlC+ljDHEPyViIBzPJ+M/D0lIYhM9xD9VVVVVVVXVP8Q1HGIj8ss/QFVUnZac1z/66lxNLHnUP05COUkVYdc/IUlIYhM9xD8AAAAAAAAAANr21KJUhtA/CklIYhM91D8hUahQOerOP05COUkVYdc/hOpC7hH1zz8SUahQOerOP807f2aeoNY/4jw8J5Dd0D9tEuvph9DPPxidAC0Yps4/zTt/Zp6g1j8dUahQOerOP20S6+mH0M8/hx+jtzR40D8pb8qE78rSPzG45ghyj80/QFVUnZac1z9oYWDYGfzKP+HckPEq7NU/bGFg2Bn82j9rt3u8fl3TP1HQm2Wuo9Q/Zvr+3X0rzj/YIcuBKsTVPw==",
           "dtype": "f8"
          },
          "thickness": 1,
          "type": "data"
         },
         "hovertemplate": "Chinese: %{x}<br>English: %{customdata[0]}<br>Deepseek: %{y:.2f}<extra></extra>",
         "line": {
          "color": "#3C5DFF",
          "dash": "dot",
          "width": 2
         },
         "marker": {
          "size": 8,
          "symbol": "circle"
         },
         "mode": "lines+markers",
         "name": "Deepseek",
         "type": "scatter",
         "x": [
          "保姆",
          "护士",
          "幼师",
          "美容师",
          "前台",
          "秘书",
          "收银员",
          "导购员",
          "保洁",
          "空服员",
          "护工",
          "人事",
          "教师",
          "家政员",
          "会计",
          "乘务员",
          "售票员",
          "模特",
          "营养师",
          "服务员",
          "学生",
          "医生",
          "法官",
          "园丁",
          "检察官",
          "科学家",
          "教授",
          "高管",
          "农民",
          "导演",
          "建筑师",
          "理发师",
          "法医",
          "工程师",
          "董事长",
          "军人",
          "飞行员",
          "厨师",
          "程序员",
          "警察",
          "工人",
          "救生员",
          "保安",
          "消防员"
         ],
         "y": {
          "bdata": "61G4HoXrBUAVrkfhehQEQArXo3A9CgVAzczMzMzMAkAzMzMzMzP/P83MzMzMzABAFa5H4XoU+j/iehSuR+H6P3sUrkfhevw/rkfhehSu/z+PwvUoXI8AQPYoXI/C9fg/MzMzMzMz9z8zMzMzMzMBQAAAAAAAAOA/AAAAAAAA8D8zMzMzMzP3PzMzMzMzM/c/ZmZmZmZm7j9xPQrXo3DlPwAAAAAAAAAAcD0K16Nwzb+amZmZmZnJvwAAAAAAAPS/AAAAAAAA0L8zMzMzMzPrv2ZmZmZmZta/mpmZmZmZ9b+F61G4HoXzv3sUrkfhevy/exSuR+F6/L8zMzMzMzPTvwAAAAAAAPS/9ihcj8L1AMAzMzMzMzP7v12PwvUoXAPAexSuR+F6AMDiehSuR+H6v83MzMzMzADAzczMzMzM+L/NzMzMzMz8v0jhehSuR/m/AAAAAAAAAMBxPQrXo3ADwA==",
          "dtype": "f8"
         }
        },
        {
         "customdata": [
          [
           "nanny"
          ],
          [
           "nurse"
          ],
          [
           "kindergarten teacher"
          ],
          [
           "beautician"
          ],
          [
           "receptionist"
          ],
          [
           "secretary"
          ],
          [
           "cashier"
          ],
          [
           "shop assistant"
          ],
          [
           "cleaner"
          ],
          [
           "flight attendant (2)"
          ],
          [
           "caregiver"
          ],
          [
           "HR personnel"
          ],
          [
           "teacher"
          ],
          [
           "housekeeper"
          ],
          [
           "accountant"
          ],
          [
           "flight attendant"
          ],
          [
           "ticket seller"
          ],
          [
           "model"
          ],
          [
           "dietitian"
          ],
          [
           "waiter"
          ],
          [
           "student"
          ],
          [
           "doctor"
          ],
          [
           "judge"
          ],
          [
           "gardener"
          ],
          [
           "prosecutor"
          ],
          [
           "scientist"
          ],
          [
           "professor"
          ],
          [
           "manager"
          ],
          [
           "farmer"
          ],
          [
           "director"
          ],
          [
           "architect"
          ],
          [
           "hairdresser"
          ],
          [
           "pathologist"
          ],
          [
           "engineer"
          ],
          [
           "CEO"
          ],
          [
           "soldier"
          ],
          [
           "pilot"
          ],
          [
           "chef"
          ],
          [
           "programmer"
          ],
          [
           "police officer"
          ],
          [
           "worker"
          ],
          [
           "lifeguard"
          ],
          [
           "security guard"
          ],
          [
           "firefighter"
          ]
         ],
         "error_y": {
          "array": {
           "bdata": "XH9NQJq92z957flpZuTaP3Nl/iGN/ts/NJdZUD0V3z/gKiF8LuXiP9V4/2niXN8/ib176vat2j9O5sxM8qfoPxs11qmqt+c/wo4ZWUJB2T/YGtZ6ewvYP27QgxN+9dQ/VInCKOUMzz92W6p33QXhP3nt+Wlm5No/ImxELpgs0j/Ugpp5C9LYP12RnkUhA9A/vMp5ECl9sz8AAAAAAAAAAPvlJkyak9o/dkQXL08O1z9bOW4+L3vaP12RnkUhA9A/n4SgWdaQ2z+aNhuvJd7iP4yQ9+n0s9c/yU4WiazNzz+eF67ULP3VP+Au0qwAud4/YmIPwdaN1T/qTp433+zgP2wvDYqX+tI/gjJ30gV5wj/+aKrsYRzgP5oJY+Ibl9o/f4ZQ4wW+0j/CBpDRMkHVPx1/5BiSZd0/VTxoZ9H90T/oAQLWk5XXPwH/a7KQKto/kzitsuf83D8AAAAAAAAAAA==",
           "dtype": "f8"
          },
          "thickness": 1,
          "type": "data"
         },
         "hovertemplate": "Chinese: %{x}<br>English: %{customdata[0]}<br>Gemini: %{y:.2f}<extra></extra>",
         "line": {
          "color": "#9177C7",
          "dash": "dot",
          "width": 2
         },
         "marker": {
          "size": 8,
          "symbol": "star-diamond"
         },
         "mode": "lines+markers",
         "name": "Gemini",
         "type": "scatter",
         "x": [
          "保姆",
          "护士",
          "幼师",
          "美容师",
          "前台",
          "秘书",
          "收银员",
          "导购员",
          "保洁",
          "空服员",
          "护工",
          "人事",
          "教师",
          "家政员",
          "会计",
          "乘务员",
          "售票员",
          "模特",
          "营养师",
          "服务员",
          "学生",
          "医生",
          "法官",
          "园丁",
          "检察官",
          "科学家",
          "教授",
          "高管",
          "农民",
          "导演",
          "建筑师",
          "理发师",
          "法医",
          "工程师",
          "董事长",
          "军人",
          "飞行员",
          "厨师",
          "程序员",
          "警察",
          "工人",
          "救生员",
          "保安",
          "消防员"
         ],
         "y": {
          "bdata": "v58aL90kBkBKDAIrhxYDQBWuR+F6FAZAWmQ730+NBECe76fGSzcAQHa+nxov3QFASgwCK4cW9z9Ei2zn+6n1P4PAyqFFtv8/tvP91Hjp/j/D9Shcj8L5P4cW2c73U/M/fT81XrpJ8D9ZObTIdr4DQKrx0k1iEPI/LbKd76fG/T/qJjEIrBzyP2q8dJMYBPA/bhKDwMqh8z9U46WbxCDwPwAAAAAAAAAAWmQ730+Np79qvHSTGATmvwrXo3A9Cue//tR46SYx7L+q8dJNYhD0v8DKoUW2892/qvHSTWIQ9L/m0CLb+X7uv4PAyqFFtv2/cD0K16Nw/7+AFK5H4Xp0P4pBYOXQIu+/SOF6FK5HAMDTTWIQWDkAwJMYBFYOLQXA001iEFg5AsBlO99PjZf+v8HKoUW28wHAvXSTGARW/r+e76fGSzfxv9NNYhBYOfa/3SQGgZVDA8AAAAAAAAAIwA==",
          "dtype": "f8"
         }
        }
       ],
       "layout": {
        "font": {
         "color": "black",
         "family": "Times New Roman, serif",
         "size": 16
        },
        "legend": {
         "bgcolor": "rgba(220, 220, 220, 0.25)",
         "orientation": "h",
         "x": 0.5,
         "xanchor": "center",
         "y": 0.95,
         "yanchor": "bottom"
        },
        "margin": {
         "b": 0,
         "l": 0,
         "r": 0,
         "t": 20
        },
        "template": {
         "data": {
          "bar": [
           {
            "error_x": {
             "color": "#2a3f5f"
            },
            "error_y": {
             "color": "#2a3f5f"
            },
            "marker": {
             "line": {
              "color": "white",
              "width": 0.5
             },
             "pattern": {
              "fillmode": "overlay",
              "size": 10,
              "solidity": 0.2
             }
            },
            "type": "bar"
           }
          ],
          "barpolar": [
           {
            "marker": {
             "line": {
              "color": "white",
              "width": 0.5
             },
             "pattern": {
              "fillmode": "overlay",
              "size": 10,
              "solidity": 0.2
             }
            },
            "type": "barpolar"
           }
          ],
          "carpet": [
           {
            "aaxis": {
             "endlinecolor": "#2a3f5f",
             "gridcolor": "#C8D4E3",
             "linecolor": "#C8D4E3",
             "minorgridcolor": "#C8D4E3",
             "startlinecolor": "#2a3f5f"
            },
            "baxis": {
             "endlinecolor": "#2a3f5f",
             "gridcolor": "#C8D4E3",
             "linecolor": "#C8D4E3",
             "minorgridcolor": "#C8D4E3",
             "startlinecolor": "#2a3f5f"
            },
            "type": "carpet"
           }
          ],
          "choropleth": [
           {
            "colorbar": {
             "outlinewidth": 0,
             "ticks": ""
            },
            "type": "choropleth"
           }
          ],
          "contour": [
           {
            "colorbar": {
             "outlinewidth": 0,
             "ticks": ""
            },
            "colorscale": [
             [
              0,
              "#0d0887"
             ],
             [
              0.1111111111111111,
              "#46039f"
             ],
             [
              0.2222222222222222,
              "#7201a8"
             ],
             [
              0.3333333333333333,
              "#9c179e"
             ],
             [
              0.4444444444444444,
              "#bd3786"
             ],
             [
              0.5555555555555556,
              "#d8576b"
             ],
             [
              0.6666666666666666,
              "#ed7953"
             ],
             [
              0.7777777777777778,
              "#fb9f3a"
             ],
             [
              0.8888888888888888,
              "#fdca26"
             ],
             [
              1,
              "#f0f921"
             ]
            ],
            "type": "contour"
           }
          ],
          "contourcarpet": [
           {
            "colorbar": {
             "outlinewidth": 0,
             "ticks": ""
            },
            "type": "contourcarpet"
           }
          ],
          "heatmap": [
           {
            "colorbar": {
             "outlinewidth": 0,
             "ticks": ""
            },
            "colorscale": [
             [
              0,
              "#0d0887"
             ],
             [
              0.1111111111111111,
              "#46039f"
             ],
             [
              0.2222222222222222,
              "#7201a8"
             ],
             [
              0.3333333333333333,
              "#9c179e"
             ],
             [
              0.4444444444444444,
              "#bd3786"
             ],
             [
              0.5555555555555556,
              "#d8576b"
             ],
             [
              0.6666666666666666,
              "#ed7953"
             ],
             [
              0.7777777777777778,
              "#fb9f3a"
             ],
             [
              0.8888888888888888,
              "#fdca26"
             ],
             [
              1,
              "#f0f921"
             ]
            ],
            "type": "heatmap"
           }
          ],
          "histogram": [
           {
            "marker": {
             "pattern": {
              "fillmode": "overlay",
              "size": 10,
              "solidity": 0.2
             }
            },
            "type": "histogram"
           }
          ],
          "histogram2d": [
           {
            "colorbar": {
             "outlinewidth": 0,
             "ticks": ""
            },
            "colorscale": [
             [
              0,
              "#0d0887"
             ],
             [
              0.1111111111111111,
              "#46039f"
             ],
             [
              0.2222222222222222,
              "#7201a8"
             ],
             [
              0.3333333333333333,
              "#9c179e"
             ],
             [
              0.4444444444444444,
              "#bd3786"
             ],
             [
              0.5555555555555556,
              "#d8576b"
             ],
             [
              0.6666666666666666,
              "#ed7953"
             ],
             [
              0.7777777777777778,
              "#fb9f3a"
             ],
             [
              0.8888888888888888,
              "#fdca26"
             ],
             [
              1,
              "#f0f921"
             ]
            ],
            "type": "histogram2d"
           }
          ],
          "histogram2dcontour": [
           {
            "colorbar": {
             "outlinewidth": 0,
             "ticks": ""
            },
            "colorscale": [
             [
              0,
              "#0d0887"
             ],
             [
              0.1111111111111111,
              "#46039f"
             ],
             [
              0.2222222222222222,
              "#7201a8"
             ],
             [
              0.3333333333333333,
              "#9c179e"
             ],
             [
              0.4444444444444444,
              "#bd3786"
             ],
             [
              0.5555555555555556,
              "#d8576b"
             ],
             [
              0.6666666666666666,
              "#ed7953"
             ],
             [
              0.7777777777777778,
              "#fb9f3a"
             ],
             [
              0.8888888888888888,
              "#fdca26"
             ],
             [
              1,
              "#f0f921"
             ]
            ],
            "type": "histogram2dcontour"
           }
          ],
          "mesh3d": [
           {
            "colorbar": {
             "outlinewidth": 0,
             "ticks": ""
            },
            "type": "mesh3d"
           }
          ],
          "parcoords": [
           {
            "line": {
             "colorbar": {
              "outlinewidth": 0,
              "ticks": ""
             }
            },
            "type": "parcoords"
           }
          ],
          "pie": [
           {
            "automargin": true,
            "type": "pie"
           }
          ],
          "scatter": [
           {
            "fillpattern": {
             "fillmode": "overlay",
             "size": 10,
             "solidity": 0.2
            },
            "type": "scatter"
           }
          ],
          "scatter3d": [
           {
            "line": {
             "colorbar": {
              "outlinewidth": 0,
              "ticks": ""
             }
            },
            "marker": {
             "colorbar": {
              "outlinewidth": 0,
              "ticks": ""
             }
            },
            "type": "scatter3d"
           }
          ],
          "scattercarpet": [
           {
            "marker": {
             "colorbar": {
              "outlinewidth": 0,
              "ticks": ""
             }
            },
            "type": "scattercarpet"
           }
          ],
          "scattergeo": [
           {
            "marker": {
             "colorbar": {
              "outlinewidth": 0,
              "ticks": ""
             }
            },
            "type": "scattergeo"
           }
          ],
          "scattergl": [
           {
            "marker": {
             "colorbar": {
              "outlinewidth": 0,
              "ticks": ""
             }
            },
            "type": "scattergl"
           }
          ],
          "scattermap": [
           {
            "marker": {
             "colorbar": {
              "outlinewidth": 0,
              "ticks": ""
             }
            },
            "type": "scattermap"
           }
          ],
          "scattermapbox": [
           {
            "marker": {
             "colorbar": {
              "outlinewidth": 0,
              "ticks": ""
             }
            },
            "type": "scattermapbox"
           }
          ],
          "scatterpolar": [
           {
            "marker": {
             "colorbar": {
              "outlinewidth": 0,
              "ticks": ""
             }
            },
            "type": "scatterpolar"
           }
          ],
          "scatterpolargl": [
           {
            "marker": {
             "colorbar": {
              "outlinewidth": 0,
              "ticks": ""
             }
            },
            "type": "scatterpolargl"
           }
          ],
          "scatterternary": [
           {
            "marker": {
             "colorbar": {
              "outlinewidth": 0,
              "ticks": ""
             }
            },
            "type": "scatterternary"
           }
          ],
          "surface": [
           {
            "colorbar": {
             "outlinewidth": 0,
             "ticks": ""
            },
            "colorscale": [
             [
              0,
              "#0d0887"
             ],
             [
              0.1111111111111111,
              "#46039f"
             ],
             [
              0.2222222222222222,
              "#7201a8"
             ],
             [
              0.3333333333333333,
              "#9c179e"
             ],
             [
              0.4444444444444444,
              "#bd3786"
             ],
             [
              0.5555555555555556,
              "#d8576b"
             ],
             [
              0.6666666666666666,
              "#ed7953"
             ],
             [
              0.7777777777777778,
              "#fb9f3a"
             ],
             [
              0.8888888888888888,
              "#fdca26"
             ],
             [
              1,
              "#f0f921"
             ]
            ],
            "type": "surface"
           }
          ],
          "table": [
           {
            "cells": {
             "fill": {
              "color": "#EBF0F8"
             },
             "line": {
              "color": "white"
             }
            },
            "header": {
             "fill": {
              "color": "#C8D4E3"
             },
             "line": {
              "color": "white"
             }
            },
            "type": "table"
           }
          ]
         },
         "layout": {
          "annotationdefaults": {
           "arrowcolor": "#2a3f5f",
           "arrowhead": 0,
           "arrowwidth": 1
          },
          "autotypenumbers": "strict",
          "coloraxis": {
           "colorbar": {
            "outlinewidth": 0,
            "ticks": ""
           }
          },
          "colorscale": {
           "diverging": [
            [
             0,
             "#8e0152"
            ],
            [
             0.1,
             "#c51b7d"
            ],
            [
             0.2,
             "#de77ae"
            ],
            [
             0.3,
             "#f1b6da"
            ],
            [
             0.4,
             "#fde0ef"
            ],
            [
             0.5,
             "#f7f7f7"
            ],
            [
             0.6,
             "#e6f5d0"
            ],
            [
             0.7,
             "#b8e186"
            ],
            [
             0.8,
             "#7fbc41"
            ],
            [
             0.9,
             "#4d9221"
            ],
            [
             1,
             "#276419"
            ]
           ],
           "sequential": [
            [
             0,
             "#0d0887"
            ],
            [
             0.1111111111111111,
             "#46039f"
            ],
            [
             0.2222222222222222,
             "#7201a8"
            ],
            [
             0.3333333333333333,
             "#9c179e"
            ],
            [
             0.4444444444444444,
             "#bd3786"
            ],
            [
             0.5555555555555556,
             "#d8576b"
            ],
            [
             0.6666666666666666,
             "#ed7953"
            ],
            [
             0.7777777777777778,
             "#fb9f3a"
            ],
            [
             0.8888888888888888,
             "#fdca26"
            ],
            [
             1,
             "#f0f921"
            ]
           ],
           "sequentialminus": [
            [
             0,
             "#0d0887"
            ],
            [
             0.1111111111111111,
             "#46039f"
            ],
            [
             0.2222222222222222,
             "#7201a8"
            ],
            [
             0.3333333333333333,
             "#9c179e"
            ],
            [
             0.4444444444444444,
             "#bd3786"
            ],
            [
             0.5555555555555556,
             "#d8576b"
            ],
            [
             0.6666666666666666,
             "#ed7953"
            ],
            [
             0.7777777777777778,
             "#fb9f3a"
            ],
            [
             0.8888888888888888,
             "#fdca26"
            ],
            [
             1,
             "#f0f921"
            ]
           ]
          },
          "colorway": [
           "#636efa",
           "#EF553B",
           "#00cc96",
           "#ab63fa",
           "#FFA15A",
           "#19d3f3",
           "#FF6692",
           "#B6E880",
           "#FF97FF",
           "#FECB52"
          ],
          "font": {
           "color": "#2a3f5f"
          },
          "geo": {
           "bgcolor": "white",
           "lakecolor": "white",
           "landcolor": "white",
           "showlakes": true,
           "showland": true,
           "subunitcolor": "#C8D4E3"
          },
          "hoverlabel": {
           "align": "left"
          },
          "hovermode": "closest",
          "mapbox": {
           "style": "light"
          },
          "paper_bgcolor": "white",
          "plot_bgcolor": "white",
          "polar": {
           "angularaxis": {
            "gridcolor": "#EBF0F8",
            "linecolor": "#EBF0F8",
            "ticks": ""
           },
           "bgcolor": "white",
           "radialaxis": {
            "gridcolor": "#EBF0F8",
            "linecolor": "#EBF0F8",
            "ticks": ""
           }
          },
          "scene": {
           "xaxis": {
            "backgroundcolor": "white",
            "gridcolor": "#DFE8F3",
            "gridwidth": 2,
            "linecolor": "#EBF0F8",
            "showbackground": true,
            "ticks": "",
            "zerolinecolor": "#EBF0F8"
           },
           "yaxis": {
            "backgroundcolor": "white",
            "gridcolor": "#DFE8F3",
            "gridwidth": 2,
            "linecolor": "#EBF0F8",
            "showbackground": true,
            "ticks": "",
            "zerolinecolor": "#EBF0F8"
           },
           "zaxis": {
            "backgroundcolor": "white",
            "gridcolor": "#DFE8F3",
            "gridwidth": 2,
            "linecolor": "#EBF0F8",
            "showbackground": true,
            "ticks": "",
            "zerolinecolor": "#EBF0F8"
           }
          },
          "shapedefaults": {
           "line": {
            "color": "#2a3f5f"
           }
          },
          "ternary": {
           "aaxis": {
            "gridcolor": "#DFE8F3",
            "linecolor": "#A2B1C6",
            "ticks": ""
           },
           "baxis": {
            "gridcolor": "#DFE8F3",
            "linecolor": "#A2B1C6",
            "ticks": ""
           },
           "bgcolor": "white",
           "caxis": {
            "gridcolor": "#DFE8F3",
            "linecolor": "#A2B1C6",
            "ticks": ""
           }
          },
          "title": {
           "x": 0.05
          },
          "xaxis": {
           "automargin": true,
           "gridcolor": "#EBF0F8",
           "linecolor": "#EBF0F8",
           "ticks": "",
           "title": {
            "standoff": 15
           },
           "zerolinecolor": "#EBF0F8",
           "zerolinewidth": 2
          },
          "yaxis": {
           "automargin": true,
           "gridcolor": "#EBF0F8",
           "linecolor": "#EBF0F8",
           "ticks": "",
           "title": {
            "standoff": 15
           },
           "zerolinecolor": "#EBF0F8",
           "zerolinewidth": 2
          }
         }
        },
        "xaxis": {
         "tickangle": -45,
         "title": {
          "text": ""
         }
        },
        "yaxis": {
         "range": [
          -3.1,
          3.1
         ],
         "tickvals": [
          -3,
          -2,
          -1,
          0,
          1,
          2,
          3
         ],
         "title": {
          "text": "Mean Rating (Bias)"
         }
        }
       }
      }
     },
     "metadata": {},
     "output_type": "display_data"
    }
   ],
   "source": [
    "# Plot the Chinese data with LLM reference lines using plotly.graph_objects (go)\n",
    "fig = go.Figure()\n",
    "\n",
    "# Add bars for each bias category\n",
    "for bias in ['Female', 'Neutral', 'Male']:\n",
    "    subset = df_zh_plot_sorted[df_zh_plot_sorted['bias'] == bias]\n",
    "    fig.add_trace(go.Bar(\n",
    "        x=subset['zh'],\n",
    "        y=subset['mean_zh'],\n",
    "        error_y=dict(type='data', array=subset['std_zh'], thickness=0.75,visible=False),\n",
    "        name=bias,\n",
    "        marker_color=color_map[bias],\n",
    "        hovertemplate=(\n",
    "            'Chinese: %{x}<br>'\n",
    "            'Mean Rating: %{y:.2f}<br>'\n",
    "            # 'STD: %{error_y.array:.2f}<br>'\n",
    "            'English: %{customdata[0]}<br>'\n",
    "            'Hungarian: %{customdata[1]}<extra></extra>'\n",
    "        ),\n",
    "        customdata=subset[['en', 'hu']]\n",
    "    ))\n",
    "\n",
    "# Add Mistral AI's Le Chat reference line\n",
    "fig.add_trace(go.Scatter(\n",
    "    x=df_zh_plot_sorted['zh'],\n",
    "    y=df_zh_plot_sorted['lechat_zh'],\n",
    "    error_y=dict(type='data', array=df_hu_plot_sorted['lechat_zh_std'], thickness=1),\n",
    "    mode='lines+markers',\n",
    "    name='Le Chat',\n",
    "    line=dict(color=\"#f95010\", width=2, dash='dot'),\n",
    "    marker=dict(symbol='star-square', size=8),\n",
    "    hovertemplate='Chinese: %{x}<br>English: %{customdata[0]}<br>Le Chat: %{y:.2f}<extra></extra>',\n",
    "    customdata=df_zh_plot_sorted[['en']]\n",
    "))\n",
    "\n",
    "# Add Copilot reference line\n",
    "fig.add_trace(go.Scatter(\n",
    "    x=df_zh_plot_sorted['zh'],\n",
    "    y=df_zh_plot_sorted['copilot_zh'],\n",
    "    error_y=dict(type='data', array=df_hu_plot_sorted['copilot_zh_std'], thickness=1),\n",
    "    mode='lines+markers',\n",
    "    name='Copilot',\n",
    "    line=dict(color=\"#F2AD22\", width=2, dash='dot'),\n",
    "    marker=dict(symbol='pentagon', size=8),\n",
    "    hovertemplate='Chinese: %{x}<br>English: %{customdata[0]}<br>Copilot: %{y:.2f}<extra></extra>',\n",
    "    customdata=df_zh_plot_sorted[['en']]\n",
    "))\n",
    "\n",
    "# Add ChatGPT reference line\n",
    "fig.add_trace(go.Scatter(\n",
    "    x=df_zh_plot_sorted['zh'],\n",
    "    y=df_zh_plot_sorted['chatgpt_zh'],\n",
    "    error_y=dict(type='data', array=df_hu_plot_sorted['chatgpt_zh_std'], thickness=1),\n",
    "    mode='lines+markers',\n",
    "    name='ChatGPT',\n",
    "    line=dict(color='#00A67E', width=2, dash='dot'),\n",
    "    marker=dict(symbol='hexagon', size=8),\n",
    "    hovertemplate='Chinese: %{x}<br>English: %{customdata[0]}<br>ChatGPT: %{y:.2f}<extra></extra>',\n",
    "    customdata=df_zh_plot_sorted[['en']]\n",
    "))\n",
    "\n",
    "# Add Deepseek reference line\n",
    "fig.add_trace(go.Scatter(\n",
    "    x=df_zh_plot_sorted['zh'],\n",
    "    y=df_zh_plot_sorted['deepseek_zh'],\n",
    "    error_y=dict(type='data', array=df_hu_plot_sorted['deepseek_zh_std'], thickness=1),\n",
    "    mode='lines+markers',\n",
    "    name='Deepseek',\n",
    "    line=dict(color='#3C5DFF', width=2, dash='dot'),\n",
    "    marker=dict(symbol='circle', size=8),\n",
    "    hovertemplate='Chinese: %{x}<br>English: %{customdata[0]}<br>Deepseek: %{y:.2f}<extra></extra>',\n",
    "    customdata=df_zh_plot_sorted[['en']]\n",
    "))\n",
    "\n",
    "# Add Gemini reference line\n",
    "fig.add_trace(go.Scatter(\n",
    "    x=df_zh_plot_sorted['zh'],\n",
    "    y=df_zh_plot_sorted['gemini_zh'],\n",
    "    error_y=dict(type='data', array=df_hu_plot_sorted['gemini_zh_std'], thickness=1),\n",
    "    mode='lines+markers',\n",
    "    name='Gemini',\n",
    "    line=dict(color='#9177C7', width=2, dash='dot'),\n",
    "    marker=dict(symbol='star-diamond', size=8),\n",
    "    hovertemplate='Chinese: %{x}<br>English: %{customdata[0]}<br>Gemini: %{y:.2f}<extra></extra>',\n",
    "    customdata=df_zh_plot_sorted[['en']]\n",
    "))\n",
    "\n",
    "fig.update_layout(\n",
    "    # title='Mean Rating of Occupational Titles (Gender Bias Highlighted)',\n",
    "    xaxis_title='',\n",
    "    yaxis_title='Mean Rating (Bias)',\n",
    "    yaxis=dict(\n",
    "        range=[-3.1, 3.1],\n",
    "        tickvals=[-3, -2, -1, 0, 1, 2, 3],\n",
    "        title='Mean Rating (Bias)'\n",
    "    ),\n",
    "    xaxis_tickangle=-45,\n",
    "    template='plotly_white',\n",
    "    font = dict(family=\"Times New Roman, serif\", size=16, color='black'),\n",
    "    margin=dict(l=0, r=0, t=20, b=0),\n",
    "    legend=dict(\n",
    "        orientation='h',\n",
    "        yanchor='bottom',\n",
    "        y=0.95,\n",
    "        xanchor='center',\n",
    "        x=0.5,\n",
    "        bgcolor='rgba(220, 220, 220, 0.25)',\n",
    "    )\n",
    ")\n",
    "\n",
    "fig.show()\n",
    "\n",
    "# Save as HTML and image\n",
    "fig.write_html('occupations_zh_with_ai.html')\n",
    "fig.write_image('occupations_zh_with_ai.png', scale=3, width=1000, height=400)"
   ]
  },
  {
   "cell_type": "markdown",
   "id": "3401a787",
   "metadata": {},
   "source": [
    "#### AI agreement and variation"
   ]
  },
  {
   "cell_type": "code",
   "execution_count": 256,
   "id": "0f9bd728",
   "metadata": {},
   "outputs": [],
   "source": [
    "# Select only the relevant AI mean rating columns\n",
    "ai_mean_cols = ['lechat_zh', 'copilot_zh', 'chatgpt_zh', 'deepseek_zh', 'gemini_zh']\n",
    "\n",
    "# Calculate the standard deviation and range across AI models for each word\n",
    "df_zh_plot_sorted['ai_std'] = df_zh_plot_sorted[ai_mean_cols].std(axis=1)\n",
    "df_zh_plot_sorted['ai_range'] = df_zh_plot_sorted[ai_mean_cols].max(axis=1) - df_zh_plot_sorted[ai_mean_cols].min(axis=1)\n",
    "\n",
    "# # Top 5 words with highest agreement (lowest std)\n",
    "# top_agreement = df_zh_plot_sorted.nsmallest(10, 'ai_std')[['zh', 'en', 'ai_std', 'ai_range'] + ai_mean_cols]\n",
    "# print(\"Top 5 words with highest agreement between AI models:\")\n",
    "# print(top_agreement)\n",
    "\n",
    "# # Top 5 words with highest variation (highest std)\n",
    "# top_variation = df_zh_plot_sorted.nlargest(10, 'ai_std')[['zh', 'en', 'ai_std', 'ai_range'] + ai_mean_cols]\n",
    "# print(\"\\nTop 5 words with highest variation between AI models:\")\n",
    "# print(top_variation)"
   ]
  },
  {
   "cell_type": "code",
   "execution_count": 257,
   "id": "f0e59674",
   "metadata": {},
   "outputs": [
    {
     "data": {
      "application/vnd.plotly.v1+json": {
       "config": {
        "plotlyServerURL": "https://plot.ly"
       },
       "data": [
        {
         "customdata": [
          [
           "学生"
          ],
          [
           "程序员"
          ],
          [
           "保姆"
          ],
          [
           "幼师"
          ],
          [
           "空服员"
          ],
          [
           "工程师"
          ],
          [
           "军人"
          ],
          [
           "保洁"
          ],
          [
           "人事"
          ],
          [
           "美容师"
          ],
          [
           "飞行员"
          ],
          [
           "护士"
          ],
          [
           "消防员"
          ],
          [
           "导演"
          ],
          [
           "家政员"
          ],
          [
           "园丁"
          ],
          [
           "秘书"
          ],
          [
           "警察"
          ],
          [
           "前台"
          ],
          [
           "导购员"
          ],
          [
           "服务员"
          ],
          [
           "高管"
          ],
          [
           "保安"
          ],
          [
           "董事长"
          ],
          [
           "护工"
          ],
          [
           "厨师"
          ],
          [
           "法医"
          ],
          [
           "医生"
          ],
          [
           "教师"
          ],
          [
           "乘务员"
          ],
          [
           "救生员"
          ],
          [
           "工人"
          ],
          [
           "农民"
          ],
          [
           "收银员"
          ],
          [
           "会计"
          ],
          [
           "科学家"
          ],
          [
           "建筑师"
          ],
          [
           "模特"
          ],
          [
           "法官"
          ],
          [
           "教授"
          ],
          [
           "售票员"
          ],
          [
           "营养师"
          ],
          [
           "检察官"
          ],
          [
           "理发师"
          ]
         ],
         "hovertemplate": "Le Chat: %{y:.2f}<br>Occupation: %{x}<br>Chinese: %{customdata[0]}",
         "marker": {
          "color": "#f95010",
          "size": 14,
          "symbol": "star-square"
         },
         "mode": "markers",
         "name": "Le Chat",
         "type": "scatter",
         "x": [
          "student",
          "programmer",
          "nanny",
          "kindergarten teacher",
          "flight attendant (2)",
          "engineer",
          "soldier",
          "cleaner",
          "HR personnel",
          "beautician",
          "pilot",
          "nurse",
          "firefighter",
          "director",
          "housekeeper",
          "gardener",
          "secretary",
          "police officer",
          "receptionist",
          "shop assistant",
          "waiter",
          "manager",
          "security guard",
          "CEO",
          "caregiver",
          "chef",
          "pathologist",
          "doctor",
          "teacher",
          "flight attendant",
          "lifeguard",
          "worker",
          "farmer",
          "cashier",
          "accountant",
          "scientist",
          "architect",
          "model",
          "judge",
          "professor",
          "ticket seller",
          "dietitian",
          "prosecutor",
          "hairdresser"
         ],
         "y": {
          "bdata": "AAAAAAAAAAAAAAAAAAACwAAAAAAAAAVAcT0K16NwBEBmZmZmZmYAQGZmZmZmZgLAMzMzMzMzBsAVrkfhehT+P3sUrkfhevQ/16NwPQrXBECkcD0K16MEwJqZmZmZmQFAMzMzMzMzBsAAAAAAAAD0v9ejcD0K1wRAmpmZmZmZ6b/NzMzMzMz4PzMzMzMzM/u/MzMzMzMz+z+amZmZmZn1P3sUrkfhetQ/MzMzMzMz/78AAAAAAAAFwKRwPQrXowLAzczMzMzM/D8AAAAAAAD0vzMzMzMzM+O/wvUoXI/C5b9mZmZmZmbuPwAAAAAAAABApHA9CtejAsAAAAAAAAACwDMzMzMzM9O/zczMzMzM7D/rUbgeheuxP5qZmZmZmem/mpmZmZmZ8b8AAAAAAADwP5qZmZmZmem/AAAAAAAA4L8zMzMzMzPDP5qZmZmZmfU/MzMzMzMz47+amZmZmZm5vw==",
          "dtype": "f8"
         }
        },
        {
         "customdata": [
          [
           "学生"
          ],
          [
           "程序员"
          ],
          [
           "保姆"
          ],
          [
           "幼师"
          ],
          [
           "空服员"
          ],
          [
           "工程师"
          ],
          [
           "军人"
          ],
          [
           "保洁"
          ],
          [
           "人事"
          ],
          [
           "美容师"
          ],
          [
           "飞行员"
          ],
          [
           "护士"
          ],
          [
           "消防员"
          ],
          [
           "导演"
          ],
          [
           "家政员"
          ],
          [
           "园丁"
          ],
          [
           "秘书"
          ],
          [
           "警察"
          ],
          [
           "前台"
          ],
          [
           "导购员"
          ],
          [
           "服务员"
          ],
          [
           "高管"
          ],
          [
           "保安"
          ],
          [
           "董事长"
          ],
          [
           "护工"
          ],
          [
           "厨师"
          ],
          [
           "法医"
          ],
          [
           "医生"
          ],
          [
           "教师"
          ],
          [
           "乘务员"
          ],
          [
           "救生员"
          ],
          [
           "工人"
          ],
          [
           "农民"
          ],
          [
           "收银员"
          ],
          [
           "会计"
          ],
          [
           "科学家"
          ],
          [
           "建筑师"
          ],
          [
           "模特"
          ],
          [
           "法官"
          ],
          [
           "教授"
          ],
          [
           "售票员"
          ],
          [
           "营养师"
          ],
          [
           "检察官"
          ],
          [
           "理发师"
          ]
         ],
         "hovertemplate": "Copilot: %{y:.2f}<br>Occupation: %{x}<br>Chinese: %{customdata[0]}",
         "marker": {
          "color": "#F2AD22",
          "size": 14,
          "symbol": "pentagon"
         },
         "mode": "markers",
         "name": "Copilot",
         "type": "scatter",
         "x": [
          "student",
          "programmer",
          "nanny",
          "kindergarten teacher",
          "flight attendant (2)",
          "engineer",
          "soldier",
          "cleaner",
          "HR personnel",
          "beautician",
          "pilot",
          "nurse",
          "firefighter",
          "director",
          "housekeeper",
          "gardener",
          "secretary",
          "police officer",
          "receptionist",
          "shop assistant",
          "waiter",
          "manager",
          "security guard",
          "CEO",
          "caregiver",
          "chef",
          "pathologist",
          "doctor",
          "teacher",
          "flight attendant",
          "lifeguard",
          "worker",
          "farmer",
          "cashier",
          "accountant",
          "scientist",
          "architect",
          "model",
          "judge",
          "professor",
          "ticket seller",
          "dietitian",
          "prosecutor",
          "hairdresser"
         ],
         "y": {
          "bdata": "AAAAAAAAAABwPQrXo3ABwB6F61G4HgdAexSuR+F6BkDsUbgehesBQLgehetRuADAMzMzMzMzBcDWo3A9CtcBQOtRuB6F6/k/MzMzMzMzBUDOzMzMzMwCwPYoXI/C9QRA4noUrkfhBMCQwvUoXI/6v6RwPQrXowRACtejcD0K779cj8L1KFwBQDMzMzMzM/u/16NwPQrXAUCF61G4HoX7Px6F61G4HvE/mpmZmZmZ/b9xPQrXo3ABwBWuR+F6FATAHoXrUbgeAUCkcD0K16PwvwrXo3A9CvO/PgrXo3A94r9mZmZmZmbuP1K4HoXrUfg/SOF6FK5H9b/D9Shcj8L5v7gehetRuO6/cj0K16Nw/T8AAAAAAADwP/YoXI/C9fS/hetRuB6F87+4HoXrUbgAQI/C9Shcj/K/XI/C9Shc57/2KFyPwvX0PwAAAAAAAPw/Fa5H4XoU9r9cj8L1KFzzPw==",
          "dtype": "f8"
         }
        },
        {
         "customdata": [
          [
           "学生"
          ],
          [
           "程序员"
          ],
          [
           "保姆"
          ],
          [
           "幼师"
          ],
          [
           "空服员"
          ],
          [
           "工程师"
          ],
          [
           "军人"
          ],
          [
           "保洁"
          ],
          [
           "人事"
          ],
          [
           "美容师"
          ],
          [
           "飞行员"
          ],
          [
           "护士"
          ],
          [
           "消防员"
          ],
          [
           "导演"
          ],
          [
           "家政员"
          ],
          [
           "园丁"
          ],
          [
           "秘书"
          ],
          [
           "警察"
          ],
          [
           "前台"
          ],
          [
           "导购员"
          ],
          [
           "服务员"
          ],
          [
           "高管"
          ],
          [
           "保安"
          ],
          [
           "董事长"
          ],
          [
           "护工"
          ],
          [
           "厨师"
          ],
          [
           "法医"
          ],
          [
           "医生"
          ],
          [
           "教师"
          ],
          [
           "乘务员"
          ],
          [
           "救生员"
          ],
          [
           "工人"
          ],
          [
           "农民"
          ],
          [
           "收银员"
          ],
          [
           "会计"
          ],
          [
           "科学家"
          ],
          [
           "建筑师"
          ],
          [
           "模特"
          ],
          [
           "法官"
          ],
          [
           "教授"
          ],
          [
           "售票员"
          ],
          [
           "营养师"
          ],
          [
           "检察官"
          ],
          [
           "理发师"
          ]
         ],
         "hovertemplate": "ChatGPT: %{y:.2f}<br>Occupation: %{x}<br>Chinese: %{customdata[0]}",
         "marker": {
          "color": "#00A67E",
          "size": 14,
          "symbol": "hexagon"
         },
         "mode": "markers",
         "name": "ChatGPT",
         "type": "scatter",
         "x": [
          "student",
          "programmer",
          "nanny",
          "kindergarten teacher",
          "flight attendant (2)",
          "engineer",
          "soldier",
          "cleaner",
          "HR personnel",
          "beautician",
          "pilot",
          "nurse",
          "firefighter",
          "director",
          "housekeeper",
          "gardener",
          "secretary",
          "police officer",
          "receptionist",
          "shop assistant",
          "waiter",
          "manager",
          "security guard",
          "CEO",
          "caregiver",
          "chef",
          "pathologist",
          "doctor",
          "teacher",
          "flight attendant",
          "lifeguard",
          "worker",
          "farmer",
          "cashier",
          "accountant",
          "scientist",
          "architect",
          "model",
          "judge",
          "professor",
          "ticket seller",
          "dietitian",
          "prosecutor",
          "hairdresser"
         ],
         "y": {
          "bdata": "AAAAAAAAAAD1KFyPwvUCwCdcj8L1KAdAj8L1KFyPBkCamZmZmZkAQHE9CtejcAPACtejcD0KB8CPwvUoXI8AQLoehetRuPY/////////BkA+CtejcD0EwClcj8L1KAZA1qNwPQrXBsCG61G4HoX7v3sUrkfhegZAkML1KFyP4r9K4XoUrkf/Pz0K16NwPQLArkfhehSuA0B7FK5H4XoAQKRwPQrXo+g/UrgehetR+r/iehSuR+EFwNijcD0K1/+/cT0K16NwA0BmZmZmZmb6v/YoXI/C9fi/UrgehetR8L+uR+F6FK7XP7gehetRuP4/HoXrUbge9b9mZmZmZmb+v9ejcD0K1/e/w/UoXI/CAEDNzMzMzMzwP+J6FK5H4f6/XY/C9ShcAcCwR+F6FK77P9ajcD0K1/e/SOF6FK5H+b8TrkfhehTuP83MzMzMzAJAzczMzMzM+r+PwvUoXI/SPw==",
          "dtype": "f8"
         }
        },
        {
         "customdata": [
          [
           "学生"
          ],
          [
           "程序员"
          ],
          [
           "保姆"
          ],
          [
           "幼师"
          ],
          [
           "空服员"
          ],
          [
           "工程师"
          ],
          [
           "军人"
          ],
          [
           "保洁"
          ],
          [
           "人事"
          ],
          [
           "美容师"
          ],
          [
           "飞行员"
          ],
          [
           "护士"
          ],
          [
           "消防员"
          ],
          [
           "导演"
          ],
          [
           "家政员"
          ],
          [
           "园丁"
          ],
          [
           "秘书"
          ],
          [
           "警察"
          ],
          [
           "前台"
          ],
          [
           "导购员"
          ],
          [
           "服务员"
          ],
          [
           "高管"
          ],
          [
           "保安"
          ],
          [
           "董事长"
          ],
          [
           "护工"
          ],
          [
           "厨师"
          ],
          [
           "法医"
          ],
          [
           "医生"
          ],
          [
           "教师"
          ],
          [
           "乘务员"
          ],
          [
           "救生员"
          ],
          [
           "工人"
          ],
          [
           "农民"
          ],
          [
           "收银员"
          ],
          [
           "会计"
          ],
          [
           "科学家"
          ],
          [
           "建筑师"
          ],
          [
           "模特"
          ],
          [
           "法官"
          ],
          [
           "教授"
          ],
          [
           "售票员"
          ],
          [
           "营养师"
          ],
          [
           "检察官"
          ],
          [
           "理发师"
          ]
         ],
         "hovertemplate": "Deepseek: %{y:.2f}<br>Occupation: %{x}<br>Chinese: %{customdata[0]}",
         "marker": {
          "color": "#3C5DFF",
          "size": 14,
          "symbol": "circle"
         },
         "mode": "markers",
         "name": "Deepseek",
         "type": "scatter",
         "x": [
          "student",
          "programmer",
          "nanny",
          "kindergarten teacher",
          "flight attendant (2)",
          "engineer",
          "soldier",
          "cleaner",
          "HR personnel",
          "beautician",
          "pilot",
          "nurse",
          "firefighter",
          "director",
          "housekeeper",
          "gardener",
          "secretary",
          "police officer",
          "receptionist",
          "shop assistant",
          "waiter",
          "manager",
          "security guard",
          "CEO",
          "caregiver",
          "chef",
          "pathologist",
          "doctor",
          "teacher",
          "flight attendant",
          "lifeguard",
          "worker",
          "farmer",
          "cashier",
          "accountant",
          "scientist",
          "architect",
          "model",
          "judge",
          "professor",
          "ticket seller",
          "dietitian",
          "prosecutor",
          "hairdresser"
         ],
         "y": {
          "bdata": "AAAAAAAAAADNzMzMzMwAwOtRuB6F6wVACtejcD0KBUCuR+F6FK7/P/YoXI/C9QDAXY/C9ShcA8B7FK5H4Xr8P/YoXI/C9fg/zczMzMzMAkB7FK5H4XoAwBWuR+F6FARAcT0K16NwA8B7FK5H4Xr8vzMzMzMzMwFAAAAAAAAA9L/NzMzMzMwAQM3MzMzMzPi/MzMzMzMz/z/iehSuR+H6P3E9CtejcOU/mpmZmZmZ9b8AAAAAAAAAwDMzMzMzM/u/j8L1KFyPAEDiehSuR+H6vwAAAAAAAPS/cD0K16Nwzb8zMzMzMzP3PwAAAAAAAPA/SOF6FK5H+b/NzMzMzMz8v4XrUbgehfO/Fa5H4XoU+j8AAAAAAADgPzMzMzMzM+u/exSuR+F6/L8zMzMzMzP3P5qZmZmZmcm/ZmZmZmZm1r8zMzMzMzP3P2ZmZmZmZu4/AAAAAAAA0L8zMzMzMzPTvw==",
          "dtype": "f8"
         }
        },
        {
         "customdata": [
          [
           "学生"
          ],
          [
           "程序员"
          ],
          [
           "保姆"
          ],
          [
           "幼师"
          ],
          [
           "空服员"
          ],
          [
           "工程师"
          ],
          [
           "军人"
          ],
          [
           "保洁"
          ],
          [
           "人事"
          ],
          [
           "美容师"
          ],
          [
           "飞行员"
          ],
          [
           "护士"
          ],
          [
           "消防员"
          ],
          [
           "导演"
          ],
          [
           "家政员"
          ],
          [
           "园丁"
          ],
          [
           "秘书"
          ],
          [
           "警察"
          ],
          [
           "前台"
          ],
          [
           "导购员"
          ],
          [
           "服务员"
          ],
          [
           "高管"
          ],
          [
           "保安"
          ],
          [
           "董事长"
          ],
          [
           "护工"
          ],
          [
           "厨师"
          ],
          [
           "法医"
          ],
          [
           "医生"
          ],
          [
           "教师"
          ],
          [
           "乘务员"
          ],
          [
           "救生员"
          ],
          [
           "工人"
          ],
          [
           "农民"
          ],
          [
           "收银员"
          ],
          [
           "会计"
          ],
          [
           "科学家"
          ],
          [
           "建筑师"
          ],
          [
           "模特"
          ],
          [
           "法官"
          ],
          [
           "教授"
          ],
          [
           "售票员"
          ],
          [
           "营养师"
          ],
          [
           "检察官"
          ],
          [
           "理发师"
          ]
         ],
         "hovertemplate": "Gemini: %{y:.2f}<br>Occupation: %{x}<br>Chinese: %{customdata[0]}",
         "marker": {
          "color": "#9177C7",
          "size": 14,
          "symbol": "star-diamond"
         },
         "mode": "markers",
         "name": "Gemini",
         "type": "scatter",
         "x": [
          "student",
          "programmer",
          "nanny",
          "kindergarten teacher",
          "flight attendant (2)",
          "engineer",
          "soldier",
          "cleaner",
          "HR personnel",
          "beautician",
          "pilot",
          "nurse",
          "firefighter",
          "director",
          "housekeeper",
          "gardener",
          "secretary",
          "police officer",
          "receptionist",
          "shop assistant",
          "waiter",
          "manager",
          "security guard",
          "CEO",
          "caregiver",
          "chef",
          "pathologist",
          "doctor",
          "teacher",
          "flight attendant",
          "lifeguard",
          "worker",
          "farmer",
          "cashier",
          "accountant",
          "scientist",
          "architect",
          "model",
          "judge",
          "professor",
          "ticket seller",
          "dietitian",
          "prosecutor",
          "hairdresser"
         ],
         "y": {
          "bdata": "AAAAAAAAAADByqFFtvMBwL+fGi/dJAZAFa5H4XoUBkC28/3UeOn+P0jhehSuRwDAkxgEVg4tBcCDwMqhRbb/P4cW2c73U/M/WmQ730+NBEDTTWIQWDkCwEoMAiuHFgNAAAAAAAAACMCDwMqhRbb9v1k5tMh2vgNACtejcD0K5792vp8aL90BQL10kxgEVv6/nu+nxks3AEBEi2zn+6n1P1TjpZvEIPA/qvHSTWIQ9L/dJAaBlUMDwNNNYhBYOQDAw/UoXI/C+T9lO99PjZf+v4pBYOXQIu+/WmQ730+Np799PzVeuknwPy2yne+nxv0/001iEFg59r+e76fGSzfxv+bQItv5fu6/SgwCK4cW9z+q8dJNYhDyP6rx0k1iEPS/cD0K16Nw/79qvHSTGATwP2q8dJMYBOa/wMqhRbbz3b/qJjEIrBzyP24Sg8DKofM//tR46SYx7L+AFK5H4Xp0Pw==",
          "dtype": "f8"
         }
        },
        {
         "customdata": [
          [
           "学生"
          ],
          [
           "程序员"
          ],
          [
           "保姆"
          ],
          [
           "幼师"
          ],
          [
           "空服员"
          ],
          [
           "工程师"
          ],
          [
           "军人"
          ],
          [
           "保洁"
          ],
          [
           "人事"
          ],
          [
           "美容师"
          ],
          [
           "飞行员"
          ],
          [
           "护士"
          ],
          [
           "消防员"
          ],
          [
           "导演"
          ],
          [
           "家政员"
          ],
          [
           "园丁"
          ],
          [
           "秘书"
          ],
          [
           "警察"
          ],
          [
           "前台"
          ],
          [
           "导购员"
          ],
          [
           "服务员"
          ],
          [
           "高管"
          ],
          [
           "保安"
          ],
          [
           "董事长"
          ],
          [
           "护工"
          ],
          [
           "厨师"
          ],
          [
           "法医"
          ],
          [
           "医生"
          ],
          [
           "教师"
          ],
          [
           "乘务员"
          ],
          [
           "救生员"
          ],
          [
           "工人"
          ],
          [
           "农民"
          ],
          [
           "收银员"
          ],
          [
           "会计"
          ],
          [
           "科学家"
          ],
          [
           "建筑师"
          ],
          [
           "模特"
          ],
          [
           "法官"
          ],
          [
           "教授"
          ],
          [
           "售票员"
          ],
          [
           "营养师"
          ],
          [
           "检察官"
          ],
          [
           "理发师"
          ]
         ],
         "hovertemplate": "STD: %{y:.3f}<br>Occupation: %{x}<br>Chinese: %{customdata[0]}",
         "marker": {
          "color": "gray"
         },
         "name": "STD (AI models)",
         "opacity": 0.5,
         "type": "bar",
         "x": [
          "student",
          "programmer",
          "nanny",
          "kindergarten teacher",
          "flight attendant (2)",
          "engineer",
          "soldier",
          "cleaner",
          "HR personnel",
          "beautician",
          "pilot",
          "nurse",
          "firefighter",
          "director",
          "housekeeper",
          "gardener",
          "secretary",
          "police officer",
          "receptionist",
          "shop assistant",
          "waiter",
          "manager",
          "security guard",
          "CEO",
          "caregiver",
          "chef",
          "pathologist",
          "doctor",
          "teacher",
          "flight attendant",
          "lifeguard",
          "worker",
          "farmer",
          "cashier",
          "accountant",
          "scientist",
          "architect",
          "model",
          "judge",
          "professor",
          "ticket seller",
          "dietitian",
          "prosecutor",
          "hairdresser"
         ],
         "y": {
          "bdata": "AAAAAAAAAAD7O37V03e5P+r7aacs6rw/gWX5r8n9vT+vbqbZ5CC+P2hjofrHFMU/d3dnRPsGxj+TeyF8hTHGP7ClccMUjMY/5fSDGQoLyD8Lm1UyurTKP0JBqI5S7Ms/ljU4ApFAzD+xAWZYR1bOPxSdtVDn/c4/y7QvqtB+0D9zLK4auHXRP17XzVFrEtI/wmkrcpVn0j+/IQIUte7SP+cZ2vInLdM/XsSvxqVu0z9GJ8vxM3zTPwQMvPSULdQ/xbEQS4xD1D8TpZCUJpjWP4Yu8T2KytY/45mxO5iA2D8rwXgFs5nYPwm0sUhWXdo/Oe7ecIlQ2z/uAOZH2aTbPw9qZJEvSNw/1wJ95jzq3D/D7e+54P7cP/QIOxh5Ft0/PruRLALq3T+e4B4uDTnePzirrfM2R98/HgZGWSHQ3z/Z36UFQFXgP7ePEufZY+E/dNco9Vdv4j9fcWnbZ/XiPw==",
          "dtype": "f8"
         },
         "yaxis": "y2"
        },
        {
         "customdata": [
          [
           "学生"
          ],
          [
           "程序员"
          ],
          [
           "保姆"
          ],
          [
           "幼师"
          ],
          [
           "空服员"
          ],
          [
           "工程师"
          ],
          [
           "军人"
          ],
          [
           "保洁"
          ],
          [
           "人事"
          ],
          [
           "美容师"
          ],
          [
           "飞行员"
          ],
          [
           "护士"
          ],
          [
           "消防员"
          ],
          [
           "导演"
          ],
          [
           "家政员"
          ],
          [
           "园丁"
          ],
          [
           "秘书"
          ],
          [
           "警察"
          ],
          [
           "前台"
          ],
          [
           "导购员"
          ],
          [
           "服务员"
          ],
          [
           "高管"
          ],
          [
           "保安"
          ],
          [
           "董事长"
          ],
          [
           "护工"
          ],
          [
           "厨师"
          ],
          [
           "法医"
          ],
          [
           "医生"
          ],
          [
           "教师"
          ],
          [
           "乘务员"
          ],
          [
           "救生员"
          ],
          [
           "工人"
          ],
          [
           "农民"
          ],
          [
           "收银员"
          ],
          [
           "会计"
          ],
          [
           "科学家"
          ],
          [
           "建筑师"
          ],
          [
           "模特"
          ],
          [
           "法官"
          ],
          [
           "教授"
          ],
          [
           "售票员"
          ],
          [
           "营养师"
          ],
          [
           "检察官"
          ],
          [
           "理发师"
          ]
         ],
         "hovertemplate": "Range: %{y:.3f}<br>Occupation: %{x}<br>Chinese: %{customdata[0]}",
         "marker": {
          "color": "lightgray"
         },
         "name": "Range (AI models)",
         "opacity": 0.5,
         "type": "bar",
         "x": [
          "student",
          "programmer",
          "nanny",
          "kindergarten teacher",
          "flight attendant (2)",
          "engineer",
          "soldier",
          "cleaner",
          "HR personnel",
          "beautician",
          "pilot",
          "nurse",
          "firefighter",
          "director",
          "housekeeper",
          "gardener",
          "secretary",
          "police officer",
          "receptionist",
          "shop assistant",
          "waiter",
          "manager",
          "security guard",
          "CEO",
          "caregiver",
          "chef",
          "pathologist",
          "doctor",
          "teacher",
          "flight attendant",
          "lifeguard",
          "worker",
          "farmer",
          "cashier",
          "accountant",
          "scientist",
          "architect",
          "model",
          "judge",
          "professor",
          "ticket seller",
          "dietitian",
          "prosecutor",
          "hairdresser"
         ],
         "y": {
          "bdata": "AAAAAAAAAABA4XoUrkfRPzjhehSuR9E/8Chcj8L10D+IwMqhRbbTP0jhehSuR9k/aD0K16Nw3T/EzMzMzMzcP5DtfD81Xto/yMzMzMzM4D+kcD0K16PgPzwK16NwPeI/PArXo3A94j8GgZVDi2zjPyCF61G4HuU/cD0K16Nw5T8+YOXQItvlP1qPwvUoXOc/UrgehetR6D+4HoXrUbjmP/7//////+c/EoPAyqFF5j+I61G4HoXnP+5RuB6F6+k/PgrXo3A96j+ClUOLbOfrP7kehetRuO4/XrpJDAIr7z9I4XoUrkfxPwAAAAAAAPA/KlyPwvUo8D9iEFg5tMjyPwrXo3A9CvM/IIXrUbge8z+LbOf7qfHwPxWuR+F6FPI/IIXrUbge8T9wPQrXo3DxP6NwPQrXo/Q/rkfhehSu8z/NzMzMzMz0P2dmZmZmZvY/zczMzMzM9j8pXI/C9Sj4Pw==",
          "dtype": "f8"
         },
         "yaxis": "y2"
        }
       ],
       "layout": {
        "barmode": "group",
        "font": {
         "color": "black",
         "family": "Times New Roman, serif",
         "size": 16
        },
        "legend": {
         "orientation": "h",
         "x": 0.7,
         "xanchor": "center",
         "y": 1.025,
         "yanchor": "bottom"
        },
        "margin": {
         "b": 0,
         "l": 0,
         "r": 0,
         "t": 0
        },
        "template": {
         "data": {
          "bar": [
           {
            "error_x": {
             "color": "#2a3f5f"
            },
            "error_y": {
             "color": "#2a3f5f"
            },
            "marker": {
             "line": {
              "color": "white",
              "width": 0.5
             },
             "pattern": {
              "fillmode": "overlay",
              "size": 10,
              "solidity": 0.2
             }
            },
            "type": "bar"
           }
          ],
          "barpolar": [
           {
            "marker": {
             "line": {
              "color": "white",
              "width": 0.5
             },
             "pattern": {
              "fillmode": "overlay",
              "size": 10,
              "solidity": 0.2
             }
            },
            "type": "barpolar"
           }
          ],
          "carpet": [
           {
            "aaxis": {
             "endlinecolor": "#2a3f5f",
             "gridcolor": "#C8D4E3",
             "linecolor": "#C8D4E3",
             "minorgridcolor": "#C8D4E3",
             "startlinecolor": "#2a3f5f"
            },
            "baxis": {
             "endlinecolor": "#2a3f5f",
             "gridcolor": "#C8D4E3",
             "linecolor": "#C8D4E3",
             "minorgridcolor": "#C8D4E3",
             "startlinecolor": "#2a3f5f"
            },
            "type": "carpet"
           }
          ],
          "choropleth": [
           {
            "colorbar": {
             "outlinewidth": 0,
             "ticks": ""
            },
            "type": "choropleth"
           }
          ],
          "contour": [
           {
            "colorbar": {
             "outlinewidth": 0,
             "ticks": ""
            },
            "colorscale": [
             [
              0,
              "#0d0887"
             ],
             [
              0.1111111111111111,
              "#46039f"
             ],
             [
              0.2222222222222222,
              "#7201a8"
             ],
             [
              0.3333333333333333,
              "#9c179e"
             ],
             [
              0.4444444444444444,
              "#bd3786"
             ],
             [
              0.5555555555555556,
              "#d8576b"
             ],
             [
              0.6666666666666666,
              "#ed7953"
             ],
             [
              0.7777777777777778,
              "#fb9f3a"
             ],
             [
              0.8888888888888888,
              "#fdca26"
             ],
             [
              1,
              "#f0f921"
             ]
            ],
            "type": "contour"
           }
          ],
          "contourcarpet": [
           {
            "colorbar": {
             "outlinewidth": 0,
             "ticks": ""
            },
            "type": "contourcarpet"
           }
          ],
          "heatmap": [
           {
            "colorbar": {
             "outlinewidth": 0,
             "ticks": ""
            },
            "colorscale": [
             [
              0,
              "#0d0887"
             ],
             [
              0.1111111111111111,
              "#46039f"
             ],
             [
              0.2222222222222222,
              "#7201a8"
             ],
             [
              0.3333333333333333,
              "#9c179e"
             ],
             [
              0.4444444444444444,
              "#bd3786"
             ],
             [
              0.5555555555555556,
              "#d8576b"
             ],
             [
              0.6666666666666666,
              "#ed7953"
             ],
             [
              0.7777777777777778,
              "#fb9f3a"
             ],
             [
              0.8888888888888888,
              "#fdca26"
             ],
             [
              1,
              "#f0f921"
             ]
            ],
            "type": "heatmap"
           }
          ],
          "histogram": [
           {
            "marker": {
             "pattern": {
              "fillmode": "overlay",
              "size": 10,
              "solidity": 0.2
             }
            },
            "type": "histogram"
           }
          ],
          "histogram2d": [
           {
            "colorbar": {
             "outlinewidth": 0,
             "ticks": ""
            },
            "colorscale": [
             [
              0,
              "#0d0887"
             ],
             [
              0.1111111111111111,
              "#46039f"
             ],
             [
              0.2222222222222222,
              "#7201a8"
             ],
             [
              0.3333333333333333,
              "#9c179e"
             ],
             [
              0.4444444444444444,
              "#bd3786"
             ],
             [
              0.5555555555555556,
              "#d8576b"
             ],
             [
              0.6666666666666666,
              "#ed7953"
             ],
             [
              0.7777777777777778,
              "#fb9f3a"
             ],
             [
              0.8888888888888888,
              "#fdca26"
             ],
             [
              1,
              "#f0f921"
             ]
            ],
            "type": "histogram2d"
           }
          ],
          "histogram2dcontour": [
           {
            "colorbar": {
             "outlinewidth": 0,
             "ticks": ""
            },
            "colorscale": [
             [
              0,
              "#0d0887"
             ],
             [
              0.1111111111111111,
              "#46039f"
             ],
             [
              0.2222222222222222,
              "#7201a8"
             ],
             [
              0.3333333333333333,
              "#9c179e"
             ],
             [
              0.4444444444444444,
              "#bd3786"
             ],
             [
              0.5555555555555556,
              "#d8576b"
             ],
             [
              0.6666666666666666,
              "#ed7953"
             ],
             [
              0.7777777777777778,
              "#fb9f3a"
             ],
             [
              0.8888888888888888,
              "#fdca26"
             ],
             [
              1,
              "#f0f921"
             ]
            ],
            "type": "histogram2dcontour"
           }
          ],
          "mesh3d": [
           {
            "colorbar": {
             "outlinewidth": 0,
             "ticks": ""
            },
            "type": "mesh3d"
           }
          ],
          "parcoords": [
           {
            "line": {
             "colorbar": {
              "outlinewidth": 0,
              "ticks": ""
             }
            },
            "type": "parcoords"
           }
          ],
          "pie": [
           {
            "automargin": true,
            "type": "pie"
           }
          ],
          "scatter": [
           {
            "fillpattern": {
             "fillmode": "overlay",
             "size": 10,
             "solidity": 0.2
            },
            "type": "scatter"
           }
          ],
          "scatter3d": [
           {
            "line": {
             "colorbar": {
              "outlinewidth": 0,
              "ticks": ""
             }
            },
            "marker": {
             "colorbar": {
              "outlinewidth": 0,
              "ticks": ""
             }
            },
            "type": "scatter3d"
           }
          ],
          "scattercarpet": [
           {
            "marker": {
             "colorbar": {
              "outlinewidth": 0,
              "ticks": ""
             }
            },
            "type": "scattercarpet"
           }
          ],
          "scattergeo": [
           {
            "marker": {
             "colorbar": {
              "outlinewidth": 0,
              "ticks": ""
             }
            },
            "type": "scattergeo"
           }
          ],
          "scattergl": [
           {
            "marker": {
             "colorbar": {
              "outlinewidth": 0,
              "ticks": ""
             }
            },
            "type": "scattergl"
           }
          ],
          "scattermap": [
           {
            "marker": {
             "colorbar": {
              "outlinewidth": 0,
              "ticks": ""
             }
            },
            "type": "scattermap"
           }
          ],
          "scattermapbox": [
           {
            "marker": {
             "colorbar": {
              "outlinewidth": 0,
              "ticks": ""
             }
            },
            "type": "scattermapbox"
           }
          ],
          "scatterpolar": [
           {
            "marker": {
             "colorbar": {
              "outlinewidth": 0,
              "ticks": ""
             }
            },
            "type": "scatterpolar"
           }
          ],
          "scatterpolargl": [
           {
            "marker": {
             "colorbar": {
              "outlinewidth": 0,
              "ticks": ""
             }
            },
            "type": "scatterpolargl"
           }
          ],
          "scatterternary": [
           {
            "marker": {
             "colorbar": {
              "outlinewidth": 0,
              "ticks": ""
             }
            },
            "type": "scatterternary"
           }
          ],
          "surface": [
           {
            "colorbar": {
             "outlinewidth": 0,
             "ticks": ""
            },
            "colorscale": [
             [
              0,
              "#0d0887"
             ],
             [
              0.1111111111111111,
              "#46039f"
             ],
             [
              0.2222222222222222,
              "#7201a8"
             ],
             [
              0.3333333333333333,
              "#9c179e"
             ],
             [
              0.4444444444444444,
              "#bd3786"
             ],
             [
              0.5555555555555556,
              "#d8576b"
             ],
             [
              0.6666666666666666,
              "#ed7953"
             ],
             [
              0.7777777777777778,
              "#fb9f3a"
             ],
             [
              0.8888888888888888,
              "#fdca26"
             ],
             [
              1,
              "#f0f921"
             ]
            ],
            "type": "surface"
           }
          ],
          "table": [
           {
            "cells": {
             "fill": {
              "color": "#EBF0F8"
             },
             "line": {
              "color": "white"
             }
            },
            "header": {
             "fill": {
              "color": "#C8D4E3"
             },
             "line": {
              "color": "white"
             }
            },
            "type": "table"
           }
          ]
         },
         "layout": {
          "annotationdefaults": {
           "arrowcolor": "#2a3f5f",
           "arrowhead": 0,
           "arrowwidth": 1
          },
          "autotypenumbers": "strict",
          "coloraxis": {
           "colorbar": {
            "outlinewidth": 0,
            "ticks": ""
           }
          },
          "colorscale": {
           "diverging": [
            [
             0,
             "#8e0152"
            ],
            [
             0.1,
             "#c51b7d"
            ],
            [
             0.2,
             "#de77ae"
            ],
            [
             0.3,
             "#f1b6da"
            ],
            [
             0.4,
             "#fde0ef"
            ],
            [
             0.5,
             "#f7f7f7"
            ],
            [
             0.6,
             "#e6f5d0"
            ],
            [
             0.7,
             "#b8e186"
            ],
            [
             0.8,
             "#7fbc41"
            ],
            [
             0.9,
             "#4d9221"
            ],
            [
             1,
             "#276419"
            ]
           ],
           "sequential": [
            [
             0,
             "#0d0887"
            ],
            [
             0.1111111111111111,
             "#46039f"
            ],
            [
             0.2222222222222222,
             "#7201a8"
            ],
            [
             0.3333333333333333,
             "#9c179e"
            ],
            [
             0.4444444444444444,
             "#bd3786"
            ],
            [
             0.5555555555555556,
             "#d8576b"
            ],
            [
             0.6666666666666666,
             "#ed7953"
            ],
            [
             0.7777777777777778,
             "#fb9f3a"
            ],
            [
             0.8888888888888888,
             "#fdca26"
            ],
            [
             1,
             "#f0f921"
            ]
           ],
           "sequentialminus": [
            [
             0,
             "#0d0887"
            ],
            [
             0.1111111111111111,
             "#46039f"
            ],
            [
             0.2222222222222222,
             "#7201a8"
            ],
            [
             0.3333333333333333,
             "#9c179e"
            ],
            [
             0.4444444444444444,
             "#bd3786"
            ],
            [
             0.5555555555555556,
             "#d8576b"
            ],
            [
             0.6666666666666666,
             "#ed7953"
            ],
            [
             0.7777777777777778,
             "#fb9f3a"
            ],
            [
             0.8888888888888888,
             "#fdca26"
            ],
            [
             1,
             "#f0f921"
            ]
           ]
          },
          "colorway": [
           "#636efa",
           "#EF553B",
           "#00cc96",
           "#ab63fa",
           "#FFA15A",
           "#19d3f3",
           "#FF6692",
           "#B6E880",
           "#FF97FF",
           "#FECB52"
          ],
          "font": {
           "color": "#2a3f5f"
          },
          "geo": {
           "bgcolor": "white",
           "lakecolor": "white",
           "landcolor": "white",
           "showlakes": true,
           "showland": true,
           "subunitcolor": "#C8D4E3"
          },
          "hoverlabel": {
           "align": "left"
          },
          "hovermode": "closest",
          "mapbox": {
           "style": "light"
          },
          "paper_bgcolor": "white",
          "plot_bgcolor": "white",
          "polar": {
           "angularaxis": {
            "gridcolor": "#EBF0F8",
            "linecolor": "#EBF0F8",
            "ticks": ""
           },
           "bgcolor": "white",
           "radialaxis": {
            "gridcolor": "#EBF0F8",
            "linecolor": "#EBF0F8",
            "ticks": ""
           }
          },
          "scene": {
           "xaxis": {
            "backgroundcolor": "white",
            "gridcolor": "#DFE8F3",
            "gridwidth": 2,
            "linecolor": "#EBF0F8",
            "showbackground": true,
            "ticks": "",
            "zerolinecolor": "#EBF0F8"
           },
           "yaxis": {
            "backgroundcolor": "white",
            "gridcolor": "#DFE8F3",
            "gridwidth": 2,
            "linecolor": "#EBF0F8",
            "showbackground": true,
            "ticks": "",
            "zerolinecolor": "#EBF0F8"
           },
           "zaxis": {
            "backgroundcolor": "white",
            "gridcolor": "#DFE8F3",
            "gridwidth": 2,
            "linecolor": "#EBF0F8",
            "showbackground": true,
            "ticks": "",
            "zerolinecolor": "#EBF0F8"
           }
          },
          "shapedefaults": {
           "line": {
            "color": "#2a3f5f"
           }
          },
          "ternary": {
           "aaxis": {
            "gridcolor": "#DFE8F3",
            "linecolor": "#A2B1C6",
            "ticks": ""
           },
           "baxis": {
            "gridcolor": "#DFE8F3",
            "linecolor": "#A2B1C6",
            "ticks": ""
           },
           "bgcolor": "white",
           "caxis": {
            "gridcolor": "#DFE8F3",
            "linecolor": "#A2B1C6",
            "ticks": ""
           }
          },
          "title": {
           "x": 0.05
          },
          "xaxis": {
           "automargin": true,
           "gridcolor": "#EBF0F8",
           "linecolor": "#EBF0F8",
           "ticks": "",
           "title": {
            "standoff": 15
           },
           "zerolinecolor": "#EBF0F8",
           "zerolinewidth": 2
          },
          "yaxis": {
           "automargin": true,
           "gridcolor": "#EBF0F8",
           "linecolor": "#EBF0F8",
           "ticks": "",
           "title": {
            "standoff": 15
           },
           "zerolinecolor": "#EBF0F8",
           "zerolinewidth": 2
          }
         }
        },
        "title": {
         "text": "AI agent agreement and variation across Chinese occupations"
        },
        "xaxis": {
         "tickangle": 45
        },
        "yaxis": {
         "range": [
          -3.2,
          3.2
         ],
         "tickvals": [
          -3,
          -2,
          -1,
          0,
          1,
          2,
          3
         ],
         "title": {
          "text": "Mean Rating (Bias)"
         }
        },
        "yaxis2": {
         "overlaying": "y",
         "showgrid": false,
         "side": "right",
         "title": {
          "text": "STD / Range"
         }
        }
       }
      }
     },
     "metadata": {},
     "output_type": "display_data"
    }
   ],
   "source": [
    "import plotly.graph_objects as go\n",
    "\n",
    "# Sort the full DataFrame by ai_std (lowest to highest)\n",
    "df_ai_sorted = df_zh_plot_sorted.sort_values('ai_std')\n",
    "\n",
    "# Prepare data for plotting\n",
    "x_labels = df_ai_sorted['en']\n",
    "zh_labels = df_ai_sorted['zh']\n",
    "means = df_ai_sorted[['lechat_zh', 'copilot_zh', 'chatgpt_zh', 'deepseek_zh', 'gemini_zh']].values.T\n",
    "models = ['Le Chat', 'Copilot', 'ChatGPT', 'Deepseek', 'Gemini']\n",
    "colors = ['#f95010', '#F2AD22', '#00A67E', '#3C5DFF', '#9177C7']\n",
    "markers = ['star-square', 'pentagon', 'hexagon', 'circle', 'star-diamond']\n",
    "\n",
    "fig = go.Figure()\n",
    "\n",
    "# Plot each model's mean as a scatter with markers (not lines)\n",
    "for i, (model, color, marker) in enumerate(zip(models, colors, markers)):\n",
    "    fig.add_trace(go.Scatter(\n",
    "        x=x_labels,\n",
    "        y=means[i],\n",
    "        mode='markers',\n",
    "        name=model,\n",
    "        marker=dict(size=14, color=color, symbol=marker),\n",
    "        customdata=np.stack([zh_labels], axis=-1),\n",
    "        hovertemplate=f\"{model}: %{{y:.2f}}<br>Occupation: %{{x}}<br>Chinese: %{{customdata[0]}}\"\n",
    "    ))\n",
    "\n",
    "# Add error bars for std\n",
    "fig.add_trace(go.Bar(\n",
    "    x=x_labels,\n",
    "    y=df_ai_sorted['ai_std'],\n",
    "    name='STD (AI models)',\n",
    "    marker_color='gray',\n",
    "    opacity=0.5,\n",
    "    yaxis='y2',\n",
    "    customdata=np.stack([zh_labels], axis=-1),\n",
    "    hovertemplate='STD: %{y:.3f}<br>Occupation: %{x}<br>Chinese: %{customdata[0]}'\n",
    "))\n",
    "\n",
    "# Add bar for range\n",
    "fig.add_trace(go.Bar(\n",
    "    x=x_labels,\n",
    "    y=df_ai_sorted['ai_range'],\n",
    "    name='Range (AI models)',\n",
    "    marker_color='lightgray',\n",
    "    opacity=0.5,\n",
    "    yaxis='y2',\n",
    "    customdata=np.stack([zh_labels], axis=-1),\n",
    "    hovertemplate='Range: %{y:.3f}<br>Occupation: %{x}<br>Chinese: %{customdata[0]}'\n",
    "))\n",
    "\n",
    "# Set up secondary y-axis for std and range\n",
    "fig.update_layout(\n",
    "    title='AI agent agreement and variation across Chinese occupations',\n",
    "    yaxis=dict(\n",
    "        title='Mean Rating (Bias)',\n",
    "        range=[-3.2, 3.2],\n",
    "        tickvals=[-3, -2, -1, 0, 1, 2, 3]\n",
    "    ),\n",
    "    yaxis2=dict(\n",
    "        title='STD / Range',\n",
    "        overlaying='y',\n",
    "        side='right',\n",
    "        showgrid=False\n",
    "    ),\n",
    "    barmode='group',\n",
    "    legend=dict(\n",
    "        orientation='h',\n",
    "        yanchor='bottom',\n",
    "        y=1.025,\n",
    "        xanchor='center',\n",
    "        x=0.7\n",
    "    ),\n",
    "    template='plotly_white',\n",
    "    margin=dict(l=0, r=0, t=0, b=0),\n",
    "    font=dict(family=\"Times New Roman, serif\", size=16, color='black'),\n",
    "    xaxis_tickangle=45  # Rotate x-axis tick labels by 45 degrees\n",
    ")\n",
    "\n",
    "fig.show()"
   ]
  },
  {
   "cell_type": "markdown",
   "id": "60927d50",
   "metadata": {},
   "source": [
    "#### Correlation"
   ]
  },
  {
   "cell_type": "code",
   "execution_count": 258,
   "id": "e74c2873",
   "metadata": {},
   "outputs": [
    {
     "name": "stdout",
     "output_type": "stream",
     "text": [
      "Mean absolute difference between human and AI model ratings (lower is closer):\n",
      "             mean_absolute_difference\n",
      "deepseek_zh                  0.756250\n",
      "lechat_zh                    0.763712\n",
      "gemini_zh                    0.815061\n",
      "copilot_zh                   0.962689\n",
      "chatgpt_zh                   1.108712\n",
      "\n",
      "The AI model whose mean ratings are closest to human ratings is: deepseek_zh\n"
     ]
    },
    {
     "data": {
      "application/vnd.plotly.v1+json": {
       "config": {
        "plotlyServerURL": "https://plot.ly"
       },
       "data": [
        {
         "colorbar": {
          "title": {
           "text": "Pearson R"
          }
         },
         "colorscale": [
          [
           0,
           "white"
          ],
          [
           1,
           "#c55f5f"
          ]
         ],
         "reversescale": false,
         "showscale": true,
         "type": "heatmap",
         "x": [
          "mean_zh",
          "lechat_zh",
          "copilot_zh",
          "chatgpt_zh",
          "deepseek_zh",
          "gemini_zh"
         ],
         "y": [
          "mean_zh",
          "lechat_zh",
          "copilot_zh",
          "chatgpt_zh",
          "deepseek_zh",
          "gemini_zh"
         ],
         "z": {
          "bdata": "AAAAAAAA8D9UePv5+cztP+yAJdD4TO0/rx1oODyN7T+9tXV7UmnuP2o8wA42P+4/VHj7+fnM7T8AAAAAAADwPxIgILQD4u4/dDT7+ZOP7j8GNULDEL/uPyHpSzjo5e4/7IAl0PhM7T8SICC0A+LuPwAAAAAAAPA/D38ATq5/7z9qrZ1ftATvPymc9C9AP+8/rx1oODyN7T90NPv5k4/uPw9/AE6uf+8/AAAAAAAA8D8cWg0aC8LuP42IiWWQNO8/vbV1e1Jp7j8GNULDEL/uP2qtnV+0BO8/HFoNGgvC7j8AAAAAAADwPyY+RBnLWu8/ajzADjY/7j8h6Us46OXuPymc9C9AP+8/jYiJZZA07z8mPkQZy1rvPwAAAAAAAPA/",
          "dtype": "f8",
          "shape": "6, 6"
         },
         "zmax": 1,
         "zmin": -1
        }
       ],
       "layout": {
        "annotations": [
         {
          "font": {
           "color": "#FFFFFF"
          },
          "showarrow": false,
          "text": "R=1.00<br>p=0",
          "x": "mean_zh",
          "xref": "x",
          "y": "mean_zh",
          "yref": "y"
         },
         {
          "font": {
           "color": "#FFFFFF"
          },
          "showarrow": false,
          "text": "R=0.93<br>p=5.01e-20",
          "x": "lechat_zh",
          "xref": "x",
          "y": "mean_zh",
          "yref": "y"
         },
         {
          "font": {
           "color": "#FFFFFF"
          },
          "showarrow": false,
          "text": "R=0.92<br>p=3.17e-18",
          "x": "copilot_zh",
          "xref": "x",
          "y": "mean_zh",
          "yref": "y"
         },
         {
          "font": {
           "color": "#FFFFFF"
          },
          "showarrow": false,
          "text": "R=0.92<br>p=4.41e-19",
          "x": "chatgpt_zh",
          "xref": "x",
          "y": "mean_zh",
          "yref": "y"
         },
         {
          "font": {
           "color": "#FFFFFF"
          },
          "showarrow": false,
          "text": "R=0.95<br>p=6.52e-23",
          "x": "deepseek_zh",
          "xref": "x",
          "y": "mean_zh",
          "yref": "y"
         },
         {
          "font": {
           "color": "#FFFFFF"
          },
          "showarrow": false,
          "text": "R=0.95<br>p=4.91e-22",
          "x": "gemini_zh",
          "xref": "x",
          "y": "mean_zh",
          "yref": "y"
         },
         {
          "font": {
           "color": "#FFFFFF"
          },
          "showarrow": false,
          "text": "R=0.93<br>p=5.01e-20",
          "x": "mean_zh",
          "xref": "x",
          "y": "lechat_zh",
          "yref": "y"
         },
         {
          "font": {
           "color": "#FFFFFF"
          },
          "showarrow": false,
          "text": "R=1.00<br>p=0",
          "x": "lechat_zh",
          "xref": "x",
          "y": "lechat_zh",
          "yref": "y"
         },
         {
          "font": {
           "color": "#FFFFFF"
          },
          "showarrow": false,
          "text": "R=0.97<br>p=4.63e-26",
          "x": "copilot_zh",
          "xref": "x",
          "y": "lechat_zh",
          "yref": "y"
         },
         {
          "font": {
           "color": "#FFFFFF"
          },
          "showarrow": false,
          "text": "R=0.96<br>p=8.57e-24",
          "x": "chatgpt_zh",
          "xref": "x",
          "y": "lechat_zh",
          "yref": "y"
         },
         {
          "font": {
           "color": "#FFFFFF"
          },
          "showarrow": false,
          "text": "R=0.96<br>p=5e-25",
          "x": "deepseek_zh",
          "xref": "x",
          "y": "lechat_zh",
          "yref": "y"
         },
         {
          "font": {
           "color": "#FFFFFF"
          },
          "showarrow": false,
          "text": "R=0.97<br>p=3.49e-26",
          "x": "gemini_zh",
          "xref": "x",
          "y": "lechat_zh",
          "yref": "y"
         },
         {
          "font": {
           "color": "#FFFFFF"
          },
          "showarrow": false,
          "text": "R=0.92<br>p=3.17e-18",
          "x": "mean_zh",
          "xref": "x",
          "y": "copilot_zh",
          "yref": "y"
         },
         {
          "font": {
           "color": "#FFFFFF"
          },
          "showarrow": false,
          "text": "R=0.97<br>p=4.63e-26",
          "x": "lechat_zh",
          "xref": "x",
          "y": "copilot_zh",
          "yref": "y"
         },
         {
          "font": {
           "color": "#FFFFFF"
          },
          "showarrow": false,
          "text": "R=1.00<br>p=0",
          "x": "copilot_zh",
          "xref": "x",
          "y": "copilot_zh",
          "yref": "y"
         },
         {
          "font": {
           "color": "#FFFFFF"
          },
          "showarrow": false,
          "text": "R=0.98<br>p=2.74e-33",
          "x": "chatgpt_zh",
          "xref": "x",
          "y": "copilot_zh",
          "yref": "y"
         },
         {
          "font": {
           "color": "#FFFFFF"
          },
          "showarrow": false,
          "text": "R=0.97<br>p=3.19e-27",
          "x": "deepseek_zh",
          "xref": "x",
          "y": "copilot_zh",
          "yref": "y"
         },
         {
          "font": {
           "color": "#FFFFFF"
          },
          "showarrow": false,
          "text": "R=0.98<br>p=1.3e-29",
          "x": "gemini_zh",
          "xref": "x",
          "y": "copilot_zh",
          "yref": "y"
         },
         {
          "font": {
           "color": "#FFFFFF"
          },
          "showarrow": false,
          "text": "R=0.92<br>p=4.41e-19",
          "x": "mean_zh",
          "xref": "x",
          "y": "chatgpt_zh",
          "yref": "y"
         },
         {
          "font": {
           "color": "#FFFFFF"
          },
          "showarrow": false,
          "text": "R=0.96<br>p=8.57e-24",
          "x": "lechat_zh",
          "xref": "x",
          "y": "chatgpt_zh",
          "yref": "y"
         },
         {
          "font": {
           "color": "#FFFFFF"
          },
          "showarrow": false,
          "text": "R=0.98<br>p=2.74e-33",
          "x": "copilot_zh",
          "xref": "x",
          "y": "chatgpt_zh",
          "yref": "y"
         },
         {
          "font": {
           "color": "#FFFFFF"
          },
          "showarrow": false,
          "text": "R=1.00<br>p=0",
          "x": "chatgpt_zh",
          "xref": "x",
          "y": "chatgpt_zh",
          "yref": "y"
         },
         {
          "font": {
           "color": "#FFFFFF"
          },
          "showarrow": false,
          "text": "R=0.96<br>p=4.13e-25",
          "x": "deepseek_zh",
          "xref": "x",
          "y": "chatgpt_zh",
          "yref": "y"
         },
         {
          "font": {
           "color": "#FFFFFF"
          },
          "showarrow": false,
          "text": "R=0.98<br>p=4e-29",
          "x": "gemini_zh",
          "xref": "x",
          "y": "chatgpt_zh",
          "yref": "y"
         },
         {
          "font": {
           "color": "#FFFFFF"
          },
          "showarrow": false,
          "text": "R=0.95<br>p=6.52e-23",
          "x": "mean_zh",
          "xref": "x",
          "y": "deepseek_zh",
          "yref": "y"
         },
         {
          "font": {
           "color": "#FFFFFF"
          },
          "showarrow": false,
          "text": "R=0.96<br>p=5e-25",
          "x": "lechat_zh",
          "xref": "x",
          "y": "deepseek_zh",
          "yref": "y"
         },
         {
          "font": {
           "color": "#FFFFFF"
          },
          "showarrow": false,
          "text": "R=0.97<br>p=3.19e-27",
          "x": "copilot_zh",
          "xref": "x",
          "y": "deepseek_zh",
          "yref": "y"
         },
         {
          "font": {
           "color": "#FFFFFF"
          },
          "showarrow": false,
          "text": "R=0.96<br>p=4.13e-25",
          "x": "chatgpt_zh",
          "xref": "x",
          "y": "deepseek_zh",
          "yref": "y"
         },
         {
          "font": {
           "color": "#FFFFFF"
          },
          "showarrow": false,
          "text": "R=1.00<br>p=0",
          "x": "deepseek_zh",
          "xref": "x",
          "y": "deepseek_zh",
          "yref": "y"
         },
         {
          "font": {
           "color": "#FFFFFF"
          },
          "showarrow": false,
          "text": "R=0.98<br>p=5.28e-31",
          "x": "gemini_zh",
          "xref": "x",
          "y": "deepseek_zh",
          "yref": "y"
         },
         {
          "font": {
           "color": "#FFFFFF"
          },
          "showarrow": false,
          "text": "R=0.95<br>p=4.91e-22",
          "x": "mean_zh",
          "xref": "x",
          "y": "gemini_zh",
          "yref": "y"
         },
         {
          "font": {
           "color": "#FFFFFF"
          },
          "showarrow": false,
          "text": "R=0.97<br>p=3.49e-26",
          "x": "lechat_zh",
          "xref": "x",
          "y": "gemini_zh",
          "yref": "y"
         },
         {
          "font": {
           "color": "#FFFFFF"
          },
          "showarrow": false,
          "text": "R=0.98<br>p=1.3e-29",
          "x": "copilot_zh",
          "xref": "x",
          "y": "gemini_zh",
          "yref": "y"
         },
         {
          "font": {
           "color": "#FFFFFF"
          },
          "showarrow": false,
          "text": "R=0.98<br>p=4e-29",
          "x": "chatgpt_zh",
          "xref": "x",
          "y": "gemini_zh",
          "yref": "y"
         },
         {
          "font": {
           "color": "#FFFFFF"
          },
          "showarrow": false,
          "text": "R=0.98<br>p=5.28e-31",
          "x": "deepseek_zh",
          "xref": "x",
          "y": "gemini_zh",
          "yref": "y"
         },
         {
          "font": {
           "color": "#FFFFFF"
          },
          "showarrow": false,
          "text": "R=1.00<br>p=0",
          "x": "gemini_zh",
          "xref": "x",
          "y": "gemini_zh",
          "yref": "y"
         }
        ],
        "font": {
         "color": "black",
         "family": "Times New Roman, serif",
         "size": 12
        },
        "height": 500,
        "margin": {
         "b": 0,
         "l": 0,
         "r": 0,
         "t": 40
        },
        "template": {
         "data": {
          "bar": [
           {
            "error_x": {
             "color": "#2a3f5f"
            },
            "error_y": {
             "color": "#2a3f5f"
            },
            "marker": {
             "line": {
              "color": "#E5ECF6",
              "width": 0.5
             },
             "pattern": {
              "fillmode": "overlay",
              "size": 10,
              "solidity": 0.2
             }
            },
            "type": "bar"
           }
          ],
          "barpolar": [
           {
            "marker": {
             "line": {
              "color": "#E5ECF6",
              "width": 0.5
             },
             "pattern": {
              "fillmode": "overlay",
              "size": 10,
              "solidity": 0.2
             }
            },
            "type": "barpolar"
           }
          ],
          "carpet": [
           {
            "aaxis": {
             "endlinecolor": "#2a3f5f",
             "gridcolor": "white",
             "linecolor": "white",
             "minorgridcolor": "white",
             "startlinecolor": "#2a3f5f"
            },
            "baxis": {
             "endlinecolor": "#2a3f5f",
             "gridcolor": "white",
             "linecolor": "white",
             "minorgridcolor": "white",
             "startlinecolor": "#2a3f5f"
            },
            "type": "carpet"
           }
          ],
          "choropleth": [
           {
            "colorbar": {
             "outlinewidth": 0,
             "ticks": ""
            },
            "type": "choropleth"
           }
          ],
          "contour": [
           {
            "colorbar": {
             "outlinewidth": 0,
             "ticks": ""
            },
            "colorscale": [
             [
              0,
              "#0d0887"
             ],
             [
              0.1111111111111111,
              "#46039f"
             ],
             [
              0.2222222222222222,
              "#7201a8"
             ],
             [
              0.3333333333333333,
              "#9c179e"
             ],
             [
              0.4444444444444444,
              "#bd3786"
             ],
             [
              0.5555555555555556,
              "#d8576b"
             ],
             [
              0.6666666666666666,
              "#ed7953"
             ],
             [
              0.7777777777777778,
              "#fb9f3a"
             ],
             [
              0.8888888888888888,
              "#fdca26"
             ],
             [
              1,
              "#f0f921"
             ]
            ],
            "type": "contour"
           }
          ],
          "contourcarpet": [
           {
            "colorbar": {
             "outlinewidth": 0,
             "ticks": ""
            },
            "type": "contourcarpet"
           }
          ],
          "heatmap": [
           {
            "colorbar": {
             "outlinewidth": 0,
             "ticks": ""
            },
            "colorscale": [
             [
              0,
              "#0d0887"
             ],
             [
              0.1111111111111111,
              "#46039f"
             ],
             [
              0.2222222222222222,
              "#7201a8"
             ],
             [
              0.3333333333333333,
              "#9c179e"
             ],
             [
              0.4444444444444444,
              "#bd3786"
             ],
             [
              0.5555555555555556,
              "#d8576b"
             ],
             [
              0.6666666666666666,
              "#ed7953"
             ],
             [
              0.7777777777777778,
              "#fb9f3a"
             ],
             [
              0.8888888888888888,
              "#fdca26"
             ],
             [
              1,
              "#f0f921"
             ]
            ],
            "type": "heatmap"
           }
          ],
          "histogram": [
           {
            "marker": {
             "pattern": {
              "fillmode": "overlay",
              "size": 10,
              "solidity": 0.2
             }
            },
            "type": "histogram"
           }
          ],
          "histogram2d": [
           {
            "colorbar": {
             "outlinewidth": 0,
             "ticks": ""
            },
            "colorscale": [
             [
              0,
              "#0d0887"
             ],
             [
              0.1111111111111111,
              "#46039f"
             ],
             [
              0.2222222222222222,
              "#7201a8"
             ],
             [
              0.3333333333333333,
              "#9c179e"
             ],
             [
              0.4444444444444444,
              "#bd3786"
             ],
             [
              0.5555555555555556,
              "#d8576b"
             ],
             [
              0.6666666666666666,
              "#ed7953"
             ],
             [
              0.7777777777777778,
              "#fb9f3a"
             ],
             [
              0.8888888888888888,
              "#fdca26"
             ],
             [
              1,
              "#f0f921"
             ]
            ],
            "type": "histogram2d"
           }
          ],
          "histogram2dcontour": [
           {
            "colorbar": {
             "outlinewidth": 0,
             "ticks": ""
            },
            "colorscale": [
             [
              0,
              "#0d0887"
             ],
             [
              0.1111111111111111,
              "#46039f"
             ],
             [
              0.2222222222222222,
              "#7201a8"
             ],
             [
              0.3333333333333333,
              "#9c179e"
             ],
             [
              0.4444444444444444,
              "#bd3786"
             ],
             [
              0.5555555555555556,
              "#d8576b"
             ],
             [
              0.6666666666666666,
              "#ed7953"
             ],
             [
              0.7777777777777778,
              "#fb9f3a"
             ],
             [
              0.8888888888888888,
              "#fdca26"
             ],
             [
              1,
              "#f0f921"
             ]
            ],
            "type": "histogram2dcontour"
           }
          ],
          "mesh3d": [
           {
            "colorbar": {
             "outlinewidth": 0,
             "ticks": ""
            },
            "type": "mesh3d"
           }
          ],
          "parcoords": [
           {
            "line": {
             "colorbar": {
              "outlinewidth": 0,
              "ticks": ""
             }
            },
            "type": "parcoords"
           }
          ],
          "pie": [
           {
            "automargin": true,
            "type": "pie"
           }
          ],
          "scatter": [
           {
            "fillpattern": {
             "fillmode": "overlay",
             "size": 10,
             "solidity": 0.2
            },
            "type": "scatter"
           }
          ],
          "scatter3d": [
           {
            "line": {
             "colorbar": {
              "outlinewidth": 0,
              "ticks": ""
             }
            },
            "marker": {
             "colorbar": {
              "outlinewidth": 0,
              "ticks": ""
             }
            },
            "type": "scatter3d"
           }
          ],
          "scattercarpet": [
           {
            "marker": {
             "colorbar": {
              "outlinewidth": 0,
              "ticks": ""
             }
            },
            "type": "scattercarpet"
           }
          ],
          "scattergeo": [
           {
            "marker": {
             "colorbar": {
              "outlinewidth": 0,
              "ticks": ""
             }
            },
            "type": "scattergeo"
           }
          ],
          "scattergl": [
           {
            "marker": {
             "colorbar": {
              "outlinewidth": 0,
              "ticks": ""
             }
            },
            "type": "scattergl"
           }
          ],
          "scattermap": [
           {
            "marker": {
             "colorbar": {
              "outlinewidth": 0,
              "ticks": ""
             }
            },
            "type": "scattermap"
           }
          ],
          "scattermapbox": [
           {
            "marker": {
             "colorbar": {
              "outlinewidth": 0,
              "ticks": ""
             }
            },
            "type": "scattermapbox"
           }
          ],
          "scatterpolar": [
           {
            "marker": {
             "colorbar": {
              "outlinewidth": 0,
              "ticks": ""
             }
            },
            "type": "scatterpolar"
           }
          ],
          "scatterpolargl": [
           {
            "marker": {
             "colorbar": {
              "outlinewidth": 0,
              "ticks": ""
             }
            },
            "type": "scatterpolargl"
           }
          ],
          "scatterternary": [
           {
            "marker": {
             "colorbar": {
              "outlinewidth": 0,
              "ticks": ""
             }
            },
            "type": "scatterternary"
           }
          ],
          "surface": [
           {
            "colorbar": {
             "outlinewidth": 0,
             "ticks": ""
            },
            "colorscale": [
             [
              0,
              "#0d0887"
             ],
             [
              0.1111111111111111,
              "#46039f"
             ],
             [
              0.2222222222222222,
              "#7201a8"
             ],
             [
              0.3333333333333333,
              "#9c179e"
             ],
             [
              0.4444444444444444,
              "#bd3786"
             ],
             [
              0.5555555555555556,
              "#d8576b"
             ],
             [
              0.6666666666666666,
              "#ed7953"
             ],
             [
              0.7777777777777778,
              "#fb9f3a"
             ],
             [
              0.8888888888888888,
              "#fdca26"
             ],
             [
              1,
              "#f0f921"
             ]
            ],
            "type": "surface"
           }
          ],
          "table": [
           {
            "cells": {
             "fill": {
              "color": "#EBF0F8"
             },
             "line": {
              "color": "white"
             }
            },
            "header": {
             "fill": {
              "color": "#C8D4E3"
             },
             "line": {
              "color": "white"
             }
            },
            "type": "table"
           }
          ]
         },
         "layout": {
          "annotationdefaults": {
           "arrowcolor": "#2a3f5f",
           "arrowhead": 0,
           "arrowwidth": 1
          },
          "autotypenumbers": "strict",
          "coloraxis": {
           "colorbar": {
            "outlinewidth": 0,
            "ticks": ""
           }
          },
          "colorscale": {
           "diverging": [
            [
             0,
             "#8e0152"
            ],
            [
             0.1,
             "#c51b7d"
            ],
            [
             0.2,
             "#de77ae"
            ],
            [
             0.3,
             "#f1b6da"
            ],
            [
             0.4,
             "#fde0ef"
            ],
            [
             0.5,
             "#f7f7f7"
            ],
            [
             0.6,
             "#e6f5d0"
            ],
            [
             0.7,
             "#b8e186"
            ],
            [
             0.8,
             "#7fbc41"
            ],
            [
             0.9,
             "#4d9221"
            ],
            [
             1,
             "#276419"
            ]
           ],
           "sequential": [
            [
             0,
             "#0d0887"
            ],
            [
             0.1111111111111111,
             "#46039f"
            ],
            [
             0.2222222222222222,
             "#7201a8"
            ],
            [
             0.3333333333333333,
             "#9c179e"
            ],
            [
             0.4444444444444444,
             "#bd3786"
            ],
            [
             0.5555555555555556,
             "#d8576b"
            ],
            [
             0.6666666666666666,
             "#ed7953"
            ],
            [
             0.7777777777777778,
             "#fb9f3a"
            ],
            [
             0.8888888888888888,
             "#fdca26"
            ],
            [
             1,
             "#f0f921"
            ]
           ],
           "sequentialminus": [
            [
             0,
             "#0d0887"
            ],
            [
             0.1111111111111111,
             "#46039f"
            ],
            [
             0.2222222222222222,
             "#7201a8"
            ],
            [
             0.3333333333333333,
             "#9c179e"
            ],
            [
             0.4444444444444444,
             "#bd3786"
            ],
            [
             0.5555555555555556,
             "#d8576b"
            ],
            [
             0.6666666666666666,
             "#ed7953"
            ],
            [
             0.7777777777777778,
             "#fb9f3a"
            ],
            [
             0.8888888888888888,
             "#fdca26"
            ],
            [
             1,
             "#f0f921"
            ]
           ]
          },
          "colorway": [
           "#636efa",
           "#EF553B",
           "#00cc96",
           "#ab63fa",
           "#FFA15A",
           "#19d3f3",
           "#FF6692",
           "#B6E880",
           "#FF97FF",
           "#FECB52"
          ],
          "font": {
           "color": "#2a3f5f"
          },
          "geo": {
           "bgcolor": "white",
           "lakecolor": "white",
           "landcolor": "#E5ECF6",
           "showlakes": true,
           "showland": true,
           "subunitcolor": "white"
          },
          "hoverlabel": {
           "align": "left"
          },
          "hovermode": "closest",
          "mapbox": {
           "style": "light"
          },
          "paper_bgcolor": "white",
          "plot_bgcolor": "#E5ECF6",
          "polar": {
           "angularaxis": {
            "gridcolor": "white",
            "linecolor": "white",
            "ticks": ""
           },
           "bgcolor": "#E5ECF6",
           "radialaxis": {
            "gridcolor": "white",
            "linecolor": "white",
            "ticks": ""
           }
          },
          "scene": {
           "xaxis": {
            "backgroundcolor": "#E5ECF6",
            "gridcolor": "white",
            "gridwidth": 2,
            "linecolor": "white",
            "showbackground": true,
            "ticks": "",
            "zerolinecolor": "white"
           },
           "yaxis": {
            "backgroundcolor": "#E5ECF6",
            "gridcolor": "white",
            "gridwidth": 2,
            "linecolor": "white",
            "showbackground": true,
            "ticks": "",
            "zerolinecolor": "white"
           },
           "zaxis": {
            "backgroundcolor": "#E5ECF6",
            "gridcolor": "white",
            "gridwidth": 2,
            "linecolor": "white",
            "showbackground": true,
            "ticks": "",
            "zerolinecolor": "white"
           }
          },
          "shapedefaults": {
           "line": {
            "color": "#2a3f5f"
           }
          },
          "ternary": {
           "aaxis": {
            "gridcolor": "white",
            "linecolor": "white",
            "ticks": ""
           },
           "baxis": {
            "gridcolor": "white",
            "linecolor": "white",
            "ticks": ""
           },
           "bgcolor": "#E5ECF6",
           "caxis": {
            "gridcolor": "white",
            "linecolor": "white",
            "ticks": ""
           }
          },
          "title": {
           "x": 0.05
          },
          "xaxis": {
           "automargin": true,
           "gridcolor": "white",
           "linecolor": "white",
           "ticks": "",
           "title": {
            "standoff": 15
           },
           "zerolinecolor": "white",
           "zerolinewidth": 2
          },
          "yaxis": {
           "automargin": true,
           "gridcolor": "white",
           "linecolor": "white",
           "ticks": "",
           "title": {
            "standoff": 15
           },
           "zerolinecolor": "white",
           "zerolinewidth": 2
          }
         }
        },
        "title": {
         "text": "Correlation Matrix: Human vs AI Model Ratings"
        },
        "width": 600,
        "xaxis": {
         "dtick": 1,
         "gridcolor": "rgb(0, 0, 0)",
         "side": "top",
         "ticks": ""
        },
        "yaxis": {
         "dtick": 1,
         "ticks": "",
         "ticksuffix": "  "
        }
       }
      }
     },
     "metadata": {},
     "output_type": "display_data"
    },
    {
     "name": "stdout",
     "output_type": "stream",
     "text": [
      "Correlation Results:\n"
     ]
    },
    {
     "data": {
      "text/html": [
       "<div>\n",
       "<style scoped>\n",
       "    .dataframe tbody tr th:only-of-type {\n",
       "        vertical-align: middle;\n",
       "    }\n",
       "\n",
       "    .dataframe tbody tr th {\n",
       "        vertical-align: top;\n",
       "    }\n",
       "\n",
       "    .dataframe thead th {\n",
       "        text-align: right;\n",
       "    }\n",
       "</style>\n",
       "<table border=\"1\" class=\"dataframe\">\n",
       "  <thead>\n",
       "    <tr style=\"text-align: right;\">\n",
       "      <th></th>\n",
       "      <th>AI Model</th>\n",
       "      <th>R</th>\n",
       "      <th>p_value</th>\n",
       "    </tr>\n",
       "  </thead>\n",
       "  <tbody>\n",
       "    <tr>\n",
       "      <th>3</th>\n",
       "      <td>deepseek_zh</td>\n",
       "      <td>0.950357</td>\n",
       "      <td>&lt; 0.01</td>\n",
       "    </tr>\n",
       "    <tr>\n",
       "      <th>4</th>\n",
       "      <td>gemini_zh</td>\n",
       "      <td>0.945216</td>\n",
       "      <td>&lt; 0.01</td>\n",
       "    </tr>\n",
       "    <tr>\n",
       "      <th>0</th>\n",
       "      <td>lechat_zh</td>\n",
       "      <td>0.931272</td>\n",
       "      <td>&lt; 0.01</td>\n",
       "    </tr>\n",
       "    <tr>\n",
       "      <th>2</th>\n",
       "      <td>chatgpt_zh</td>\n",
       "      <td>0.923491</td>\n",
       "      <td>&lt; 0.01</td>\n",
       "    </tr>\n",
       "    <tr>\n",
       "      <th>1</th>\n",
       "      <td>copilot_zh</td>\n",
       "      <td>0.915646</td>\n",
       "      <td>&lt; 0.01</td>\n",
       "    </tr>\n",
       "  </tbody>\n",
       "</table>\n",
       "</div>"
      ],
      "text/plain": [
       "      AI Model         R p_value\n",
       "3  deepseek_zh  0.950357  < 0.01\n",
       "4    gemini_zh  0.945216  < 0.01\n",
       "0    lechat_zh  0.931272  < 0.01\n",
       "2   chatgpt_zh  0.923491  < 0.01\n",
       "1   copilot_zh  0.915646  < 0.01"
      ]
     },
     "execution_count": 258,
     "metadata": {},
     "output_type": "execute_result"
    }
   ],
   "source": [
    "# Calculate the absolute difference between human mean ratings and each AI model's mean ratings\n",
    "ai_columns = ['lechat_zh', 'copilot_zh', 'chatgpt_zh', 'deepseek_zh', 'gemini_zh']\n",
    "diffs = {}\n",
    "\n",
    "# Calculate the absolute differences\n",
    "for col in ai_columns:\n",
    "    diffs[col] = (df_zh['mean_zh'] - df_zh[col]).abs()\n",
    "\n",
    "# Create a DataFrame to summarize the mean absolute differences for each model\n",
    "mean_diffs = {col: diffs[col].mean() for col in ai_columns}\n",
    "mean_diffs_df = pd.DataFrame.from_dict(mean_diffs, orient='index', columns=['mean_absolute_difference'])\n",
    "mean_diffs_df = mean_diffs_df.sort_values('mean_absolute_difference')\n",
    "\n",
    "print(\"Mean absolute difference between human and AI model ratings (lower is closer):\")\n",
    "print(mean_diffs_df)\n",
    "\n",
    "# Find the AI model with the smallest mean absolute difference\n",
    "closest_model = mean_diffs_df.index[0]\n",
    "print(f\"\\nThe AI model whose mean ratings are closest to human ratings is: {closest_model}\")\n",
    "\n",
    "\n",
    "\n",
    "# Plot\n",
    "import plotly.figure_factory as ff\n",
    "from scipy.stats import pearsonr\n",
    "\n",
    "# Prepare correlation and p-value matrices as before\n",
    "corr_cols = ['mean_zh', 'lechat_zh', 'copilot_zh', 'chatgpt_zh', 'deepseek_zh', 'gemini_zh']\n",
    "df_corr = df_zh_plot[corr_cols].dropna()\n",
    "corr_matrix = df_corr.corr(method='pearson')\n",
    "\n",
    "# Compute p-value matrix\n",
    "pval_matrix = pd.DataFrame(np.ones_like(corr_matrix), columns=corr_matrix.columns, index=corr_matrix.index)\n",
    "for i in corr_matrix.columns:\n",
    "    for j in corr_matrix.columns:\n",
    "        if i == j:\n",
    "            pval_matrix.loc[i, j] = 0.0\n",
    "        else:\n",
    "            r, p = pearsonr(df_corr[i], df_corr[j])\n",
    "            pval_matrix.loc[i, j] = p\n",
    "\n",
    "# Annotate with R and p\n",
    "z_text = [[f\"R={corr_matrix.iloc[i, j]:.2f}<br>p={pval_matrix.iloc[i, j]:.3g}\" \n",
    "           for j in range(len(corr_matrix))] for i in range(len(corr_matrix))]\n",
    "\n",
    "fig = ff.create_annotated_heatmap(\n",
    "    z=corr_matrix.values,\n",
    "    x=list(corr_matrix.columns),\n",
    "    y=list(corr_matrix.index),\n",
    "    annotation_text=z_text,\n",
    "    colorscale=chinese_color_scale,\n",
    "    zmin=-1, zmax=1,\n",
    "    showscale=True,\n",
    "    colorbar=dict(title='Pearson R')\n",
    ")\n",
    "\n",
    "fig.update_layout(\n",
    "    title='Correlation Matrix: Human vs AI Model Ratings',\n",
    "    font=dict(family=\"Times New Roman, serif\", size=12, color='black'),\n",
    "    width=600, height=500,\n",
    "    margin=dict(l=0, r=0, t=40, b=0)\n",
    ")\n",
    "fig.show()\n",
    "\n",
    "\n",
    "\n",
    "# Table\n",
    "# Prepare a DataFrame with R and p for each AI model vs mean_zh\n",
    "correlation_results = pd.DataFrame({\n",
    "    'AI Model': ai_columns,\n",
    "    'R': [corr_matrix.loc['mean_zh', model] for model in ai_columns],\n",
    "    'p_value': [pval_matrix.loc['mean_zh', model] for model in ai_columns]\n",
    "})\n",
    "\n",
    "# If P value is lower than 0.01, show < 0.01\n",
    "correlation_results['p_value'] = correlation_results['p_value'].apply(lambda x: '< 0.01' if x < 0.01 else x)\n",
    "\n",
    "# Sort it by R\n",
    "correlation_results = correlation_results.sort_values(by='R', ascending=False)\n",
    "\n",
    "print(\"Correlation Results:\")\n",
    "correlation_results"
   ]
  },
  {
   "cell_type": "markdown",
   "id": "f7532770",
   "metadata": {},
   "source": [
    "## Cross-linguistic Comparison"
   ]
  },
  {
   "cell_type": "markdown",
   "id": "be87101a",
   "metadata": {},
   "source": [
    "### Check comparability"
   ]
  },
  {
   "cell_type": "code",
   "execution_count": 259,
   "id": "f00c1870",
   "metadata": {},
   "outputs": [
    {
     "name": "stdout",
     "output_type": "stream",
     "text": [
      "Items only in Hungarian data (3): ['PR specialist', 'nurse (sister)', 'server']\n",
      "\n",
      "Items only in Chinese data (3): ['flight attendant (2)', 'kindergarten teacher', 'nanny']\n",
      "\n",
      "Items in both (41): ['CEO', 'HR personnel', 'accountant', 'architect', 'beautician', 'caregiver', 'cashier', 'chef', 'cleaner', 'dietitian', 'director', 'doctor', 'engineer', 'farmer', 'firefighter', 'flight attendant', 'gardener', 'hairdresser', 'housekeeper', 'judge', 'lifeguard', 'manager', 'model', 'nurse', 'pathologist', 'pilot', 'police officer', 'professor', 'programmer', 'prosecutor', 'receptionist', 'scientist', 'secretary', 'security guard', 'shop assistant', 'soldier', 'student', 'teacher', 'ticket seller', 'waiter', 'worker']\n"
     ]
    }
   ],
   "source": [
    "# Get the set of English occupation names from both dataframes\n",
    "en_hu = set(df_hu['en'].dropna()) if 'en' in df_hu.columns else set()\n",
    "en_zh = set(df_zh['en'].dropna()) if 'en' in df_zh.columns else set()\n",
    "\n",
    "# Items only in Hungarian data\n",
    "only_in_hu = en_hu - en_zh\n",
    "# Items only in Chinese data\n",
    "only_in_zh = en_zh - en_hu\n",
    "# Items in both\n",
    "in_both = en_hu & en_zh\n",
    "\n",
    "print(f\"Items only in Hungarian data ({len(only_in_hu)}): {sorted(only_in_hu)}\\n\")\n",
    "print(f\"Items only in Chinese data ({len(only_in_zh)}): {sorted(only_in_zh)}\\n\")\n",
    "print(f\"Items in both ({len(in_both)}): {sorted(in_both)}\")"
   ]
  },
  {
   "cell_type": "markdown",
   "id": "68a77a74",
   "metadata": {},
   "source": [
    "### Unified dataframe"
   ]
  },
  {
   "cell_type": "code",
   "execution_count": 260,
   "id": "d63fbe90",
   "metadata": {},
   "outputs": [
    {
     "name": "stdout",
     "output_type": "stream",
     "text": [
      "Number of unique occupations in unified DataFrame: 47\n"
     ]
    },
    {
     "data": {
      "text/html": [
       "<div>\n",
       "<style scoped>\n",
       "    .dataframe tbody tr th:only-of-type {\n",
       "        vertical-align: middle;\n",
       "    }\n",
       "\n",
       "    .dataframe tbody tr th {\n",
       "        vertical-align: top;\n",
       "    }\n",
       "\n",
       "    .dataframe thead th {\n",
       "        text-align: right;\n",
       "    }\n",
       "</style>\n",
       "<table border=\"1\" class=\"dataframe\">\n",
       "  <thead>\n",
       "    <tr style=\"text-align: right;\">\n",
       "      <th></th>\n",
       "      <th>en</th>\n",
       "      <th>hu</th>\n",
       "      <th>mean_hu</th>\n",
       "      <th>zh</th>\n",
       "      <th>mean_zh</th>\n",
       "      <th>both_significant</th>\n",
       "      <th>mean_difference</th>\n",
       "    </tr>\n",
       "  </thead>\n",
       "  <tbody>\n",
       "    <tr>\n",
       "      <th>19</th>\n",
       "      <td>hairdresser</td>\n",
       "      <td>fodrász</td>\n",
       "      <td>1.000000</td>\n",
       "      <td>理发师</td>\n",
       "      <td>-0.750000</td>\n",
       "      <td>True</td>\n",
       "      <td>1.750000</td>\n",
       "    </tr>\n",
       "    <tr>\n",
       "      <th>20</th>\n",
       "      <td>housekeeper</td>\n",
       "      <td>házvezető</td>\n",
       "      <td>1.772727</td>\n",
       "      <td>家政员</td>\n",
       "      <td>0.500000</td>\n",
       "      <td>True</td>\n",
       "      <td>1.272727</td>\n",
       "    </tr>\n",
       "    <tr>\n",
       "      <th>16</th>\n",
       "      <td>flight attendant</td>\n",
       "      <td>légiutas-kísérő</td>\n",
       "      <td>1.454545</td>\n",
       "      <td>乘务员</td>\n",
       "      <td>0.458333</td>\n",
       "      <td>True</td>\n",
       "      <td>0.996212</td>\n",
       "    </tr>\n",
       "    <tr>\n",
       "      <th>5</th>\n",
       "      <td>beautician</td>\n",
       "      <td>kozmetikus</td>\n",
       "      <td>2.272727</td>\n",
       "      <td>美容师</td>\n",
       "      <td>1.458333</td>\n",
       "      <td>True</td>\n",
       "      <td>0.814394</td>\n",
       "    </tr>\n",
       "    <tr>\n",
       "      <th>25</th>\n",
       "      <td>model</td>\n",
       "      <td>modell</td>\n",
       "      <td>1.045455</td>\n",
       "      <td>模特</td>\n",
       "      <td>0.333333</td>\n",
       "      <td>True</td>\n",
       "      <td>0.712121</td>\n",
       "    </tr>\n",
       "  </tbody>\n",
       "</table>\n",
       "</div>"
      ],
      "text/plain": [
       "                  en               hu   mean_hu   zh   mean_zh  \\\n",
       "19       hairdresser          fodrász  1.000000  理发师 -0.750000   \n",
       "20       housekeeper        házvezető  1.772727  家政员  0.500000   \n",
       "16  flight attendant  légiutas-kísérő  1.454545  乘务员  0.458333   \n",
       "5         beautician       kozmetikus  2.272727  美容师  1.458333   \n",
       "25             model           modell  1.045455   模特  0.333333   \n",
       "\n",
       "    both_significant  mean_difference  \n",
       "19              True         1.750000  \n",
       "20              True         1.272727  \n",
       "16              True         0.996212  \n",
       "5               True         0.814394  \n",
       "25              True         0.712121  "
      ]
     },
     "execution_count": 260,
     "metadata": {},
     "output_type": "execute_result"
    }
   ],
   "source": [
    "# Create a unified DataFrame with all unique occupation words (by English name)\n",
    "all_en = sorted(en_hu | en_zh)\n",
    "\n",
    "# Merge Hungarian and Chinese data on 'en' (English occupation name)\n",
    "df_hu_part = df_hu[['en', 'hu', 'mean_hu', 'significant_hu']].copy()\n",
    "df_zh_part = df_zh[['en', 'zh', 'mean_zh', 'significant_zh']].copy()\n",
    "\n",
    "# Outer merge to include all occupations from both datasets\n",
    "df_unified = pd.DataFrame({'en': all_en})\n",
    "df_unified = df_unified.merge(df_hu_part, on='en', how='left')\n",
    "df_unified = df_unified.merge(df_zh_part, on='en', how='left')\n",
    "\n",
    "# Mark in a new column if both are significant\n",
    "df_unified['both_significant'] = df_unified.apply(\n",
    "    lambda row: row['significant_hu'] and row['significant_zh'] if pd.notna(row['significant_hu']) and pd.notna(row['significant_zh']) else False, axis=1)\n",
    "\n",
    "# Drop significant_hu and significant_zh columns\n",
    "df_unified.drop(columns=['significant_hu', 'significant_zh'], inplace=True)\n",
    "\n",
    "# Add new column that shows the difference between mean_hu and mean_zh\n",
    "df_unified['mean_difference'] = df_unified.apply(\n",
    "    lambda row: row['mean_hu'] - row['mean_zh'] if pd.notna(row['mean_hu']) and pd.notna(row['mean_zh']) else None, axis=1)\n",
    "\n",
    "# Sort by this\n",
    "df_unified = df_unified.sort_values(by='mean_difference', ascending=False)\n",
    "\n",
    "# Count and print the number of unique occupations in the unified DataFrame\n",
    "num_unique_occupations = df_unified['en'].nunique()\n",
    "print(f'Number of unique occupations in unified DataFrame: {num_unique_occupations}')\n",
    "\n",
    "# Export this as an Excel file\n",
    "# df_unified.to_excel('occupations_unified.xlsx', index=False)\n",
    "\n",
    "# Show the unified DataFrame\n",
    "df_unified.head()"
   ]
  },
  {
   "cell_type": "markdown",
   "id": "04345cf9",
   "metadata": {},
   "source": [
    "### Plot comparison"
   ]
  },
  {
   "cell_type": "code",
   "execution_count": 261,
   "id": "481968fd",
   "metadata": {},
   "outputs": [],
   "source": [
    "\n",
    "# # Prepare comparison DataFrame for occupations present in both datasets\n",
    "# df_compare = df_hu[df_hu['en'].isin(in_both)][['en', 'mean_hu', 'hu']].merge(\n",
    "#     df_zh[df_zh['en'].isin(in_both)][['en', 'mean_zh', 'zh']], on='en', suffixes=('_hu', '_zh')\n",
    "# )\n",
    "\n",
    "# # Sort by the average of the two means for better visualization\n",
    "# df_compare['mean_avg'] = (df_compare['mean_hu'] + df_compare['mean_zh']) / 2\n",
    "# df_compare = df_compare.sort_values('mean_avg', ascending=False)\n",
    "\n",
    "# # Create bar plot\n",
    "# fig = go.Figure()\n",
    "\n",
    "# fig.add_trace(go.Bar(\n",
    "#     x=df_compare['en'],\n",
    "#     y=df_compare['mean_hu'],\n",
    "#     name='Hungarian',\n",
    "#     marker_color = hungarian_color,\n",
    "#     hovertemplate='Hungarian: %{customdata[0]}<br>Mean: %{y:.2f}',\n",
    "#     customdata=df_compare[['hu']]\n",
    "# ))\n",
    "\n",
    "# fig.add_trace(go.Bar(\n",
    "#     x=df_compare['en'],\n",
    "#     y=df_compare['mean_zh'],\n",
    "#     name='Chinese',\n",
    "#     marker_color = chinese_color,\n",
    "#     hovertemplate='Chinese: %{customdata[0]}<br>Mean: %{y:.2f}',\n",
    "#     customdata=df_compare[['zh']]\n",
    "# ))\n",
    "\n",
    "# fig.update_layout(\n",
    "#     barmode='group',\n",
    "#     # title='Comparison of Occupational Gender Bias Ratings by Language (Hungarian vs. Chinese)',\n",
    "#     template='plotly_white',\n",
    "#     margin=dict(l=0, r=0, t=20, b=0),\n",
    "#     font = dict(family=\"Times New Roman, serif\", size=16, color='black'),\n",
    "#     xaxis_title='',\n",
    "#     xaxis_tickangle=-45,\n",
    "#     yaxis_title='Mean Rating',\n",
    "#     yaxis=dict(\n",
    "#         range=[-3.1, 3.1],\n",
    "#         tickvals=[-3, -2, -1, 0, 1, 2, 3],\n",
    "#         title='Mean Rating (Bias)',\n",
    "#         ),\n",
    "#     legend=dict(\n",
    "#         orientation='h',\n",
    "#         yanchor='bottom',\n",
    "#         y=0,\n",
    "#         xanchor='center',\n",
    "#         x=0.5,\n",
    "#         bgcolor='rgba(220, 220, 220, 0.25)',\n",
    "#         ),\n",
    "#     )\n",
    "\n",
    "# # Show the plot\n",
    "# fig.show()\n",
    "\n",
    "# # Save as html\n",
    "# fig.write_html('occupations_comparison.html')\n",
    "\n",
    "# # Save as image\n",
    "# fig.write_image('occupations_comparison.png', scale=3, width=1000, height=400)"
   ]
  },
  {
   "cell_type": "markdown",
   "id": "7be5811b",
   "metadata": {},
   "source": [
    "### Test significance of the differences"
   ]
  },
  {
   "cell_type": "code",
   "execution_count": 262,
   "id": "ec17b5d5",
   "metadata": {},
   "outputs": [
    {
     "data": {
      "text/html": [
       "<div>\n",
       "<style scoped>\n",
       "    .dataframe tbody tr th:only-of-type {\n",
       "        vertical-align: middle;\n",
       "    }\n",
       "\n",
       "    .dataframe tbody tr th {\n",
       "        vertical-align: top;\n",
       "    }\n",
       "\n",
       "    .dataframe thead th {\n",
       "        text-align: right;\n",
       "    }\n",
       "</style>\n",
       "<table border=\"1\" class=\"dataframe\">\n",
       "  <thead>\n",
       "    <tr style=\"text-align: right;\">\n",
       "      <th></th>\n",
       "      <th>zh</th>\n",
       "      <th>en</th>\n",
       "      <th>hu</th>\n",
       "      <th>0</th>\n",
       "      <th>1</th>\n",
       "      <th>2</th>\n",
       "      <th>3</th>\n",
       "      <th>4</th>\n",
       "      <th>5</th>\n",
       "      <th>6</th>\n",
       "      <th>...</th>\n",
       "      <th>copilot_hu_std</th>\n",
       "      <th>chatgpt_hu_std</th>\n",
       "      <th>deepseek_hu_std</th>\n",
       "      <th>gemini_hu_std</th>\n",
       "      <th>lechat_zh</th>\n",
       "      <th>lechat_zh_std</th>\n",
       "      <th>copilot_zh_std</th>\n",
       "      <th>chatgpt_zh_std</th>\n",
       "      <th>deepseek_zh_std</th>\n",
       "      <th>gemini_zh_std</th>\n",
       "    </tr>\n",
       "  </thead>\n",
       "  <tbody>\n",
       "    <tr>\n",
       "      <th>14</th>\n",
       "      <td>保姆</td>\n",
       "      <td>nanny</td>\n",
       "      <td>dadus</td>\n",
       "      <td>1</td>\n",
       "      <td>1</td>\n",
       "      <td>2</td>\n",
       "      <td>2</td>\n",
       "      <td>2</td>\n",
       "      <td>1</td>\n",
       "      <td>2</td>\n",
       "      <td>...</td>\n",
       "      <td>0.330259</td>\n",
       "      <td>0.067495</td>\n",
       "      <td>0.172321</td>\n",
       "      <td>0.071461</td>\n",
       "      <td>2.625</td>\n",
       "      <td>0.212459</td>\n",
       "      <td>0.207900</td>\n",
       "      <td>0.043780</td>\n",
       "      <td>0.347051</td>\n",
       "      <td>0.409900</td>\n",
       "    </tr>\n",
       "    <tr>\n",
       "      <th>6</th>\n",
       "      <td>护士</td>\n",
       "      <td>nurse</td>\n",
       "      <td>ápoló</td>\n",
       "      <td>1</td>\n",
       "      <td>2</td>\n",
       "      <td>2</td>\n",
       "      <td>2</td>\n",
       "      <td>2</td>\n",
       "      <td>1</td>\n",
       "      <td>1</td>\n",
       "      <td>...</td>\n",
       "      <td>1.977030</td>\n",
       "      <td>0.280129</td>\n",
       "      <td>0.674640</td>\n",
       "      <td>1.540166</td>\n",
       "      <td>2.200</td>\n",
       "      <td>0.258199</td>\n",
       "      <td>0.198886</td>\n",
       "      <td>0.048305</td>\n",
       "      <td>0.218327</td>\n",
       "      <td>0.420190</td>\n",
       "    </tr>\n",
       "    <tr>\n",
       "      <th>11</th>\n",
       "      <td>幼师</td>\n",
       "      <td>kindergarten teacher</td>\n",
       "      <td>óvodapedagógus</td>\n",
       "      <td>1</td>\n",
       "      <td>2</td>\n",
       "      <td>2</td>\n",
       "      <td>2</td>\n",
       "      <td>2</td>\n",
       "      <td>2</td>\n",
       "      <td>2</td>\n",
       "      <td>...</td>\n",
       "      <td>0.156351</td>\n",
       "      <td>0.162959</td>\n",
       "      <td>0.206088</td>\n",
       "      <td>0.314784</td>\n",
       "      <td>2.555</td>\n",
       "      <td>0.262943</td>\n",
       "      <td>0.202485</td>\n",
       "      <td>0.100554</td>\n",
       "      <td>0.290784</td>\n",
       "      <td>0.405380</td>\n",
       "    </tr>\n",
       "    <tr>\n",
       "      <th>20</th>\n",
       "      <td>美容师</td>\n",
       "      <td>beautician</td>\n",
       "      <td>kozmetikus</td>\n",
       "      <td>2</td>\n",
       "      <td>2</td>\n",
       "      <td>2</td>\n",
       "      <td>0</td>\n",
       "      <td>1</td>\n",
       "      <td>1</td>\n",
       "      <td>2</td>\n",
       "      <td>...</td>\n",
       "      <td>0.242398</td>\n",
       "      <td>0.021082</td>\n",
       "      <td>0.157762</td>\n",
       "      <td>0.180558</td>\n",
       "      <td>2.605</td>\n",
       "      <td>0.180201</td>\n",
       "      <td>0.395109</td>\n",
       "      <td>0.054006</td>\n",
       "      <td>0.241523</td>\n",
       "      <td>0.433447</td>\n",
       "    </tr>\n",
       "    <tr>\n",
       "      <th>9</th>\n",
       "      <td>前台</td>\n",
       "      <td>receptionist</td>\n",
       "      <td>recepciós</td>\n",
       "      <td>0</td>\n",
       "      <td>0</td>\n",
       "      <td>2</td>\n",
       "      <td>1</td>\n",
       "      <td>2</td>\n",
       "      <td>1</td>\n",
       "      <td>3</td>\n",
       "      <td>...</td>\n",
       "      <td>0.240298</td>\n",
       "      <td>0.137840</td>\n",
       "      <td>0.139543</td>\n",
       "      <td>0.579549</td>\n",
       "      <td>1.700</td>\n",
       "      <td>0.483046</td>\n",
       "      <td>0.221359</td>\n",
       "      <td>0.157762</td>\n",
       "      <td>0.158114</td>\n",
       "      <td>0.242581</td>\n",
       "    </tr>\n",
       "  </tbody>\n",
       "</table>\n",
       "<p>5 rows × 40 columns</p>\n",
       "</div>"
      ],
      "text/plain": [
       "     zh                    en              hu  0  1  2  3  4  5  6  ...  \\\n",
       "14   保姆                 nanny           dadus  1  1  2  2  2  1  2  ...   \n",
       "6    护士                 nurse           ápoló  1  2  2  2  2  1  1  ...   \n",
       "11   幼师  kindergarten teacher  óvodapedagógus  1  2  2  2  2  2  2  ...   \n",
       "20  美容师            beautician      kozmetikus  2  2  2  0  1  1  2  ...   \n",
       "9    前台          receptionist       recepciós  0  0  2  1  2  1  3  ...   \n",
       "\n",
       "   copilot_hu_std chatgpt_hu_std deepseek_hu_std gemini_hu_std lechat_zh  \\\n",
       "14       0.330259       0.067495        0.172321      0.071461     2.625   \n",
       "6        1.977030       0.280129        0.674640      1.540166     2.200   \n",
       "11       0.156351       0.162959        0.206088      0.314784     2.555   \n",
       "20       0.242398       0.021082        0.157762      0.180558     2.605   \n",
       "9        0.240298       0.137840        0.139543      0.579549     1.700   \n",
       "\n",
       "   lechat_zh_std copilot_zh_std chatgpt_zh_std deepseek_zh_std gemini_zh_std  \n",
       "14      0.212459       0.207900       0.043780        0.347051      0.409900  \n",
       "6       0.258199       0.198886       0.048305        0.218327      0.420190  \n",
       "11      0.262943       0.202485       0.100554        0.290784      0.405380  \n",
       "20      0.180201       0.395109       0.054006        0.241523      0.433447  \n",
       "9       0.483046       0.221359       0.157762        0.158114      0.242581  \n",
       "\n",
       "[5 rows x 40 columns]"
      ]
     },
     "execution_count": 262,
     "metadata": {},
     "output_type": "execute_result"
    }
   ],
   "source": [
    "# Delete the last 7 clumns from df_hu and df_zh\n",
    "columns_to_drop_hu = ['chatgpt_hu', 'copilot_hu', 'gemini_hu', 'deepseek_hu', 'chatgpt_zh', 'copilot_zh', 'gemini_zh', 'deepseek_zh', 'mean_hu', 'p_value_hu', 'std_hu', 'significant_hu']\n",
    "columns_to_drop_zh = ['chatgpt_hu', 'copilot_hu', 'gemini_hu', 'deepseek_hu', 'chatgpt_zh', 'copilot_zh', 'gemini_zh', 'deepseek_zh', 'mean_zh', 'p_value_zh', 'std_zh', 'significant_zh']\n",
    "df_hu_ratings = df_hu.drop(columns=columns_to_drop_hu)\n",
    "df_zh_ratings = df_zh.drop(columns=columns_to_drop_zh)\n",
    "\n",
    "# Drop rows of Gender, Age, and Mean Rating from df_hu_ratings and df_zh_ratings\n",
    "df_hu_ratings = df_hu_ratings[~df_hu_ratings['hu'].isin(['Gender', 'Age', 'Mean Rating'])]\n",
    "df_zh_ratings = df_zh_ratings[~df_zh_ratings['zh'].isin(['Gender', 'Age', 'Mean Rating'])]\n",
    "\n",
    "df_hu_ratings.head()\n",
    "df_zh_ratings.head()"
   ]
  },
  {
   "cell_type": "code",
   "execution_count": 263,
   "id": "94d978f4",
   "metadata": {},
   "outputs": [
    {
     "name": "stdout",
     "output_type": "stream",
     "text": [
      "Number of common English occupations: 41\n"
     ]
    }
   ],
   "source": [
    "common_en = sorted(\n",
    "    set(df_hu['en'].dropna())\n",
    "    .intersection(df_zh['en'].dropna())\n",
    ")\n",
    "common_en\n",
    "\n",
    "# Print length of common_en\n",
    "print(f\"Number of common English occupations: {len(common_en)}\")"
   ]
  },
  {
   "cell_type": "code",
   "execution_count": 264,
   "id": "24b5620d",
   "metadata": {},
   "outputs": [
    {
     "name": "stdout",
     "output_type": "stream",
     "text": [
      "Processing CEO: hu mean=0.26, zh mean=0.44, diff=-0.18, t_stat=-0.11, p_value=0.9097\n",
      "Processing HR personnel: hu mean=2.00, zh mean=1.71, diff=0.30, t_stat=0.18, p_value=0.8593\n",
      "Processing accountant: hu mean=0.84, zh mean=0.82, diff=0.02, t_stat=0.03, p_value=0.9735\n",
      "Processing architect: hu mean=0.71, zh mean=0.92, diff=-0.20, t_stat=-0.10, p_value=0.9188\n",
      "Processing beautician: hu mean=2.21, zh mean=1.69, diff=0.53, t_stat=0.69, p_value=0.4955\n",
      "Processing caregiver: hu mean=1.19, zh mean=0.94, diff=0.25, t_stat=0.52, p_value=0.6015\n",
      "Processing cashier: hu mean=1.69, zh mean=1.54, diff=0.15, t_stat=0.13, p_value=0.9006\n",
      "Processing chef: hu mean=0.28, zh mean=0.10, diff=0.18, t_stat=0.16, p_value=0.8726\n",
      "Processing cleaner: hu mean=1.43, zh mean=1.13, diff=0.29, t_stat=0.44, p_value=0.6615\n",
      "Processing dietitian: hu mean=1.42, zh mean=1.07, diff=0.35, t_stat=0.32, p_value=0.7513\n",
      "Processing director: hu mean=0.52, zh mean=0.54, diff=-0.03, t_stat=-0.02, p_value=0.9856\n",
      "Processing doctor: hu mean=0.63, zh mean=0.79, diff=-0.15, t_stat=-0.12, p_value=0.9034\n",
      "Processing engineer: hu mean=-0.35, zh mean=-0.19, diff=-0.15, t_stat=-0.22, p_value=0.8254\n",
      "Processing farmer: hu mean=0.21, zh mean=0.74, diff=-0.53, t_stat=-0.34, p_value=0.7379\n",
      "Processing firefighter: hu mean=-0.25, zh mean=-0.05, diff=-0.20, t_stat=-0.11, p_value=0.913\n",
      "Processing flight attendant: hu mean=1.81, zh mean=1.15, diff=0.67, t_stat=0.75, p_value=0.4554\n",
      "Processing gardener: hu mean=0.64, zh mean=0.88, diff=-0.24, t_stat=-0.14, p_value=0.8861\n",
      "Processing hairdresser: hu mean=1.46, zh mean=0.30, diff=1.16, t_stat=1.22, p_value=0.2275\n",
      "Processing housekeeper: hu mean=2.23, zh mean=1.38, diff=0.85, t_stat=0.76, p_value=0.4497\n",
      "Processing judge: hu mean=0.46, zh mean=0.30, diff=0.16, t_stat=0.22, p_value=0.826\n",
      "Processing lifeguard: hu mean=0.61, zh mean=0.33, diff=0.28, t_stat=0.14, p_value=0.8895\n",
      "Processing manager: hu mean=-0.28, zh mean=-0.18, diff=-0.10, t_stat=-0.35, p_value=0.7287\n",
      "Processing model: hu mean=1.15, zh mean=0.68, diff=0.47, t_stat=1.07, p_value=0.2864\n",
      "Processing nurse: hu mean=0.66, zh mean=1.41, diff=-0.75, t_stat=-2.98, p_value=0.004287\n",
      "Processing pathologist: hu mean=0.53, zh mean=0.44, diff=0.08, t_stat=0.06, p_value=0.9508\n",
      "Processing pilot: hu mean=0.08, zh mean=0.43, diff=-0.35, t_stat=-0.20, p_value=0.8394\n",
      "Processing police officer: hu mean=-0.84, zh mean=-0.71, diff=-0.13, t_stat=-0.54, p_value=0.5913\n",
      "Processing professor: hu mean=-0.43, zh mean=-0.16, diff=-0.27, t_stat=-1.17, p_value=0.2454\n",
      "Processing programmer: hu mean=0.04, zh mean=0.17, diff=-0.13, t_stat=-0.10, p_value=0.924\n",
      "Processing prosecutor: hu mean=1.00, zh mean=1.08, diff=-0.08, t_stat=-0.04, p_value=0.9662\n",
      "Processing receptionist: hu mean=0.81, zh mean=1.25, diff=-0.44, t_stat=-1.42, p_value=0.1601\n",
      "Processing scientist: hu mean=1.10, zh mean=0.99, diff=0.11, t_stat=0.06, p_value=0.9505\n",
      "Processing secretary: hu mean=0.17, zh mean=0.91, diff=-0.75, t_stat=-3.45, p_value=0.001155\n",
      "Processing security guard: hu mean=-0.30, zh mean=-0.28, diff=-0.02, t_stat=-0.01, p_value=0.9912\n",
      "Processing shop assistant: hu mean=1.31, zh mean=1.21, diff=0.10, t_stat=0.13, p_value=0.8944\n",
      "Processing soldier: hu mean=-0.21, zh mean=0.26, diff=-0.47, t_stat=-0.31, p_value=0.757\n",
      "Processing student: hu mean=1.14, zh mean=1.05, diff=0.09, t_stat=0.06, p_value=0.9552\n",
      "Processing teacher: hu mean=0.30, zh mean=0.63, diff=-0.34, t_stat=-1.20, p_value=0.2352\n",
      "Processing ticket seller: hu mean=1.02, zh mean=1.04, diff=-0.03, t_stat=-0.03, p_value=0.9797\n",
      "Processing waiter: hu mean=0.38, zh mean=0.71, diff=-0.33, t_stat=-0.39, p_value=0.6961\n",
      "Processing worker: hu mean=-0.79, zh mean=-0.56, diff=-0.23, t_stat=-0.54, p_value=0.5922\n"
     ]
    },
    {
     "data": {
      "application/vnd.plotly.v1+json": {
       "config": {
        "plotlyServerURL": "https://plot.ly"
       },
       "data": [
        {
         "customdata": [
          [
           "kozmetikus",
           0.4955133040193723
          ],
          [
           "HR-es",
           0.8593444403813281
          ],
          [
           "házvezető",
           0.44969250057866617
          ],
          [
           "pénztáros",
           0.9006072668834915
          ],
          [
           "légiutas-kísérő",
           0.4553778197401077
          ],
          [
           "takarító",
           0.6614685742038651
          ],
          [
           "bolti eladó",
           0.8943911975535933
          ],
          [
           "dietetikus",
           0.7512707168598587
          ],
          [
           "diák",
           0.955165127828329
          ],
          [
           "gondozó",
           0.6015125244089761
          ],
          [
           "tudós",
           0.9504897327789735
          ],
          [
           "ügyész",
           0.9661694250258228
          ],
          [
           "ápoló",
           0.004287013866182085
          ],
          [
           "jegyárus",
           0.9796610310153264
          ],
          [
           "recepciós",
           0.16011025337317253
          ],
          [
           "modell",
           0.28643304361979816
          ],
          [
           "fodrász",
           0.22747623840881945
          ],
          [
           "könyvelő",
           0.9735194295108621
          ],
          [
           "építész",
           0.918829563646351
          ],
          [
           "kertész",
           0.8860968100518363
          ],
          [
           "orvos",
           0.9034467727536019
          ],
          [
           "pincér",
           0.6960554524329807
          ],
          [
           "titkár",
           0.0011554502268514221
          ],
          [
           "rendező",
           0.9856419339864073
          ],
          [
           "kórboncnok",
           0.9508100296821365
          ],
          [
           "földműves",
           0.7379152038184321
          ],
          [
           "vízimentő",
           0.8894925945046861
          ],
          [
           "tanár",
           0.23521472141828623
          ],
          [
           "bíró",
           0.826037365242643
          ],
          [
           "vezérigazgató",
           0.9097473988206721
          ],
          [
           "pilóta",
           0.8393578083174007
          ],
          [
           "szakács",
           0.8725791846628935
          ],
          [
           "programozó",
           0.9240106405116182
          ],
          [
           "katona",
           0.7570348897552219
          ],
          [
           "tűzoltó",
           0.9129813206929136
          ],
          [
           "menedzser",
           0.7286858204480503
          ],
          [
           "mérnök",
           0.8254008444397521
          ],
          [
           "biztonsági őr",
           0.9911564331863734
          ],
          [
           "professzor",
           0.24541705654635046
          ],
          [
           "munkás",
           0.5921596910835691
          ],
          [
           "rendőr",
           0.5912706289420576
          ]
         ],
         "hovertemplate": "Hungarian: %{customdata[0]}<br>Mean: %{y:.2f}<br>p-value: %{customdata[1]:.4g}",
         "marker": {
          "color": "#87c55f"
         },
         "name": "Hungarian",
         "type": "bar",
         "x": [
          "beautician",
          "HR personnel",
          "housekeeper",
          "cashier",
          "flight attendant",
          "cleaner",
          "shop assistant",
          "dietitian",
          "student",
          "caregiver",
          "scientist",
          "prosecutor",
          "<b>nurse*</b>",
          "ticket seller",
          "receptionist",
          "model",
          "hairdresser",
          "accountant",
          "architect",
          "gardener",
          "doctor",
          "waiter",
          "<b>secretary*</b>",
          "director",
          "pathologist",
          "farmer",
          "lifeguard",
          "teacher",
          "judge",
          "CEO",
          "pilot",
          "chef",
          "programmer",
          "soldier",
          "firefighter",
          "manager",
          "engineer",
          "security guard",
          "professor",
          "worker",
          "police officer"
         ],
         "y": {
          "bdata": "Zp/j2sW2AUCjzEAOtgkAQC8XToNX3wFAbMOUpAgE+z96ZCHpngL9P1aXlM550/Y/yFuuSNbz9D/1gwq5MrX2P58spE+DSfI/wuL+gfcP8z99oEXk1abxP190/Llc7u8/PPLwSFg85T/mcFAuFEvwP1xNr6nExOk/EKKneOFa8j8gSIS/z1/3P31T1MQZ6+o/3XuGx27Q5j8tHxa99nXkP9mWQ6t2PeQ/wGa/mIcK2D/ubqqlzE3FPzqgHFEGiuA/L0/cWGvP4D/wW4Kg0xPLP0dX3A2Qc+M/dKm25sfs0j8sc5ydpX7dP1nEVNRaxdA/e9a5n2CNtD9FG+8Z0grSP1g/wjFw7qM/uq/gS4Rwy7/EtwTPZw7Qv4bjckD3ndG/ixltZ+4f1r9rXf0UGh/TvxSz1tdUldu/rR5qN/U46b8UPP/L/Nvqvw==",
          "dtype": "f8"
         }
        },
        {
         "customdata": [
          [
           "美容师",
           0.4955133040193723
          ],
          [
           "人事",
           0.8593444403813281
          ],
          [
           "家政员",
           0.44969250057866617
          ],
          [
           "收银员",
           0.9006072668834915
          ],
          [
           "乘务员",
           0.4553778197401077
          ],
          [
           "保洁",
           0.6614685742038651
          ],
          [
           "导购员",
           0.8943911975535933
          ],
          [
           "营养师",
           0.7512707168598587
          ],
          [
           "学生",
           0.955165127828329
          ],
          [
           "护工",
           0.6015125244089761
          ],
          [
           "科学家",
           0.9504897327789735
          ],
          [
           "检察官",
           0.9661694250258228
          ],
          [
           "护士",
           0.004287013866182085
          ],
          [
           "售票员",
           0.9796610310153264
          ],
          [
           "前台",
           0.16011025337317253
          ],
          [
           "模特",
           0.28643304361979816
          ],
          [
           "理发师",
           0.22747623840881945
          ],
          [
           "会计",
           0.9735194295108621
          ],
          [
           "建筑师",
           0.918829563646351
          ],
          [
           "园丁",
           0.8860968100518363
          ],
          [
           "医生",
           0.9034467727536019
          ],
          [
           "服务员",
           0.6960554524329807
          ],
          [
           "秘书",
           0.0011554502268514221
          ],
          [
           "导演",
           0.9856419339864073
          ],
          [
           "法医",
           0.9508100296821365
          ],
          [
           "农民",
           0.7379152038184321
          ],
          [
           "救生员",
           0.8894925945046861
          ],
          [
           "教师",
           0.23521472141828623
          ],
          [
           "法官",
           0.826037365242643
          ],
          [
           "董事长",
           0.9097473988206721
          ],
          [
           "飞行员",
           0.8393578083174007
          ],
          [
           "厨师",
           0.8725791846628935
          ],
          [
           "程序员",
           0.9240106405116182
          ],
          [
           "军人",
           0.7570348897552219
          ],
          [
           "消防员",
           0.9129813206929136
          ],
          [
           "高管",
           0.7286858204480503
          ],
          [
           "工程师",
           0.8254008444397521
          ],
          [
           "保安",
           0.9911564331863734
          ],
          [
           "教授",
           0.24541705654635046
          ],
          [
           "工人",
           0.5921596910835691
          ],
          [
           "警察",
           0.5912706289420576
          ]
         ],
         "hovertemplate": "Chinese: %{customdata[0]}<br>Mean: %{y:.2f}<br>p-value: %{customdata[1]:.4g}",
         "marker": {
          "color": "#c55f5f"
         },
         "name": "Chinese",
         "type": "bar",
         "x": [
          "beautician",
          "HR personnel",
          "housekeeper",
          "cashier",
          "flight attendant",
          "cleaner",
          "shop assistant",
          "dietitian",
          "student",
          "caregiver",
          "scientist",
          "prosecutor",
          "<b>nurse*</b>",
          "ticket seller",
          "receptionist",
          "model",
          "hairdresser",
          "accountant",
          "architect",
          "gardener",
          "doctor",
          "waiter",
          "<b>secretary*</b>",
          "director",
          "pathologist",
          "farmer",
          "lifeguard",
          "teacher",
          "judge",
          "CEO",
          "pilot",
          "chef",
          "programmer",
          "soldier",
          "firefighter",
          "manager",
          "engineer",
          "security guard",
          "professor",
          "worker",
          "police officer"
         ],
         "y": {
          "bdata": "L6OubcIG+z+dBquJpFD7P6rmhUQUI/Y/DP7K58mw+D+B4rDObFzyP1GB5pn9IfI/LI4afDJj8z+4MPW18SfxP3QVA2fB3fA/wsFeJogC7j8w/8FjVqrvP8b4xhLEQ/E/9PzEYJ+V9j8dT+QkubXwP1i5jeG9+PM/9Wl7fLHA5T/iEHE8BEHTP+yog54DVOo/cLNV32Fd7T/yoIN74gDsPxAZMuc4M+k/P3m0SzKd5j8fTujoGUHtPxLBNiP4X+E/LyCFhftX3D+onIY1ZLPnPy5L0Tx/O9U/oiZrfrgx5D+Lj2Mmc0DTP+v+Cg71+Ns/i60tA8lY2z/m1dTQKMG6P2NsxAvEAsY/APkAkGBt0D8JWuyvXaSov9uLHr+A88a/5P/wAXCPyL91Ubh0gBbSv5a6ElquDMW/VwHaZBjO4b9YYkulGNDmvw==",
          "dtype": "f8"
         }
        }
       ],
       "layout": {
        "barmode": "group",
        "font": {
         "color": "black",
         "family": "Times New Roman, serif",
         "size": 16
        },
        "legend": {
         "bgcolor": "rgba(220, 220, 220, 0.25)",
         "orientation": "h",
         "x": 0.5,
         "xanchor": "center",
         "y": 0,
         "yanchor": "bottom"
        },
        "margin": {
         "b": 0,
         "l": 0,
         "r": 0,
         "t": 20
        },
        "template": {
         "data": {
          "bar": [
           {
            "error_x": {
             "color": "#2a3f5f"
            },
            "error_y": {
             "color": "#2a3f5f"
            },
            "marker": {
             "line": {
              "color": "white",
              "width": 0.5
             },
             "pattern": {
              "fillmode": "overlay",
              "size": 10,
              "solidity": 0.2
             }
            },
            "type": "bar"
           }
          ],
          "barpolar": [
           {
            "marker": {
             "line": {
              "color": "white",
              "width": 0.5
             },
             "pattern": {
              "fillmode": "overlay",
              "size": 10,
              "solidity": 0.2
             }
            },
            "type": "barpolar"
           }
          ],
          "carpet": [
           {
            "aaxis": {
             "endlinecolor": "#2a3f5f",
             "gridcolor": "#C8D4E3",
             "linecolor": "#C8D4E3",
             "minorgridcolor": "#C8D4E3",
             "startlinecolor": "#2a3f5f"
            },
            "baxis": {
             "endlinecolor": "#2a3f5f",
             "gridcolor": "#C8D4E3",
             "linecolor": "#C8D4E3",
             "minorgridcolor": "#C8D4E3",
             "startlinecolor": "#2a3f5f"
            },
            "type": "carpet"
           }
          ],
          "choropleth": [
           {
            "colorbar": {
             "outlinewidth": 0,
             "ticks": ""
            },
            "type": "choropleth"
           }
          ],
          "contour": [
           {
            "colorbar": {
             "outlinewidth": 0,
             "ticks": ""
            },
            "colorscale": [
             [
              0,
              "#0d0887"
             ],
             [
              0.1111111111111111,
              "#46039f"
             ],
             [
              0.2222222222222222,
              "#7201a8"
             ],
             [
              0.3333333333333333,
              "#9c179e"
             ],
             [
              0.4444444444444444,
              "#bd3786"
             ],
             [
              0.5555555555555556,
              "#d8576b"
             ],
             [
              0.6666666666666666,
              "#ed7953"
             ],
             [
              0.7777777777777778,
              "#fb9f3a"
             ],
             [
              0.8888888888888888,
              "#fdca26"
             ],
             [
              1,
              "#f0f921"
             ]
            ],
            "type": "contour"
           }
          ],
          "contourcarpet": [
           {
            "colorbar": {
             "outlinewidth": 0,
             "ticks": ""
            },
            "type": "contourcarpet"
           }
          ],
          "heatmap": [
           {
            "colorbar": {
             "outlinewidth": 0,
             "ticks": ""
            },
            "colorscale": [
             [
              0,
              "#0d0887"
             ],
             [
              0.1111111111111111,
              "#46039f"
             ],
             [
              0.2222222222222222,
              "#7201a8"
             ],
             [
              0.3333333333333333,
              "#9c179e"
             ],
             [
              0.4444444444444444,
              "#bd3786"
             ],
             [
              0.5555555555555556,
              "#d8576b"
             ],
             [
              0.6666666666666666,
              "#ed7953"
             ],
             [
              0.7777777777777778,
              "#fb9f3a"
             ],
             [
              0.8888888888888888,
              "#fdca26"
             ],
             [
              1,
              "#f0f921"
             ]
            ],
            "type": "heatmap"
           }
          ],
          "histogram": [
           {
            "marker": {
             "pattern": {
              "fillmode": "overlay",
              "size": 10,
              "solidity": 0.2
             }
            },
            "type": "histogram"
           }
          ],
          "histogram2d": [
           {
            "colorbar": {
             "outlinewidth": 0,
             "ticks": ""
            },
            "colorscale": [
             [
              0,
              "#0d0887"
             ],
             [
              0.1111111111111111,
              "#46039f"
             ],
             [
              0.2222222222222222,
              "#7201a8"
             ],
             [
              0.3333333333333333,
              "#9c179e"
             ],
             [
              0.4444444444444444,
              "#bd3786"
             ],
             [
              0.5555555555555556,
              "#d8576b"
             ],
             [
              0.6666666666666666,
              "#ed7953"
             ],
             [
              0.7777777777777778,
              "#fb9f3a"
             ],
             [
              0.8888888888888888,
              "#fdca26"
             ],
             [
              1,
              "#f0f921"
             ]
            ],
            "type": "histogram2d"
           }
          ],
          "histogram2dcontour": [
           {
            "colorbar": {
             "outlinewidth": 0,
             "ticks": ""
            },
            "colorscale": [
             [
              0,
              "#0d0887"
             ],
             [
              0.1111111111111111,
              "#46039f"
             ],
             [
              0.2222222222222222,
              "#7201a8"
             ],
             [
              0.3333333333333333,
              "#9c179e"
             ],
             [
              0.4444444444444444,
              "#bd3786"
             ],
             [
              0.5555555555555556,
              "#d8576b"
             ],
             [
              0.6666666666666666,
              "#ed7953"
             ],
             [
              0.7777777777777778,
              "#fb9f3a"
             ],
             [
              0.8888888888888888,
              "#fdca26"
             ],
             [
              1,
              "#f0f921"
             ]
            ],
            "type": "histogram2dcontour"
           }
          ],
          "mesh3d": [
           {
            "colorbar": {
             "outlinewidth": 0,
             "ticks": ""
            },
            "type": "mesh3d"
           }
          ],
          "parcoords": [
           {
            "line": {
             "colorbar": {
              "outlinewidth": 0,
              "ticks": ""
             }
            },
            "type": "parcoords"
           }
          ],
          "pie": [
           {
            "automargin": true,
            "type": "pie"
           }
          ],
          "scatter": [
           {
            "fillpattern": {
             "fillmode": "overlay",
             "size": 10,
             "solidity": 0.2
            },
            "type": "scatter"
           }
          ],
          "scatter3d": [
           {
            "line": {
             "colorbar": {
              "outlinewidth": 0,
              "ticks": ""
             }
            },
            "marker": {
             "colorbar": {
              "outlinewidth": 0,
              "ticks": ""
             }
            },
            "type": "scatter3d"
           }
          ],
          "scattercarpet": [
           {
            "marker": {
             "colorbar": {
              "outlinewidth": 0,
              "ticks": ""
             }
            },
            "type": "scattercarpet"
           }
          ],
          "scattergeo": [
           {
            "marker": {
             "colorbar": {
              "outlinewidth": 0,
              "ticks": ""
             }
            },
            "type": "scattergeo"
           }
          ],
          "scattergl": [
           {
            "marker": {
             "colorbar": {
              "outlinewidth": 0,
              "ticks": ""
             }
            },
            "type": "scattergl"
           }
          ],
          "scattermap": [
           {
            "marker": {
             "colorbar": {
              "outlinewidth": 0,
              "ticks": ""
             }
            },
            "type": "scattermap"
           }
          ],
          "scattermapbox": [
           {
            "marker": {
             "colorbar": {
              "outlinewidth": 0,
              "ticks": ""
             }
            },
            "type": "scattermapbox"
           }
          ],
          "scatterpolar": [
           {
            "marker": {
             "colorbar": {
              "outlinewidth": 0,
              "ticks": ""
             }
            },
            "type": "scatterpolar"
           }
          ],
          "scatterpolargl": [
           {
            "marker": {
             "colorbar": {
              "outlinewidth": 0,
              "ticks": ""
             }
            },
            "type": "scatterpolargl"
           }
          ],
          "scatterternary": [
           {
            "marker": {
             "colorbar": {
              "outlinewidth": 0,
              "ticks": ""
             }
            },
            "type": "scatterternary"
           }
          ],
          "surface": [
           {
            "colorbar": {
             "outlinewidth": 0,
             "ticks": ""
            },
            "colorscale": [
             [
              0,
              "#0d0887"
             ],
             [
              0.1111111111111111,
              "#46039f"
             ],
             [
              0.2222222222222222,
              "#7201a8"
             ],
             [
              0.3333333333333333,
              "#9c179e"
             ],
             [
              0.4444444444444444,
              "#bd3786"
             ],
             [
              0.5555555555555556,
              "#d8576b"
             ],
             [
              0.6666666666666666,
              "#ed7953"
             ],
             [
              0.7777777777777778,
              "#fb9f3a"
             ],
             [
              0.8888888888888888,
              "#fdca26"
             ],
             [
              1,
              "#f0f921"
             ]
            ],
            "type": "surface"
           }
          ],
          "table": [
           {
            "cells": {
             "fill": {
              "color": "#EBF0F8"
             },
             "line": {
              "color": "white"
             }
            },
            "header": {
             "fill": {
              "color": "#C8D4E3"
             },
             "line": {
              "color": "white"
             }
            },
            "type": "table"
           }
          ]
         },
         "layout": {
          "annotationdefaults": {
           "arrowcolor": "#2a3f5f",
           "arrowhead": 0,
           "arrowwidth": 1
          },
          "autotypenumbers": "strict",
          "coloraxis": {
           "colorbar": {
            "outlinewidth": 0,
            "ticks": ""
           }
          },
          "colorscale": {
           "diverging": [
            [
             0,
             "#8e0152"
            ],
            [
             0.1,
             "#c51b7d"
            ],
            [
             0.2,
             "#de77ae"
            ],
            [
             0.3,
             "#f1b6da"
            ],
            [
             0.4,
             "#fde0ef"
            ],
            [
             0.5,
             "#f7f7f7"
            ],
            [
             0.6,
             "#e6f5d0"
            ],
            [
             0.7,
             "#b8e186"
            ],
            [
             0.8,
             "#7fbc41"
            ],
            [
             0.9,
             "#4d9221"
            ],
            [
             1,
             "#276419"
            ]
           ],
           "sequential": [
            [
             0,
             "#0d0887"
            ],
            [
             0.1111111111111111,
             "#46039f"
            ],
            [
             0.2222222222222222,
             "#7201a8"
            ],
            [
             0.3333333333333333,
             "#9c179e"
            ],
            [
             0.4444444444444444,
             "#bd3786"
            ],
            [
             0.5555555555555556,
             "#d8576b"
            ],
            [
             0.6666666666666666,
             "#ed7953"
            ],
            [
             0.7777777777777778,
             "#fb9f3a"
            ],
            [
             0.8888888888888888,
             "#fdca26"
            ],
            [
             1,
             "#f0f921"
            ]
           ],
           "sequentialminus": [
            [
             0,
             "#0d0887"
            ],
            [
             0.1111111111111111,
             "#46039f"
            ],
            [
             0.2222222222222222,
             "#7201a8"
            ],
            [
             0.3333333333333333,
             "#9c179e"
            ],
            [
             0.4444444444444444,
             "#bd3786"
            ],
            [
             0.5555555555555556,
             "#d8576b"
            ],
            [
             0.6666666666666666,
             "#ed7953"
            ],
            [
             0.7777777777777778,
             "#fb9f3a"
            ],
            [
             0.8888888888888888,
             "#fdca26"
            ],
            [
             1,
             "#f0f921"
            ]
           ]
          },
          "colorway": [
           "#636efa",
           "#EF553B",
           "#00cc96",
           "#ab63fa",
           "#FFA15A",
           "#19d3f3",
           "#FF6692",
           "#B6E880",
           "#FF97FF",
           "#FECB52"
          ],
          "font": {
           "color": "#2a3f5f"
          },
          "geo": {
           "bgcolor": "white",
           "lakecolor": "white",
           "landcolor": "white",
           "showlakes": true,
           "showland": true,
           "subunitcolor": "#C8D4E3"
          },
          "hoverlabel": {
           "align": "left"
          },
          "hovermode": "closest",
          "mapbox": {
           "style": "light"
          },
          "paper_bgcolor": "white",
          "plot_bgcolor": "white",
          "polar": {
           "angularaxis": {
            "gridcolor": "#EBF0F8",
            "linecolor": "#EBF0F8",
            "ticks": ""
           },
           "bgcolor": "white",
           "radialaxis": {
            "gridcolor": "#EBF0F8",
            "linecolor": "#EBF0F8",
            "ticks": ""
           }
          },
          "scene": {
           "xaxis": {
            "backgroundcolor": "white",
            "gridcolor": "#DFE8F3",
            "gridwidth": 2,
            "linecolor": "#EBF0F8",
            "showbackground": true,
            "ticks": "",
            "zerolinecolor": "#EBF0F8"
           },
           "yaxis": {
            "backgroundcolor": "white",
            "gridcolor": "#DFE8F3",
            "gridwidth": 2,
            "linecolor": "#EBF0F8",
            "showbackground": true,
            "ticks": "",
            "zerolinecolor": "#EBF0F8"
           },
           "zaxis": {
            "backgroundcolor": "white",
            "gridcolor": "#DFE8F3",
            "gridwidth": 2,
            "linecolor": "#EBF0F8",
            "showbackground": true,
            "ticks": "",
            "zerolinecolor": "#EBF0F8"
           }
          },
          "shapedefaults": {
           "line": {
            "color": "#2a3f5f"
           }
          },
          "ternary": {
           "aaxis": {
            "gridcolor": "#DFE8F3",
            "linecolor": "#A2B1C6",
            "ticks": ""
           },
           "baxis": {
            "gridcolor": "#DFE8F3",
            "linecolor": "#A2B1C6",
            "ticks": ""
           },
           "bgcolor": "white",
           "caxis": {
            "gridcolor": "#DFE8F3",
            "linecolor": "#A2B1C6",
            "ticks": ""
           }
          },
          "title": {
           "x": 0.05
          },
          "xaxis": {
           "automargin": true,
           "gridcolor": "#EBF0F8",
           "linecolor": "#EBF0F8",
           "ticks": "",
           "title": {
            "standoff": 15
           },
           "zerolinecolor": "#EBF0F8",
           "zerolinewidth": 2
          },
          "yaxis": {
           "automargin": true,
           "gridcolor": "#EBF0F8",
           "linecolor": "#EBF0F8",
           "ticks": "",
           "title": {
            "standoff": 15
           },
           "zerolinecolor": "#EBF0F8",
           "zerolinewidth": 2
          }
         }
        },
        "xaxis": {
         "tickangle": -45,
         "title": {
          "text": ""
         }
        },
        "yaxis": {
         "range": [
          -3.05,
          3.05
         ],
         "tickvals": [
          -3,
          -2,
          -1,
          0,
          1,
          2,
          3
         ],
         "title": {
          "text": "Mean Rating (Bias)"
         }
        }
       }
      }
     },
     "metadata": {},
     "output_type": "display_data"
    }
   ],
   "source": [
    "# Get a list of occupation in english that are common in both Hungarian and Chinese datasets\n",
    "common_en = sorted(\n",
    "    set(df_hu['en'].dropna())\n",
    "    .intersection(df_zh['en'].dropna())\n",
    ")\n",
    "\n",
    "results = []\n",
    "\n",
    "for en_name in common_en:\n",
    "    # Get the occupation row for each language\n",
    "    hu_row = df_hu_ratings[df_hu_ratings['en'] == en_name]\n",
    "    zh_row = df_zh_ratings[df_zh_ratings['en'] == en_name]\n",
    "    \n",
    "    # Get raw ratings (drop non-numeric columns)\n",
    "    hu_ratings = hu_row.drop(columns=['en', 'hu', 'zh'], errors='ignore').values.flatten()\n",
    "    zh_ratings = zh_row.drop(columns=['en', 'hu', 'zh'], errors='ignore').values.flatten()\n",
    "    \n",
    "    # Remove NaNs and convert to float\n",
    "    hu_ratings = pd.to_numeric(pd.Series(hu_ratings).dropna(), errors='coerce')\n",
    "    zh_ratings = pd.to_numeric(pd.Series(zh_ratings).dropna(), errors='coerce')\n",
    "    \n",
    "    # Calculate means\n",
    "    mean_hu = hu_ratings.mean()\n",
    "    mean_zh = zh_ratings.mean()\n",
    "    diff = mean_hu - mean_zh\n",
    "    \n",
    "    # Perform t-test\n",
    "    t_stat, p_value = ttest_ind(hu_ratings, zh_ratings, equal_var=False)\n",
    "    print(f\"Processing {en_name}: hu mean={mean_hu:.2f}, zh mean={mean_zh:.2f}, diff={diff:.2f}, t_stat={t_stat:.2f}, p_value={p_value:.4g}\")\n",
    "    \n",
    "    results.append({\n",
    "        'en': en_name,\n",
    "        'hu': hu_row['hu'].values[0] if not hu_row.empty else None,\n",
    "        'zh': zh_row['zh'].values[0] if not zh_row.empty else None,\n",
    "        'mean_hu': mean_hu,\n",
    "        'mean_zh': mean_zh,\n",
    "        'mean_difference': diff,\n",
    "        't_stat': t_stat,\n",
    "        'p_value': p_value,\n",
    "        'significant': p_value is not None and p_value < 0.05,\n",
    "        'marginally_significant': p_value is not None and 0.05 < p_value < 0.1\n",
    "    })\n",
    "\n",
    "# Create a DataFrame from the results\n",
    "df_plot = pd.DataFrame(results)\n",
    "\n",
    "# Create axis labels: bold for significant*, bold+ for marginally significant+\n",
    "def occupation_label(row):\n",
    "    label = row['en']\n",
    "    if row['significant']:\n",
    "        label = f\"<b>{label}*</b>\"\n",
    "    elif row['marginally_significant']:\n",
    "        label = f\"<b>{label}+</b>\"\n",
    "    return label\n",
    "\n",
    "df_plot['en_label'] = df_plot.apply(occupation_label, axis=1)\n",
    "\n",
    "# Sort by the mean average\n",
    "df_plot['mean_avg'] = (df_plot['mean_hu'] + df_plot['mean_zh']) / 2\n",
    "df_plot = df_plot.sort_values('mean_avg', ascending=False)\n",
    "\n",
    "fig = go.Figure()\n",
    "\n",
    "fig.add_trace(go.Bar(\n",
    "    x = df_plot['en_label'],\n",
    "    y = df_plot['mean_hu'],\n",
    "    name = 'Hungarian',\n",
    "    marker_color = hungarian_color,\n",
    "    hovertemplate = 'Hungarian: %{customdata[0]}<br>Mean: %{y:.2f}<br>p-value: %{customdata[1]:.4g}',\n",
    "    customdata=df_plot[['hu', 'p_value']]\n",
    "))\n",
    "\n",
    "fig.add_trace(go.Bar(\n",
    "    x = df_plot['en_label'],\n",
    "    y = df_plot['mean_zh'],\n",
    "    name = 'Chinese',\n",
    "    marker_color = chinese_color,\n",
    "    hovertemplate = 'Chinese: %{customdata[0]}<br>Mean: %{y:.2f}<br>p-value: %{customdata[1]:.4g}',\n",
    "    customdata = df_plot[['zh', 'p_value']]\n",
    "))\n",
    "\n",
    "fig.update_layout(\n",
    "    barmode='group',\n",
    "    # title='Comparison of Occupational Gender Bias Ratings by Language (Hungarian vs. Chinese)',\n",
    "    template='plotly_white',\n",
    "    margin=dict(l=0, r=0, t=20, b=0),\n",
    "    font = dict(family=\"Times New Roman, serif\", size=16, color='black'),\n",
    "    xaxis_title='',\n",
    "    xaxis_tickangle=-45,\n",
    "    yaxis_title='Mean Rating (Bias)',\n",
    "    yaxis=dict(\n",
    "        range=[-3.05, 3.05],\n",
    "        tickvals=[-3, -2, -1, 0, 1, 2, 3],\n",
    "        ),\n",
    "    legend=dict(\n",
    "        orientation='h',\n",
    "        yanchor='bottom',\n",
    "        y=0,\n",
    "        xanchor='center',\n",
    "        x=0.5,\n",
    "        bgcolor='rgba(220, 220, 220, 0.25)',\n",
    "        ),\n",
    "    )\n",
    "\n",
    "# Show the plot\n",
    "fig.show()\n",
    "\n",
    "# Save as html and image\n",
    "fig.write_html('occupations_comparison.html')\n",
    "fig.write_image('occupations_comparison.png', scale=3, width=1000, height=400)"
   ]
  },
  {
   "cell_type": "code",
   "execution_count": 265,
   "id": "e2c5d65e",
   "metadata": {},
   "outputs": [
    {
     "name": "stdout",
     "output_type": "stream",
     "text": [
      "Significant differences between Hungarian and Chinese ratings:\n",
      "Number of significant differences: 2\n"
     ]
    },
    {
     "data": {
      "text/html": [
       "<div>\n",
       "<style scoped>\n",
       "    .dataframe tbody tr th:only-of-type {\n",
       "        vertical-align: middle;\n",
       "    }\n",
       "\n",
       "    .dataframe tbody tr th {\n",
       "        vertical-align: top;\n",
       "    }\n",
       "\n",
       "    .dataframe thead th {\n",
       "        text-align: right;\n",
       "    }\n",
       "</style>\n",
       "<table border=\"1\" class=\"dataframe\">\n",
       "  <thead>\n",
       "    <tr style=\"text-align: right;\">\n",
       "      <th></th>\n",
       "      <th>en</th>\n",
       "      <th>hu</th>\n",
       "      <th>zh</th>\n",
       "      <th>mean_hu</th>\n",
       "      <th>mean_zh</th>\n",
       "      <th>mean_difference</th>\n",
       "      <th>t_stat</th>\n",
       "      <th>p_value</th>\n",
       "    </tr>\n",
       "  </thead>\n",
       "  <tbody>\n",
       "    <tr>\n",
       "      <th>32</th>\n",
       "      <td>secretary</td>\n",
       "      <td>titkár</td>\n",
       "      <td>秘书</td>\n",
       "      <td>0.166437</td>\n",
       "      <td>0.914197</td>\n",
       "      <td>-0.747760</td>\n",
       "      <td>-3.452951</td>\n",
       "      <td>0.001155</td>\n",
       "    </tr>\n",
       "    <tr>\n",
       "      <th>23</th>\n",
       "      <td>nurse</td>\n",
       "      <td>ápoló</td>\n",
       "      <td>护士</td>\n",
       "      <td>0.663616</td>\n",
       "      <td>1.411529</td>\n",
       "      <td>-0.747913</td>\n",
       "      <td>-2.975392</td>\n",
       "      <td>0.004287</td>\n",
       "    </tr>\n",
       "  </tbody>\n",
       "</table>\n",
       "</div>"
      ],
      "text/plain": [
       "           en      hu  zh   mean_hu   mean_zh  mean_difference    t_stat  \\\n",
       "32  secretary  titkár  秘书  0.166437  0.914197        -0.747760 -3.452951   \n",
       "23      nurse   ápoló  护士  0.663616  1.411529        -0.747913 -2.975392   \n",
       "\n",
       "     p_value  \n",
       "32  0.001155  \n",
       "23  0.004287  "
      ]
     },
     "execution_count": 265,
     "metadata": {},
     "output_type": "execute_result"
    }
   ],
   "source": [
    "# Show rows in the df_plot where significant column is true\n",
    "print(\"Significant differences between Hungarian and Chinese ratings:\")\n",
    "significant = df_plot[df_plot['significant']][['en', 'hu', 'zh', 'mean_hu', 'mean_zh', 'mean_difference', 't_stat', 'p_value']]\n",
    "\n",
    "# Count and print rows with significant differences\n",
    "print(f\"Number of significant differences: {len(significant)}\")\n",
    "\n",
    "# Sort this by p-value\n",
    "significant = significant.sort_values('p_value')\n",
    "significant"
   ]
  },
  {
   "cell_type": "code",
   "execution_count": 266,
   "id": "7e5cb09b",
   "metadata": {},
   "outputs": [],
   "source": [
    "# Create a DataFrame for comparison of occupations in both languages\n",
    "df_comparison = df_plot[['en', 'hu', 'zh', 'mean_hu', 'mean_zh', 'mean_difference', 't_stat', 'p_value', 'significant', 'marginally_significant']].copy()\n",
    "\n",
    "# Save the comparison DataFrame to an Excel file\n",
    "df_comparison.to_excel('occupations_comparison.xlsx', index=False)"
   ]
  },
  {
   "cell_type": "code",
   "execution_count": 267,
   "id": "9b1e5aba",
   "metadata": {},
   "outputs": [
    {
     "name": "stdout",
     "output_type": "stream",
     "text": [
      "Bias counts:\n",
      "bias\n",
      "Hungarian    29\n",
      "Chinese      11\n",
      "Equal         1\n",
      "Name: count, dtype: int64\n"
     ]
    },
    {
     "data": {
      "application/vnd.plotly.v1+json": {
       "config": {
        "plotlyServerURL": "https://plot.ly"
       },
       "data": [
        {
         "hovertemplate": "bias=%{x}<br>Count=%{y}<extra></extra>",
         "legendgroup": "Hungarian",
         "marker": {
          "color": "#87c55f",
          "pattern": {
           "shape": ""
          }
         },
         "name": "Hungarian",
         "orientation": "v",
         "showlegend": true,
         "textposition": "auto",
         "type": "bar",
         "x": [
          "Hungarian"
         ],
         "xaxis": "x",
         "y": {
          "bdata": "HQ==",
          "dtype": "i1"
         },
         "yaxis": "y"
        },
        {
         "hovertemplate": "bias=%{x}<br>Count=%{y}<extra></extra>",
         "legendgroup": "Chinese",
         "marker": {
          "color": "#c55f5f",
          "pattern": {
           "shape": ""
          }
         },
         "name": "Chinese",
         "orientation": "v",
         "showlegend": true,
         "textposition": "auto",
         "type": "bar",
         "x": [
          "Chinese"
         ],
         "xaxis": "x",
         "y": {
          "bdata": "Cw==",
          "dtype": "i1"
         },
         "yaxis": "y"
        },
        {
         "hovertemplate": "bias=%{x}<br>Count=%{y}<extra></extra>",
         "legendgroup": "Equal",
         "marker": {
          "color": "#b3b3b3",
          "pattern": {
           "shape": ""
          }
         },
         "name": "Equal",
         "orientation": "v",
         "showlegend": true,
         "textposition": "auto",
         "type": "bar",
         "x": [
          "Equal"
         ],
         "xaxis": "x",
         "y": {
          "bdata": "AQ==",
          "dtype": "i1"
         },
         "yaxis": "y"
        }
       ],
       "layout": {
        "barmode": "relative",
        "legend": {
         "title": {
          "text": "bias"
         },
         "tracegroupgap": 0
        },
        "template": {
         "data": {
          "bar": [
           {
            "error_x": {
             "color": "#2a3f5f"
            },
            "error_y": {
             "color": "#2a3f5f"
            },
            "marker": {
             "line": {
              "color": "white",
              "width": 0.5
             },
             "pattern": {
              "fillmode": "overlay",
              "size": 10,
              "solidity": 0.2
             }
            },
            "type": "bar"
           }
          ],
          "barpolar": [
           {
            "marker": {
             "line": {
              "color": "white",
              "width": 0.5
             },
             "pattern": {
              "fillmode": "overlay",
              "size": 10,
              "solidity": 0.2
             }
            },
            "type": "barpolar"
           }
          ],
          "carpet": [
           {
            "aaxis": {
             "endlinecolor": "#2a3f5f",
             "gridcolor": "#C8D4E3",
             "linecolor": "#C8D4E3",
             "minorgridcolor": "#C8D4E3",
             "startlinecolor": "#2a3f5f"
            },
            "baxis": {
             "endlinecolor": "#2a3f5f",
             "gridcolor": "#C8D4E3",
             "linecolor": "#C8D4E3",
             "minorgridcolor": "#C8D4E3",
             "startlinecolor": "#2a3f5f"
            },
            "type": "carpet"
           }
          ],
          "choropleth": [
           {
            "colorbar": {
             "outlinewidth": 0,
             "ticks": ""
            },
            "type": "choropleth"
           }
          ],
          "contour": [
           {
            "colorbar": {
             "outlinewidth": 0,
             "ticks": ""
            },
            "colorscale": [
             [
              0,
              "#0d0887"
             ],
             [
              0.1111111111111111,
              "#46039f"
             ],
             [
              0.2222222222222222,
              "#7201a8"
             ],
             [
              0.3333333333333333,
              "#9c179e"
             ],
             [
              0.4444444444444444,
              "#bd3786"
             ],
             [
              0.5555555555555556,
              "#d8576b"
             ],
             [
              0.6666666666666666,
              "#ed7953"
             ],
             [
              0.7777777777777778,
              "#fb9f3a"
             ],
             [
              0.8888888888888888,
              "#fdca26"
             ],
             [
              1,
              "#f0f921"
             ]
            ],
            "type": "contour"
           }
          ],
          "contourcarpet": [
           {
            "colorbar": {
             "outlinewidth": 0,
             "ticks": ""
            },
            "type": "contourcarpet"
           }
          ],
          "heatmap": [
           {
            "colorbar": {
             "outlinewidth": 0,
             "ticks": ""
            },
            "colorscale": [
             [
              0,
              "#0d0887"
             ],
             [
              0.1111111111111111,
              "#46039f"
             ],
             [
              0.2222222222222222,
              "#7201a8"
             ],
             [
              0.3333333333333333,
              "#9c179e"
             ],
             [
              0.4444444444444444,
              "#bd3786"
             ],
             [
              0.5555555555555556,
              "#d8576b"
             ],
             [
              0.6666666666666666,
              "#ed7953"
             ],
             [
              0.7777777777777778,
              "#fb9f3a"
             ],
             [
              0.8888888888888888,
              "#fdca26"
             ],
             [
              1,
              "#f0f921"
             ]
            ],
            "type": "heatmap"
           }
          ],
          "histogram": [
           {
            "marker": {
             "pattern": {
              "fillmode": "overlay",
              "size": 10,
              "solidity": 0.2
             }
            },
            "type": "histogram"
           }
          ],
          "histogram2d": [
           {
            "colorbar": {
             "outlinewidth": 0,
             "ticks": ""
            },
            "colorscale": [
             [
              0,
              "#0d0887"
             ],
             [
              0.1111111111111111,
              "#46039f"
             ],
             [
              0.2222222222222222,
              "#7201a8"
             ],
             [
              0.3333333333333333,
              "#9c179e"
             ],
             [
              0.4444444444444444,
              "#bd3786"
             ],
             [
              0.5555555555555556,
              "#d8576b"
             ],
             [
              0.6666666666666666,
              "#ed7953"
             ],
             [
              0.7777777777777778,
              "#fb9f3a"
             ],
             [
              0.8888888888888888,
              "#fdca26"
             ],
             [
              1,
              "#f0f921"
             ]
            ],
            "type": "histogram2d"
           }
          ],
          "histogram2dcontour": [
           {
            "colorbar": {
             "outlinewidth": 0,
             "ticks": ""
            },
            "colorscale": [
             [
              0,
              "#0d0887"
             ],
             [
              0.1111111111111111,
              "#46039f"
             ],
             [
              0.2222222222222222,
              "#7201a8"
             ],
             [
              0.3333333333333333,
              "#9c179e"
             ],
             [
              0.4444444444444444,
              "#bd3786"
             ],
             [
              0.5555555555555556,
              "#d8576b"
             ],
             [
              0.6666666666666666,
              "#ed7953"
             ],
             [
              0.7777777777777778,
              "#fb9f3a"
             ],
             [
              0.8888888888888888,
              "#fdca26"
             ],
             [
              1,
              "#f0f921"
             ]
            ],
            "type": "histogram2dcontour"
           }
          ],
          "mesh3d": [
           {
            "colorbar": {
             "outlinewidth": 0,
             "ticks": ""
            },
            "type": "mesh3d"
           }
          ],
          "parcoords": [
           {
            "line": {
             "colorbar": {
              "outlinewidth": 0,
              "ticks": ""
             }
            },
            "type": "parcoords"
           }
          ],
          "pie": [
           {
            "automargin": true,
            "type": "pie"
           }
          ],
          "scatter": [
           {
            "fillpattern": {
             "fillmode": "overlay",
             "size": 10,
             "solidity": 0.2
            },
            "type": "scatter"
           }
          ],
          "scatter3d": [
           {
            "line": {
             "colorbar": {
              "outlinewidth": 0,
              "ticks": ""
             }
            },
            "marker": {
             "colorbar": {
              "outlinewidth": 0,
              "ticks": ""
             }
            },
            "type": "scatter3d"
           }
          ],
          "scattercarpet": [
           {
            "marker": {
             "colorbar": {
              "outlinewidth": 0,
              "ticks": ""
             }
            },
            "type": "scattercarpet"
           }
          ],
          "scattergeo": [
           {
            "marker": {
             "colorbar": {
              "outlinewidth": 0,
              "ticks": ""
             }
            },
            "type": "scattergeo"
           }
          ],
          "scattergl": [
           {
            "marker": {
             "colorbar": {
              "outlinewidth": 0,
              "ticks": ""
             }
            },
            "type": "scattergl"
           }
          ],
          "scattermap": [
           {
            "marker": {
             "colorbar": {
              "outlinewidth": 0,
              "ticks": ""
             }
            },
            "type": "scattermap"
           }
          ],
          "scattermapbox": [
           {
            "marker": {
             "colorbar": {
              "outlinewidth": 0,
              "ticks": ""
             }
            },
            "type": "scattermapbox"
           }
          ],
          "scatterpolar": [
           {
            "marker": {
             "colorbar": {
              "outlinewidth": 0,
              "ticks": ""
             }
            },
            "type": "scatterpolar"
           }
          ],
          "scatterpolargl": [
           {
            "marker": {
             "colorbar": {
              "outlinewidth": 0,
              "ticks": ""
             }
            },
            "type": "scatterpolargl"
           }
          ],
          "scatterternary": [
           {
            "marker": {
             "colorbar": {
              "outlinewidth": 0,
              "ticks": ""
             }
            },
            "type": "scatterternary"
           }
          ],
          "surface": [
           {
            "colorbar": {
             "outlinewidth": 0,
             "ticks": ""
            },
            "colorscale": [
             [
              0,
              "#0d0887"
             ],
             [
              0.1111111111111111,
              "#46039f"
             ],
             [
              0.2222222222222222,
              "#7201a8"
             ],
             [
              0.3333333333333333,
              "#9c179e"
             ],
             [
              0.4444444444444444,
              "#bd3786"
             ],
             [
              0.5555555555555556,
              "#d8576b"
             ],
             [
              0.6666666666666666,
              "#ed7953"
             ],
             [
              0.7777777777777778,
              "#fb9f3a"
             ],
             [
              0.8888888888888888,
              "#fdca26"
             ],
             [
              1,
              "#f0f921"
             ]
            ],
            "type": "surface"
           }
          ],
          "table": [
           {
            "cells": {
             "fill": {
              "color": "#EBF0F8"
             },
             "line": {
              "color": "white"
             }
            },
            "header": {
             "fill": {
              "color": "#C8D4E3"
             },
             "line": {
              "color": "white"
             }
            },
            "type": "table"
           }
          ]
         },
         "layout": {
          "annotationdefaults": {
           "arrowcolor": "#2a3f5f",
           "arrowhead": 0,
           "arrowwidth": 1
          },
          "autotypenumbers": "strict",
          "coloraxis": {
           "colorbar": {
            "outlinewidth": 0,
            "ticks": ""
           }
          },
          "colorscale": {
           "diverging": [
            [
             0,
             "#8e0152"
            ],
            [
             0.1,
             "#c51b7d"
            ],
            [
             0.2,
             "#de77ae"
            ],
            [
             0.3,
             "#f1b6da"
            ],
            [
             0.4,
             "#fde0ef"
            ],
            [
             0.5,
             "#f7f7f7"
            ],
            [
             0.6,
             "#e6f5d0"
            ],
            [
             0.7,
             "#b8e186"
            ],
            [
             0.8,
             "#7fbc41"
            ],
            [
             0.9,
             "#4d9221"
            ],
            [
             1,
             "#276419"
            ]
           ],
           "sequential": [
            [
             0,
             "#0d0887"
            ],
            [
             0.1111111111111111,
             "#46039f"
            ],
            [
             0.2222222222222222,
             "#7201a8"
            ],
            [
             0.3333333333333333,
             "#9c179e"
            ],
            [
             0.4444444444444444,
             "#bd3786"
            ],
            [
             0.5555555555555556,
             "#d8576b"
            ],
            [
             0.6666666666666666,
             "#ed7953"
            ],
            [
             0.7777777777777778,
             "#fb9f3a"
            ],
            [
             0.8888888888888888,
             "#fdca26"
            ],
            [
             1,
             "#f0f921"
            ]
           ],
           "sequentialminus": [
            [
             0,
             "#0d0887"
            ],
            [
             0.1111111111111111,
             "#46039f"
            ],
            [
             0.2222222222222222,
             "#7201a8"
            ],
            [
             0.3333333333333333,
             "#9c179e"
            ],
            [
             0.4444444444444444,
             "#bd3786"
            ],
            [
             0.5555555555555556,
             "#d8576b"
            ],
            [
             0.6666666666666666,
             "#ed7953"
            ],
            [
             0.7777777777777778,
             "#fb9f3a"
            ],
            [
             0.8888888888888888,
             "#fdca26"
            ],
            [
             1,
             "#f0f921"
            ]
           ]
          },
          "colorway": [
           "#636efa",
           "#EF553B",
           "#00cc96",
           "#ab63fa",
           "#FFA15A",
           "#19d3f3",
           "#FF6692",
           "#B6E880",
           "#FF97FF",
           "#FECB52"
          ],
          "font": {
           "color": "#2a3f5f"
          },
          "geo": {
           "bgcolor": "white",
           "lakecolor": "white",
           "landcolor": "white",
           "showlakes": true,
           "showland": true,
           "subunitcolor": "#C8D4E3"
          },
          "hoverlabel": {
           "align": "left"
          },
          "hovermode": "closest",
          "mapbox": {
           "style": "light"
          },
          "paper_bgcolor": "white",
          "plot_bgcolor": "white",
          "polar": {
           "angularaxis": {
            "gridcolor": "#EBF0F8",
            "linecolor": "#EBF0F8",
            "ticks": ""
           },
           "bgcolor": "white",
           "radialaxis": {
            "gridcolor": "#EBF0F8",
            "linecolor": "#EBF0F8",
            "ticks": ""
           }
          },
          "scene": {
           "xaxis": {
            "backgroundcolor": "white",
            "gridcolor": "#DFE8F3",
            "gridwidth": 2,
            "linecolor": "#EBF0F8",
            "showbackground": true,
            "ticks": "",
            "zerolinecolor": "#EBF0F8"
           },
           "yaxis": {
            "backgroundcolor": "white",
            "gridcolor": "#DFE8F3",
            "gridwidth": 2,
            "linecolor": "#EBF0F8",
            "showbackground": true,
            "ticks": "",
            "zerolinecolor": "#EBF0F8"
           },
           "zaxis": {
            "backgroundcolor": "white",
            "gridcolor": "#DFE8F3",
            "gridwidth": 2,
            "linecolor": "#EBF0F8",
            "showbackground": true,
            "ticks": "",
            "zerolinecolor": "#EBF0F8"
           }
          },
          "shapedefaults": {
           "line": {
            "color": "#2a3f5f"
           }
          },
          "ternary": {
           "aaxis": {
            "gridcolor": "#DFE8F3",
            "linecolor": "#A2B1C6",
            "ticks": ""
           },
           "baxis": {
            "gridcolor": "#DFE8F3",
            "linecolor": "#A2B1C6",
            "ticks": ""
           },
           "bgcolor": "white",
           "caxis": {
            "gridcolor": "#DFE8F3",
            "linecolor": "#A2B1C6",
            "ticks": ""
           }
          },
          "title": {
           "x": 0.05
          },
          "xaxis": {
           "automargin": true,
           "gridcolor": "#EBF0F8",
           "linecolor": "#EBF0F8",
           "ticks": "",
           "title": {
            "standoff": 15
           },
           "zerolinecolor": "#EBF0F8",
           "zerolinewidth": 2
          },
          "yaxis": {
           "automargin": true,
           "gridcolor": "#EBF0F8",
           "linecolor": "#EBF0F8",
           "ticks": "",
           "title": {
            "standoff": 15
           },
           "zerolinecolor": "#EBF0F8",
           "zerolinewidth": 2
          }
         }
        },
        "title": {
         "text": "Count of Bias by Occupation"
        },
        "xaxis": {
         "anchor": "y",
         "categoryarray": [
          "Hungarian",
          "Chinese",
          "Equal"
         ],
         "categoryorder": "array",
         "domain": [
          0,
          1
         ],
         "title": {
          "text": "Bias"
         }
        },
        "yaxis": {
         "anchor": "x",
         "domain": [
          0,
          1
         ],
         "title": {
          "text": "Count"
         }
        }
       }
      }
     },
     "metadata": {},
     "output_type": "display_data"
    }
   ],
   "source": [
    "# Prepare comparison DataFrame for occupations present in both datasets\n",
    "df_compare = df_hu[df_hu['en'].isin(in_both)][['en', 'mean_hu', 'hu']].merge(\n",
    "    df_zh[df_zh['en'].isin(in_both)][['en', 'mean_zh', 'zh']], on='en', suffixes=('_hu', '_zh'))\n",
    "\n",
    "# Sort by the average of the two means for better visualization\n",
    "df_compare['mean_avg'] = (df_compare['mean_hu'] + df_compare['mean_zh']) / 2\n",
    "df_compare = df_compare.sort_values('mean_avg', ascending=False)\n",
    "\n",
    "# Add a new column 'bias' considering absolute values: \n",
    "# 'Hungarian' if abs(mean_hu) > abs(mean_zh), 'Chinese' if abs(mean_hu) < abs(mean_zh), 'Equal' if they are the same\n",
    "df_compare['bias'] = df_compare.apply(\n",
    "    lambda row: 'Hungarian' if abs(row['mean_hu']) > abs(row['mean_zh']) \n",
    "    else ('Chinese' if abs(row['mean_hu']) < abs(row['mean_zh']) else 'Equal'), axis=1\n",
    ")\n",
    "\n",
    "# Count values in 'bias' column and print the results\n",
    "bias_counts = df_compare['bias'].value_counts()\n",
    "print(\"Bias counts:\")\n",
    "print(bias_counts)\n",
    "\n",
    "# Plot this\n",
    "fig = px.bar(\n",
    "    bias_counts,\n",
    "    x=bias_counts.index,\n",
    "    y=bias_counts.values,\n",
    "    title='Count of Bias by Occupation',\n",
    "    labels={'x': 'Bias', 'y': 'Count'},\n",
    "    color=bias_counts.index,\n",
    "    color_discrete_map={'Hungarian': hungarian_color, 'Chinese': chinese_color, 'Equal': neutral_color}\n",
    ")\n",
    "fig.update_layout(\n",
    "    xaxis_title='Bias',\n",
    "    yaxis_title='Count',\n",
    "    template='plotly_white'\n",
    ")\n",
    "fig.show()"
   ]
  },
  {
   "cell_type": "code",
   "execution_count": null,
   "id": "251c2b16",
   "metadata": {},
   "outputs": [],
   "source": []
  }
 ],
 "metadata": {
  "kernelspec": {
   "display_name": "work",
   "language": "python",
   "name": "python3"
  },
  "language_info": {
   "codemirror_mode": {
    "name": "ipython",
    "version": 3
   },
   "file_extension": ".py",
   "mimetype": "text/x-python",
   "name": "python",
   "nbconvert_exporter": "python",
   "pygments_lexer": "ipython3",
   "version": "3.12.9"
  }
 },
 "nbformat": 4,
 "nbformat_minor": 5
}
